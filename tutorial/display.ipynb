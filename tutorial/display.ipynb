{
 "cells": [
  {
   "cell_type": "markdown",
   "metadata": {},
   "source": [
    "<img align=\"right\" src=\"images/tf.png\" width=\"128\"/>\n",
    "<img align=\"right\" src=\"images/ninologo.png\" width=\"128\"/>\n",
    "<img align=\"right\" src=\"images/dans.png\" width=\"128\"/>\n",
    "\n",
    "---\n",
    "\n",
    "To get started: consult [start](start.ipynb)\n",
    "\n",
    "---\n",
    "\n",
    "# Display\n",
    "\n",
    "We show the ins and outs of displaying cuneiform ATF transcriptions."
   ]
  },
  {
   "cell_type": "code",
   "execution_count": 1,
   "metadata": {},
   "outputs": [],
   "source": [
    "%load_ext autoreload\n",
    "%autoreload 2"
   ]
  },
  {
   "cell_type": "code",
   "execution_count": 2,
   "metadata": {
    "ExecuteTime": {
     "end_time": "2018-05-18T09:17:16.202764Z",
     "start_time": "2018-05-18T09:17:16.197546Z"
    }
   },
   "outputs": [],
   "source": [
    "from tf.app import use"
   ]
  },
  {
   "cell_type": "code",
   "execution_count": 3,
   "metadata": {},
   "outputs": [
    {
     "data": {
      "text/html": [
       "<b title=\"local github\">TF-app:</b> <span title=\"repo clone offline under ~/github\">~/github/annotation/app-oldassyrian/code</span>"
      ],
      "text/plain": [
       "<IPython.core.display.HTML object>"
      ]
     },
     "metadata": {},
     "output_type": "display_data"
    },
    {
     "data": {
      "text/html": [
       "<b title=\"local github\">data:</b> <span title=\"repo clone offline under ~/github\">~/github/Nino-cunei/oldassyrian/tf/0.1</span>"
      ],
      "text/plain": [
       "<IPython.core.display.HTML object>"
      ]
     },
     "metadata": {},
     "output_type": "display_data"
    },
    {
     "data": {
      "text/html": [
       "<b>Text-Fabric:</b> <a target=\"_blank\" href=\"https://annotation.github.io/text-fabric/cheatsheet.html\" title=\"text-fabric-api\">Text-Fabric API 8.3.4</a>, <a target=\"_blank\" href=\"https://github.com/annotation/app-oldassyrian\" title=\"oldassyrian TF-app\">app-oldassyrian</a>, <a target=\"_blank\" href=\"https://annotation.github.io/text-fabric/about/searchusage.html\" title=\"Search Templates Introduction and Reference\">Search Reference</a><br><b>Data:</b> <a target=\"_blank\" href=\"https://github.com/Nino-cunei/oldassyrian/blob/master/docs/about.md\" title=\"provenance of Old Assyrian Documents 2000-1600: Cuneiform tablets\">OLDASSYRIAN</a>, <a target=\"_blank\" href=\"https://github.com/Nino-cunei/oldassyrian/blob/master/programs/mapReadings.ipynb\" title=\"mapping from readings to UNICODE\">Character table</a>, <a target=\"_blank\" href=\"https://github.com/Nino-cunei/tfFromAtf/blob/master/docs/transcription.md\" title=\"OLDASSYRIAN feature documentation\">Feature docs</a><br><b>Features:</b><br><details><summary><b>Old Assyrian Documents 2000-1600: Cuneiform tablets</b></summary><a target=\"_blank\" href=\"https://github.com/Nino-cunei/tfFromAtf/blob/master/docs/transcription.md\" title=\"~/github/Nino-cunei/oldassyrian/tf/0.1/ARK.tf\">ARK</a><br><a target=\"_blank\" href=\"https://github.com/Nino-cunei/tfFromAtf/blob/master/docs/transcription.md\" title=\"~/github/Nino-cunei/oldassyrian/tf/0.1/after.tf\">after</a><br><a target=\"_blank\" href=\"https://github.com/Nino-cunei/tfFromAtf/blob/master/docs/transcription.md\" title=\"~/github/Nino-cunei/oldassyrian/tf/0.1/afterr.tf\">afterr</a><br><a target=\"_blank\" href=\"https://github.com/Nino-cunei/tfFromAtf/blob/master/docs/transcription.md\" title=\"~/github/Nino-cunei/oldassyrian/tf/0.1/afteru.tf\">afteru</a><br><a target=\"_blank\" href=\"https://github.com/Nino-cunei/tfFromAtf/blob/master/docs/transcription.md\" title=\"~/github/Nino-cunei/oldassyrian/tf/0.1/atf.tf\">atf</a><br><a target=\"_blank\" href=\"https://github.com/Nino-cunei/tfFromAtf/blob/master/docs/transcription.md\" title=\"~/github/Nino-cunei/oldassyrian/tf/0.1/atfpost.tf\">atfpost</a><br><a target=\"_blank\" href=\"https://github.com/Nino-cunei/tfFromAtf/blob/master/docs/transcription.md\" title=\"~/github/Nino-cunei/oldassyrian/tf/0.1/atfpre.tf\">atfpre</a><br><a target=\"_blank\" href=\"https://github.com/Nino-cunei/tfFromAtf/blob/master/docs/transcription.md\" title=\"~/github/Nino-cunei/oldassyrian/tf/0.1/author.tf\">author</a><br><a target=\"_blank\" href=\"https://github.com/Nino-cunei/tfFromAtf/blob/master/docs/transcription.md\" title=\"~/github/Nino-cunei/oldassyrian/tf/0.1/col.tf\">col</a><br><a target=\"_blank\" href=\"https://github.com/Nino-cunei/tfFromAtf/blob/master/docs/transcription.md\" title=\"~/github/Nino-cunei/oldassyrian/tf/0.1/collection.tf\">collection</a><br><a target=\"_blank\" href=\"https://github.com/Nino-cunei/tfFromAtf/blob/master/docs/transcription.md\" title=\"~/github/Nino-cunei/oldassyrian/tf/0.1/comment.tf\">comment</a><br><a target=\"_blank\" href=\"https://github.com/Nino-cunei/tfFromAtf/blob/master/docs/transcription.md\" title=\"~/github/Nino-cunei/oldassyrian/tf/0.1/damage.tf\">damage</a><br><a target=\"_blank\" href=\"https://github.com/Nino-cunei/tfFromAtf/blob/master/docs/transcription.md\" title=\"~/github/Nino-cunei/oldassyrian/tf/0.1/det.tf\">det</a><br><a target=\"_blank\" href=\"https://github.com/Nino-cunei/tfFromAtf/blob/master/docs/transcription.md\" title=\"~/github/Nino-cunei/oldassyrian/tf/0.1/docnote.tf\">docnote</a><br><a target=\"_blank\" href=\"https://github.com/Nino-cunei/tfFromAtf/blob/master/docs/transcription.md\" title=\"~/github/Nino-cunei/oldassyrian/tf/0.1/docnumber.tf\">docnumber</a><br><a target=\"_blank\" href=\"https://github.com/Nino-cunei/tfFromAtf/blob/master/docs/transcription.md\" title=\"~/github/Nino-cunei/oldassyrian/tf/0.1/excavation.tf\">excavation</a><br><a target=\"_blank\" href=\"https://github.com/Nino-cunei/tfFromAtf/blob/master/docs/transcription.md\" title=\"~/github/Nino-cunei/oldassyrian/tf/0.1/excised.tf\">excised</a><br><a target=\"_blank\" href=\"https://github.com/Nino-cunei/tfFromAtf/blob/master/docs/transcription.md\" title=\"~/github/Nino-cunei/oldassyrian/tf/0.1/face.tf\">face</a><br><a target=\"_blank\" href=\"https://github.com/Nino-cunei/tfFromAtf/blob/master/docs/transcription.md\" title=\"~/github/Nino-cunei/oldassyrian/tf/0.1/flags.tf\">flags</a><br><a target=\"_blank\" href=\"https://github.com/Nino-cunei/tfFromAtf/blob/master/docs/transcription.md\" title=\"~/github/Nino-cunei/oldassyrian/tf/0.1/fraction.tf\">fraction</a><br><a target=\"_blank\" href=\"https://github.com/Nino-cunei/tfFromAtf/blob/master/docs/transcription.md\" title=\"~/github/Nino-cunei/oldassyrian/tf/0.1/genre.tf\">genre</a><br><a target=\"_blank\" href=\"https://github.com/Nino-cunei/tfFromAtf/blob/master/docs/transcription.md\" title=\"~/github/Nino-cunei/oldassyrian/tf/0.1/grapheme.tf\">grapheme</a><br><a target=\"_blank\" href=\"https://github.com/Nino-cunei/tfFromAtf/blob/master/docs/transcription.md\" title=\"~/github/Nino-cunei/oldassyrian/tf/0.1/graphemer.tf\">graphemer</a><br><a target=\"_blank\" href=\"https://github.com/Nino-cunei/tfFromAtf/blob/master/docs/transcription.md\" title=\"~/github/Nino-cunei/oldassyrian/tf/0.1/graphemeu.tf\">graphemeu</a><br><a target=\"_blank\" href=\"https://github.com/Nino-cunei/tfFromAtf/blob/master/docs/transcription.md\" title=\"~/github/Nino-cunei/oldassyrian/tf/0.1/lang.tf\">lang</a><br><a target=\"_blank\" href=\"https://github.com/Nino-cunei/tfFromAtf/blob/master/docs/transcription.md\" title=\"~/github/Nino-cunei/oldassyrian/tf/0.1/langalt.tf\">langalt</a><br><a target=\"_blank\" href=\"https://github.com/Nino-cunei/tfFromAtf/blob/master/docs/transcription.md\" title=\"~/github/Nino-cunei/oldassyrian/tf/0.1/ln.tf\">ln</a><br><a target=\"_blank\" href=\"https://github.com/Nino-cunei/tfFromAtf/blob/master/docs/transcription.md\" title=\"~/github/Nino-cunei/oldassyrian/tf/0.1/lnc.tf\">lnc</a><br><a target=\"_blank\" href=\"https://github.com/Nino-cunei/tfFromAtf/blob/master/docs/transcription.md\" title=\"~/github/Nino-cunei/oldassyrian/tf/0.1/lnno.tf\">lnno</a><br><a target=\"_blank\" href=\"https://github.com/Nino-cunei/tfFromAtf/blob/master/docs/transcription.md\" title=\"~/github/Nino-cunei/oldassyrian/tf/0.1/material.tf\">material</a><br><a target=\"_blank\" href=\"https://github.com/Nino-cunei/tfFromAtf/blob/master/docs/transcription.md\" title=\"~/github/Nino-cunei/oldassyrian/tf/0.1/missing.tf\">missing</a><br><a target=\"_blank\" href=\"https://github.com/Nino-cunei/tfFromAtf/blob/master/docs/transcription.md\" title=\"~/github/Nino-cunei/oldassyrian/tf/0.1/museumcode.tf\">museumcode</a><br><a target=\"_blank\" href=\"https://github.com/Nino-cunei/tfFromAtf/blob/master/docs/transcription.md\" title=\"~/github/Nino-cunei/oldassyrian/tf/0.1/museumname.tf\">museumname</a><br><a target=\"_blank\" href=\"https://github.com/Nino-cunei/tfFromAtf/blob/master/docs/transcription.md\" title=\"~/github/Nino-cunei/oldassyrian/tf/0.1/object.tf\">object</a><br><a target=\"_blank\" href=\"https://github.com/Nino-cunei/tfFromAtf/blob/master/docs/transcription.md\" title=\"~/github/Nino-cunei/oldassyrian/tf/0.1/operator.tf\">operator</a><br><a target=\"_blank\" href=\"https://github.com/Nino-cunei/tfFromAtf/blob/master/docs/transcription.md\" title=\"~/github/Nino-cunei/oldassyrian/tf/0.1/operatorr.tf\">operatorr</a><br><a target=\"_blank\" href=\"https://github.com/Nino-cunei/tfFromAtf/blob/master/docs/transcription.md\" title=\"~/github/Nino-cunei/oldassyrian/tf/0.1/operatoru.tf\">operatoru</a><br><a target=\"_blank\" href=\"https://github.com/Nino-cunei/tfFromAtf/blob/master/docs/transcription.md\" title=\"~/github/Nino-cunei/oldassyrian/tf/0.1/otype.tf\">otype</a><br><a target=\"_blank\" href=\"https://github.com/Nino-cunei/tfFromAtf/blob/master/docs/transcription.md\" title=\"~/github/Nino-cunei/oldassyrian/tf/0.1/period.tf\">period</a><br><a target=\"_blank\" href=\"https://github.com/Nino-cunei/tfFromAtf/blob/master/docs/transcription.md\" title=\"~/github/Nino-cunei/oldassyrian/tf/0.1/pnumber.tf\">pnumber</a><br><a target=\"_blank\" href=\"https://github.com/Nino-cunei/tfFromAtf/blob/master/docs/transcription.md\" title=\"~/github/Nino-cunei/oldassyrian/tf/0.1/primecol.tf\">primecol</a><br><a target=\"_blank\" href=\"https://github.com/Nino-cunei/tfFromAtf/blob/master/docs/transcription.md\" title=\"~/github/Nino-cunei/oldassyrian/tf/0.1/primeln.tf\">primeln</a><br><a target=\"_blank\" href=\"https://github.com/Nino-cunei/tfFromAtf/blob/master/docs/transcription.md\" title=\"~/github/Nino-cunei/oldassyrian/tf/0.1/pubdate.tf\">pubdate</a><br><a target=\"_blank\" href=\"https://github.com/Nino-cunei/tfFromAtf/blob/master/docs/transcription.md\" title=\"~/github/Nino-cunei/oldassyrian/tf/0.1/question.tf\">question</a><br><a target=\"_blank\" href=\"https://github.com/Nino-cunei/tfFromAtf/blob/master/docs/transcription.md\" title=\"~/github/Nino-cunei/oldassyrian/tf/0.1/reading.tf\">reading</a><br><a target=\"_blank\" href=\"https://github.com/Nino-cunei/tfFromAtf/blob/master/docs/transcription.md\" title=\"~/github/Nino-cunei/oldassyrian/tf/0.1/readingr.tf\">readingr</a><br><a target=\"_blank\" href=\"https://github.com/Nino-cunei/tfFromAtf/blob/master/docs/transcription.md\" title=\"~/github/Nino-cunei/oldassyrian/tf/0.1/readingu.tf\">readingu</a><br><a target=\"_blank\" href=\"https://github.com/Nino-cunei/tfFromAtf/blob/master/docs/transcription.md\" title=\"~/github/Nino-cunei/oldassyrian/tf/0.1/remarkable.tf\">remarkable</a><br><a target=\"_blank\" href=\"https://github.com/Nino-cunei/tfFromAtf/blob/master/docs/transcription.md\" title=\"~/github/Nino-cunei/oldassyrian/tf/0.1/remarks.tf\">remarks</a><br><a target=\"_blank\" href=\"https://github.com/Nino-cunei/tfFromAtf/blob/master/docs/transcription.md\" title=\"~/github/Nino-cunei/oldassyrian/tf/0.1/repeat.tf\">repeat</a><br><a target=\"_blank\" href=\"https://github.com/Nino-cunei/tfFromAtf/blob/master/docs/transcription.md\" title=\"~/github/Nino-cunei/oldassyrian/tf/0.1/srcLn.tf\">srcLn</a><br><a target=\"_blank\" href=\"https://github.com/Nino-cunei/tfFromAtf/blob/master/docs/transcription.md\" title=\"~/github/Nino-cunei/oldassyrian/tf/0.1/srcLnNum.tf\">srcLnNum</a><br><a target=\"_blank\" href=\"https://github.com/Nino-cunei/tfFromAtf/blob/master/docs/transcription.md\" title=\"~/github/Nino-cunei/oldassyrian/tf/0.1/srcfile.tf\">srcfile</a><br><a target=\"_blank\" href=\"https://github.com/Nino-cunei/tfFromAtf/blob/master/docs/transcription.md\" title=\"~/github/Nino-cunei/oldassyrian/tf/0.1/subgenre.tf\">subgenre</a><br><a target=\"_blank\" href=\"https://github.com/Nino-cunei/tfFromAtf/blob/master/docs/transcription.md\" title=\"~/github/Nino-cunei/oldassyrian/tf/0.1/supplied.tf\">supplied</a><br><a target=\"_blank\" href=\"https://github.com/Nino-cunei/tfFromAtf/blob/master/docs/transcription.md\" title=\"~/github/Nino-cunei/oldassyrian/tf/0.1/sym.tf\">sym</a><br><a target=\"_blank\" href=\"https://github.com/Nino-cunei/tfFromAtf/blob/master/docs/transcription.md\" title=\"~/github/Nino-cunei/oldassyrian/tf/0.1/symr.tf\">symr</a><br><a target=\"_blank\" href=\"https://github.com/Nino-cunei/tfFromAtf/blob/master/docs/transcription.md\" title=\"~/github/Nino-cunei/oldassyrian/tf/0.1/symu.tf\">symu</a><br><a target=\"_blank\" href=\"https://github.com/Nino-cunei/tfFromAtf/blob/master/docs/transcription.md\" title=\"~/github/Nino-cunei/oldassyrian/tf/0.1/trans.tf\">trans</a><br><a target=\"_blank\" href=\"https://github.com/Nino-cunei/tfFromAtf/blob/master/docs/transcription.md\" title=\"~/github/Nino-cunei/oldassyrian/tf/0.1/transcriber.tf\">transcriber</a><br><a target=\"_blank\" href=\"https://github.com/Nino-cunei/tfFromAtf/blob/master/docs/transcription.md\" title=\"~/github/Nino-cunei/oldassyrian/tf/0.1/translation@en.tf\">translation@ll</a><br><a target=\"_blank\" href=\"https://github.com/Nino-cunei/tfFromAtf/blob/master/docs/transcription.md\" title=\"~/github/Nino-cunei/oldassyrian/tf/0.1/type.tf\">type</a><br><a target=\"_blank\" href=\"https://github.com/Nino-cunei/tfFromAtf/blob/master/docs/transcription.md\" title=\"~/github/Nino-cunei/oldassyrian/tf/0.1/uncertain.tf\">uncertain</a><br><a target=\"_blank\" href=\"https://github.com/Nino-cunei/tfFromAtf/blob/master/docs/transcription.md\" title=\"~/github/Nino-cunei/oldassyrian/tf/0.1/version.tf\">version</a><br><a target=\"_blank\" href=\"https://github.com/Nino-cunei/tfFromAtf/blob/master/docs/transcription.md\" title=\"~/github/Nino-cunei/oldassyrian/tf/0.1/volume.tf\">volume</a><br><b><i><a target=\"_blank\" href=\"https://github.com/Nino-cunei/tfFromAtf/blob/master/docs/transcription.md\" title=\"~/github/Nino-cunei/oldassyrian/tf/0.1/oslots.tf\">oslots</a></i></b><br></details>"
      ],
      "text/plain": [
       "<IPython.core.display.HTML object>"
      ]
     },
     "metadata": {},
     "output_type": "display_data"
    },
    {
     "data": {
      "text/html": [
       "<style>tr.tf.ltr, td.tf.ltr, th.tf.ltr { text-align: left ! important;}\n",
       "tr.tf.rtl, td.tf.rtl, th.tf.rtl { text-align: right ! important;}\n",
       "@font-face {\n",
       "  font-family: \"Gentium Plus\";\n",
       "  src: local('Gentium Plus'), local('GentiumPlus'),\n",
       "    url('/server/static/fonts/GentiumPlus-R.woff') format('woff'),\n",
       "    url('https://github.com/annotation/text-fabric/blob/master/tf/server/static/fonts/GentiumPlus-R.woff?raw=true') format('woff');\n",
       "}\n",
       "\n",
       "@font-face {\n",
       "  font-family: \"Ezra SIL\";\n",
       "  src: local('Ezra SIL'), local('EzraSIL'),\n",
       "    url('/server/static/fonts/SILEOT.woff') format('woff'),\n",
       "    url('https://github.com/annotation/text-fabric/blob/master/tf/server/static/fonts/SILEOT.woff?raw=true') format('woff');\n",
       "}\n",
       "\n",
       "@font-face {\n",
       "  font-family: \"SBL Hebrew\";\n",
       "  src: local('SBL Hebrew'), local('SBLHebrew'),\n",
       "    url('/server/static/fonts/SBL_Hbrw.woff') format('woff'),\n",
       "    url('https://github.com/annotation/text-fabric/blob/master/tf/server/static/fonts/SBL_Hbrw.woff?raw=true') format('woff');\n",
       "}\n",
       "\n",
       "@font-face {\n",
       "  font-family: \"Estrangelo Edessa\";\n",
       "  src: local('Estrangelo Edessa'), local('EstrangeloEdessa');\n",
       "    url('/server/static/fonts/SyrCOMEdessa.woff') format('woff'),\n",
       "    url('https://github.com/annotation/text-fabric/blob/master/tf/server/static/fonts/SyrCOMEdessa.woff?raw=true') format('woff');\n",
       "}\n",
       "\n",
       "@font-face {\n",
       "  font-family: AmiriQuran;\n",
       "  font-style: normal;\n",
       "  font-weight: 400;\n",
       "  src: local('Amiri Quran'), local('AmiriQuran'),\n",
       "    url('/server/static/fonts/AmiriQuran.woff') format('woff'),\n",
       "    url('https://github.com/annotation/text-fabric/blob/master/tf/server/static/fonts/AmiriQuran.woff?raw=true') format('woff');\n",
       "}\n",
       "\n",
       "@font-face {\n",
       "  font-family: AmiriQuranColored;\n",
       "  font-style: normal;\n",
       "  font-weight: 400;\n",
       "  src: local('Amiri Quran Colored'), local('AmiriQuranColored'),\n",
       "    url('/server/static/fonts/AmiriQuranColored.woff') format('woff'),\n",
       "    url('https://github.com/annotation/text-fabric/blob/master/tf/server/static/fonts/AmiriQuranColored.woff?raw=true') format('woff');\n",
       "}\n",
       "\n",
       "@font-face {\n",
       "  font-family: \"Santakku\";\n",
       "  src: local('Santakku'),\n",
       "    url('/server/static/fonts/Santakku.woff') format('woff'),\n",
       "    url('https://github.com/annotation/text-fabric/blob/master/tf/server/static/fonts/Santakku.woff?raw=true') format('woff');\n",
       "}\n",
       "\n",
       "@font-face {\n",
       "  font-family: \"SantakkuM\";\n",
       "  src: local('SantakkuM'),\n",
       "    url('/server/static/fonts/SantakkuM.woff') format('woff'),\n",
       "    url('https://github.com/annotation/text-fabric/blob/master/tf/server/static/fonts/SantakkuM.woff?raw=true') format('woff');\n",
       "}\n",
       "/* bypassing some classical notebook settings */\n",
       "div#notebook {\n",
       "  line-height: unset;\n",
       "}\n",
       "/* neutral text */\n",
       ".txtn,.txtn a:visited,.txtn a:link {\n",
       "    font-family: sans-serif;\n",
       "    font-size: medium;\n",
       "    direction: ltr;\n",
       "    text-decoration: none;\n",
       "    color: var(--text-color);\n",
       "}\n",
       "/* transcription text */\n",
       ".txtt,.txtt a:visited,.txtt a:link {\n",
       "    font-family: monospace;\n",
       "    font-size: medium;\n",
       "    direction: ltr;\n",
       "    text-decoration: none;\n",
       "    color: var(--text-color);\n",
       "}\n",
       "/* source text */\n",
       ".txto,.txto a:visited,.txto a:link {\n",
       "    font-family: serif;\n",
       "    font-size: medium;\n",
       "    direction: ltr;\n",
       "    text-decoration: none;\n",
       "    color: var(--text-color);\n",
       "}\n",
       "/* phonetic text */\n",
       ".txtp,.txtp a:visited,.txtp a:link {\n",
       "    font-family: Gentium, sans-serif;\n",
       "    font-size: medium;\n",
       "    direction: ltr;\n",
       "    text-decoration: none;\n",
       "    color: var(--text-color);\n",
       "}\n",
       "/* original script text */\n",
       ".txtu,.txtu a:visited,.txtu a:link {\n",
       "    font-family: Gentium, sans-serif;\n",
       "    font-size: medium;\n",
       "    text-decoration: none;\n",
       "    color: var(--text-color);\n",
       "}\n",
       "/* hebrew */\n",
       ".txtu.hbo,.lex.hbo {\n",
       "    font-family: \"Ezra SIL\", \"SBL Hebrew\", sans-serif;\n",
       "    font-size: large;\n",
       "    direction: rtl ! important;\n",
       "    unicode-bidi: embed;\n",
       "}\n",
       "/* syriac */\n",
       ".txtu.syc,.lex.syc {\n",
       "    font-family: \"Estrangelo Edessa\", sans-serif;\n",
       "    font-size: medium;\n",
       "    direction: rtl ! important;\n",
       "    unicode-bidi: embed;\n",
       "}\n",
       "/* neo aramaic */\n",
       ".txtu.cld,.lex.cld {\n",
       "    font-family: \"CharisSIL-R\", sans-serif;\n",
       "    font-size: medium;\n",
       "    direction: ltr ! important;\n",
       "    unicode-bidi: embed;\n",
       "}\n",
       "/* standard arabic */\n",
       ".txtu.ara,.lex.ara {\n",
       "    font-family: \"AmiriQuran\", sans-serif;\n",
       "    font-size: large;\n",
       "    direction: rtl ! important;\n",
       "    unicode-bidi: embed;\n",
       "}\n",
       "/* cuneiform */\n",
       ".txtu.akk,.lex.akk {\n",
       "    font-family: Santakku, sans-serif;\n",
       "    font-size: large;\n",
       "    direction: ltr ! important;\n",
       "    unicode-bidi: embed;\n",
       "}\n",
       "/* greek */\n",
       ".txtu.grc,.lex.grc a:link {\n",
       "    font-family: Gentium, sans-serif;\n",
       "    font-size: medium;\n",
       "    direction: ltr ! important;\n",
       "    unicode-bidi: embed;\n",
       "}\n",
       "a:hover {\n",
       "    text-decoration: underline | important;\n",
       "    color: #0000ff | important;\n",
       "}\n",
       ".ltr {\n",
       "    direction: ltr ! important;\n",
       "}\n",
       ".rtl {\n",
       "    direction: rtl ! important;\n",
       "}\n",
       ".features {\n",
       "    font-family: monospace;\n",
       "    font-size: medium;\n",
       "    font-weight: bold;\n",
       "    color: var(--features);\n",
       "    display: flex;\n",
       "    flex-flow: column nowrap;\n",
       "    justify-content: flex-start;\n",
       "    align-items: flex-start;\n",
       "    align-content: flex-start;\n",
       "    padding: 0.1rem;\n",
       "    margin: 0.1rem;\n",
       "    direction: ltr;\n",
       "    border: var(--meta-width) solid var(--meta-color);\n",
       "    border-radius: var(--meta-width);\n",
       "}\n",
       ".features div,.features span {\n",
       "    padding: 0;\n",
       "    margin: -0.1rem 0;\n",
       "}\n",
       ".features .f {\n",
       "    font-family: sans-serif;\n",
       "    font-size: small;\n",
       "    font-weight: normal;\n",
       "    color: #5555bb;\n",
       "}\n",
       ".features .xft {\n",
       "  color: #000000;\n",
       "  background-color: #eeeeee;\n",
       "  font-size: medium;\n",
       "  margin: 0.1rem 0rem;\n",
       "}\n",
       ".features .xft .f {\n",
       "  color: #000000;\n",
       "  background-color: #eeeeee;\n",
       "  font-size: small;\n",
       "  font-weight: normal;\n",
       "}\n",
       ".section {\n",
       "    font-family: sans-serif;\n",
       "    font-size: small;\n",
       "    font-weight: bold;\n",
       "    color: var(--section);\n",
       "    unicode-bidi: embed;\n",
       "    text-align: start;\n",
       "}\n",
       ".structure {\n",
       "    font-family: sans-serif;\n",
       "    font-size: small;\n",
       "    font-weight: bold;\n",
       "    color: var(--structure);\n",
       "    unicode-bidi: embed;\n",
       "    text-align: start;\n",
       "}\n",
       ".comments {\n",
       "    display: flex;\n",
       "    justify-content: flex-start;\n",
       "    align-items: flex-start;\n",
       "    align-content: flex-start;\n",
       "    flex-flow: column nowrap;\n",
       "}\n",
       ".nd, a:link.nd {\n",
       "    font-family: sans-serif;\n",
       "    font-size: small;\n",
       "    color: var(--node);\n",
       "    vertical-align: super;\n",
       "    direction: ltr ! important;\n",
       "    unicode-bidi: embed;\n",
       "}\n",
       ".lex {\n",
       "  color: var(--lex-color);;\n",
       "}\n",
       ".children,.children.ltr {\n",
       "    display: flex;\n",
       "    border: 0;\n",
       "    background-color: #ffffff;\n",
       "    justify-content: flex-start;\n",
       "    align-items: flex-start;\n",
       "    align-content: flex-start;\n",
       "}\n",
       ".children.stretch {\n",
       "    align-items: stretch;\n",
       "}\n",
       ".children.hor {\n",
       "    flex-flow: row nowrap;\n",
       "}\n",
       ".children.hor.wrap {\n",
       "    flex-flow: row wrap;\n",
       "}\n",
       ".children.ver {\n",
       "    flex-flow: column nowrap;\n",
       "}\n",
       ".children.ver.wrap {\n",
       "    flex-flow: column wrap;\n",
       "}\n",
       ".contnr {\n",
       "    width: fit-content;\n",
       "    display: flex;\n",
       "    justify-content: flex-start;\n",
       "    align-items: flex-start;\n",
       "    align-content: flex-start;\n",
       "    flex-flow: column nowrap;\n",
       "    background: #ffffff none repeat scroll 0 0;\n",
       "    padding:  0.5rem 0.1rem 0.1rem 0.1rem;\n",
       "    margin: 0.8rem 0.1rem 0.1rem 0.1rem;\n",
       "    border-style: solid;\n",
       "    font-size: small;\n",
       "}\n",
       ".contnr.trm {\n",
       "    background-attachment: local;\n",
       "}\n",
       ".contnr.cnul {\n",
       "    padding:  0;\n",
       "    margin: 0;\n",
       "    border-style: solid;\n",
       "    font-size: xx-small;\n",
       "}\n",
       ".contnr.cnul,.lbl.cnul {\n",
       "    border-color: var(--border-color-nul);\n",
       "    border-width: var(--border-width-nul);\n",
       "    border-radius: var(--border-width-nul);\n",
       "}\n",
       ".contnr.c0,.lbl.c0 {\n",
       "    border-color: var(--border-color0);\n",
       "    border-width: var(--border-width0);\n",
       "    border-radius: var(--border-width0);\n",
       "}\n",
       ".contnr.c1,.lbl.c1 {\n",
       "    border-color: var(--border-color1);\n",
       "    border-width: var(--border-width1);\n",
       "    border-radius: var(--border-width1);\n",
       "}\n",
       ".contnr.c2,.lbl.c2 {\n",
       "    border-color: var(--border-color2);\n",
       "    border-width: var(--border-width2);\n",
       "    border-radius: var(--border-width2);\n",
       "}\n",
       ".contnr.c3,.lbl.c3 {\n",
       "    border-color: var(--border-color3);\n",
       "    border-width: var(--border-width3);\n",
       "    border-radius: var(--border-width3);\n",
       "}\n",
       ".contnr.c4,.lbl.c4 {\n",
       "    border-color: var(--border-color4);\n",
       "    border-width: var(--border-width4);\n",
       "    border-radius: var(--border-width4);\n",
       "}\n",
       "span.plain {\n",
       "    display: inline-block;\n",
       "    white-space: pre-wrap;\n",
       "}\n",
       ".plain {\n",
       "    background-color: #ffffff;\n",
       "}\n",
       ".plain.l,.contnr.l,.contnr.l>.lbl {\n",
       "    border-left-style: dotted\n",
       "}\n",
       ".plain.r,.contnr.r,.contnr.r>.lbl {\n",
       "    border-right-style: dotted\n",
       "}\n",
       ".plain.lno,.contnr.lno,.contnr.lno>.lbl {\n",
       "    border-left-style: none\n",
       "}\n",
       ".plain.rno,.contnr.rno,.contnr.rno>.lbl {\n",
       "    border-right-style: none\n",
       "}\n",
       ".plain.l {\n",
       "    padding-left: 0.2rem;\n",
       "    margin-left: 0.1rem;\n",
       "    border-width: var(--border-width-plain);\n",
       "}\n",
       ".plain.r {\n",
       "    padding-right: 0.2rem;\n",
       "    margin-right: 0.1rem;\n",
       "    border-width: var(--border-width-plain);\n",
       "}\n",
       ".lbl {\n",
       "    font-family: monospace;\n",
       "    margin-top: -1.2rem;\n",
       "    margin-left: 1rem;\n",
       "    background: #ffffff none repeat scroll 0 0;\n",
       "    padding: 0 0.3rem;\n",
       "    border-style: solid;\n",
       "    display: block;\n",
       "    color: var(--label)\n",
       "}\n",
       ".lbl.trm {\n",
       "    background-attachment: local;\n",
       "    margin-top: 0.1rem;\n",
       "    margin-left: 0.1rem;\n",
       "    padding: 0.1rem 0.1rem;\n",
       "    border-style: none;\n",
       "}\n",
       ".lbl.cnul {\n",
       "    font-size: xx-small;\n",
       "}\n",
       ".lbl.c0 {\n",
       "    font-size: small;\n",
       "}\n",
       ".lbl.c1 {\n",
       "    font-size: small;\n",
       "}\n",
       ".lbl.c2 {\n",
       "    font-size: medium;\n",
       "}\n",
       ".lbl.c3 {\n",
       "    font-size: medium;\n",
       "}\n",
       ".lbl.c4 {\n",
       "    font-size: large;\n",
       "}\n",
       ".occs, a:link.occs {\n",
       "    font-size: small;\n",
       "}\n",
       "\n",
       "/* PROVENANCE */\n",
       "\n",
       "div.prov {\n",
       "\tmargin: 2rem;\n",
       "\tpadding: 1rem;\n",
       "\tborder: 0.1rem solid var(--fog-rim);\n",
       "}\n",
       "div.pline {\n",
       "\tdisplay: flex;\n",
       "\tflex-flow: row nowrap;\n",
       "\tjustify-content: stretch;\n",
       "\talign-items: baseline;\n",
       "}\n",
       "div.p2line {\n",
       "\tmargin-left: 2em;\n",
       "\tdisplay: flex;\n",
       "\tflex-flow: row nowrap;\n",
       "\tjustify-content: stretch;\n",
       "\talign-items: baseline;\n",
       "}\n",
       "div.psline {\n",
       "\tdisplay: flex;\n",
       "\tflex-flow: row nowrap;\n",
       "\tjustify-content: stretch;\n",
       "\talign-items: baseline;\n",
       "\tbackground-color: var(--gold-mist-back);\n",
       "}\n",
       "div.pname {\n",
       "\tflex: 0 0 5rem;\n",
       "\tfont-weight: bold;\n",
       "}\n",
       "div.pval {\n",
       "    flex: 1 1 auto;\n",
       "}\n",
       "\n",
       ":root {\n",
       "\t--node:               hsla(120, 100%,  20%, 1.0  );\n",
       "\t--label:              hsla(  0, 100%,  20%, 1.0  );\n",
       "\t--section:            hsla(  0, 100%,  25%, 1.0  );\n",
       "\t--structure:          hsla(120, 100%,  25%, 1.0  );\n",
       "\t--features:           hsla(  0,   0%,  30%, 1.0  );\n",
       "  --text-color:         hsla( 60,  80%,  10%, 1.0  );\n",
       "  --lex-color:          hsla(220,  90%,  60%, 1.0  );\n",
       "  --meta-color:         hsla(  0,   0%,  90%, 0.7  );\n",
       "  --meta-width:         0.15rem;\n",
       "  --border-color-nul:   hsla(  0,   0%,  90%, 0.5  );\n",
       "  --border-color0:      hsla(  0,   0%,  90%, 0.9  );\n",
       "  --border-color1:      hsla(  0,   0%,  80%, 0.9  );\n",
       "  --border-color2:      hsla(  0,   0%,  70%, 0.9  );\n",
       "  --border-color3:      hsla(  0,   0%,  80%, 0.8  );\n",
       "  --border-color4:      hsla(  0,   0%,  60%, 0.9  );\n",
       "  --border-width-nul:   0.1rem;\n",
       "  --border-width0:      0.1rem;\n",
       "  --border-width1:      0.15rem;\n",
       "  --border-width2:      0.2rem;\n",
       "  --border-width3:      0.3rem;\n",
       "  --border-width4:      0.25rem;\n",
       "  --border-width-plain: 0.1rem;\n",
       "}\n",
       ".hl {\n",
       "  background-color: var(--hl-strong);\n",
       "}\n",
       "span.hl {\n",
       "\tbackground-color: var(--hl-strong);\n",
       "\tborder-width: 0;\n",
       "\tborder-radius: 0.1rem;\n",
       "\tborder-style: solid;\n",
       "}\n",
       "div.contnr.hl,div.lbl.hl {\n",
       "  background-color: var(--hl-strong);\n",
       "}\n",
       "div.contnr.hl {\n",
       "  border-color: var(--hl-rim) ! important;\n",
       "\tborder-width: 0.2rem ! important;\n",
       "}\n",
       "\n",
       "span.hlbx {\n",
       "\tborder-color: var(--hl-rim);\n",
       "\tborder-width: 0.2rem ! important;\n",
       "\tborder-style: solid;\n",
       "\tborder-radius: 0.3rem;\n",
       "  padding: 0.2rem;\n",
       "  margin: 0.2rem;\n",
       "}\n",
       "\n",
       "span.plain {\n",
       "  display: inline-block;\n",
       "  white-space: pre-wrap;\n",
       "}\n",
       "\n",
       ":root {\n",
       "\t--hl-strong:        hsla( 60, 100%,  70%, 0.9  );\n",
       "\t--hl-rim:           hsla( 55,  80%,  50%, 1.0  );\n",
       "}\n",
       ".pnum {\n",
       "    font-family: sans-serif;\n",
       "    font-size: small;\n",
       "    font-weight: bold;\n",
       "    color: #444444;\n",
       "}\n",
       ".op {\n",
       "    padding:  0.5em 0.1em 0.1em 0.1em;\n",
       "    margin: 0.8em 0.1em 0.1em 0.1em;\n",
       "    font-family: monospace;\n",
       "    font-size: x-large;\n",
       "    font-weight: bold;\n",
       "}\n",
       ".period {\n",
       "    font-family: monospace;\n",
       "    font-size: medium;\n",
       "    font-weight: bold;\n",
       "    color: #0000bb;\n",
       "}\n",
       ".comment {\n",
       "    color: #7777dd;\n",
       "    font-family: monospace;\n",
       "    font-size: small;\n",
       "}\n",
       ".operator {\n",
       "    color: #ff77ff;\n",
       "    font-size: large;\n",
       "}\n",
       "/* LANGUAGE: superscript and subscript */\n",
       "\n",
       "/* cluster */\n",
       ".det {\n",
       "    vertical-align: super;\n",
       "}\n",
       "/* cluster */\n",
       ".langalt {\n",
       "    vertical-align: sub;\n",
       "}\n",
       "/* REDACTIONAL: line over or under  */\n",
       "\n",
       "/* flag */\n",
       ".collated {\n",
       "    font-weight: bold;\n",
       "    text-decoration: underline;\n",
       "}\n",
       "/* cluster */\n",
       ".excised {\n",
       "    color: #dd0000;\n",
       "    text-decoration: line-through;\n",
       "}\n",
       "/* cluster */\n",
       ".supplied {\n",
       "    color: #0000ff;\n",
       "    text-decoration: overline;\n",
       "}\n",
       "/* flag */\n",
       ".remarkable {\n",
       "    font-weight: bold;\n",
       "    text-decoration: overline;\n",
       "}\n",
       "\n",
       "/* UNSURE: italic*/\n",
       "\n",
       "/* cluster */\n",
       ".uncertain {\n",
       "    font-style: italic\n",
       "}\n",
       "/* flag */\n",
       ".question {\n",
       "    font-weight: bold;\n",
       "    font-style: italic\n",
       "}\n",
       "\n",
       "/* BROKEN: text-shadow */\n",
       "\n",
       "/* cluster */\n",
       ".missing {\n",
       "    color: #999999;\n",
       "    text-shadow: #bbbbbb 1px 1px;\n",
       "}\n",
       "/* flag */\n",
       ".damage {\n",
       "    font-weight: bold;\n",
       "    color: #999999;\n",
       "    text-shadow: #bbbbbb 1px 1px;\n",
       "}\n",
       ".empty {\n",
       "  color: #ff0000;\n",
       "}\n",
       "\n",
       "</style>"
      ],
      "text/plain": [
       "<IPython.core.display.HTML object>"
      ]
     },
     "metadata": {},
     "output_type": "display_data"
    },
    {
     "data": {
      "text/html": [
       "<div><b>Text-Fabric API:</b> names <a target=\"_blank\" href=\"https://annotation.github.io/text-fabric/cheatsheet.html\" title=\"doc\">N F E L T S C TF</a> directly usable</div><hr>"
      ],
      "text/plain": [
       "<IPython.core.display.HTML object>"
      ]
     },
     "metadata": {},
     "output_type": "display_data"
    }
   ],
   "source": [
    "A = use(\"oldassyrian:clone\", checkout=\"clone\", hoist=globals())\n",
    "# A = use('oldassyrian', hoist=globals())"
   ]
  },
  {
   "cell_type": "markdown",
   "metadata": {},
   "source": [
    "We pick an example face with which we illustrate many ways to represent cuneiform text."
   ]
  },
  {
   "cell_type": "code",
   "execution_count": 4,
   "metadata": {},
   "outputs": [],
   "source": [
    "exampleFace = (\"P361249\", \"obverse\")\n",
    "f = T.nodeFromSection(exampleFace)\n",
    "lines = L.d(f, otype=\"line\")"
   ]
  },
  {
   "cell_type": "markdown",
   "metadata": {},
   "source": [
    "# Raw text\n",
    "\n",
    "The most basic way is to show the source material for each line, which is in the feature `srcLn`.\n",
    "\n",
    "This feature has been filled by mere copying the numbered lines from the CDLI ATF sources."
   ]
  },
  {
   "cell_type": "code",
   "execution_count": 5,
   "metadata": {},
   "outputs": [
    {
     "name": "stdout",
     "output_type": "stream",
     "text": [
      "1. 2/2(disz) _ma-na ku3-babbar_\n",
      "2. s,a-ru-pa2-am i-s,e2-er\n",
      "3. ha-nu-nu _dumu_ en-um-a-szur\n",
      "4. li2-qe2-ep _dumu_ puzur2-esz18-dar i-szu\n",
      "5. _iti-kam_ ab2 sza-ra-ni\n",
      "6. li-mu-um szu-ra-ma\n",
      "7. 1/3(disz) _ma-na ku3-babbar_ a-na\n",
      "8. 1(disz) sza-na-at i-sza-qal\n",
      "9. 1/3(disz) _ma-na ku3-babbar_ a-na\n",
      "10. a-na 2(disz) sza-na-at i-sza-qal\n",
      "11. szu-ma la2 isz-qu2-ul\n"
     ]
    }
   ],
   "source": [
    "for ln in lines:\n",
    "    print(F.srcLn.v(ln))"
   ]
  },
  {
   "cell_type": "markdown",
   "metadata": {},
   "source": [
    "or, slightly easier\""
   ]
  },
  {
   "cell_type": "code",
   "execution_count": 6,
   "metadata": {},
   "outputs": [
    {
     "name": "stdout",
     "output_type": "stream",
     "text": [
      "@obverse\n",
      "1. 2/2(disz) _ma-na ku3-babbar_\n",
      "2. s,a-ru-pa2-am i-s,e2-er\n",
      "3. ha-nu-nu _dumu_ en-um-a-szur\n",
      "4. li2-qe2-ep _dumu_ puzur2-esz18-dar i-szu\n",
      "5. _iti-kam_ ab2 sza-ra-ni\n",
      "6. li-mu-um szu-ra-ma\n",
      "7. 1/3(disz) _ma-na ku3-babbar_ a-na\n",
      "8. 1(disz) sza-na-at i-sza-qal\n",
      "9. 1/3(disz) _ma-na ku3-babbar_ a-na\n",
      "10. a-na 2(disz) sza-na-at i-sza-qal\n",
      "11. szu-ma la2 isz-qu2-ul\n"
     ]
    }
   ],
   "source": [
    "print(*A.getSource(f), sep=\"\\n\")"
   ]
  },
  {
   "cell_type": "markdown",
   "metadata": {},
   "source": [
    "# Text formats\n",
    "\n",
    "The TF API supports *text formats*. Text formats make selections and apply templates and styles based\n",
    "on the analysed features of the text. For example: a text-format may ignore flags or clusters, or\n",
    "format numerals in special ways.\n",
    "\n",
    "Text formats are not baked into TF, but they are defined in the feature `otext` of the corpus.\n",
    "\n",
    "Moreover, for this corpus a TF app has been build that defines additional text-formats.\n",
    "\n",
    "Whereas the formats defined in `otext` are strictly plain text formats, the formats\n",
    "defined in the app are able to use typographic styles to shape the text, such as bold, italic, colors, etc.\n",
    "\n",
    "Here is the list of all formats."
   ]
  },
  {
   "cell_type": "code",
   "execution_count": 7,
   "metadata": {},
   "outputs": [
    {
     "data": {
      "text/plain": [
       "{'text-orig-full': 'sign',\n",
       " 'text-orig-plain': 'sign',\n",
       " 'text-orig-rich': 'sign',\n",
       " 'text-orig-unicode': 'sign',\n",
       " 'layout-orig-rich': 'sign',\n",
       " 'layout-orig-unicode': 'sign'}"
      ]
     },
     "execution_count": 7,
     "metadata": {},
     "output_type": "execute_result"
    }
   ],
   "source": [
    "T.formats"
   ]
  },
  {
   "cell_type": "markdown",
   "metadata": {},
   "source": [
    "## Plain text formats\n",
    "\n",
    "The formats whose names start with `text-` are the plain text formats.\n",
    "\n",
    "### `text-orig-full`\n",
    "\n",
    "This format is really close to the ATF. It contains all original information.\n",
    "\n",
    "This is the default format. We do not have to specify it."
   ]
  },
  {
   "cell_type": "code",
   "execution_count": 8,
   "metadata": {},
   "outputs": [
    {
     "name": "stdout",
     "output_type": "stream",
     "text": [
      "865417 2/2(disz) _ma-na ku3-babbar_\n"
     ]
    },
    {
     "data": {
      "text/html": [
       "<div class=\"\"><span class=\"section \"><a target=\"_blank\" href=\"https://cdli.ucla.edu/search/search_results.php?SearchMode=Text&amp;ObjectID=P361249\" title=\"Show this document on CDLI\" sec=\"P361249 obverse:1\">P361249 obverse:1</a></span>  <span class=\"txto\">2/2(disz) </span><span class=\"txto\">_ma-</span><span class=\"txto\">na </span><span class=\"txto\">ku3-</span><span class=\"txto\">babbar_</span></div>"
      ],
      "text/plain": [
       "<IPython.core.display.HTML object>"
      ]
     },
     "metadata": {},
     "output_type": "display_data"
    },
    {
     "name": "stdout",
     "output_type": "stream",
     "text": [
      "865418 s,a-ru-pa2-am i-s,e2-er\n"
     ]
    },
    {
     "data": {
      "text/html": [
       "<div class=\"\"><span class=\"section \"><a target=\"_blank\" href=\"https://cdli.ucla.edu/search/search_results.php?SearchMode=Text&amp;ObjectID=P361249\" title=\"Show this document on CDLI\" sec=\"P361249 obverse:2\">P361249 obverse:2</a></span>  <span class=\"txto\">s,a-</span><span class=\"txto\">ru-</span><span class=\"txto\">pa2-</span><span class=\"txto\">am </span><span class=\"txto\">i-</span><span class=\"txto\">s,e2-</span><span class=\"txto\">er</span></div>"
      ],
      "text/plain": [
       "<IPython.core.display.HTML object>"
      ]
     },
     "metadata": {},
     "output_type": "display_data"
    },
    {
     "name": "stdout",
     "output_type": "stream",
     "text": [
      "865419 ha-nu-nu _dumu_ en-um-a-szur\n"
     ]
    },
    {
     "data": {
      "text/html": [
       "<div class=\"\"><span class=\"section \"><a target=\"_blank\" href=\"https://cdli.ucla.edu/search/search_results.php?SearchMode=Text&amp;ObjectID=P361249\" title=\"Show this document on CDLI\" sec=\"P361249 obverse:3\">P361249 obverse:3</a></span>  <span class=\"txto\">ha-</span><span class=\"txto\">nu-</span><span class=\"txto\">nu </span><span class=\"txto\">_dumu_ </span><span class=\"txto\">en-</span><span class=\"txto\">um-</span><span class=\"txto\">a-</span><span class=\"txto\">szur</span></div>"
      ],
      "text/plain": [
       "<IPython.core.display.HTML object>"
      ]
     },
     "metadata": {},
     "output_type": "display_data"
    },
    {
     "name": "stdout",
     "output_type": "stream",
     "text": [
      "865420 li2-qe2-ep _dumu_ puzur2-esz18-dar i-szu\n"
     ]
    },
    {
     "data": {
      "text/html": [
       "<div class=\"\"><span class=\"section \"><a target=\"_blank\" href=\"https://cdli.ucla.edu/search/search_results.php?SearchMode=Text&amp;ObjectID=P361249\" title=\"Show this document on CDLI\" sec=\"P361249 obverse:4\">P361249 obverse:4</a></span>  <span class=\"txto\">li2-</span><span class=\"txto\">qe2-</span><span class=\"txto\">ep </span><span class=\"txto\">_dumu_ </span><span class=\"txto\">puzur2-</span><span class=\"txto\">esz18-</span><span class=\"txto\">dar </span><span class=\"txto\">i-</span><span class=\"txto\">szu</span></div>"
      ],
      "text/plain": [
       "<IPython.core.display.HTML object>"
      ]
     },
     "metadata": {},
     "output_type": "display_data"
    },
    {
     "name": "stdout",
     "output_type": "stream",
     "text": [
      "865421 _iti-kam_ ab2 sza-ra-ni\n"
     ]
    },
    {
     "data": {
      "text/html": [
       "<div class=\"\"><span class=\"section \"><a target=\"_blank\" href=\"https://cdli.ucla.edu/search/search_results.php?SearchMode=Text&amp;ObjectID=P361249\" title=\"Show this document on CDLI\" sec=\"P361249 obverse:5\">P361249 obverse:5</a></span>  <span class=\"txto\">_iti-</span><span class=\"txto\">kam_ </span><span class=\"txto\">ab2 </span><span class=\"txto\">sza-</span><span class=\"txto\">ra-</span><span class=\"txto\">ni</span></div>"
      ],
      "text/plain": [
       "<IPython.core.display.HTML object>"
      ]
     },
     "metadata": {},
     "output_type": "display_data"
    },
    {
     "name": "stdout",
     "output_type": "stream",
     "text": [
      "865422 li-mu-um szu-ra-ma\n"
     ]
    },
    {
     "data": {
      "text/html": [
       "<div class=\"\"><span class=\"section \"><a target=\"_blank\" href=\"https://cdli.ucla.edu/search/search_results.php?SearchMode=Text&amp;ObjectID=P361249\" title=\"Show this document on CDLI\" sec=\"P361249 obverse:6\">P361249 obverse:6</a></span>  <span class=\"txto\">li-</span><span class=\"txto\">mu-</span><span class=\"txto\">um </span><span class=\"txto\">szu-</span><span class=\"txto\">ra-</span><span class=\"txto\">ma</span></div>"
      ],
      "text/plain": [
       "<IPython.core.display.HTML object>"
      ]
     },
     "metadata": {},
     "output_type": "display_data"
    },
    {
     "name": "stdout",
     "output_type": "stream",
     "text": [
      "865423 1/3(disz) _ma-na ku3-babbar_ a-na\n"
     ]
    },
    {
     "data": {
      "text/html": [
       "<div class=\"\"><span class=\"section \"><a target=\"_blank\" href=\"https://cdli.ucla.edu/search/search_results.php?SearchMode=Text&amp;ObjectID=P361249\" title=\"Show this document on CDLI\" sec=\"P361249 obverse:7\">P361249 obverse:7</a></span>  <span class=\"txto\">1/3(disz) </span><span class=\"txto\">_ma-</span><span class=\"txto\">na </span><span class=\"txto\">ku3-</span><span class=\"txto\">babbar_ </span><span class=\"txto\">a-</span><span class=\"txto\">na</span></div>"
      ],
      "text/plain": [
       "<IPython.core.display.HTML object>"
      ]
     },
     "metadata": {},
     "output_type": "display_data"
    },
    {
     "name": "stdout",
     "output_type": "stream",
     "text": [
      "865424 1(disz) sza-na-at i-sza-qal\n"
     ]
    },
    {
     "data": {
      "text/html": [
       "<div class=\"\"><span class=\"section \"><a target=\"_blank\" href=\"https://cdli.ucla.edu/search/search_results.php?SearchMode=Text&amp;ObjectID=P361249\" title=\"Show this document on CDLI\" sec=\"P361249 obverse:8\">P361249 obverse:8</a></span>  <span class=\"txto\">1(disz) </span><span class=\"txto\">sza-</span><span class=\"txto\">na-</span><span class=\"txto\">at </span><span class=\"txto\">i-</span><span class=\"txto\">sza-</span><span class=\"txto\">qal</span></div>"
      ],
      "text/plain": [
       "<IPython.core.display.HTML object>"
      ]
     },
     "metadata": {},
     "output_type": "display_data"
    },
    {
     "name": "stdout",
     "output_type": "stream",
     "text": [
      "865425 1/3(disz) _ma-na ku3-babbar_ a-na\n"
     ]
    },
    {
     "data": {
      "text/html": [
       "<div class=\"\"><span class=\"section \"><a target=\"_blank\" href=\"https://cdli.ucla.edu/search/search_results.php?SearchMode=Text&amp;ObjectID=P361249\" title=\"Show this document on CDLI\" sec=\"P361249 obverse:9\">P361249 obverse:9</a></span>  <span class=\"txto\">1/3(disz) </span><span class=\"txto\">_ma-</span><span class=\"txto\">na </span><span class=\"txto\">ku3-</span><span class=\"txto\">babbar_ </span><span class=\"txto\">a-</span><span class=\"txto\">na</span></div>"
      ],
      "text/plain": [
       "<IPython.core.display.HTML object>"
      ]
     },
     "metadata": {},
     "output_type": "display_data"
    },
    {
     "name": "stdout",
     "output_type": "stream",
     "text": [
      "865426 a-na 2(disz) sza-na-at i-sza-qal\n"
     ]
    },
    {
     "data": {
      "text/html": [
       "<div class=\"\"><span class=\"section \"><a target=\"_blank\" href=\"https://cdli.ucla.edu/search/search_results.php?SearchMode=Text&amp;ObjectID=P361249\" title=\"Show this document on CDLI\" sec=\"P361249 obverse:10\">P361249 obverse:10</a></span>  <span class=\"txto\">a-</span><span class=\"txto\">na </span><span class=\"txto\">2(disz) </span><span class=\"txto\">sza-</span><span class=\"txto\">na-</span><span class=\"txto\">at </span><span class=\"txto\">i-</span><span class=\"txto\">sza-</span><span class=\"txto\">qal</span></div>"
      ],
      "text/plain": [
       "<IPython.core.display.HTML object>"
      ]
     },
     "metadata": {},
     "output_type": "display_data"
    },
    {
     "name": "stdout",
     "output_type": "stream",
     "text": [
      "865427 szu-ma la2 isz-qu2-ul\n"
     ]
    },
    {
     "data": {
      "text/html": [
       "<div class=\"\"><span class=\"section \"><a target=\"_blank\" href=\"https://cdli.ucla.edu/search/search_results.php?SearchMode=Text&amp;ObjectID=P361249\" title=\"Show this document on CDLI\" sec=\"P361249 obverse:11\">P361249 obverse:11</a></span>  <span class=\"txto\">szu-</span><span class=\"txto\">ma </span><span class=\"txto\">la2 </span><span class=\"txto\">isz-</span><span class=\"txto\">qu2-</span><span class=\"txto\">ul</span></div>"
      ],
      "text/plain": [
       "<IPython.core.display.HTML object>"
      ]
     },
     "metadata": {},
     "output_type": "display_data"
    }
   ],
   "source": [
    "for ln in lines:\n",
    "    print(ln, T.text(ln))\n",
    "    A.plain(ln)"
   ]
  },
  {
   "cell_type": "markdown",
   "metadata": {},
   "source": [
    "The `plain()` function focuses on the *contents*, and instead of the line number, it gives a full specification\n",
    "of the location, linked to the online source on CDLI.\n",
    "\n",
    "But we can omit the locations:"
   ]
  },
  {
   "cell_type": "code",
   "execution_count": 9,
   "metadata": {},
   "outputs": [
    {
     "data": {
      "text/html": [
       "<div class=\"\"><span class=\"txto\">2/2(disz) </span><span class=\"txto\">_ma-</span><span class=\"txto\">na </span><span class=\"txto\">ku3-</span><span class=\"txto\">babbar_</span></div>"
      ],
      "text/plain": [
       "<IPython.core.display.HTML object>"
      ]
     },
     "metadata": {},
     "output_type": "display_data"
    },
    {
     "data": {
      "text/html": [
       "<div class=\"\"><span class=\"txto\">s,a-</span><span class=\"txto\">ru-</span><span class=\"txto\">pa2-</span><span class=\"txto\">am </span><span class=\"txto\">i-</span><span class=\"txto\">s,e2-</span><span class=\"txto\">er</span></div>"
      ],
      "text/plain": [
       "<IPython.core.display.HTML object>"
      ]
     },
     "metadata": {},
     "output_type": "display_data"
    },
    {
     "data": {
      "text/html": [
       "<div class=\"\"><span class=\"txto\">ha-</span><span class=\"txto\">nu-</span><span class=\"txto\">nu </span><span class=\"txto\">_dumu_ </span><span class=\"txto\">en-</span><span class=\"txto\">um-</span><span class=\"txto\">a-</span><span class=\"txto\">szur</span></div>"
      ],
      "text/plain": [
       "<IPython.core.display.HTML object>"
      ]
     },
     "metadata": {},
     "output_type": "display_data"
    },
    {
     "data": {
      "text/html": [
       "<div class=\"\"><span class=\"txto\">li2-</span><span class=\"txto\">qe2-</span><span class=\"txto\">ep </span><span class=\"txto\">_dumu_ </span><span class=\"txto\">puzur2-</span><span class=\"txto\">esz18-</span><span class=\"txto\">dar </span><span class=\"txto\">i-</span><span class=\"txto\">szu</span></div>"
      ],
      "text/plain": [
       "<IPython.core.display.HTML object>"
      ]
     },
     "metadata": {},
     "output_type": "display_data"
    },
    {
     "data": {
      "text/html": [
       "<div class=\"\"><span class=\"txto\">_iti-</span><span class=\"txto\">kam_ </span><span class=\"txto\">ab2 </span><span class=\"txto\">sza-</span><span class=\"txto\">ra-</span><span class=\"txto\">ni</span></div>"
      ],
      "text/plain": [
       "<IPython.core.display.HTML object>"
      ]
     },
     "metadata": {},
     "output_type": "display_data"
    },
    {
     "data": {
      "text/html": [
       "<div class=\"\"><span class=\"txto\">li-</span><span class=\"txto\">mu-</span><span class=\"txto\">um </span><span class=\"txto\">szu-</span><span class=\"txto\">ra-</span><span class=\"txto\">ma</span></div>"
      ],
      "text/plain": [
       "<IPython.core.display.HTML object>"
      ]
     },
     "metadata": {},
     "output_type": "display_data"
    },
    {
     "data": {
      "text/html": [
       "<div class=\"\"><span class=\"txto\">1/3(disz) </span><span class=\"txto\">_ma-</span><span class=\"txto\">na </span><span class=\"txto\">ku3-</span><span class=\"txto\">babbar_ </span><span class=\"txto\">a-</span><span class=\"txto\">na</span></div>"
      ],
      "text/plain": [
       "<IPython.core.display.HTML object>"
      ]
     },
     "metadata": {},
     "output_type": "display_data"
    },
    {
     "data": {
      "text/html": [
       "<div class=\"\"><span class=\"txto\">1(disz) </span><span class=\"txto\">sza-</span><span class=\"txto\">na-</span><span class=\"txto\">at </span><span class=\"txto\">i-</span><span class=\"txto\">sza-</span><span class=\"txto\">qal</span></div>"
      ],
      "text/plain": [
       "<IPython.core.display.HTML object>"
      ]
     },
     "metadata": {},
     "output_type": "display_data"
    },
    {
     "data": {
      "text/html": [
       "<div class=\"\"><span class=\"txto\">1/3(disz) </span><span class=\"txto\">_ma-</span><span class=\"txto\">na </span><span class=\"txto\">ku3-</span><span class=\"txto\">babbar_ </span><span class=\"txto\">a-</span><span class=\"txto\">na</span></div>"
      ],
      "text/plain": [
       "<IPython.core.display.HTML object>"
      ]
     },
     "metadata": {},
     "output_type": "display_data"
    },
    {
     "data": {
      "text/html": [
       "<div class=\"\"><span class=\"txto\">a-</span><span class=\"txto\">na </span><span class=\"txto\">2(disz) </span><span class=\"txto\">sza-</span><span class=\"txto\">na-</span><span class=\"txto\">at </span><span class=\"txto\">i-</span><span class=\"txto\">sza-</span><span class=\"txto\">qal</span></div>"
      ],
      "text/plain": [
       "<IPython.core.display.HTML object>"
      ]
     },
     "metadata": {},
     "output_type": "display_data"
    },
    {
     "data": {
      "text/html": [
       "<div class=\"\"><span class=\"txto\">szu-</span><span class=\"txto\">ma </span><span class=\"txto\">la2 </span><span class=\"txto\">isz-</span><span class=\"txto\">qu2-</span><span class=\"txto\">ul</span></div>"
      ],
      "text/plain": [
       "<IPython.core.display.HTML object>"
      ]
     },
     "metadata": {},
     "output_type": "display_data"
    }
   ],
   "source": [
    "for ln in lines:\n",
    "    A.plain(ln, withPassage=False)"
   ]
  },
  {
   "cell_type": "markdown",
   "metadata": {},
   "source": [
    "### `text-orig-plain`\n",
    "\n",
    "This is a somewhat reduced format. It omits all flags and bracketing constructs.\n",
    "\n",
    "For clarity, adjacent signs are separated with a `⁼` character."
   ]
  },
  {
   "cell_type": "code",
   "execution_count": 10,
   "metadata": {},
   "outputs": [
    {
     "data": {
      "text/html": [
       "<div class=\"\"><span class=\"section \"><a target=\"_blank\" href=\"https://cdli.ucla.edu/search/search_results.php?SearchMode=Text&amp;ObjectID=P361249\" title=\"Show this document on CDLI\" sec=\"P361249 obverse:1\">P361249 obverse:1</a></span>  <span class=\"txtt\">2/2(disz) </span><span class=\"txtt\">ma-</span><span class=\"txtt\">na </span><span class=\"txtt\">ku3-</span><span class=\"txtt\">babbar</span></div>"
      ],
      "text/plain": [
       "<IPython.core.display.HTML object>"
      ]
     },
     "metadata": {},
     "output_type": "display_data"
    },
    {
     "data": {
      "text/html": [
       "<div class=\"\"><span class=\"section \"><a target=\"_blank\" href=\"https://cdli.ucla.edu/search/search_results.php?SearchMode=Text&amp;ObjectID=P361249\" title=\"Show this document on CDLI\" sec=\"P361249 obverse:2\">P361249 obverse:2</a></span>  <span class=\"txtt\">s,a-</span><span class=\"txtt\">ru-</span><span class=\"txtt\">pa2-</span><span class=\"txtt\">am </span><span class=\"txtt\">i-</span><span class=\"txtt\">s,e2-</span><span class=\"txtt\">er</span></div>"
      ],
      "text/plain": [
       "<IPython.core.display.HTML object>"
      ]
     },
     "metadata": {},
     "output_type": "display_data"
    },
    {
     "data": {
      "text/html": [
       "<div class=\"\"><span class=\"section \"><a target=\"_blank\" href=\"https://cdli.ucla.edu/search/search_results.php?SearchMode=Text&amp;ObjectID=P361249\" title=\"Show this document on CDLI\" sec=\"P361249 obverse:3\">P361249 obverse:3</a></span>  <span class=\"txtt\">ha-</span><span class=\"txtt\">nu-</span><span class=\"txtt\">nu </span><span class=\"txtt\">dumu </span><span class=\"txtt\">en-</span><span class=\"txtt\">um-</span><span class=\"txtt\">a-</span><span class=\"txtt\">szur</span></div>"
      ],
      "text/plain": [
       "<IPython.core.display.HTML object>"
      ]
     },
     "metadata": {},
     "output_type": "display_data"
    },
    {
     "data": {
      "text/html": [
       "<div class=\"\"><span class=\"section \"><a target=\"_blank\" href=\"https://cdli.ucla.edu/search/search_results.php?SearchMode=Text&amp;ObjectID=P361249\" title=\"Show this document on CDLI\" sec=\"P361249 obverse:4\">P361249 obverse:4</a></span>  <span class=\"txtt\">li2-</span><span class=\"txtt\">qe2-</span><span class=\"txtt\">ep </span><span class=\"txtt\">dumu </span><span class=\"txtt\">puzur2-</span><span class=\"txtt\">esz18-</span><span class=\"txtt\">dar </span><span class=\"txtt\">i-</span><span class=\"txtt\">szu</span></div>"
      ],
      "text/plain": [
       "<IPython.core.display.HTML object>"
      ]
     },
     "metadata": {},
     "output_type": "display_data"
    },
    {
     "data": {
      "text/html": [
       "<div class=\"\"><span class=\"section \"><a target=\"_blank\" href=\"https://cdli.ucla.edu/search/search_results.php?SearchMode=Text&amp;ObjectID=P361249\" title=\"Show this document on CDLI\" sec=\"P361249 obverse:5\">P361249 obverse:5</a></span>  <span class=\"txtt\">iti-</span><span class=\"txtt\">kam </span><span class=\"txtt\">ab2 </span><span class=\"txtt\">sza-</span><span class=\"txtt\">ra-</span><span class=\"txtt\">ni</span></div>"
      ],
      "text/plain": [
       "<IPython.core.display.HTML object>"
      ]
     },
     "metadata": {},
     "output_type": "display_data"
    },
    {
     "data": {
      "text/html": [
       "<div class=\"\"><span class=\"section \"><a target=\"_blank\" href=\"https://cdli.ucla.edu/search/search_results.php?SearchMode=Text&amp;ObjectID=P361249\" title=\"Show this document on CDLI\" sec=\"P361249 obverse:6\">P361249 obverse:6</a></span>  <span class=\"txtt\">li-</span><span class=\"txtt\">mu-</span><span class=\"txtt\">um </span><span class=\"txtt\">szu-</span><span class=\"txtt\">ra-</span><span class=\"txtt\">ma</span></div>"
      ],
      "text/plain": [
       "<IPython.core.display.HTML object>"
      ]
     },
     "metadata": {},
     "output_type": "display_data"
    },
    {
     "data": {
      "text/html": [
       "<div class=\"\"><span class=\"section \"><a target=\"_blank\" href=\"https://cdli.ucla.edu/search/search_results.php?SearchMode=Text&amp;ObjectID=P361249\" title=\"Show this document on CDLI\" sec=\"P361249 obverse:7\">P361249 obverse:7</a></span>  <span class=\"txtt\">1/3(disz) </span><span class=\"txtt\">ma-</span><span class=\"txtt\">na </span><span class=\"txtt\">ku3-</span><span class=\"txtt\">babbar </span><span class=\"txtt\">a-</span><span class=\"txtt\">na</span></div>"
      ],
      "text/plain": [
       "<IPython.core.display.HTML object>"
      ]
     },
     "metadata": {},
     "output_type": "display_data"
    },
    {
     "data": {
      "text/html": [
       "<div class=\"\"><span class=\"section \"><a target=\"_blank\" href=\"https://cdli.ucla.edu/search/search_results.php?SearchMode=Text&amp;ObjectID=P361249\" title=\"Show this document on CDLI\" sec=\"P361249 obverse:8\">P361249 obverse:8</a></span>  <span class=\"txtt\">1(disz) </span><span class=\"txtt\">sza-</span><span class=\"txtt\">na-</span><span class=\"txtt\">at </span><span class=\"txtt\">i-</span><span class=\"txtt\">sza-</span><span class=\"txtt\">qal</span></div>"
      ],
      "text/plain": [
       "<IPython.core.display.HTML object>"
      ]
     },
     "metadata": {},
     "output_type": "display_data"
    },
    {
     "data": {
      "text/html": [
       "<div class=\"\"><span class=\"section \"><a target=\"_blank\" href=\"https://cdli.ucla.edu/search/search_results.php?SearchMode=Text&amp;ObjectID=P361249\" title=\"Show this document on CDLI\" sec=\"P361249 obverse:9\">P361249 obverse:9</a></span>  <span class=\"txtt\">1/3(disz) </span><span class=\"txtt\">ma-</span><span class=\"txtt\">na </span><span class=\"txtt\">ku3-</span><span class=\"txtt\">babbar </span><span class=\"txtt\">a-</span><span class=\"txtt\">na</span></div>"
      ],
      "text/plain": [
       "<IPython.core.display.HTML object>"
      ]
     },
     "metadata": {},
     "output_type": "display_data"
    },
    {
     "data": {
      "text/html": [
       "<div class=\"\"><span class=\"section \"><a target=\"_blank\" href=\"https://cdli.ucla.edu/search/search_results.php?SearchMode=Text&amp;ObjectID=P361249\" title=\"Show this document on CDLI\" sec=\"P361249 obverse:10\">P361249 obverse:10</a></span>  <span class=\"txtt\">a-</span><span class=\"txtt\">na </span><span class=\"txtt\">2(disz) </span><span class=\"txtt\">sza-</span><span class=\"txtt\">na-</span><span class=\"txtt\">at </span><span class=\"txtt\">i-</span><span class=\"txtt\">sza-</span><span class=\"txtt\">qal</span></div>"
      ],
      "text/plain": [
       "<IPython.core.display.HTML object>"
      ]
     },
     "metadata": {},
     "output_type": "display_data"
    },
    {
     "data": {
      "text/html": [
       "<div class=\"\"><span class=\"section \"><a target=\"_blank\" href=\"https://cdli.ucla.edu/search/search_results.php?SearchMode=Text&amp;ObjectID=P361249\" title=\"Show this document on CDLI\" sec=\"P361249 obverse:11\">P361249 obverse:11</a></span>  <span class=\"txtt\">szu-</span><span class=\"txtt\">ma </span><span class=\"txtt\">la2 </span><span class=\"txtt\">isz-</span><span class=\"txtt\">qu2-</span><span class=\"txtt\">ul</span></div>"
      ],
      "text/plain": [
       "<IPython.core.display.HTML object>"
      ]
     },
     "metadata": {},
     "output_type": "display_data"
    }
   ],
   "source": [
    "for ln in lines:\n",
    "    A.plain(ln, fmt=\"text-orig-plain\")"
   ]
  },
  {
   "cell_type": "markdown",
   "metadata": {},
   "source": [
    "### `text-orig-rich`\n",
    "\n",
    "This format is a bit prettier: instead of the strict ASCII encoding used by the CDLI archive, it uses\n",
    "characters with diacritics.\n",
    "\n",
    "There is no flag/cluster information in this representation."
   ]
  },
  {
   "cell_type": "code",
   "execution_count": 11,
   "metadata": {},
   "outputs": [
    {
     "data": {
      "text/html": [
       "<div class=\"\"><span class=\"section \"><a target=\"_blank\" href=\"https://cdli.ucla.edu/search/search_results.php?SearchMode=Text&amp;ObjectID=P361249\" title=\"Show this document on CDLI\" sec=\"P361249 obverse:1\">P361249 obverse:1</a></span>  <span class=\"txtt\">2/2(diš) </span><span class=\"txtt\">ma-</span><span class=\"txtt\">na </span><span class=\"txtt\">ku₃-</span><span class=\"txtt\">babbar</span></div>"
      ],
      "text/plain": [
       "<IPython.core.display.HTML object>"
      ]
     },
     "metadata": {},
     "output_type": "display_data"
    },
    {
     "data": {
      "text/html": [
       "<div class=\"\"><span class=\"section \"><a target=\"_blank\" href=\"https://cdli.ucla.edu/search/search_results.php?SearchMode=Text&amp;ObjectID=P361249\" title=\"Show this document on CDLI\" sec=\"P361249 obverse:2\">P361249 obverse:2</a></span>  <span class=\"txtt\">ṣa-</span><span class=\"txtt\">ru-</span><span class=\"txtt\">pa₂-</span><span class=\"txtt\">am </span><span class=\"txtt\">i-</span><span class=\"txtt\">ṣe₂-</span><span class=\"txtt\">er</span></div>"
      ],
      "text/plain": [
       "<IPython.core.display.HTML object>"
      ]
     },
     "metadata": {},
     "output_type": "display_data"
    },
    {
     "data": {
      "text/html": [
       "<div class=\"\"><span class=\"section \"><a target=\"_blank\" href=\"https://cdli.ucla.edu/search/search_results.php?SearchMode=Text&amp;ObjectID=P361249\" title=\"Show this document on CDLI\" sec=\"P361249 obverse:3\">P361249 obverse:3</a></span>  <span class=\"txtt\">ha-</span><span class=\"txtt\">nu-</span><span class=\"txtt\">nu </span><span class=\"txtt\">dumu </span><span class=\"txtt\">en-</span><span class=\"txtt\">um-</span><span class=\"txtt\">a-</span><span class=\"txtt\">šur</span></div>"
      ],
      "text/plain": [
       "<IPython.core.display.HTML object>"
      ]
     },
     "metadata": {},
     "output_type": "display_data"
    },
    {
     "data": {
      "text/html": [
       "<div class=\"\"><span class=\"section \"><a target=\"_blank\" href=\"https://cdli.ucla.edu/search/search_results.php?SearchMode=Text&amp;ObjectID=P361249\" title=\"Show this document on CDLI\" sec=\"P361249 obverse:4\">P361249 obverse:4</a></span>  <span class=\"txtt\">li₂-</span><span class=\"txtt\">qe₂-</span><span class=\"txtt\">ep </span><span class=\"txtt\">dumu </span><span class=\"txtt\">puzur₂-</span><span class=\"txtt\">eš₁₈-</span><span class=\"txtt\">dar </span><span class=\"txtt\">i-</span><span class=\"txtt\">šu</span></div>"
      ],
      "text/plain": [
       "<IPython.core.display.HTML object>"
      ]
     },
     "metadata": {},
     "output_type": "display_data"
    },
    {
     "data": {
      "text/html": [
       "<div class=\"\"><span class=\"section \"><a target=\"_blank\" href=\"https://cdli.ucla.edu/search/search_results.php?SearchMode=Text&amp;ObjectID=P361249\" title=\"Show this document on CDLI\" sec=\"P361249 obverse:5\">P361249 obverse:5</a></span>  <span class=\"txtt\">iti-</span><span class=\"txtt\">kam </span><span class=\"txtt\">ab₂ </span><span class=\"txtt\">ša-</span><span class=\"txtt\">ra-</span><span class=\"txtt\">ni</span></div>"
      ],
      "text/plain": [
       "<IPython.core.display.HTML object>"
      ]
     },
     "metadata": {},
     "output_type": "display_data"
    },
    {
     "data": {
      "text/html": [
       "<div class=\"\"><span class=\"section \"><a target=\"_blank\" href=\"https://cdli.ucla.edu/search/search_results.php?SearchMode=Text&amp;ObjectID=P361249\" title=\"Show this document on CDLI\" sec=\"P361249 obverse:6\">P361249 obverse:6</a></span>  <span class=\"txtt\">li-</span><span class=\"txtt\">mu-</span><span class=\"txtt\">um </span><span class=\"txtt\">šu-</span><span class=\"txtt\">ra-</span><span class=\"txtt\">ma</span></div>"
      ],
      "text/plain": [
       "<IPython.core.display.HTML object>"
      ]
     },
     "metadata": {},
     "output_type": "display_data"
    },
    {
     "data": {
      "text/html": [
       "<div class=\"\"><span class=\"section \"><a target=\"_blank\" href=\"https://cdli.ucla.edu/search/search_results.php?SearchMode=Text&amp;ObjectID=P361249\" title=\"Show this document on CDLI\" sec=\"P361249 obverse:7\">P361249 obverse:7</a></span>  <span class=\"txtt\">1/3(diš) </span><span class=\"txtt\">ma-</span><span class=\"txtt\">na </span><span class=\"txtt\">ku₃-</span><span class=\"txtt\">babbar </span><span class=\"txtt\">a-</span><span class=\"txtt\">na</span></div>"
      ],
      "text/plain": [
       "<IPython.core.display.HTML object>"
      ]
     },
     "metadata": {},
     "output_type": "display_data"
    },
    {
     "data": {
      "text/html": [
       "<div class=\"\"><span class=\"section \"><a target=\"_blank\" href=\"https://cdli.ucla.edu/search/search_results.php?SearchMode=Text&amp;ObjectID=P361249\" title=\"Show this document on CDLI\" sec=\"P361249 obverse:8\">P361249 obverse:8</a></span>  <span class=\"txtt\">1(diš) </span><span class=\"txtt\">ša-</span><span class=\"txtt\">na-</span><span class=\"txtt\">at </span><span class=\"txtt\">i-</span><span class=\"txtt\">ša-</span><span class=\"txtt\">qal</span></div>"
      ],
      "text/plain": [
       "<IPython.core.display.HTML object>"
      ]
     },
     "metadata": {},
     "output_type": "display_data"
    },
    {
     "data": {
      "text/html": [
       "<div class=\"\"><span class=\"section \"><a target=\"_blank\" href=\"https://cdli.ucla.edu/search/search_results.php?SearchMode=Text&amp;ObjectID=P361249\" title=\"Show this document on CDLI\" sec=\"P361249 obverse:9\">P361249 obverse:9</a></span>  <span class=\"txtt\">1/3(diš) </span><span class=\"txtt\">ma-</span><span class=\"txtt\">na </span><span class=\"txtt\">ku₃-</span><span class=\"txtt\">babbar </span><span class=\"txtt\">a-</span><span class=\"txtt\">na</span></div>"
      ],
      "text/plain": [
       "<IPython.core.display.HTML object>"
      ]
     },
     "metadata": {},
     "output_type": "display_data"
    },
    {
     "data": {
      "text/html": [
       "<div class=\"\"><span class=\"section \"><a target=\"_blank\" href=\"https://cdli.ucla.edu/search/search_results.php?SearchMode=Text&amp;ObjectID=P361249\" title=\"Show this document on CDLI\" sec=\"P361249 obverse:10\">P361249 obverse:10</a></span>  <span class=\"txtt\">a-</span><span class=\"txtt\">na </span><span class=\"txtt\">2(diš) </span><span class=\"txtt\">ša-</span><span class=\"txtt\">na-</span><span class=\"txtt\">at </span><span class=\"txtt\">i-</span><span class=\"txtt\">ša-</span><span class=\"txtt\">qal</span></div>"
      ],
      "text/plain": [
       "<IPython.core.display.HTML object>"
      ]
     },
     "metadata": {},
     "output_type": "display_data"
    },
    {
     "data": {
      "text/html": [
       "<div class=\"\"><span class=\"section \"><a target=\"_blank\" href=\"https://cdli.ucla.edu/search/search_results.php?SearchMode=Text&amp;ObjectID=P361249\" title=\"Show this document on CDLI\" sec=\"P361249 obverse:11\">P361249 obverse:11</a></span>  <span class=\"txtt\">šu-</span><span class=\"txtt\">ma </span><span class=\"txtt\">la₂ </span><span class=\"txtt\">iš-</span><span class=\"txtt\">qu₂-</span><span class=\"txtt\">ul</span></div>"
      ],
      "text/plain": [
       "<IPython.core.display.HTML object>"
      ]
     },
     "metadata": {},
     "output_type": "display_data"
    }
   ],
   "source": [
    "for ln in lines:\n",
    "    A.plain(ln, fmt=\"text-orig-rich\")"
   ]
  },
  {
   "cell_type": "markdown",
   "metadata": {},
   "source": [
    "### `text-orig-unicode`\n",
    "\n",
    "This format uses the Cuneiform Unicode characters.\n",
    "\n",
    "Numerals with repeats are represented by placing that many copies of the character in question.\n",
    "\n",
    "Readings that could not be found in the\n",
    "[mapping](https://github.com/Nino-cunei/tfFromAtf/blob/master/writing/GeneratedSignList.json)\n",
    "we use, appear in latin characters.\n",
    "\n",
    "There is no flag/cluster information in this representation."
   ]
  },
  {
   "cell_type": "code",
   "execution_count": 12,
   "metadata": {},
   "outputs": [
    {
     "data": {
      "text/html": [
       "<div class=\"\"><span class=\"section \"><a target=\"_blank\" href=\"https://cdli.ucla.edu/search/search_results.php?SearchMode=Text&amp;ObjectID=P361249\" title=\"Show this document on CDLI\" sec=\"P361249 obverse:1\">P361249 obverse:1</a></span>  <span class=\"txtu akk\">2/2(disz) </span><span class=\"txtu akk\">𒈠</span><span class=\"txtu akk\">𒈾 </span><span class=\"txtu akk\">𒆬</span><span class=\"txtu akk\">𒌓</span></div>"
      ],
      "text/plain": [
       "<IPython.core.display.HTML object>"
      ]
     },
     "metadata": {},
     "output_type": "display_data"
    },
    {
     "data": {
      "text/html": [
       "<div class=\"\"><span class=\"section \"><a target=\"_blank\" href=\"https://cdli.ucla.edu/search/search_results.php?SearchMode=Text&amp;ObjectID=P361249\" title=\"Show this document on CDLI\" sec=\"P361249 obverse:2\">P361249 obverse:2</a></span>  <span class=\"txtu akk\">𒍝</span><span class=\"txtu akk\">𒊒</span><span class=\"txtu akk\">𒁀</span><span class=\"txtu akk\">𒄠 </span><span class=\"txtu akk\">𒄿</span><span class=\"txtu akk\">𒍣</span><span class=\"txtu akk\">𒅕</span></div>"
      ],
      "text/plain": [
       "<IPython.core.display.HTML object>"
      ]
     },
     "metadata": {},
     "output_type": "display_data"
    },
    {
     "data": {
      "text/html": [
       "<div class=\"\"><span class=\"section \"><a target=\"_blank\" href=\"https://cdli.ucla.edu/search/search_results.php?SearchMode=Text&amp;ObjectID=P361249\" title=\"Show this document on CDLI\" sec=\"P361249 obverse:3\">P361249 obverse:3</a></span>  <span class=\"txtu akk\">𒄩</span><span class=\"txtu akk\">𒉡</span><span class=\"txtu akk\">𒉡 </span><span class=\"txtu akk\">𒌉 </span><span class=\"txtu akk\">𒂗</span><span class=\"txtu akk\">𒌝</span><span class=\"txtu akk\">𒀀</span><span class=\"txtu akk\">𒋩</span></div>"
      ],
      "text/plain": [
       "<IPython.core.display.HTML object>"
      ]
     },
     "metadata": {},
     "output_type": "display_data"
    },
    {
     "data": {
      "text/html": [
       "<div class=\"\"><span class=\"section \"><a target=\"_blank\" href=\"https://cdli.ucla.edu/search/search_results.php?SearchMode=Text&amp;ObjectID=P361249\" title=\"Show this document on CDLI\" sec=\"P361249 obverse:4\">P361249 obverse:4</a></span>  <span class=\"txtu akk\">𒉌</span><span class=\"txtu akk\">𒆠</span><span class=\"txtu akk\">𒅁 </span><span class=\"txtu akk\">𒌉 </span><span class=\"txtu akk\">𒌋𒌋</span><span class=\"txtu akk\">𒀹</span><span class=\"txtu akk\">𒁯 </span><span class=\"txtu akk\">𒄿</span><span class=\"txtu akk\">𒋗</span></div>"
      ],
      "text/plain": [
       "<IPython.core.display.HTML object>"
      ]
     },
     "metadata": {},
     "output_type": "display_data"
    },
    {
     "data": {
      "text/html": [
       "<div class=\"\"><span class=\"section \"><a target=\"_blank\" href=\"https://cdli.ucla.edu/search/search_results.php?SearchMode=Text&amp;ObjectID=P361249\" title=\"Show this document on CDLI\" sec=\"P361249 obverse:5\">P361249 obverse:5</a></span>  <span class=\"txtu akk\">𒌚</span><span class=\"txtu akk\">𒄭𒁁 </span><span class=\"txtu akk\">𒀖 </span><span class=\"txtu akk\">𒊭</span><span class=\"txtu akk\">𒊏</span><span class=\"txtu akk\">𒉌</span></div>"
      ],
      "text/plain": [
       "<IPython.core.display.HTML object>"
      ]
     },
     "metadata": {},
     "output_type": "display_data"
    },
    {
     "data": {
      "text/html": [
       "<div class=\"\"><span class=\"section \"><a target=\"_blank\" href=\"https://cdli.ucla.edu/search/search_results.php?SearchMode=Text&amp;ObjectID=P361249\" title=\"Show this document on CDLI\" sec=\"P361249 obverse:6\">P361249 obverse:6</a></span>  <span class=\"txtu akk\">𒇷</span><span class=\"txtu akk\">𒈬</span><span class=\"txtu akk\">𒌝 </span><span class=\"txtu akk\">𒋗</span><span class=\"txtu akk\">𒊏</span><span class=\"txtu akk\">𒈠</span></div>"
      ],
      "text/plain": [
       "<IPython.core.display.HTML object>"
      ]
     },
     "metadata": {},
     "output_type": "display_data"
    },
    {
     "data": {
      "text/html": [
       "<div class=\"\"><span class=\"section \"><a target=\"_blank\" href=\"https://cdli.ucla.edu/search/search_results.php?SearchMode=Text&amp;ObjectID=P361249\" title=\"Show this document on CDLI\" sec=\"P361249 obverse:7\">P361249 obverse:7</a></span>  <span class=\"txtu akk\">𒑚 </span><span class=\"txtu akk\">𒈠</span><span class=\"txtu akk\">𒈾 </span><span class=\"txtu akk\">𒆬</span><span class=\"txtu akk\">𒌓 </span><span class=\"txtu akk\">𒀀</span><span class=\"txtu akk\">𒈾</span></div>"
      ],
      "text/plain": [
       "<IPython.core.display.HTML object>"
      ]
     },
     "metadata": {},
     "output_type": "display_data"
    },
    {
     "data": {
      "text/html": [
       "<div class=\"\"><span class=\"section \"><a target=\"_blank\" href=\"https://cdli.ucla.edu/search/search_results.php?SearchMode=Text&amp;ObjectID=P361249\" title=\"Show this document on CDLI\" sec=\"P361249 obverse:8\">P361249 obverse:8</a></span>  <span class=\"txtu akk\">𒁹 </span><span class=\"txtu akk\">𒊭</span><span class=\"txtu akk\">𒈾</span><span class=\"txtu akk\">𒀜 </span><span class=\"txtu akk\">𒄿</span><span class=\"txtu akk\">𒊭</span><span class=\"txtu akk\">𒃲</span></div>"
      ],
      "text/plain": [
       "<IPython.core.display.HTML object>"
      ]
     },
     "metadata": {},
     "output_type": "display_data"
    },
    {
     "data": {
      "text/html": [
       "<div class=\"\"><span class=\"section \"><a target=\"_blank\" href=\"https://cdli.ucla.edu/search/search_results.php?SearchMode=Text&amp;ObjectID=P361249\" title=\"Show this document on CDLI\" sec=\"P361249 obverse:9\">P361249 obverse:9</a></span>  <span class=\"txtu akk\">𒑚 </span><span class=\"txtu akk\">𒈠</span><span class=\"txtu akk\">𒈾 </span><span class=\"txtu akk\">𒆬</span><span class=\"txtu akk\">𒌓 </span><span class=\"txtu akk\">𒀀</span><span class=\"txtu akk\">𒈾</span></div>"
      ],
      "text/plain": [
       "<IPython.core.display.HTML object>"
      ]
     },
     "metadata": {},
     "output_type": "display_data"
    },
    {
     "data": {
      "text/html": [
       "<div class=\"\"><span class=\"section \"><a target=\"_blank\" href=\"https://cdli.ucla.edu/search/search_results.php?SearchMode=Text&amp;ObjectID=P361249\" title=\"Show this document on CDLI\" sec=\"P361249 obverse:10\">P361249 obverse:10</a></span>  <span class=\"txtu akk\">𒀀</span><span class=\"txtu akk\">𒈾 </span><span class=\"txtu akk\">𒈫 </span><span class=\"txtu akk\">𒊭</span><span class=\"txtu akk\">𒈾</span><span class=\"txtu akk\">𒀜 </span><span class=\"txtu akk\">𒄿</span><span class=\"txtu akk\">𒊭</span><span class=\"txtu akk\">𒃲</span></div>"
      ],
      "text/plain": [
       "<IPython.core.display.HTML object>"
      ]
     },
     "metadata": {},
     "output_type": "display_data"
    },
    {
     "data": {
      "text/html": [
       "<div class=\"\"><span class=\"section \"><a target=\"_blank\" href=\"https://cdli.ucla.edu/search/search_results.php?SearchMode=Text&amp;ObjectID=P361249\" title=\"Show this document on CDLI\" sec=\"P361249 obverse:11\">P361249 obverse:11</a></span>  <span class=\"txtu akk\">𒋗</span><span class=\"txtu akk\">𒈠 </span><span class=\"txtu akk\">𒇲 </span><span class=\"txtu akk\">𒅖</span><span class=\"txtu akk\">𒆪</span><span class=\"txtu akk\">𒌌</span></div>"
      ],
      "text/plain": [
       "<IPython.core.display.HTML object>"
      ]
     },
     "metadata": {},
     "output_type": "display_data"
    }
   ],
   "source": [
    "for ln in lines:\n",
    "    A.plain(ln, fmt=\"text-orig-unicode\")"
   ]
  },
  {
   "cell_type": "markdown",
   "metadata": {},
   "source": [
    "**Note that we haven't yet properly mapped `2/2(disz)` to unicode!**"
   ]
  },
  {
   "cell_type": "markdown",
   "metadata": {},
   "source": [
    "## Styled text formats\n",
    "\n",
    "The formats whose names start with `layout-` are the styled text formats.\n",
    "\n",
    "### `layout-orig-rich`\n",
    "\n",
    "This format looks like `text-orig-rich`, but now we re-introduce the flags and clusters by specific\n",
    "layout devices.\n",
    "\n",
    "See below for detailed examples."
   ]
  },
  {
   "cell_type": "code",
   "execution_count": 13,
   "metadata": {},
   "outputs": [
    {
     "data": {
      "text/html": [
       "<div class=\"\"><span class=\"section \"><a target=\"_blank\" href=\"https://cdli.ucla.edu/search/search_results.php?SearchMode=Text&amp;ObjectID=P361249\" title=\"Show this document on CDLI\" sec=\"P361249 obverse:1\">P361249 obverse:1</a></span>  <span class=\"txtt\"><span class=\"quantity\">2/2</span>⌈<span class=\"r\">diš</span>⌉ </span><span class=\"txtt\"><span class=\"langalt\"><span class=\"r\">ma</span></span>-</span><span class=\"txtt\"><span class=\"langalt\"><span class=\"r\">na</span></span> </span><span class=\"txtt\"><span class=\"langalt\"><span class=\"r\">ku₃</span></span>-</span><span class=\"txtt\"><span class=\"langalt\"><span class=\"r\">babbar</span></span></span></div>"
      ],
      "text/plain": [
       "<IPython.core.display.HTML object>"
      ]
     },
     "metadata": {},
     "output_type": "display_data"
    },
    {
     "data": {
      "text/html": [
       "<div class=\"\"><span class=\"section \"><a target=\"_blank\" href=\"https://cdli.ucla.edu/search/search_results.php?SearchMode=Text&amp;ObjectID=P361249\" title=\"Show this document on CDLI\" sec=\"P361249 obverse:2\">P361249 obverse:2</a></span>  <span class=\"txtt\"><span class=\"r\">ṣa</span>-</span><span class=\"txtt\"><span class=\"r\">ru</span>-</span><span class=\"txtt\"><span class=\"r\">pa₂</span>-</span><span class=\"txtt\"><span class=\"r\">am</span> </span><span class=\"txtt\"><span class=\"r\">i</span>-</span><span class=\"txtt\"><span class=\"r\">ṣe₂</span>-</span><span class=\"txtt\"><span class=\"r\">er</span></span></div>"
      ],
      "text/plain": [
       "<IPython.core.display.HTML object>"
      ]
     },
     "metadata": {},
     "output_type": "display_data"
    },
    {
     "data": {
      "text/html": [
       "<div class=\"\"><span class=\"section \"><a target=\"_blank\" href=\"https://cdli.ucla.edu/search/search_results.php?SearchMode=Text&amp;ObjectID=P361249\" title=\"Show this document on CDLI\" sec=\"P361249 obverse:3\">P361249 obverse:3</a></span>  <span class=\"txtt\"><span class=\"r\">ha</span>-</span><span class=\"txtt\"><span class=\"r\">nu</span>-</span><span class=\"txtt\"><span class=\"r\">nu</span> </span><span class=\"txtt\"><span class=\"langalt\"><span class=\"r\">dumu</span></span> </span><span class=\"txtt\"><span class=\"r\">en</span>-</span><span class=\"txtt\"><span class=\"r\">um</span>-</span><span class=\"txtt\"><span class=\"r\">a</span>-</span><span class=\"txtt\"><span class=\"r\">šur</span></span></div>"
      ],
      "text/plain": [
       "<IPython.core.display.HTML object>"
      ]
     },
     "metadata": {},
     "output_type": "display_data"
    },
    {
     "data": {
      "text/html": [
       "<div class=\"\"><span class=\"section \"><a target=\"_blank\" href=\"https://cdli.ucla.edu/search/search_results.php?SearchMode=Text&amp;ObjectID=P361249\" title=\"Show this document on CDLI\" sec=\"P361249 obverse:4\">P361249 obverse:4</a></span>  <span class=\"txtt\"><span class=\"r\">li₂</span>-</span><span class=\"txtt\"><span class=\"r\">qe₂</span>-</span><span class=\"txtt\"><span class=\"r\">ep</span> </span><span class=\"txtt\"><span class=\"langalt\"><span class=\"r\">dumu</span></span> </span><span class=\"txtt\"><span class=\"r\">puzur₂</span>-</span><span class=\"txtt\"><span class=\"r\">eš₁₈</span>-</span><span class=\"txtt\"><span class=\"r\">dar</span> </span><span class=\"txtt\"><span class=\"r\">i</span>-</span><span class=\"txtt\"><span class=\"r\">šu</span></span></div>"
      ],
      "text/plain": [
       "<IPython.core.display.HTML object>"
      ]
     },
     "metadata": {},
     "output_type": "display_data"
    },
    {
     "data": {
      "text/html": [
       "<div class=\"\"><span class=\"section \"><a target=\"_blank\" href=\"https://cdli.ucla.edu/search/search_results.php?SearchMode=Text&amp;ObjectID=P361249\" title=\"Show this document on CDLI\" sec=\"P361249 obverse:5\">P361249 obverse:5</a></span>  <span class=\"txtt\"><span class=\"langalt\"><span class=\"r\">iti</span></span>-</span><span class=\"txtt\"><span class=\"langalt\"><span class=\"r\">kam</span></span> </span><span class=\"txtt\"><span class=\"r\">ab₂</span> </span><span class=\"txtt\"><span class=\"r\">ša</span>-</span><span class=\"txtt\"><span class=\"r\">ra</span>-</span><span class=\"txtt\"><span class=\"r\">ni</span></span></div>"
      ],
      "text/plain": [
       "<IPython.core.display.HTML object>"
      ]
     },
     "metadata": {},
     "output_type": "display_data"
    },
    {
     "data": {
      "text/html": [
       "<div class=\"\"><span class=\"section \"><a target=\"_blank\" href=\"https://cdli.ucla.edu/search/search_results.php?SearchMode=Text&amp;ObjectID=P361249\" title=\"Show this document on CDLI\" sec=\"P361249 obverse:6\">P361249 obverse:6</a></span>  <span class=\"txtt\"><span class=\"r\">li</span>-</span><span class=\"txtt\"><span class=\"r\">mu</span>-</span><span class=\"txtt\"><span class=\"r\">um</span> </span><span class=\"txtt\"><span class=\"r\">šu</span>-</span><span class=\"txtt\"><span class=\"r\">ra</span>-</span><span class=\"txtt\"><span class=\"r\">ma</span></span></div>"
      ],
      "text/plain": [
       "<IPython.core.display.HTML object>"
      ]
     },
     "metadata": {},
     "output_type": "display_data"
    },
    {
     "data": {
      "text/html": [
       "<div class=\"\"><span class=\"section \"><a target=\"_blank\" href=\"https://cdli.ucla.edu/search/search_results.php?SearchMode=Text&amp;ObjectID=P361249\" title=\"Show this document on CDLI\" sec=\"P361249 obverse:7\">P361249 obverse:7</a></span>  <span class=\"txtt\"><span class=\"quantity\">1/3</span>⌈<span class=\"r\">diš</span>⌉ </span><span class=\"txtt\"><span class=\"langalt\"><span class=\"r\">ma</span></span>-</span><span class=\"txtt\"><span class=\"langalt\"><span class=\"r\">na</span></span> </span><span class=\"txtt\"><span class=\"langalt\"><span class=\"r\">ku₃</span></span>-</span><span class=\"txtt\"><span class=\"langalt\"><span class=\"r\">babbar</span></span> </span><span class=\"txtt\"><span class=\"r\">a</span>-</span><span class=\"txtt\"><span class=\"r\">na</span></span></div>"
      ],
      "text/plain": [
       "<IPython.core.display.HTML object>"
      ]
     },
     "metadata": {},
     "output_type": "display_data"
    },
    {
     "data": {
      "text/html": [
       "<div class=\"\"><span class=\"section \"><a target=\"_blank\" href=\"https://cdli.ucla.edu/search/search_results.php?SearchMode=Text&amp;ObjectID=P361249\" title=\"Show this document on CDLI\" sec=\"P361249 obverse:8\">P361249 obverse:8</a></span>  <span class=\"txtt\"><span class=\"quantity\">1</span>⌈<span class=\"r\">diš</span>⌉ </span><span class=\"txtt\"><span class=\"r\">ša</span>-</span><span class=\"txtt\"><span class=\"r\">na</span>-</span><span class=\"txtt\"><span class=\"r\">at</span> </span><span class=\"txtt\"><span class=\"r\">i</span>-</span><span class=\"txtt\"><span class=\"r\">ša</span>-</span><span class=\"txtt\"><span class=\"r\">qal</span></span></div>"
      ],
      "text/plain": [
       "<IPython.core.display.HTML object>"
      ]
     },
     "metadata": {},
     "output_type": "display_data"
    },
    {
     "data": {
      "text/html": [
       "<div class=\"\"><span class=\"section \"><a target=\"_blank\" href=\"https://cdli.ucla.edu/search/search_results.php?SearchMode=Text&amp;ObjectID=P361249\" title=\"Show this document on CDLI\" sec=\"P361249 obverse:9\">P361249 obverse:9</a></span>  <span class=\"txtt\"><span class=\"quantity\">1/3</span>⌈<span class=\"r\">diš</span>⌉ </span><span class=\"txtt\"><span class=\"langalt\"><span class=\"r\">ma</span></span>-</span><span class=\"txtt\"><span class=\"langalt\"><span class=\"r\">na</span></span> </span><span class=\"txtt\"><span class=\"langalt\"><span class=\"r\">ku₃</span></span>-</span><span class=\"txtt\"><span class=\"langalt\"><span class=\"r\">babbar</span></span> </span><span class=\"txtt\"><span class=\"r\">a</span>-</span><span class=\"txtt\"><span class=\"r\">na</span></span></div>"
      ],
      "text/plain": [
       "<IPython.core.display.HTML object>"
      ]
     },
     "metadata": {},
     "output_type": "display_data"
    },
    {
     "data": {
      "text/html": [
       "<div class=\"\"><span class=\"section \"><a target=\"_blank\" href=\"https://cdli.ucla.edu/search/search_results.php?SearchMode=Text&amp;ObjectID=P361249\" title=\"Show this document on CDLI\" sec=\"P361249 obverse:10\">P361249 obverse:10</a></span>  <span class=\"txtt\"><span class=\"r\">a</span>-</span><span class=\"txtt\"><span class=\"r\">na</span> </span><span class=\"txtt\"><span class=\"quantity\">2</span>⌈<span class=\"r\">diš</span>⌉ </span><span class=\"txtt\"><span class=\"r\">ša</span>-</span><span class=\"txtt\"><span class=\"r\">na</span>-</span><span class=\"txtt\"><span class=\"r\">at</span> </span><span class=\"txtt\"><span class=\"r\">i</span>-</span><span class=\"txtt\"><span class=\"r\">ša</span>-</span><span class=\"txtt\"><span class=\"r\">qal</span></span></div>"
      ],
      "text/plain": [
       "<IPython.core.display.HTML object>"
      ]
     },
     "metadata": {},
     "output_type": "display_data"
    },
    {
     "data": {
      "text/html": [
       "<div class=\"\"><span class=\"section \"><a target=\"_blank\" href=\"https://cdli.ucla.edu/search/search_results.php?SearchMode=Text&amp;ObjectID=P361249\" title=\"Show this document on CDLI\" sec=\"P361249 obverse:11\">P361249 obverse:11</a></span>  <span class=\"txtt\"><span class=\"r\">šu</span>-</span><span class=\"txtt\"><span class=\"r\">ma</span> </span><span class=\"txtt\"><span class=\"r\">la₂</span> </span><span class=\"txtt\"><span class=\"r\">iš</span>-</span><span class=\"txtt\"><span class=\"r\">qu₂</span>-</span><span class=\"txtt\"><span class=\"r\">ul</span></span></div>"
      ],
      "text/plain": [
       "<IPython.core.display.HTML object>"
      ]
     },
     "metadata": {},
     "output_type": "display_data"
    }
   ],
   "source": [
    "for ln in lines:\n",
    "    A.plain(ln, fmt=\"layout-orig-rich\")"
   ]
  },
  {
   "cell_type": "markdown",
   "metadata": {},
   "source": [
    "### `layout-orig-unicode`\n",
    "\n",
    "This format looks like `text-orig-unicode`, but now we re-introduce the flags and clusters by specific\n",
    "layout devices.\n",
    "\n",
    "See below for detailed examples."
   ]
  },
  {
   "cell_type": "code",
   "execution_count": 14,
   "metadata": {},
   "outputs": [
    {
     "data": {
      "text/html": [
       "<div class=\"\"><span class=\"section \"><a target=\"_blank\" href=\"https://cdli.ucla.edu/search/search_results.php?SearchMode=Text&amp;ObjectID=P361249\" title=\"Show this document on CDLI\" sec=\"P361249 obverse:1\">P361249 obverse:1</a></span>  <span class=\"txtu akk\">2/2(disz) </span><span class=\"txtu akk\"><span class=\"langalt\"><span class=\"r\">𒈠</span></span></span><span class=\"txtu akk\"><span class=\"langalt\"><span class=\"r\">𒈾</span></span> </span><span class=\"txtu akk\"><span class=\"langalt\"><span class=\"r\">𒆬</span></span></span><span class=\"txtu akk\"><span class=\"langalt\"><span class=\"r\">𒌓</span></span></span></div>"
      ],
      "text/plain": [
       "<IPython.core.display.HTML object>"
      ]
     },
     "metadata": {},
     "output_type": "display_data"
    },
    {
     "data": {
      "text/html": [
       "<div class=\"\"><span class=\"section \"><a target=\"_blank\" href=\"https://cdli.ucla.edu/search/search_results.php?SearchMode=Text&amp;ObjectID=P361249\" title=\"Show this document on CDLI\" sec=\"P361249 obverse:2\">P361249 obverse:2</a></span>  <span class=\"txtu akk\"><span class=\"r\">𒍝</span></span><span class=\"txtu akk\"><span class=\"r\">𒊒</span></span><span class=\"txtu akk\"><span class=\"r\">𒁀</span></span><span class=\"txtu akk\"><span class=\"r\">𒄠</span> </span><span class=\"txtu akk\"><span class=\"r\">𒄿</span></span><span class=\"txtu akk\"><span class=\"r\">𒍣</span></span><span class=\"txtu akk\"><span class=\"r\">𒅕</span></span></div>"
      ],
      "text/plain": [
       "<IPython.core.display.HTML object>"
      ]
     },
     "metadata": {},
     "output_type": "display_data"
    },
    {
     "data": {
      "text/html": [
       "<div class=\"\"><span class=\"section \"><a target=\"_blank\" href=\"https://cdli.ucla.edu/search/search_results.php?SearchMode=Text&amp;ObjectID=P361249\" title=\"Show this document on CDLI\" sec=\"P361249 obverse:3\">P361249 obverse:3</a></span>  <span class=\"txtu akk\"><span class=\"r\">𒄩</span></span><span class=\"txtu akk\"><span class=\"r\">𒉡</span></span><span class=\"txtu akk\"><span class=\"r\">𒉡</span> </span><span class=\"txtu akk\"><span class=\"langalt\"><span class=\"r\">𒌉</span></span> </span><span class=\"txtu akk\"><span class=\"r\">𒂗</span></span><span class=\"txtu akk\"><span class=\"r\">𒌝</span></span><span class=\"txtu akk\"><span class=\"r\">𒀀</span></span><span class=\"txtu akk\"><span class=\"r\">𒋩</span></span></div>"
      ],
      "text/plain": [
       "<IPython.core.display.HTML object>"
      ]
     },
     "metadata": {},
     "output_type": "display_data"
    },
    {
     "data": {
      "text/html": [
       "<div class=\"\"><span class=\"section \"><a target=\"_blank\" href=\"https://cdli.ucla.edu/search/search_results.php?SearchMode=Text&amp;ObjectID=P361249\" title=\"Show this document on CDLI\" sec=\"P361249 obverse:4\">P361249 obverse:4</a></span>  <span class=\"txtu akk\"><span class=\"r\">𒉌</span></span><span class=\"txtu akk\"><span class=\"r\">𒆠</span></span><span class=\"txtu akk\"><span class=\"r\">𒅁</span> </span><span class=\"txtu akk\"><span class=\"langalt\"><span class=\"r\">𒌉</span></span> </span><span class=\"txtu akk\"><span class=\"r\">𒌋𒌋</span></span><span class=\"txtu akk\"><span class=\"r\">𒀹</span></span><span class=\"txtu akk\"><span class=\"r\">𒁯</span> </span><span class=\"txtu akk\"><span class=\"r\">𒄿</span></span><span class=\"txtu akk\"><span class=\"r\">𒋗</span></span></div>"
      ],
      "text/plain": [
       "<IPython.core.display.HTML object>"
      ]
     },
     "metadata": {},
     "output_type": "display_data"
    },
    {
     "data": {
      "text/html": [
       "<div class=\"\"><span class=\"section \"><a target=\"_blank\" href=\"https://cdli.ucla.edu/search/search_results.php?SearchMode=Text&amp;ObjectID=P361249\" title=\"Show this document on CDLI\" sec=\"P361249 obverse:5\">P361249 obverse:5</a></span>  <span class=\"txtu akk\"><span class=\"langalt\"><span class=\"r\">𒌚</span></span></span><span class=\"txtu akk\"><span class=\"langalt\"><span class=\"r\">𒄭𒁁</span></span> </span><span class=\"txtu akk\"><span class=\"r\">𒀖</span> </span><span class=\"txtu akk\"><span class=\"r\">𒊭</span></span><span class=\"txtu akk\"><span class=\"r\">𒊏</span></span><span class=\"txtu akk\"><span class=\"r\">𒉌</span></span></div>"
      ],
      "text/plain": [
       "<IPython.core.display.HTML object>"
      ]
     },
     "metadata": {},
     "output_type": "display_data"
    },
    {
     "data": {
      "text/html": [
       "<div class=\"\"><span class=\"section \"><a target=\"_blank\" href=\"https://cdli.ucla.edu/search/search_results.php?SearchMode=Text&amp;ObjectID=P361249\" title=\"Show this document on CDLI\" sec=\"P361249 obverse:6\">P361249 obverse:6</a></span>  <span class=\"txtu akk\"><span class=\"r\">𒇷</span></span><span class=\"txtu akk\"><span class=\"r\">𒈬</span></span><span class=\"txtu akk\"><span class=\"r\">𒌝</span> </span><span class=\"txtu akk\"><span class=\"r\">𒋗</span></span><span class=\"txtu akk\"><span class=\"r\">𒊏</span></span><span class=\"txtu akk\"><span class=\"r\">𒈠</span></span></div>"
      ],
      "text/plain": [
       "<IPython.core.display.HTML object>"
      ]
     },
     "metadata": {},
     "output_type": "display_data"
    },
    {
     "data": {
      "text/html": [
       "<div class=\"\"><span class=\"section \"><a target=\"_blank\" href=\"https://cdli.ucla.edu/search/search_results.php?SearchMode=Text&amp;ObjectID=P361249\" title=\"Show this document on CDLI\" sec=\"P361249 obverse:7\">P361249 obverse:7</a></span>  <span class=\"txtu akk\">𒑚 </span><span class=\"txtu akk\"><span class=\"langalt\"><span class=\"r\">𒈠</span></span></span><span class=\"txtu akk\"><span class=\"langalt\"><span class=\"r\">𒈾</span></span> </span><span class=\"txtu akk\"><span class=\"langalt\"><span class=\"r\">𒆬</span></span></span><span class=\"txtu akk\"><span class=\"langalt\"><span class=\"r\">𒌓</span></span> </span><span class=\"txtu akk\"><span class=\"r\">𒀀</span></span><span class=\"txtu akk\"><span class=\"r\">𒈾</span></span></div>"
      ],
      "text/plain": [
       "<IPython.core.display.HTML object>"
      ]
     },
     "metadata": {},
     "output_type": "display_data"
    },
    {
     "data": {
      "text/html": [
       "<div class=\"\"><span class=\"section \"><a target=\"_blank\" href=\"https://cdli.ucla.edu/search/search_results.php?SearchMode=Text&amp;ObjectID=P361249\" title=\"Show this document on CDLI\" sec=\"P361249 obverse:8\">P361249 obverse:8</a></span>  <span class=\"txtu akk\">𒁹 </span><span class=\"txtu akk\"><span class=\"r\">𒊭</span></span><span class=\"txtu akk\"><span class=\"r\">𒈾</span></span><span class=\"txtu akk\"><span class=\"r\">𒀜</span> </span><span class=\"txtu akk\"><span class=\"r\">𒄿</span></span><span class=\"txtu akk\"><span class=\"r\">𒊭</span></span><span class=\"txtu akk\"><span class=\"r\">𒃲</span></span></div>"
      ],
      "text/plain": [
       "<IPython.core.display.HTML object>"
      ]
     },
     "metadata": {},
     "output_type": "display_data"
    },
    {
     "data": {
      "text/html": [
       "<div class=\"\"><span class=\"section \"><a target=\"_blank\" href=\"https://cdli.ucla.edu/search/search_results.php?SearchMode=Text&amp;ObjectID=P361249\" title=\"Show this document on CDLI\" sec=\"P361249 obverse:9\">P361249 obverse:9</a></span>  <span class=\"txtu akk\">𒑚 </span><span class=\"txtu akk\"><span class=\"langalt\"><span class=\"r\">𒈠</span></span></span><span class=\"txtu akk\"><span class=\"langalt\"><span class=\"r\">𒈾</span></span> </span><span class=\"txtu akk\"><span class=\"langalt\"><span class=\"r\">𒆬</span></span></span><span class=\"txtu akk\"><span class=\"langalt\"><span class=\"r\">𒌓</span></span> </span><span class=\"txtu akk\"><span class=\"r\">𒀀</span></span><span class=\"txtu akk\"><span class=\"r\">𒈾</span></span></div>"
      ],
      "text/plain": [
       "<IPython.core.display.HTML object>"
      ]
     },
     "metadata": {},
     "output_type": "display_data"
    },
    {
     "data": {
      "text/html": [
       "<div class=\"\"><span class=\"section \"><a target=\"_blank\" href=\"https://cdli.ucla.edu/search/search_results.php?SearchMode=Text&amp;ObjectID=P361249\" title=\"Show this document on CDLI\" sec=\"P361249 obverse:10\">P361249 obverse:10</a></span>  <span class=\"txtu akk\"><span class=\"r\">𒀀</span></span><span class=\"txtu akk\"><span class=\"r\">𒈾</span> </span><span class=\"txtu akk\">𒈫 </span><span class=\"txtu akk\"><span class=\"r\">𒊭</span></span><span class=\"txtu akk\"><span class=\"r\">𒈾</span></span><span class=\"txtu akk\"><span class=\"r\">𒀜</span> </span><span class=\"txtu akk\"><span class=\"r\">𒄿</span></span><span class=\"txtu akk\"><span class=\"r\">𒊭</span></span><span class=\"txtu akk\"><span class=\"r\">𒃲</span></span></div>"
      ],
      "text/plain": [
       "<IPython.core.display.HTML object>"
      ]
     },
     "metadata": {},
     "output_type": "display_data"
    },
    {
     "data": {
      "text/html": [
       "<div class=\"\"><span class=\"section \"><a target=\"_blank\" href=\"https://cdli.ucla.edu/search/search_results.php?SearchMode=Text&amp;ObjectID=P361249\" title=\"Show this document on CDLI\" sec=\"P361249 obverse:11\">P361249 obverse:11</a></span>  <span class=\"txtu akk\"><span class=\"r\">𒋗</span></span><span class=\"txtu akk\"><span class=\"r\">𒈠</span> </span><span class=\"txtu akk\"><span class=\"r\">𒇲</span> </span><span class=\"txtu akk\"><span class=\"r\">𒅖</span></span><span class=\"txtu akk\"><span class=\"r\">𒆪</span></span><span class=\"txtu akk\"><span class=\"r\">𒌌</span></span></div>"
      ],
      "text/plain": [
       "<IPython.core.display.HTML object>"
      ]
     },
     "metadata": {},
     "output_type": "display_data"
    }
   ],
   "source": [
    "for ln in lines:\n",
    "    A.plain(ln, fmt=\"layout-orig-unicode\")"
   ]
  },
  {
   "cell_type": "markdown",
   "metadata": {},
   "source": [
    "Here is the text of the face in each of the plain text formats, i.e. no additional HTML formatting is applied."
   ]
  },
  {
   "cell_type": "markdown",
   "metadata": {},
   "source": [
    "# Pretty\n",
    "\n",
    "The ultimate of graphical display is by means of the `pretty()` function.\n",
    "\n",
    "This display is less useful for reading, but instead optimized for showing all information that you might\n",
    "wish for.\n",
    "\n",
    "It shows a base representation according to a text format of your choice\n",
    "(here we choose `layout-orig-rich`), and it shows the values\n",
    "of a standard set of features."
   ]
  },
  {
   "cell_type": "code",
   "execution_count": 15,
   "metadata": {},
   "outputs": [
    {
     "data": {
      "text/plain": [
       "'lugal-ke-en6'"
      ]
     },
     "execution_count": 15,
     "metadata": {},
     "output_type": "execute_result"
    }
   ],
   "source": [
    "w = F.otype.s(\"word\")[1]\n",
    "F.atf.v(w)"
   ]
  },
  {
   "cell_type": "code",
   "execution_count": 16,
   "metadata": {},
   "outputs": [
    {
     "data": {
      "text/html": [
       "<div class=\"section \"><a target=\"_blank\" href=\"https://cdli.ucla.edu/search/search_results.php?SearchMode=Text&amp;ObjectID=P390626\" title=\"Show this document on CDLI\" sec=\"P390626 obverse:1\">P390626 obverse:1</a></div><div class=\" children\"><div class=\"contnr c2 trm   \" ><div class=\"lbl c2 trm \" ><span class=\"nd\">word</span> <span class=\"txto\"><span class=\"plain   \" ><span class=\"txto\">lugal-</span><span class=\"txto\">ke-</span><span class=\"txto\">en6 </span></span></span></div></div></div>"
      ],
      "text/plain": [
       "<IPython.core.display.HTML object>"
      ]
     },
     "metadata": {},
     "output_type": "display_data"
    }
   ],
   "source": [
    "A.pretty(w)"
   ]
  },
  {
   "cell_type": "code",
   "execution_count": 17,
   "metadata": {},
   "outputs": [
    {
     "data": {
      "text/html": [
       "<div class=\"section \"><a target=\"_blank\" href=\"https://cdli.ucla.edu/search/search_results.php?SearchMode=Text&amp;ObjectID=P390626\" title=\"Show this document on CDLI\" sec=\"P390626 obverse:1\">P390626 obverse:1</a></div><div class=\" children\"><div class=\"contnr c2 trm   \" ><div class=\"lbl c2 trm \" ><span class=\"nd\">word:975133</span> <span class=\"txtu akk\"><span class=\"plain   \" ><span class=\"txtu akk\"><span class=\"r\">𒈗</span></span><span class=\"txtu akk\"><span class=\"r\">𒆠</span></span><span class=\"txtu akk\"><span class=\"r\">𒅔</span> </span></span></span></div></div></div>"
      ],
      "text/plain": [
       "<IPython.core.display.HTML object>"
      ]
     },
     "metadata": {},
     "output_type": "display_data"
    }
   ],
   "source": [
    "A.pretty(w, fmt=\"layout-orig-unicode\", withNodes=True)"
   ]
  },
  {
   "cell_type": "markdown",
   "metadata": {},
   "source": [
    "By default, pretty displays descend to the word level, but you can also descend to the sign level:"
   ]
  },
  {
   "cell_type": "code",
   "execution_count": 18,
   "metadata": {},
   "outputs": [
    {
     "data": {
      "text/html": [
       "<div class=\"section \"><a target=\"_blank\" href=\"https://cdli.ucla.edu/search/search_results.php?SearchMode=Text&amp;ObjectID=P390626\" title=\"Show this document on CDLI\" sec=\"P390626 obverse:1\">P390626 obverse:1</a></div><div class=\" children\"><div class=\"contnr c2    \" ><div class=\"lbl c2  \" ><span class=\"nd\">word</span> <span class=\"txto\">lugal-ke-en6 </span></div><div class=\"children hor  \"><div class=\"contnr c0 trm   \" ><div class=\"lbl c0 trm \" ><span class=\"txto\">lugal-</span></div></div><div class=\"contnr c0 trm   \" ><div class=\"lbl c0 trm \" ><span class=\"txto\">ke-</span></div></div><div class=\"contnr c0 trm   \" ><div class=\"lbl c0 trm \" ><span class=\"txto\">en6 </span></div></div></div></div></div>"
      ],
      "text/plain": [
       "<IPython.core.display.HTML object>"
      ]
     },
     "metadata": {},
     "output_type": "display_data"
    }
   ],
   "source": [
    "A.pretty(w, baseTypes=\"sign\")"
   ]
  },
  {
   "cell_type": "code",
   "execution_count": 19,
   "metadata": {},
   "outputs": [
    {
     "data": {
      "text/html": [
       "<div class=\"section \"><a target=\"_blank\" href=\"https://cdli.ucla.edu/search/search_results.php?SearchMode=Text&amp;ObjectID=P390626\" title=\"Show this document on CDLI\" sec=\"P390626 obverse:1\">P390626 obverse:1</a></div><div class=\" children\"><div class=\"contnr c2    \" ><div class=\"lbl c2  \" ><span class=\"nd\">word:975133</span> <span class=\"txtu akk\"><span class=\"r\">𒈗</span><span class=\"r\">𒆠</span><span class=\"r\">𒅔</span> </span></div><div class=\"children hor  \"><div class=\"contnr c0 trm   \" ><div class=\"lbl c0 trm \" ><span class=\"nd\">2</span> <span class=\"txtu akk\"><span class=\"r\">𒈗</span></span></div></div><div class=\"contnr c0 trm   \" ><div class=\"lbl c0 trm \" ><span class=\"nd\">3</span> <span class=\"txtu akk\"><span class=\"r\">𒆠</span></span></div></div><div class=\"contnr c0 trm   \" ><div class=\"lbl c0 trm \" ><span class=\"nd\">4</span> <span class=\"txtu akk\"><span class=\"r\">𒅔</span> </span></div></div></div></div></div>"
      ],
      "text/plain": [
       "<IPython.core.display.HTML object>"
      ]
     },
     "metadata": {},
     "output_type": "display_data"
    }
   ],
   "source": [
    "A.pretty(w, fmt=\"layout-orig-unicode\", baseTypes=\"sign\", withNodes=True)"
   ]
  },
  {
   "cell_type": "markdown",
   "metadata": {},
   "source": [
    "Later on, in the [search](search.ipynb) tutorial we see that `pretty()` can also display other features,\n",
    "even features that you or other people have created and added later.\n",
    "\n",
    "Here we call for the feature `atf`, which shows the original atf for the sign in question\n",
    "excluding the bracketing characters.\n",
    "\n",
    "Consult the\n",
    "[feature documentation](https://github.com/Nino-cunei/atfFromTf/blob/master/docs/transcription.md)\n",
    "to see what information is stored in all the features.\n",
    "\n",
    "We show it with node numbers, but you could leave them out in an obvious way."
   ]
  },
  {
   "cell_type": "code",
   "execution_count": 20,
   "metadata": {},
   "outputs": [
    {
     "data": {
      "text/html": [
       "<div class=\"section \"><a target=\"_blank\" href=\"https://cdli.ucla.edu/search/search_results.php?SearchMode=Text&amp;ObjectID=P361249\" title=\"Show this document on CDLI\" sec=\"P361249 obverse\">P361249 obverse</a></div><div class=\" children\"><div class=\"contnr c4 trm   \" ><div class=\"lbl c4 trm \" ><span class=\"nd\">face:853376</span> <span class=\"txtt\"><span class=\"section\">P361249 obverse</span></span></div></div></div>"
      ],
      "text/plain": [
       "<IPython.core.display.HTML object>"
      ]
     },
     "metadata": {},
     "output_type": "display_data"
    }
   ],
   "source": [
    "A.pretty(f, extraFeatures=\"atf\", fmt=\"layout-orig-rich\", withNodes=True)"
   ]
  },
  {
   "cell_type": "markdown",
   "metadata": {},
   "source": [
    "We do not see much, because the default condense type is `line`, and a `document` is bigger than that.\n",
    "Objects bigger than de condense type will be abbreviated to a label that indicates their identity,\n",
    "not their contents.\n",
    "\n",
    "But we can override this by adding `full=True`.\n",
    "\n",
    "See also the documentation on [`pretty`](https://annotation.github.io/text-fabric/tf/advanced/display.html#tf.advanced.display.pretty)."
   ]
  },
  {
   "cell_type": "code",
   "execution_count": 21,
   "metadata": {},
   "outputs": [
    {
     "data": {
      "text/html": [
       "<div class=\"section \"><a target=\"_blank\" href=\"https://cdli.ucla.edu/search/search_results.php?SearchMode=Text&amp;ObjectID=P361249\" title=\"Show this document on CDLI\" sec=\"P361249 obverse\">P361249 obverse</a></div><div class=\" children\"><div class=\"contnr c4    \" ><div class=\"lbl c4  \" ><span class=\"nd\">face:853376</span> <span class=\"txtt\"><span class=\"section\">P361249 obverse</span></span></div><div class=\"children hor wrap \"><div class=\"contnr c3    \" ><div class=\"lbl c3  \" ><span class=\"nd\">line:865417</span></div><div class=\"children hor wrap \"><div class=\"contnr c2 trm   \" ><div class=\"lbl c2 trm \" ><span class=\"nd\">word:975585</span> <span class=\"txtt\"><span class=\"plain   \" ><span class=\"txtt\"><span class=\"quantity\">2/2</span>⌈<span class=\"r\">diš</span>⌉ </span></span></span></div><div class='features'><span class=\"atf xft\" ><span class=\"f\">atf=</span>2/2(disz)</span></div></div><div class=\"contnr c2 trm   \" ><div class=\"lbl c2 trm \" ><span class=\"nd\">word:975586</span> <span class=\"txtt\"><span class=\"plain   \" ><span class=\"txtt\"><span class=\"langalt\"><span class=\"r\">ma</span></span>-</span><span class=\"txtt\"><span class=\"langalt\"><span class=\"r\">na</span></span> </span></span></span></div><div class='features'><span class=\"atf xft\" ><span class=\"f\">atf=</span>_ma-na</span></div></div><div class=\"contnr c2 trm   \" ><div class=\"lbl c2 trm \" ><span class=\"nd\">word:975587</span> <span class=\"txtt\"><span class=\"plain   \" ><span class=\"txtt\"><span class=\"langalt\"><span class=\"r\">ku₃</span></span>-</span><span class=\"txtt\"><span class=\"langalt\"><span class=\"r\">babbar</span></span></span></span></span></div><div class='features'><span class=\"atf xft\" ><span class=\"f\">atf=</span>ku3-babbar_</span></div></div></div></div><div class=\"contnr c3    \" ><div class=\"lbl c3  \" ><span class=\"nd\">line:865418</span></div><div class=\"children hor wrap \"><div class=\"contnr c2 trm   \" ><div class=\"lbl c2 trm \" ><span class=\"nd\">word:975588</span> <span class=\"txtt\"><span class=\"plain   \" ><span class=\"txtt\"><span class=\"r\">ṣa</span>-</span><span class=\"txtt\"><span class=\"r\">ru</span>-</span><span class=\"txtt\"><span class=\"r\">pa₂</span>-</span><span class=\"txtt\"><span class=\"r\">am</span> </span></span></span></div><div class='features'><span class=\"atf xft\" ><span class=\"f\">atf=</span>s,a-ru-pa2-am</span></div></div><div class=\"contnr c2 trm   \" ><div class=\"lbl c2 trm \" ><span class=\"nd\">word:975589</span> <span class=\"txtt\"><span class=\"plain   \" ><span class=\"txtt\"><span class=\"r\">i</span>-</span><span class=\"txtt\"><span class=\"r\">ṣe₂</span>-</span><span class=\"txtt\"><span class=\"r\">er</span></span></span></span></div><div class='features'><span class=\"atf xft\" ><span class=\"f\">atf=</span>i-s,e2-er</span></div></div></div></div><div class=\"contnr c3    \" ><div class=\"lbl c3  \" ><span class=\"nd\">line:865419</span></div><div class=\"children hor wrap \"><div class=\"contnr c2 trm   \" ><div class=\"lbl c2 trm \" ><span class=\"nd\">word:975590</span> <span class=\"txtt\"><span class=\"plain   \" ><span class=\"txtt\"><span class=\"r\">ha</span>-</span><span class=\"txtt\"><span class=\"r\">nu</span>-</span><span class=\"txtt\"><span class=\"r\">nu</span> </span></span></span></div><div class='features'><span class=\"atf xft\" ><span class=\"f\">atf=</span>ha-nu-nu</span></div></div><div class=\"contnr c2 trm   \" ><div class=\"lbl c2 trm \" ><span class=\"nd\">word:975591</span> <span class=\"txtt\"><span class=\"plain   \" ><span class=\"txtt\"><span class=\"langalt\"><span class=\"r\">dumu</span></span> </span></span></span></div><div class='features'><span class=\"atf xft\" ><span class=\"f\">atf=</span>_dumu_</span></div></div><div class=\"contnr c2 trm   \" ><div class=\"lbl c2 trm \" ><span class=\"nd\">word:975592</span> <span class=\"txtt\"><span class=\"plain   \" ><span class=\"txtt\"><span class=\"r\">en</span>-</span><span class=\"txtt\"><span class=\"r\">um</span>-</span><span class=\"txtt\"><span class=\"r\">a</span>-</span><span class=\"txtt\"><span class=\"r\">šur</span></span></span></span></div><div class='features'><span class=\"atf xft\" ><span class=\"f\">atf=</span>en-um-a-szur</span></div></div></div></div><div class=\"contnr c3    \" ><div class=\"lbl c3  \" ><span class=\"nd\">line:865420</span></div><div class=\"children hor wrap \"><div class=\"contnr c2 trm   \" ><div class=\"lbl c2 trm \" ><span class=\"nd\">word:975593</span> <span class=\"txtt\"><span class=\"plain   \" ><span class=\"txtt\"><span class=\"r\">li₂</span>-</span><span class=\"txtt\"><span class=\"r\">qe₂</span>-</span><span class=\"txtt\"><span class=\"r\">ep</span> </span></span></span></div><div class='features'><span class=\"atf xft\" ><span class=\"f\">atf=</span>li2-qe2-ep</span></div></div><div class=\"contnr c2 trm   \" ><div class=\"lbl c2 trm \" ><span class=\"nd\">word:975594</span> <span class=\"txtt\"><span class=\"plain   \" ><span class=\"txtt\"><span class=\"langalt\"><span class=\"r\">dumu</span></span> </span></span></span></div><div class='features'><span class=\"atf xft\" ><span class=\"f\">atf=</span>_dumu_</span></div></div><div class=\"contnr c2 trm   \" ><div class=\"lbl c2 trm \" ><span class=\"nd\">word:975595</span> <span class=\"txtt\"><span class=\"plain   \" ><span class=\"txtt\"><span class=\"r\">puzur₂</span>-</span><span class=\"txtt\"><span class=\"r\">eš₁₈</span>-</span><span class=\"txtt\"><span class=\"r\">dar</span> </span></span></span></div><div class='features'><span class=\"atf xft\" ><span class=\"f\">atf=</span>puzur2-esz18-dar</span></div></div><div class=\"contnr c2 trm   \" ><div class=\"lbl c2 trm \" ><span class=\"nd\">word:975596</span> <span class=\"txtt\"><span class=\"plain   \" ><span class=\"txtt\"><span class=\"r\">i</span>-</span><span class=\"txtt\"><span class=\"r\">šu</span></span></span></span></div><div class='features'><span class=\"atf xft\" ><span class=\"f\">atf=</span>i-szu</span></div></div></div></div><div class=\"contnr c3    \" ><div class=\"lbl c3  \" ><span class=\"nd\">line:865421</span></div><div class=\"children hor wrap \"><div class=\"contnr c2 trm   \" ><div class=\"lbl c2 trm \" ><span class=\"nd\">word:975597</span> <span class=\"txtt\"><span class=\"plain   \" ><span class=\"txtt\"><span class=\"langalt\"><span class=\"r\">iti</span></span>-</span><span class=\"txtt\"><span class=\"langalt\"><span class=\"r\">kam</span></span> </span></span></span></div><div class='features'><span class=\"atf xft\" ><span class=\"f\">atf=</span>_iti-kam_</span></div></div><div class=\"contnr c2 trm   \" ><div class=\"lbl c2 trm \" ><span class=\"nd\">word:975598</span> <span class=\"txtt\"><span class=\"plain   \" ><span class=\"txtt\"><span class=\"r\">ab₂</span> </span></span></span></div><div class='features'><span class=\"atf xft\" ><span class=\"f\">atf=</span>ab2</span></div></div><div class=\"contnr c2 trm   \" ><div class=\"lbl c2 trm \" ><span class=\"nd\">word:975599</span> <span class=\"txtt\"><span class=\"plain   \" ><span class=\"txtt\"><span class=\"r\">ša</span>-</span><span class=\"txtt\"><span class=\"r\">ra</span>-</span><span class=\"txtt\"><span class=\"r\">ni</span></span></span></span></div><div class='features'><span class=\"atf xft\" ><span class=\"f\">atf=</span>sza-ra-ni</span></div></div></div></div><div class=\"contnr c3    \" ><div class=\"lbl c3  \" ><span class=\"nd\">line:865422</span></div><div class=\"children hor wrap \"><div class=\"contnr c2 trm   \" ><div class=\"lbl c2 trm \" ><span class=\"nd\">word:975600</span> <span class=\"txtt\"><span class=\"plain   \" ><span class=\"txtt\"><span class=\"r\">li</span>-</span><span class=\"txtt\"><span class=\"r\">mu</span>-</span><span class=\"txtt\"><span class=\"r\">um</span> </span></span></span></div><div class='features'><span class=\"atf xft\" ><span class=\"f\">atf=</span>li-mu-um</span></div></div><div class=\"contnr c2 trm   \" ><div class=\"lbl c2 trm \" ><span class=\"nd\">word:975601</span> <span class=\"txtt\"><span class=\"plain   \" ><span class=\"txtt\"><span class=\"r\">šu</span>-</span><span class=\"txtt\"><span class=\"r\">ra</span>-</span><span class=\"txtt\"><span class=\"r\">ma</span></span></span></span></div><div class='features'><span class=\"atf xft\" ><span class=\"f\">atf=</span>szu-ra-ma</span></div></div></div></div><div class=\"contnr c3    \" ><div class=\"lbl c3  \" ><span class=\"nd\">line:865423</span></div><div class=\"children hor wrap \"><div class=\"contnr c2 trm   \" ><div class=\"lbl c2 trm \" ><span class=\"nd\">word:975602</span> <span class=\"txtt\"><span class=\"plain   \" ><span class=\"txtt\"><span class=\"quantity\">1/3</span>⌈<span class=\"r\">diš</span>⌉ </span></span></span></div><div class='features'><span class=\"atf xft\" ><span class=\"f\">atf=</span>1/3(disz)</span></div></div><div class=\"contnr c2 trm   \" ><div class=\"lbl c2 trm \" ><span class=\"nd\">word:975603</span> <span class=\"txtt\"><span class=\"plain   \" ><span class=\"txtt\"><span class=\"langalt\"><span class=\"r\">ma</span></span>-</span><span class=\"txtt\"><span class=\"langalt\"><span class=\"r\">na</span></span> </span></span></span></div><div class='features'><span class=\"atf xft\" ><span class=\"f\">atf=</span>_ma-na</span></div></div><div class=\"contnr c2 trm   \" ><div class=\"lbl c2 trm \" ><span class=\"nd\">word:975604</span> <span class=\"txtt\"><span class=\"plain   \" ><span class=\"txtt\"><span class=\"langalt\"><span class=\"r\">ku₃</span></span>-</span><span class=\"txtt\"><span class=\"langalt\"><span class=\"r\">babbar</span></span> </span></span></span></div><div class='features'><span class=\"atf xft\" ><span class=\"f\">atf=</span>ku3-babbar_</span></div></div><div class=\"contnr c2 trm   \" ><div class=\"lbl c2 trm \" ><span class=\"nd\">word:975605</span> <span class=\"txtt\"><span class=\"plain   \" ><span class=\"txtt\"><span class=\"r\">a</span>-</span><span class=\"txtt\"><span class=\"r\">na</span></span></span></span></div><div class='features'><span class=\"atf xft\" ><span class=\"f\">atf=</span>a-na</span></div></div></div></div><div class=\"contnr c3    \" ><div class=\"lbl c3  \" ><span class=\"nd\">line:865424</span></div><div class=\"children hor wrap \"><div class=\"contnr c2 trm   \" ><div class=\"lbl c2 trm \" ><span class=\"nd\">word:975606</span> <span class=\"txtt\"><span class=\"plain   \" ><span class=\"txtt\"><span class=\"quantity\">1</span>⌈<span class=\"r\">diš</span>⌉ </span></span></span></div><div class='features'><span class=\"atf xft\" ><span class=\"f\">atf=</span>1(disz)</span></div></div><div class=\"contnr c2 trm   \" ><div class=\"lbl c2 trm \" ><span class=\"nd\">word:975607</span> <span class=\"txtt\"><span class=\"plain   \" ><span class=\"txtt\"><span class=\"r\">ša</span>-</span><span class=\"txtt\"><span class=\"r\">na</span>-</span><span class=\"txtt\"><span class=\"r\">at</span> </span></span></span></div><div class='features'><span class=\"atf xft\" ><span class=\"f\">atf=</span>sza-na-at</span></div></div><div class=\"contnr c2 trm   \" ><div class=\"lbl c2 trm \" ><span class=\"nd\">word:975608</span> <span class=\"txtt\"><span class=\"plain   \" ><span class=\"txtt\"><span class=\"r\">i</span>-</span><span class=\"txtt\"><span class=\"r\">ša</span>-</span><span class=\"txtt\"><span class=\"r\">qal</span></span></span></span></div><div class='features'><span class=\"atf xft\" ><span class=\"f\">atf=</span>i-sza-qal</span></div></div></div></div><div class=\"contnr c3    \" ><div class=\"lbl c3  \" ><span class=\"nd\">line:865425</span></div><div class=\"children hor wrap \"><div class=\"contnr c2 trm   \" ><div class=\"lbl c2 trm \" ><span class=\"nd\">word:975609</span> <span class=\"txtt\"><span class=\"plain   \" ><span class=\"txtt\"><span class=\"quantity\">1/3</span>⌈<span class=\"r\">diš</span>⌉ </span></span></span></div><div class='features'><span class=\"atf xft\" ><span class=\"f\">atf=</span>1/3(disz)</span></div></div><div class=\"contnr c2 trm   \" ><div class=\"lbl c2 trm \" ><span class=\"nd\">word:975610</span> <span class=\"txtt\"><span class=\"plain   \" ><span class=\"txtt\"><span class=\"langalt\"><span class=\"r\">ma</span></span>-</span><span class=\"txtt\"><span class=\"langalt\"><span class=\"r\">na</span></span> </span></span></span></div><div class='features'><span class=\"atf xft\" ><span class=\"f\">atf=</span>_ma-na</span></div></div><div class=\"contnr c2 trm   \" ><div class=\"lbl c2 trm \" ><span class=\"nd\">word:975611</span> <span class=\"txtt\"><span class=\"plain   \" ><span class=\"txtt\"><span class=\"langalt\"><span class=\"r\">ku₃</span></span>-</span><span class=\"txtt\"><span class=\"langalt\"><span class=\"r\">babbar</span></span> </span></span></span></div><div class='features'><span class=\"atf xft\" ><span class=\"f\">atf=</span>ku3-babbar_</span></div></div><div class=\"contnr c2 trm   \" ><div class=\"lbl c2 trm \" ><span class=\"nd\">word:975612</span> <span class=\"txtt\"><span class=\"plain   \" ><span class=\"txtt\"><span class=\"r\">a</span>-</span><span class=\"txtt\"><span class=\"r\">na</span></span></span></span></div><div class='features'><span class=\"atf xft\" ><span class=\"f\">atf=</span>a-na</span></div></div></div></div><div class=\"contnr c3    \" ><div class=\"lbl c3  \" ><span class=\"nd\">line:865426</span></div><div class=\"children hor wrap \"><div class=\"contnr c2 trm   \" ><div class=\"lbl c2 trm \" ><span class=\"nd\">word:975613</span> <span class=\"txtt\"><span class=\"plain   \" ><span class=\"txtt\"><span class=\"r\">a</span>-</span><span class=\"txtt\"><span class=\"r\">na</span> </span></span></span></div><div class='features'><span class=\"atf xft\" ><span class=\"f\">atf=</span>a-na</span></div></div><div class=\"contnr c2 trm   \" ><div class=\"lbl c2 trm \" ><span class=\"nd\">word:975614</span> <span class=\"txtt\"><span class=\"plain   \" ><span class=\"txtt\"><span class=\"quantity\">2</span>⌈<span class=\"r\">diš</span>⌉ </span></span></span></div><div class='features'><span class=\"atf xft\" ><span class=\"f\">atf=</span>2(disz)</span></div></div><div class=\"contnr c2 trm   \" ><div class=\"lbl c2 trm \" ><span class=\"nd\">word:975615</span> <span class=\"txtt\"><span class=\"plain   \" ><span class=\"txtt\"><span class=\"r\">ša</span>-</span><span class=\"txtt\"><span class=\"r\">na</span>-</span><span class=\"txtt\"><span class=\"r\">at</span> </span></span></span></div><div class='features'><span class=\"atf xft\" ><span class=\"f\">atf=</span>sza-na-at</span></div></div><div class=\"contnr c2 trm   \" ><div class=\"lbl c2 trm \" ><span class=\"nd\">word:975616</span> <span class=\"txtt\"><span class=\"plain   \" ><span class=\"txtt\"><span class=\"r\">i</span>-</span><span class=\"txtt\"><span class=\"r\">ša</span>-</span><span class=\"txtt\"><span class=\"r\">qal</span></span></span></span></div><div class='features'><span class=\"atf xft\" ><span class=\"f\">atf=</span>i-sza-qal</span></div></div></div></div><div class=\"contnr c3    \" ><div class=\"lbl c3  \" ><span class=\"nd\">line:865427</span></div><div class=\"children hor wrap \"><div class=\"contnr c2 trm   \" ><div class=\"lbl c2 trm \" ><span class=\"nd\">word:975617</span> <span class=\"txtt\"><span class=\"plain   \" ><span class=\"txtt\"><span class=\"r\">šu</span>-</span><span class=\"txtt\"><span class=\"r\">ma</span> </span></span></span></div><div class='features'><span class=\"atf xft\" ><span class=\"f\">atf=</span>szu-ma</span></div></div><div class=\"contnr c2 trm   \" ><div class=\"lbl c2 trm \" ><span class=\"nd\">word:975618</span> <span class=\"txtt\"><span class=\"plain   \" ><span class=\"txtt\"><span class=\"r\">la₂</span> </span></span></span></div><div class='features'><span class=\"atf xft\" ><span class=\"f\">atf=</span>la2</span></div></div><div class=\"contnr c2 trm   \" ><div class=\"lbl c2 trm \" ><span class=\"nd\">word:975619</span> <span class=\"txtt\"><span class=\"plain   \" ><span class=\"txtt\"><span class=\"r\">iš</span>-</span><span class=\"txtt\"><span class=\"r\">qu₂</span>-</span><span class=\"txtt\"><span class=\"r\">ul</span></span></span></span></div><div class='features'><span class=\"atf xft\" ><span class=\"f\">atf=</span>isz-qu2-ul</span></div></div></div></div></div></div></div>"
      ],
      "text/plain": [
       "<IPython.core.display.HTML object>"
      ]
     },
     "metadata": {},
     "output_type": "display_data"
    }
   ],
   "source": [
    "A.pretty(f, extraFeatures=\"atf\", fmt=\"layout-orig-rich\", withNodes=True, full=True)"
   ]
  },
  {
   "cell_type": "markdown",
   "metadata": {},
   "source": [
    "# Layout formats: the details\n",
    "\n",
    "We give detailed examples of how the material is styled in the `layout-` formats.\n",
    "\n",
    "We show the representation of all kinds of signs and also what the influence of\n",
    "clustering and flags are.\n",
    "\n",
    "Here are the design principles:\n",
    "\n",
    "* all flags `# ? ! *` cause the preceding sign to be in bold\n",
    "* damage `#` and missing `[ ]` text is blurry and in grey\n",
    "* questioned `?` and uncertain `( )` text is in italics\n",
    "* remarkable `!` and supplied `< >` text is overlined, supplied text is in blue\n",
    "* excised `<< >>` text has a strike-through and is in red\n",
    "* collated `*` text is underlined\n",
    "\n",
    "**Numerals** are written with repeats/fractions and the repeated material is in `⌈ ⌉`.\n",
    "If represented in cuneiform unicode, repeated material is actually repeated that many times, and the repeat number and\n",
    "the brackets are not shown.\n",
    "\n",
    "**Ligatures** (the `x` operator as in `kux(DU)`) are written with the `␣` character between the operands, and the second\n",
    "operand (`DU`) is written between `⌈ ⌉`.\n",
    "\n",
    "**Corrections** (as in `ku!(LU)`) are written as `ku=⌈LU⌉`.\n",
    "\n",
    "Just a quick overview of the sign types:"
   ]
  },
  {
   "cell_type": "code",
   "execution_count": 22,
   "metadata": {},
   "outputs": [
    {
     "data": {
      "text/plain": [
       "(('reading', 691349),\n",
       " ('numeral', 30256),\n",
       " ('wdiv', 14395),\n",
       " ('ellipsis', 12937),\n",
       " ('unknown', 10808),\n",
       " ('commentline', 6345),\n",
       " ('grapheme', 305),\n",
       " ('complex', 43),\n",
       " ('empty', 30),\n",
       " ('comment', 19),\n",
       " ('other', 5))"
      ]
     },
     "execution_count": 22,
     "metadata": {},
     "output_type": "execute_result"
    }
   ],
   "source": [
    "F.type.freqList(\"sign\")"
   ]
  },
  {
   "cell_type": "markdown",
   "metadata": {},
   "source": [
    "# Styled display of ATF text"
   ]
  },
  {
   "cell_type": "code",
   "execution_count": 23,
   "metadata": {},
   "outputs": [],
   "source": [
    "lines = (\n",
    "    ((\"P361247\", \"obverse\", \"3\"), (\"cluster: language\", [5, 6, 7])),\n",
    "    ((\"P360975\", \"obverse\", \"1\"), (\"cluster: determinative\", [3])),\n",
    "    ((\"P360975\", \"reverse\", \"17'\"), (\"cluster: missing\", [5, 6, 7])),\n",
    "    ((\"P390636\", \"obverse\", \"31\"), (\"cluster: uncertain\", [2])),\n",
    "    ((\"P361588\", \"obverse\", \"4\"), (\"cluster: supplied\", [5, 6, 7, 8, 9])),\n",
    "    ((\"P361599\", \"obverse\", \"3\"), (\"cluster: excised\", [1, 2, 3])),\n",
    "    ((\"P361599\", \"obverse\", \"10\"), (\"flag: damage\", [4, 5])),\n",
    "    ((\"P390624\", \"reverse\", \"7\"), (\"flag: question\", [4])),\n",
    "    ((\"P361599\", \"obverse\", \"6\"), (\"flag: remarkable\", [3, 4])),\n",
    "    ((\"P293386\", \"edge\", \"1\"), (\"flag: damage + question\", [10])),\n",
    "    ((\"P290549\", \"obverse\", \"12\"), (\"flag: damage + remarkable\", [4])),\n",
    "    ((\"P358477\", \"obverse\", \"5\"), (\"sign: comment\", [1])),\n",
    "    ((\"P500569\", \"seal - surface a\", \"2:4\"), (\"sign: grapheme\", [1])),\n",
    "    ((\"P393106\", \"obverse\", \"6\"), (\"sign: correction\", [2])),\n",
    "    ((\"P393106\", \"obverse\", \"1\"), (\"sign: numeral\", [1, 2, 5, 6])),\n",
    "    ((\"P360690\", \"reverse\", \"10\"), (\"sign: ligature\", [10])),\n",
    "    ((\"P360690\", \"reverse\", \"10\"), (\"sign: word divider\", [6])),\n",
    "    ((\"P393106\", \"reverse\", \"8\"), (\"sign: unknown and ellipsis\", [1, 2, 3, 4, 5])),\n",
    ")"
   ]
  },
  {
   "cell_type": "code",
   "execution_count": 24,
   "metadata": {},
   "outputs": [
    {
     "data": {
      "text/markdown": [
       "---\n",
       "# cluster: language\n",
       "\n",
       "Location: P361247 obverse:3"
      ],
      "text/plain": [
       "<IPython.core.display.Markdown object>"
      ]
     },
     "metadata": {},
     "output_type": "display_data"
    },
    {
     "name": "stdout",
     "output_type": "stream",
     "text": [
      "3. qi2-bi4-ma 8(disz) _gin2 ku3-babbar_\n"
     ]
    },
    {
     "data": {
      "text/html": [
       "<div class=\"\"><span class=\"section \"><a target=\"_blank\" href=\"https://cdli.ucla.edu/search/search_results.php?SearchMode=Text&amp;ObjectID=P361247\" title=\"Show this document on CDLI\" sec=\"P361247 obverse:3\">P361247 obverse:3</a></span>  <span class=\"txtt\"><span class=\"r\">qi₂</span>-</span><span class=\"txtt\"><span class=\"r\">bi₄</span>-</span><span class=\"txtt\"><span class=\"r\">ma</span> </span><span class=\"txtt\"><span class=\"quantity\">8</span>⌈<span class=\"r\">diš</span>⌉ </span><span class=\"plain   hl\" ><span class=\"txtt\"><span class=\"langalt\"><span class=\"r\">gin₂</span></span> </span></span><span class=\"plain   hl\" ><span class=\"txtt\"><span class=\"langalt\"><span class=\"r\">ku₃</span></span>-</span></span><span class=\"plain   hl\" ><span class=\"txtt\"><span class=\"langalt\"><span class=\"r\">babbar</span></span></span></span></div>"
      ],
      "text/plain": [
       "<IPython.core.display.HTML object>"
      ]
     },
     "metadata": {},
     "output_type": "display_data"
    },
    {
     "data": {
      "text/html": [
       "<div class=\"\"><span class=\"section \"><a target=\"_blank\" href=\"https://cdli.ucla.edu/search/search_results.php?SearchMode=Text&amp;ObjectID=P361247\" title=\"Show this document on CDLI\" sec=\"P361247 obverse:3\">P361247 obverse:3</a></span>  <span class=\"txtu akk\"><span class=\"r\">𒆠</span></span><span class=\"txtu akk\"><span class=\"r\">𒁁</span></span><span class=\"txtu akk\"><span class=\"r\">𒈠</span> </span><span class=\"txtu akk\">𒐍 </span><span class=\"plain   hl\" ><span class=\"txtu akk\"><span class=\"langalt\"><span class=\"r\">𒂅</span></span> </span></span><span class=\"plain   hl\" ><span class=\"txtu akk\"><span class=\"langalt\"><span class=\"r\">𒆬</span></span></span></span><span class=\"plain   hl\" ><span class=\"txtu akk\"><span class=\"langalt\"><span class=\"r\">𒌓</span></span></span></span></div>"
      ],
      "text/plain": [
       "<IPython.core.display.HTML object>"
      ]
     },
     "metadata": {},
     "output_type": "display_data"
    },
    {
     "data": {
      "text/html": [
       "<div class=\"section \"><a target=\"_blank\" href=\"https://cdli.ucla.edu/search/search_results.php?SearchMode=Text&amp;ObjectID=P361247\" title=\"Show this document on CDLI\" sec=\"P361247 obverse:3\">P361247 obverse:3</a></div><div class=\" children\"><div class=\"contnr c3    \" ><div class=\"lbl c3  \" ><span class=\"nd\">line</span></div><div class=\"children hor wrap \"><div class=\"contnr c2    \" ><div class=\"lbl c2  \" ><span class=\"nd\">word</span> <span class=\"txtt\">qi₂-bi₄-ma </span></div><div class='features'><span class=\"atf xft\" ><span class=\"f\">atf=</span>qi2-bi4-ma</span></div><div class=\"children hor  \"><div class=\"contnr c0 trm   \" ><div class=\"lbl c0 trm \" ><span class=\"txtt\">qi₂-</span></div><div class='features'><span class=\"atf xft\" ><span class=\"f\">atf=</span>qi2</span></div></div><div class=\"contnr c0 trm   \" ><div class=\"lbl c0 trm \" ><span class=\"txtt\">bi₄-</span></div><div class='features'><span class=\"atf xft\" ><span class=\"f\">atf=</span>bi4</span></div></div><div class=\"contnr c0 trm   \" ><div class=\"lbl c0 trm \" ><span class=\"txtt\">ma </span></div><div class='features'><span class=\"atf xft\" ><span class=\"f\">atf=</span>ma</span></div></div></div></div><div class=\"contnr c2    \" ><div class=\"lbl c2  \" ><span class=\"nd\">word</span> <span class=\"txtt\">8(diš) </span></div><div class='features'><span class=\"atf xft\" ><span class=\"f\">atf=</span>8(disz)</span></div><div class=\"children hor  \"><div class=\"contnr c0 trm   \" ><div class=\"lbl c0 trm \" ><span class=\"txtt\">8(diš) </span></div><div class='features'><span class=\"atf xft\" ><span class=\"f\">atf=</span>8(disz)</span></div></div></div></div><div class=\"contnr c2    \" ><div class=\"lbl c2  \" ><span class=\"nd\">word</span> <span class=\"txtt\">gin₂ </span></div><div class='features'><span class=\"atf xft\" ><span class=\"f\">atf=</span>_gin2</span></div><div class=\"children hor  \"><div class=\"contnr c1   rno \" ><div class=\"lbl c1  \" ><span class=\"nd\">cluster</span></div><div class=\"children hor wrap \"><div class=\"contnr c0 trm   hl\" ><div class=\"lbl c0 trm hl\" ><span class=\"txtt\">gin₂ </span></div><div class='features'><span class=\"atf xft\" ><span class=\"f\">atf=</span>gin2</span></div></div></div></div></div></div><div class=\"contnr c2    \" ><div class=\"lbl c2  \" ><span class=\"nd\">word</span> <span class=\"txtt\">ku₃-babbar</span></div><div class='features'><span class=\"atf xft\" ><span class=\"f\">atf=</span>ku3-babbar_</span></div><div class=\"children hor  \"><div class=\"contnr c1   lno \" ><div class=\"lbl c1  \" ><span class=\"nd\">cluster</span></div><div class=\"children hor wrap \"><div class=\"contnr c0 trm   hl\" ><div class=\"lbl c0 trm hl\" ><span class=\"txtt\">ku₃-</span></div><div class='features'><span class=\"atf xft\" ><span class=\"f\">atf=</span>ku3</span></div></div><div class=\"contnr c0 trm   hl\" ><div class=\"lbl c0 trm hl\" ><span class=\"txtt\">babbar</span></div><div class='features'><span class=\"atf xft\" ><span class=\"f\">atf=</span>babbar</span></div></div></div></div></div></div></div></div></div>"
      ],
      "text/plain": [
       "<IPython.core.display.HTML object>"
      ]
     },
     "metadata": {},
     "output_type": "display_data"
    },
    {
     "data": {
      "text/markdown": [
       "---\n",
       "# cluster: determinative\n",
       "\n",
       "Location: P360975 obverse:1"
      ],
      "text/plain": [
       "<IPython.core.display.Markdown object>"
      ]
     },
     "metadata": {},
     "output_type": "display_data"
    },
    {
     "name": "stdout",
     "output_type": "stream",
     "text": [
      "1. a-na {d}en-lil2-ba-ni\n"
     ]
    },
    {
     "data": {
      "text/html": [
       "<div class=\"\"><span class=\"section \"><a target=\"_blank\" href=\"https://cdli.ucla.edu/search/search_results.php?SearchMode=Text&amp;ObjectID=P360975\" title=\"Show this document on CDLI\" sec=\"P360975 obverse:1\">P360975 obverse:1</a></span>  <span class=\"txtt\"><span class=\"r\">a</span>-</span><span class=\"txtt\"><span class=\"r\">na</span> </span><span class=\"plain   hl\" ><span class=\"txtt\"><span class=\"det\"><span class=\"r\">d</span></span></span></span><span class=\"txtt\"><span class=\"r\">en</span>-</span><span class=\"txtt\"><span class=\"r\">lil₂</span>-</span><span class=\"txtt\"><span class=\"r\">ba</span>-</span><span class=\"txtt\"><span class=\"r\">ni</span></span></div>"
      ],
      "text/plain": [
       "<IPython.core.display.HTML object>"
      ]
     },
     "metadata": {},
     "output_type": "display_data"
    },
    {
     "data": {
      "text/html": [
       "<div class=\"\"><span class=\"section \"><a target=\"_blank\" href=\"https://cdli.ucla.edu/search/search_results.php?SearchMode=Text&amp;ObjectID=P360975\" title=\"Show this document on CDLI\" sec=\"P360975 obverse:1\">P360975 obverse:1</a></span>  <span class=\"txtu akk\"><span class=\"r\">𒀀</span></span><span class=\"txtu akk\"><span class=\"r\">𒈾</span> </span><span class=\"plain   hl\" ><span class=\"txtu akk\"><span class=\"det\"><span class=\"r\">𒀭</span></span></span></span><span class=\"txtu akk\"><span class=\"r\">𒂗</span></span><span class=\"txtu akk\"><span class=\"r\">𒆤</span></span><span class=\"txtu akk\"><span class=\"r\">𒁀</span></span><span class=\"txtu akk\"><span class=\"r\">𒉌</span></span></div>"
      ],
      "text/plain": [
       "<IPython.core.display.HTML object>"
      ]
     },
     "metadata": {},
     "output_type": "display_data"
    },
    {
     "data": {
      "text/html": [
       "<div class=\"section \"><a target=\"_blank\" href=\"https://cdli.ucla.edu/search/search_results.php?SearchMode=Text&amp;ObjectID=P360975\" title=\"Show this document on CDLI\" sec=\"P360975 obverse:1\">P360975 obverse:1</a></div><div class=\" children\"><div class=\"contnr c3    \" ><div class=\"lbl c3  \" ><span class=\"nd\">line</span></div><div class=\"children hor wrap \"><div class=\"contnr c2    \" ><div class=\"lbl c2  \" ><span class=\"nd\">word</span> <span class=\"txtt\">a-na </span></div><div class='features'><span class=\"atf xft\" ><span class=\"f\">atf=</span>a-na</span></div><div class=\"children hor  \"><div class=\"contnr c0 trm   \" ><div class=\"lbl c0 trm \" ><span class=\"txtt\">a-</span></div><div class='features'><span class=\"atf xft\" ><span class=\"f\">atf=</span>a</span></div></div><div class=\"contnr c0 trm   \" ><div class=\"lbl c0 trm \" ><span class=\"txtt\">na </span></div><div class='features'><span class=\"atf xft\" ><span class=\"f\">atf=</span>na</span></div></div></div></div><div class=\"contnr c2    \" ><div class=\"lbl c2  \" ><span class=\"nd\">word</span> <span class=\"txtt\">d⁼en-lil₂-ba-ni</span></div><div class='features'><span class=\"atf xft\" ><span class=\"f\">atf=</span>{d}en-lil2-ba-ni</span></div><div class=\"children hor  \"><div class=\"contnr c1    \" ><div class=\"lbl c1  \" ><span class=\"nd\">cluster</span></div><div class=\"children hor wrap \"><div class=\"contnr c0 trm   hl\" ><div class=\"lbl c0 trm hl\" ><span class=\"txtt\">d⁼</span></div><div class='features'><span class=\"atf xft\" ><span class=\"f\">atf=</span>d</span></div></div></div></div><div class=\"contnr c0 trm   \" ><div class=\"lbl c0 trm \" ><span class=\"txtt\">en-</span></div><div class='features'><span class=\"atf xft\" ><span class=\"f\">atf=</span>en</span></div></div><div class=\"contnr c0 trm   \" ><div class=\"lbl c0 trm \" ><span class=\"txtt\">lil₂-</span></div><div class='features'><span class=\"atf xft\" ><span class=\"f\">atf=</span>lil2</span></div></div><div class=\"contnr c0 trm   \" ><div class=\"lbl c0 trm \" ><span class=\"txtt\">ba-</span></div><div class='features'><span class=\"atf xft\" ><span class=\"f\">atf=</span>ba</span></div></div><div class=\"contnr c0 trm   \" ><div class=\"lbl c0 trm \" ><span class=\"txtt\">ni</span></div><div class='features'><span class=\"atf xft\" ><span class=\"f\">atf=</span>ni</span></div></div></div></div></div></div></div>"
      ],
      "text/plain": [
       "<IPython.core.display.HTML object>"
      ]
     },
     "metadata": {},
     "output_type": "display_data"
    },
    {
     "data": {
      "text/markdown": [
       "---\n",
       "# cluster: missing\n",
       "\n",
       "Location: P360975 reverse:17'"
      ],
      "text/plain": [
       "<IPython.core.display.Markdown object>"
      ]
     },
     "metadata": {},
     "output_type": "display_data"
    },
    {
     "name": "stdout",
     "output_type": "stream",
     "text": [
      "17'. isz-ti2-a wa-[s,a-a-am] la2 ta-mu-wa\n"
     ]
    },
    {
     "data": {
      "text/html": [
       "<div class=\"\"><span class=\"section \"><a target=\"_blank\" href=\"https://cdli.ucla.edu/search/search_results.php?SearchMode=Text&amp;ObjectID=P360975\" title=\"Show this document on CDLI\" sec=\"P360975 reverse:17'\">P360975 reverse:17'</a></span>  <span class=\"txtt\"><span class=\"r\">iš</span>-</span><span class=\"txtt\"><span class=\"r\">ti₂</span>-</span><span class=\"txtt\"><span class=\"r\">a</span> </span><span class=\"txtt\"><span class=\"r\">wa</span>-</span><span class=\"plain   hl\" ><span class=\"txtt\"><span class=\"missing\"><span class=\"r\">ṣa</span></span>-</span></span><span class=\"plain   hl\" ><span class=\"txtt\"><span class=\"missing\"><span class=\"r\">a</span></span>-</span></span><span class=\"plain   hl\" ><span class=\"txtt\"><span class=\"missing\"><span class=\"r\">am</span></span> </span></span><span class=\"txtt\"><span class=\"r\">la₂</span> </span><span class=\"txtt\"><span class=\"r\">ta</span>-</span><span class=\"txtt\"><span class=\"r\">mu</span>-</span><span class=\"txtt\"><span class=\"r\">wa</span></span></div>"
      ],
      "text/plain": [
       "<IPython.core.display.HTML object>"
      ]
     },
     "metadata": {},
     "output_type": "display_data"
    },
    {
     "data": {
      "text/html": [
       "<div class=\"\"><span class=\"section \"><a target=\"_blank\" href=\"https://cdli.ucla.edu/search/search_results.php?SearchMode=Text&amp;ObjectID=P360975\" title=\"Show this document on CDLI\" sec=\"P360975 reverse:17'\">P360975 reverse:17'</a></span>  <span class=\"txtu akk\"><span class=\"r\">𒅖</span></span><span class=\"txtu akk\"><span class=\"r\">𒊹</span></span><span class=\"txtu akk\"><span class=\"r\">𒀀</span> </span><span class=\"txtu akk\"><span class=\"r\">𒁀</span></span><span class=\"plain   hl\" ><span class=\"txtu akk\"><span class=\"missing\"><span class=\"r\">𒍝</span></span></span></span><span class=\"plain   hl\" ><span class=\"txtu akk\"><span class=\"missing\"><span class=\"r\">𒀀</span></span></span></span><span class=\"plain   hl\" ><span class=\"txtu akk\"><span class=\"missing\"><span class=\"r\">𒄠</span></span> </span></span><span class=\"txtu akk\"><span class=\"r\">𒇲</span> </span><span class=\"txtu akk\"><span class=\"r\">𒋫</span></span><span class=\"txtu akk\"><span class=\"r\">𒈬</span></span><span class=\"txtu akk\"><span class=\"r\">𒁀</span></span></div>"
      ],
      "text/plain": [
       "<IPython.core.display.HTML object>"
      ]
     },
     "metadata": {},
     "output_type": "display_data"
    },
    {
     "data": {
      "text/html": [
       "<div class=\"section \"><a target=\"_blank\" href=\"https://cdli.ucla.edu/search/search_results.php?SearchMode=Text&amp;ObjectID=P360975\" title=\"Show this document on CDLI\" sec=\"P360975 reverse:17'\">P360975 reverse:17'</a></div><div class=\" children\"><div class=\"contnr c3    \" ><div class=\"lbl c3  \" ><span class=\"nd\">line</span></div><div class=\"children hor wrap \"><div class=\"contnr c2    \" ><div class=\"lbl c2  \" ><span class=\"nd\">word</span> <span class=\"txtt\">iš-ti₂-a </span></div><div class='features'><span class=\"atf xft\" ><span class=\"f\">atf=</span>isz-ti2-a</span></div><div class=\"children hor  \"><div class=\"contnr c0 trm   \" ><div class=\"lbl c0 trm \" ><span class=\"txtt\">iš-</span></div><div class='features'><span class=\"atf xft\" ><span class=\"f\">atf=</span>isz</span></div></div><div class=\"contnr c0 trm   \" ><div class=\"lbl c0 trm \" ><span class=\"txtt\">ti₂-</span></div><div class='features'><span class=\"atf xft\" ><span class=\"f\">atf=</span>ti2</span></div></div><div class=\"contnr c0 trm   \" ><div class=\"lbl c0 trm \" ><span class=\"txtt\">a </span></div><div class='features'><span class=\"atf xft\" ><span class=\"f\">atf=</span>a</span></div></div></div></div><div class=\"contnr c2    \" ><div class=\"lbl c2  \" ><span class=\"nd\">word</span> <span class=\"txtt\">wa-ṣa-a-am </span></div><div class='features'><span class=\"atf xft\" ><span class=\"f\">atf=</span>wa-[s,a-a-am]</span></div><div class=\"children hor  \"><div class=\"contnr c0 trm   \" ><div class=\"lbl c0 trm \" ><span class=\"txtt\">wa-</span></div><div class='features'><span class=\"atf xft\" ><span class=\"f\">atf=</span>wa</span></div></div><div class=\"contnr c1    \" ><div class=\"lbl c1  \" ><span class=\"nd\">cluster</span></div><div class=\"children hor wrap \"><div class=\"contnr c0 trm   hl\" ><div class=\"lbl c0 trm hl\" ><span class=\"txtt\">ṣa-</span></div><div class='features'><span class=\"atf xft\" ><span class=\"f\">atf=</span>s,a</span></div></div><div class=\"contnr c0 trm   hl\" ><div class=\"lbl c0 trm hl\" ><span class=\"txtt\">a-</span></div><div class='features'><span class=\"atf xft\" ><span class=\"f\">atf=</span>a</span></div></div><div class=\"contnr c0 trm   hl\" ><div class=\"lbl c0 trm hl\" ><span class=\"txtt\">am </span></div><div class='features'><span class=\"atf xft\" ><span class=\"f\">atf=</span>am</span></div></div></div></div></div></div><div class=\"contnr c2    \" ><div class=\"lbl c2  \" ><span class=\"nd\">word</span> <span class=\"txtt\">la₂ </span></div><div class='features'><span class=\"atf xft\" ><span class=\"f\">atf=</span>la2</span></div><div class=\"children hor  \"><div class=\"contnr c0 trm   \" ><div class=\"lbl c0 trm \" ><span class=\"txtt\">la₂ </span></div><div class='features'><span class=\"atf xft\" ><span class=\"f\">atf=</span>la2</span></div></div></div></div><div class=\"contnr c2    \" ><div class=\"lbl c2  \" ><span class=\"nd\">word</span> <span class=\"txtt\">ta-mu-wa</span></div><div class='features'><span class=\"atf xft\" ><span class=\"f\">atf=</span>ta-mu-wa</span></div><div class=\"children hor  \"><div class=\"contnr c0 trm   \" ><div class=\"lbl c0 trm \" ><span class=\"txtt\">ta-</span></div><div class='features'><span class=\"atf xft\" ><span class=\"f\">atf=</span>ta</span></div></div><div class=\"contnr c0 trm   \" ><div class=\"lbl c0 trm \" ><span class=\"txtt\">mu-</span></div><div class='features'><span class=\"atf xft\" ><span class=\"f\">atf=</span>mu</span></div></div><div class=\"contnr c0 trm   \" ><div class=\"lbl c0 trm \" ><span class=\"txtt\">wa</span></div><div class='features'><span class=\"atf xft\" ><span class=\"f\">atf=</span>wa</span></div></div></div></div></div></div></div>"
      ],
      "text/plain": [
       "<IPython.core.display.HTML object>"
      ]
     },
     "metadata": {},
     "output_type": "display_data"
    },
    {
     "data": {
      "text/markdown": [
       "---\n",
       "# cluster: uncertain\n",
       "\n",
       "Location: P390636 obverse:31"
      ],
      "text/plain": [
       "<IPython.core.display.Markdown object>"
      ]
     },
     "metadata": {},
     "output_type": "display_data"
    },
    {
     "name": "stdout",
     "output_type": "stream",
     "text": [
      "31. [a-(na) _ku3]-an_ za-ku-tim a-na\n"
     ]
    },
    {
     "data": {
      "text/html": [
       "<div class=\"\"><span class=\"section \"><a target=\"_blank\" href=\"https://cdli.ucla.edu/search/search_results.php?SearchMode=Text&amp;ObjectID=P390636\" title=\"Show this document on CDLI\" sec=\"P390636 obverse:31\">P390636 obverse:31</a></span>  <span class=\"txtt\"><span class=\"missing\"><span class=\"r\">a</span></span>-</span><span class=\"plain   hl\" ><span class=\"txtt\"><span class=\"uncertain missing\"><span class=\"r\">na</span></span> </span></span><span class=\"txtt\"><span class=\"langalt\"><span class=\"missing\"><span class=\"r\">ku₃</span></span></span>-</span><span class=\"txtt\"><span class=\"langalt\"><span class=\"r\">an</span></span> </span><span class=\"txtt\"><span class=\"r\">za</span>-</span><span class=\"txtt\"><span class=\"r\">ku</span>-</span><span class=\"txtt\"><span class=\"r\">tim</span> </span><span class=\"txtt\"><span class=\"r\">a</span>-</span><span class=\"txtt\"><span class=\"r\">na</span></span></div>"
      ],
      "text/plain": [
       "<IPython.core.display.HTML object>"
      ]
     },
     "metadata": {},
     "output_type": "display_data"
    },
    {
     "data": {
      "text/html": [
       "<div class=\"\"><span class=\"section \"><a target=\"_blank\" href=\"https://cdli.ucla.edu/search/search_results.php?SearchMode=Text&amp;ObjectID=P390636\" title=\"Show this document on CDLI\" sec=\"P390636 obverse:31\">P390636 obverse:31</a></span>  <span class=\"txtu akk\"><span class=\"missing\"><span class=\"r\">𒀀</span></span></span><span class=\"plain   hl\" ><span class=\"txtu akk\"><span class=\"uncertain missing\"><span class=\"r\">𒈾</span></span> </span></span><span class=\"txtu akk\"><span class=\"langalt\"><span class=\"missing\"><span class=\"r\">𒆬</span></span></span></span><span class=\"txtu akk\"><span class=\"langalt\"><span class=\"r\">𒀭</span></span> </span><span class=\"txtu akk\"><span class=\"r\">𒍝</span></span><span class=\"txtu akk\"><span class=\"r\">𒆪</span></span><span class=\"txtu akk\"><span class=\"r\">𒁴</span> </span><span class=\"txtu akk\"><span class=\"r\">𒀀</span></span><span class=\"txtu akk\"><span class=\"r\">𒈾</span></span></div>"
      ],
      "text/plain": [
       "<IPython.core.display.HTML object>"
      ]
     },
     "metadata": {},
     "output_type": "display_data"
    },
    {
     "data": {
      "text/html": [
       "<div class=\"section \"><a target=\"_blank\" href=\"https://cdli.ucla.edu/search/search_results.php?SearchMode=Text&amp;ObjectID=P390636\" title=\"Show this document on CDLI\" sec=\"P390636 obverse:31\">P390636 obverse:31</a></div><div class=\" children\"><div class=\"contnr c3    \" ><div class=\"lbl c3  \" ><span class=\"nd\">line</span></div><div class=\"children hor wrap \"><div class=\"contnr c2    \" ><div class=\"lbl c2  \" ><span class=\"nd\">word</span> <span class=\"txtt\">a-na </span></div><div class='features'><span class=\"atf xft\" ><span class=\"f\">atf=</span>[a-(na)</span></div><div class=\"children hor  \"><div class=\"contnr c1   rno \" ><div class=\"lbl c1  \" ><span class=\"nd\">cluster</span></div><div class=\"children hor wrap \"><div class=\"contnr c0 trm   \" ><div class=\"lbl c0 trm \" ><span class=\"txtt\">a-</span></div><div class='features'><span class=\"atf xft\" ><span class=\"f\">atf=</span>a</span></div></div><div class=\"contnr c1    \" ><div class=\"lbl c1  \" ><span class=\"nd\">cluster</span></div><div class=\"children hor wrap \"><div class=\"contnr c0 trm   hl\" ><div class=\"lbl c0 trm hl\" ><span class=\"txtt\">na </span></div><div class='features'><span class=\"atf xft\" ><span class=\"f\">atf=</span>na</span></div></div></div></div></div></div></div></div><div class=\"contnr c2    \" ><div class=\"lbl c2  \" ><span class=\"nd\">word</span> <span class=\"txtt\">ku₃-an </span></div><div class='features'><span class=\"atf xft\" ><span class=\"f\">atf=</span>_ku3]-an_</span></div><div class=\"children hor  \"><div class=\"contnr c1    \" ><div class=\"lbl c1  \" ><span class=\"nd\">cluster</span></div><div class=\"children hor wrap \"><div class=\"contnr c1   lno \" ><div class=\"lbl c1  \" ><span class=\"nd\">cluster</span></div><div class=\"children hor wrap \"><div class=\"contnr c0 trm   \" ><div class=\"lbl c0 trm \" ><span class=\"txtt\">ku₃-</span></div><div class='features'><span class=\"atf xft\" ><span class=\"f\">atf=</span>ku3</span></div></div></div></div><div class=\"contnr c0 trm   \" ><div class=\"lbl c0 trm \" ><span class=\"txtt\">an </span></div><div class='features'><span class=\"atf xft\" ><span class=\"f\">atf=</span>an</span></div></div></div></div></div></div><div class=\"contnr c2    \" ><div class=\"lbl c2  \" ><span class=\"nd\">word</span> <span class=\"txtt\">za-ku-tim </span></div><div class='features'><span class=\"atf xft\" ><span class=\"f\">atf=</span>za-ku-tim</span></div><div class=\"children hor  \"><div class=\"contnr c0 trm   \" ><div class=\"lbl c0 trm \" ><span class=\"txtt\">za-</span></div><div class='features'><span class=\"atf xft\" ><span class=\"f\">atf=</span>za</span></div></div><div class=\"contnr c0 trm   \" ><div class=\"lbl c0 trm \" ><span class=\"txtt\">ku-</span></div><div class='features'><span class=\"atf xft\" ><span class=\"f\">atf=</span>ku</span></div></div><div class=\"contnr c0 trm   \" ><div class=\"lbl c0 trm \" ><span class=\"txtt\">tim </span></div><div class='features'><span class=\"atf xft\" ><span class=\"f\">atf=</span>tim</span></div></div></div></div><div class=\"contnr c2    \" ><div class=\"lbl c2  \" ><span class=\"nd\">word</span> <span class=\"txtt\">a-na</span></div><div class='features'><span class=\"atf xft\" ><span class=\"f\">atf=</span>a-na</span></div><div class=\"children hor  \"><div class=\"contnr c0 trm   \" ><div class=\"lbl c0 trm \" ><span class=\"txtt\">a-</span></div><div class='features'><span class=\"atf xft\" ><span class=\"f\">atf=</span>a</span></div></div><div class=\"contnr c0 trm   \" ><div class=\"lbl c0 trm \" ><span class=\"txtt\">na</span></div><div class='features'><span class=\"atf xft\" ><span class=\"f\">atf=</span>na</span></div></div></div></div></div></div></div>"
      ],
      "text/plain": [
       "<IPython.core.display.HTML object>"
      ]
     },
     "metadata": {},
     "output_type": "display_data"
    },
    {
     "data": {
      "text/markdown": [
       "---\n",
       "# cluster: supplied\n",
       "\n",
       "Location: P361588 obverse:4"
      ],
      "text/plain": [
       "<IPython.core.display.Markdown object>"
      ]
     },
     "metadata": {},
     "output_type": "display_data"
    },
    {
     "name": "stdout",
     "output_type": "stream",
     "text": [
      "4. sza hu-bu-ul <ma-nu-ki-dingir-a>\n"
     ]
    },
    {
     "data": {
      "text/html": [
       "<div class=\"\"><span class=\"section \"><a target=\"_blank\" href=\"https://cdli.ucla.edu/search/search_results.php?SearchMode=Text&amp;ObjectID=P361588\" title=\"Show this document on CDLI\" sec=\"P361588 obverse:4\">P361588 obverse:4</a></span>  <span class=\"txtt\"><span class=\"r\">ša</span> </span><span class=\"txtt\"><span class=\"r\">hu</span>-</span><span class=\"txtt\"><span class=\"r\">bu</span>-</span><span class=\"txtt\"><span class=\"r\">ul</span> </span><span class=\"plain   hl\" ><span class=\"txtt\"><span class=\"supplied\"><span class=\"r\">ma</span></span>-</span></span><span class=\"plain   hl\" ><span class=\"txtt\"><span class=\"supplied\"><span class=\"r\">nu</span></span>-</span></span><span class=\"plain   hl\" ><span class=\"txtt\"><span class=\"supplied\"><span class=\"r\">ki</span></span>-</span></span><span class=\"plain   hl\" ><span class=\"txtt\"><span class=\"supplied\"><span class=\"r\">dingir</span></span>-</span></span><span class=\"plain   hl\" ><span class=\"txtt\"><span class=\"supplied\"><span class=\"r\">a</span></span></span></span></div>"
      ],
      "text/plain": [
       "<IPython.core.display.HTML object>"
      ]
     },
     "metadata": {},
     "output_type": "display_data"
    },
    {
     "data": {
      "text/html": [
       "<div class=\"\"><span class=\"section \"><a target=\"_blank\" href=\"https://cdli.ucla.edu/search/search_results.php?SearchMode=Text&amp;ObjectID=P361588\" title=\"Show this document on CDLI\" sec=\"P361588 obverse:4\">P361588 obverse:4</a></span>  <span class=\"txtu akk\"><span class=\"r\">𒊭</span> </span><span class=\"txtu akk\"><span class=\"r\">𒄷</span></span><span class=\"txtu akk\"><span class=\"r\">𒁍</span></span><span class=\"txtu akk\"><span class=\"r\">𒌌</span> </span><span class=\"plain   hl\" ><span class=\"txtu akk\"><span class=\"supplied\"><span class=\"r\">𒈠</span></span></span></span><span class=\"plain   hl\" ><span class=\"txtu akk\"><span class=\"supplied\"><span class=\"r\">𒉡</span></span></span></span><span class=\"plain   hl\" ><span class=\"txtu akk\"><span class=\"supplied\"><span class=\"r\">𒆠</span></span></span></span><span class=\"plain   hl\" ><span class=\"txtu akk\"><span class=\"supplied\"><span class=\"r\">𒀭</span></span></span></span><span class=\"plain   hl\" ><span class=\"txtu akk\"><span class=\"supplied\"><span class=\"r\">𒀀</span></span></span></span></div>"
      ],
      "text/plain": [
       "<IPython.core.display.HTML object>"
      ]
     },
     "metadata": {},
     "output_type": "display_data"
    },
    {
     "data": {
      "text/html": [
       "<div class=\"section \"><a target=\"_blank\" href=\"https://cdli.ucla.edu/search/search_results.php?SearchMode=Text&amp;ObjectID=P361588\" title=\"Show this document on CDLI\" sec=\"P361588 obverse:4\">P361588 obverse:4</a></div><div class=\" children\"><div class=\"contnr c3    \" ><div class=\"lbl c3  \" ><span class=\"nd\">line</span></div><div class=\"children hor wrap \"><div class=\"contnr c2    \" ><div class=\"lbl c2  \" ><span class=\"nd\">word</span> <span class=\"txtt\">ša </span></div><div class='features'><span class=\"atf xft\" ><span class=\"f\">atf=</span>sza</span></div><div class=\"children hor  \"><div class=\"contnr c0 trm   \" ><div class=\"lbl c0 trm \" ><span class=\"txtt\">ša </span></div><div class='features'><span class=\"atf xft\" ><span class=\"f\">atf=</span>sza</span></div></div></div></div><div class=\"contnr c2    \" ><div class=\"lbl c2  \" ><span class=\"nd\">word</span> <span class=\"txtt\">hu-bu-ul </span></div><div class='features'><span class=\"atf xft\" ><span class=\"f\">atf=</span>hu-bu-ul</span></div><div class=\"children hor  \"><div class=\"contnr c0 trm   \" ><div class=\"lbl c0 trm \" ><span class=\"txtt\">hu-</span></div><div class='features'><span class=\"atf xft\" ><span class=\"f\">atf=</span>hu</span></div></div><div class=\"contnr c0 trm   \" ><div class=\"lbl c0 trm \" ><span class=\"txtt\">bu-</span></div><div class='features'><span class=\"atf xft\" ><span class=\"f\">atf=</span>bu</span></div></div><div class=\"contnr c0 trm   \" ><div class=\"lbl c0 trm \" ><span class=\"txtt\">ul </span></div><div class='features'><span class=\"atf xft\" ><span class=\"f\">atf=</span>ul</span></div></div></div></div><div class=\"contnr c2    \" ><div class=\"lbl c2  \" ><span class=\"nd\">word</span> <span class=\"txtt\">ma-nu-ki-dingir-a</span></div><div class='features'><span class=\"atf xft\" ><span class=\"f\">atf=</span>&lt;ma-nu-ki-dingir-a></span></div><div class=\"children hor  \"><div class=\"contnr c1    \" ><div class=\"lbl c1  \" ><span class=\"nd\">cluster</span></div><div class=\"children hor wrap \"><div class=\"contnr c0 trm   hl\" ><div class=\"lbl c0 trm hl\" ><span class=\"txtt\">ma-</span></div><div class='features'><span class=\"atf xft\" ><span class=\"f\">atf=</span>ma</span></div></div><div class=\"contnr c0 trm   hl\" ><div class=\"lbl c0 trm hl\" ><span class=\"txtt\">nu-</span></div><div class='features'><span class=\"atf xft\" ><span class=\"f\">atf=</span>nu</span></div></div><div class=\"contnr c0 trm   hl\" ><div class=\"lbl c0 trm hl\" ><span class=\"txtt\">ki-</span></div><div class='features'><span class=\"atf xft\" ><span class=\"f\">atf=</span>ki</span></div></div><div class=\"contnr c0 trm   hl\" ><div class=\"lbl c0 trm hl\" ><span class=\"txtt\">dingir-</span></div><div class='features'><span class=\"atf xft\" ><span class=\"f\">atf=</span>dingir</span></div></div><div class=\"contnr c0 trm   hl\" ><div class=\"lbl c0 trm hl\" ><span class=\"txtt\">a</span></div><div class='features'><span class=\"atf xft\" ><span class=\"f\">atf=</span>a</span></div></div></div></div></div></div></div></div></div>"
      ],
      "text/plain": [
       "<IPython.core.display.HTML object>"
      ]
     },
     "metadata": {},
     "output_type": "display_data"
    },
    {
     "data": {
      "text/markdown": [
       "---\n",
       "# cluster: excised\n",
       "\n",
       "Location: P361599 obverse:3"
      ],
      "text/plain": [
       "<IPython.core.display.Markdown object>"
      ]
     },
     "metadata": {},
     "output_type": "display_data"
    },
    {
     "name": "stdout",
     "output_type": "stream",
     "text": [
      "3. <<ta-di2-in>> ki-ma _an-na_-ka3\n"
     ]
    },
    {
     "data": {
      "text/html": [
       "<div class=\"\"><span class=\"section \"><a target=\"_blank\" href=\"https://cdli.ucla.edu/search/search_results.php?SearchMode=Text&amp;ObjectID=P361599\" title=\"Show this document on CDLI\" sec=\"P361599 obverse:3\">P361599 obverse:3</a></span>  <span class=\"plain   hl\" ><span class=\"txtt\"><span class=\"excised\"><span class=\"r\">ta</span></span>-</span></span><span class=\"plain   hl\" ><span class=\"txtt\"><span class=\"excised\"><span class=\"r\">di₂</span></span>-</span></span><span class=\"plain   hl\" ><span class=\"txtt\"><span class=\"excised\"><span class=\"r\">in</span></span> </span></span><span class=\"txtt\"><span class=\"r\">ki</span>-</span><span class=\"txtt\"><span class=\"r\">ma</span> </span><span class=\"txtt\"><span class=\"langalt\"><span class=\"r\">an</span></span>-</span><span class=\"txtt\"><span class=\"langalt\"><span class=\"r\">na</span></span>-</span><span class=\"txtt\"><span class=\"r\">ka₃</span></span></div>"
      ],
      "text/plain": [
       "<IPython.core.display.HTML object>"
      ]
     },
     "metadata": {},
     "output_type": "display_data"
    },
    {
     "data": {
      "text/html": [
       "<div class=\"\"><span class=\"section \"><a target=\"_blank\" href=\"https://cdli.ucla.edu/search/search_results.php?SearchMode=Text&amp;ObjectID=P361599\" title=\"Show this document on CDLI\" sec=\"P361599 obverse:3\">P361599 obverse:3</a></span>  <span class=\"plain   hl\" ><span class=\"txtu akk\"><span class=\"excised\"><span class=\"r\">𒋫</span></span></span></span><span class=\"plain   hl\" ><span class=\"txtu akk\"><span class=\"excised\"><span class=\"r\">𒊹</span></span></span></span><span class=\"plain   hl\" ><span class=\"txtu akk\"><span class=\"excised\"><span class=\"r\">𒅔</span></span> </span></span><span class=\"txtu akk\"><span class=\"r\">𒆠</span></span><span class=\"txtu akk\"><span class=\"r\">𒈠</span> </span><span class=\"txtu akk\"><span class=\"langalt\"><span class=\"r\">𒀭</span></span></span><span class=\"txtu akk\"><span class=\"langalt\"><span class=\"r\">𒈾</span></span></span><span class=\"txtu akk\"><span class=\"r\">𒂵</span></span></div>"
      ],
      "text/plain": [
       "<IPython.core.display.HTML object>"
      ]
     },
     "metadata": {},
     "output_type": "display_data"
    },
    {
     "data": {
      "text/html": [
       "<div class=\"section \"><a target=\"_blank\" href=\"https://cdli.ucla.edu/search/search_results.php?SearchMode=Text&amp;ObjectID=P361599\" title=\"Show this document on CDLI\" sec=\"P361599 obverse:3\">P361599 obverse:3</a></div><div class=\" children\"><div class=\"contnr c3    \" ><div class=\"lbl c3  \" ><span class=\"nd\">line</span></div><div class=\"children hor wrap \"><div class=\"contnr c2    \" ><div class=\"lbl c2  \" ><span class=\"nd\">word</span> <span class=\"txtt\">ta-di₂-in </span></div><div class='features'><span class=\"atf xft\" ><span class=\"f\">atf=</span>&lt;&lt;ta-di2-in>></span></div><div class=\"children hor  \"><div class=\"contnr c1    \" ><div class=\"lbl c1  \" ><span class=\"nd\">cluster</span></div><div class=\"children hor wrap \"><div class=\"contnr c0 trm   hl\" ><div class=\"lbl c0 trm hl\" ><span class=\"txtt\">ta-</span></div><div class='features'><span class=\"atf xft\" ><span class=\"f\">atf=</span>ta</span></div></div><div class=\"contnr c0 trm   hl\" ><div class=\"lbl c0 trm hl\" ><span class=\"txtt\">di₂-</span></div><div class='features'><span class=\"atf xft\" ><span class=\"f\">atf=</span>di2</span></div></div><div class=\"contnr c0 trm   hl\" ><div class=\"lbl c0 trm hl\" ><span class=\"txtt\">in </span></div><div class='features'><span class=\"atf xft\" ><span class=\"f\">atf=</span>in</span></div></div></div></div></div></div><div class=\"contnr c2    \" ><div class=\"lbl c2  \" ><span class=\"nd\">word</span> <span class=\"txtt\">ki-ma </span></div><div class='features'><span class=\"atf xft\" ><span class=\"f\">atf=</span>ki-ma</span></div><div class=\"children hor  \"><div class=\"contnr c0 trm   \" ><div class=\"lbl c0 trm \" ><span class=\"txtt\">ki-</span></div><div class='features'><span class=\"atf xft\" ><span class=\"f\">atf=</span>ki</span></div></div><div class=\"contnr c0 trm   \" ><div class=\"lbl c0 trm \" ><span class=\"txtt\">ma </span></div><div class='features'><span class=\"atf xft\" ><span class=\"f\">atf=</span>ma</span></div></div></div></div><div class=\"contnr c2    \" ><div class=\"lbl c2  \" ><span class=\"nd\">word</span> <span class=\"txtt\">an-na-ka₃</span></div><div class='features'><span class=\"atf xft\" ><span class=\"f\">atf=</span>_an-na_-ka3</span></div><div class=\"children hor  \"><div class=\"contnr c1    \" ><div class=\"lbl c1  \" ><span class=\"nd\">cluster</span></div><div class=\"children hor wrap \"><div class=\"contnr c0 trm   \" ><div class=\"lbl c0 trm \" ><span class=\"txtt\">an-</span></div><div class='features'><span class=\"atf xft\" ><span class=\"f\">atf=</span>an</span></div></div><div class=\"contnr c0 trm   \" ><div class=\"lbl c0 trm \" ><span class=\"txtt\">na-</span></div><div class='features'><span class=\"atf xft\" ><span class=\"f\">atf=</span>na</span></div></div></div></div><div class=\"contnr c0 trm   \" ><div class=\"lbl c0 trm \" ><span class=\"txtt\">ka₃</span></div><div class='features'><span class=\"atf xft\" ><span class=\"f\">atf=</span>ka3</span></div></div></div></div></div></div></div>"
      ],
      "text/plain": [
       "<IPython.core.display.HTML object>"
      ]
     },
     "metadata": {},
     "output_type": "display_data"
    },
    {
     "data": {
      "text/markdown": [
       "---\n",
       "# flag: damage\n",
       "\n",
       "Location: P361599 obverse:10"
      ],
      "text/plain": [
       "<IPython.core.display.Markdown object>"
      ]
     },
     "metadata": {},
     "output_type": "display_data"
    },
    {
     "name": "stdout",
     "output_type": "stream",
     "text": [
      "10. isz-ti2 a-na#-li2# a-ma-kam\n"
     ]
    },
    {
     "data": {
      "text/html": [
       "<div class=\"\"><span class=\"section \"><a target=\"_blank\" href=\"https://cdli.ucla.edu/search/search_results.php?SearchMode=Text&amp;ObjectID=P361599\" title=\"Show this document on CDLI\" sec=\"P361599 obverse:10\">P361599 obverse:10</a></span>  <span class=\"txtt\"><span class=\"r\">iš</span>-</span><span class=\"txtt\"><span class=\"r\">ti₂</span> </span><span class=\"txtt\"><span class=\"r\">a</span>-</span><span class=\"plain   hl\" ><span class=\"txtt\"><span class=\"damage\"><span class=\"r\">na</span></span>-</span></span><span class=\"plain   hl\" ><span class=\"txtt\"><span class=\"damage\"><span class=\"r\">li₂</span></span> </span></span><span class=\"txtt\"><span class=\"r\">a</span>-</span><span class=\"txtt\"><span class=\"r\">ma</span>-</span><span class=\"txtt\"><span class=\"r\">kam</span></span></div>"
      ],
      "text/plain": [
       "<IPython.core.display.HTML object>"
      ]
     },
     "metadata": {},
     "output_type": "display_data"
    },
    {
     "data": {
      "text/html": [
       "<div class=\"\"><span class=\"section \"><a target=\"_blank\" href=\"https://cdli.ucla.edu/search/search_results.php?SearchMode=Text&amp;ObjectID=P361599\" title=\"Show this document on CDLI\" sec=\"P361599 obverse:10\">P361599 obverse:10</a></span>  <span class=\"txtu akk\"><span class=\"r\">𒅖</span></span><span class=\"txtu akk\"><span class=\"r\">𒊹</span> </span><span class=\"txtu akk\"><span class=\"r\">𒀀</span></span><span class=\"plain   hl\" ><span class=\"txtu akk\"><span class=\"damage\"><span class=\"r\">𒈾</span></span></span></span><span class=\"plain   hl\" ><span class=\"txtu akk\"><span class=\"damage\"><span class=\"r\">𒉌</span></span> </span></span><span class=\"txtu akk\"><span class=\"r\">𒀀</span></span><span class=\"txtu akk\"><span class=\"r\">𒈠</span></span><span class=\"txtu akk\"><span class=\"r\">𒄭𒁁</span></span></div>"
      ],
      "text/plain": [
       "<IPython.core.display.HTML object>"
      ]
     },
     "metadata": {},
     "output_type": "display_data"
    },
    {
     "data": {
      "text/html": [
       "<div class=\"section \"><a target=\"_blank\" href=\"https://cdli.ucla.edu/search/search_results.php?SearchMode=Text&amp;ObjectID=P361599\" title=\"Show this document on CDLI\" sec=\"P361599 obverse:10\">P361599 obverse:10</a></div><div class=\" children\"><div class=\"contnr c3    \" ><div class=\"lbl c3  \" ><span class=\"nd\">line</span></div><div class=\"children hor wrap \"><div class=\"contnr c2    \" ><div class=\"lbl c2  \" ><span class=\"nd\">word</span> <span class=\"txtt\">iš-ti₂ </span></div><div class='features'><span class=\"atf xft\" ><span class=\"f\">atf=</span>isz-ti2</span></div><div class=\"children hor  \"><div class=\"contnr c0 trm   \" ><div class=\"lbl c0 trm \" ><span class=\"txtt\">iš-</span></div><div class='features'><span class=\"atf xft\" ><span class=\"f\">atf=</span>isz</span></div></div><div class=\"contnr c0 trm   \" ><div class=\"lbl c0 trm \" ><span class=\"txtt\">ti₂ </span></div><div class='features'><span class=\"atf xft\" ><span class=\"f\">atf=</span>ti2</span></div></div></div></div><div class=\"contnr c2    \" ><div class=\"lbl c2  \" ><span class=\"nd\">word</span> <span class=\"txtt\">a-na-li₂ </span></div><div class='features'><span class=\"atf xft\" ><span class=\"f\">atf=</span>a-na#-li2#</span></div><div class=\"children hor  \"><div class=\"contnr c0 trm   \" ><div class=\"lbl c0 trm \" ><span class=\"txtt\">a-</span></div><div class='features'><span class=\"atf xft\" ><span class=\"f\">atf=</span>a</span></div></div><div class=\"contnr c0 trm   hl\" ><div class=\"lbl c0 trm hl\" ><span class=\"txtt\">na-</span></div><div class='features'><span class=\"atf xft\" ><span class=\"f\">atf=</span>na#</span></div></div><div class=\"contnr c0 trm   hl\" ><div class=\"lbl c0 trm hl\" ><span class=\"txtt\">li₂ </span></div><div class='features'><span class=\"atf xft\" ><span class=\"f\">atf=</span>li2#</span></div></div></div></div><div class=\"contnr c2    \" ><div class=\"lbl c2  \" ><span class=\"nd\">word</span> <span class=\"txtt\">a-ma-kam</span></div><div class='features'><span class=\"atf xft\" ><span class=\"f\">atf=</span>a-ma-kam</span></div><div class=\"children hor  \"><div class=\"contnr c0 trm   \" ><div class=\"lbl c0 trm \" ><span class=\"txtt\">a-</span></div><div class='features'><span class=\"atf xft\" ><span class=\"f\">atf=</span>a</span></div></div><div class=\"contnr c0 trm   \" ><div class=\"lbl c0 trm \" ><span class=\"txtt\">ma-</span></div><div class='features'><span class=\"atf xft\" ><span class=\"f\">atf=</span>ma</span></div></div><div class=\"contnr c0 trm   \" ><div class=\"lbl c0 trm \" ><span class=\"txtt\">kam</span></div><div class='features'><span class=\"atf xft\" ><span class=\"f\">atf=</span>kam</span></div></div></div></div></div></div></div>"
      ],
      "text/plain": [
       "<IPython.core.display.HTML object>"
      ]
     },
     "metadata": {},
     "output_type": "display_data"
    },
    {
     "data": {
      "text/markdown": [
       "---\n",
       "# flag: question\n",
       "\n",
       "Location: P390624 reverse:7"
      ],
      "text/plain": [
       "<IPython.core.display.Markdown object>"
      ]
     },
     "metadata": {},
     "output_type": "display_data"
    },
    {
     "name": "stdout",
     "output_type": "stream",
     "text": [
      "7. ta-asz2-qu2-ul? szu-ma\n"
     ]
    },
    {
     "data": {
      "text/html": [
       "<div class=\"\"><span class=\"section \"><a target=\"_blank\" href=\"https://cdli.ucla.edu/search/search_results.php?SearchMode=Text&amp;ObjectID=P390624\" title=\"Show this document on CDLI\" sec=\"P390624 reverse:7\">P390624 reverse:7</a></span>  <span class=\"txtt\"><span class=\"r\">ta</span>-</span><span class=\"txtt\"><span class=\"r\">aš₂</span>-</span><span class=\"txtt\"><span class=\"r\">qu₂</span>-</span><span class=\"plain   hl\" ><span class=\"txtt\"><span class=\"question\"><span class=\"r\">ul</span></span> </span></span><span class=\"txtt\"><span class=\"r\">šu</span>-</span><span class=\"txtt\"><span class=\"r\">ma</span></span></div>"
      ],
      "text/plain": [
       "<IPython.core.display.HTML object>"
      ]
     },
     "metadata": {},
     "output_type": "display_data"
    },
    {
     "data": {
      "text/html": [
       "<div class=\"\"><span class=\"section \"><a target=\"_blank\" href=\"https://cdli.ucla.edu/search/search_results.php?SearchMode=Text&amp;ObjectID=P390624\" title=\"Show this document on CDLI\" sec=\"P390624 reverse:7\">P390624 reverse:7</a></span>  <span class=\"txtu akk\"><span class=\"r\">𒋫</span></span><span class=\"txtu akk\"><span class=\"r\">𒀾</span></span><span class=\"txtu akk\"><span class=\"r\">𒆪</span></span><span class=\"plain   hl\" ><span class=\"txtu akk\"><span class=\"question\"><span class=\"r\">𒌌</span></span> </span></span><span class=\"txtu akk\"><span class=\"r\">𒋗</span></span><span class=\"txtu akk\"><span class=\"r\">𒈠</span></span></div>"
      ],
      "text/plain": [
       "<IPython.core.display.HTML object>"
      ]
     },
     "metadata": {},
     "output_type": "display_data"
    },
    {
     "data": {
      "text/html": [
       "<div class=\"section \"><a target=\"_blank\" href=\"https://cdli.ucla.edu/search/search_results.php?SearchMode=Text&amp;ObjectID=P390624\" title=\"Show this document on CDLI\" sec=\"P390624 reverse:7\">P390624 reverse:7</a></div><div class=\" children\"><div class=\"contnr c3    \" ><div class=\"lbl c3  \" ><span class=\"nd\">line</span></div><div class=\"children hor wrap \"><div class=\"contnr c2    \" ><div class=\"lbl c2  \" ><span class=\"nd\">word</span> <span class=\"txtt\">ta-aš₂-qu₂-ul </span></div><div class='features'><span class=\"atf xft\" ><span class=\"f\">atf=</span>ta-asz2-qu2-ul?</span></div><div class=\"children hor  \"><div class=\"contnr c0 trm   \" ><div class=\"lbl c0 trm \" ><span class=\"txtt\">ta-</span></div><div class='features'><span class=\"atf xft\" ><span class=\"f\">atf=</span>ta</span></div></div><div class=\"contnr c0 trm   \" ><div class=\"lbl c0 trm \" ><span class=\"txtt\">aš₂-</span></div><div class='features'><span class=\"atf xft\" ><span class=\"f\">atf=</span>asz2</span></div></div><div class=\"contnr c0 trm   \" ><div class=\"lbl c0 trm \" ><span class=\"txtt\">qu₂-</span></div><div class='features'><span class=\"atf xft\" ><span class=\"f\">atf=</span>qu2</span></div></div><div class=\"contnr c0 trm   hl\" ><div class=\"lbl c0 trm hl\" ><span class=\"txtt\">ul </span></div><div class='features'><span class=\"atf xft\" ><span class=\"f\">atf=</span>ul?</span></div></div></div></div><div class=\"contnr c2    \" ><div class=\"lbl c2  \" ><span class=\"nd\">word</span> <span class=\"txtt\">šu-ma</span></div><div class='features'><span class=\"atf xft\" ><span class=\"f\">atf=</span>szu-ma</span></div><div class=\"children hor  \"><div class=\"contnr c0 trm   \" ><div class=\"lbl c0 trm \" ><span class=\"txtt\">šu-</span></div><div class='features'><span class=\"atf xft\" ><span class=\"f\">atf=</span>szu</span></div></div><div class=\"contnr c0 trm   \" ><div class=\"lbl c0 trm \" ><span class=\"txtt\">ma</span></div><div class='features'><span class=\"atf xft\" ><span class=\"f\">atf=</span>ma</span></div></div></div></div></div></div></div>"
      ],
      "text/plain": [
       "<IPython.core.display.HTML object>"
      ]
     },
     "metadata": {},
     "output_type": "display_data"
    },
    {
     "data": {
      "text/markdown": [
       "---\n",
       "# flag: remarkable\n",
       "\n",
       "Location: P361599 obverse:6"
      ],
      "text/plain": [
       "<IPython.core.display.Markdown object>"
      ]
     },
     "metadata": {},
     "output_type": "display_data"
    },
    {
     "name": "stdout",
     "output_type": "stream",
     "text": [
      "6. la2 ni-iz!-ku! a-ma-kam a-na szi2-im\n"
     ]
    },
    {
     "data": {
      "text/html": [
       "<div class=\"\"><span class=\"section \"><a target=\"_blank\" href=\"https://cdli.ucla.edu/search/search_results.php?SearchMode=Text&amp;ObjectID=P361599\" title=\"Show this document on CDLI\" sec=\"P361599 obverse:6\">P361599 obverse:6</a></span>  <span class=\"txtt\"><span class=\"r\">la₂</span> </span><span class=\"txtt\"><span class=\"r\">ni</span>-</span><span class=\"plain   hl\" ><span class=\"txtt\"><span class=\"remarkable\"><span class=\"r\">iz</span></span>-</span></span><span class=\"plain   hl\" ><span class=\"txtt\"><span class=\"remarkable\"><span class=\"r\">ku</span></span> </span></span><span class=\"txtt\"><span class=\"r\">a</span>-</span><span class=\"txtt\"><span class=\"r\">ma</span>-</span><span class=\"txtt\"><span class=\"r\">kam</span> </span><span class=\"txtt\"><span class=\"r\">a</span>-</span><span class=\"txtt\"><span class=\"r\">na</span> </span><span class=\"txtt\"><span class=\"r\">ši₂</span>-</span><span class=\"txtt\"><span class=\"r\">im</span></span></div>"
      ],
      "text/plain": [
       "<IPython.core.display.HTML object>"
      ]
     },
     "metadata": {},
     "output_type": "display_data"
    },
    {
     "data": {
      "text/html": [
       "<div class=\"\"><span class=\"section \"><a target=\"_blank\" href=\"https://cdli.ucla.edu/search/search_results.php?SearchMode=Text&amp;ObjectID=P361599\" title=\"Show this document on CDLI\" sec=\"P361599 obverse:6\">P361599 obverse:6</a></span>  <span class=\"txtu akk\"><span class=\"r\">𒇲</span> </span><span class=\"txtu akk\"><span class=\"r\">𒉌</span></span><span class=\"plain   hl\" ><span class=\"txtu akk\"><span class=\"remarkable\"><span class=\"r\">𒄑</span></span></span></span><span class=\"plain   hl\" ><span class=\"txtu akk\"><span class=\"remarkable\"><span class=\"r\">𒆪</span></span> </span></span><span class=\"txtu akk\"><span class=\"r\">𒀀</span></span><span class=\"txtu akk\"><span class=\"r\">𒈠</span></span><span class=\"txtu akk\"><span class=\"r\">𒄭𒁁</span> </span><span class=\"txtu akk\"><span class=\"r\">𒀀</span></span><span class=\"txtu akk\"><span class=\"r\">𒈾</span> </span><span class=\"txtu akk\"><span class=\"r\">𒋛</span></span><span class=\"txtu akk\"><span class=\"r\">𒅎</span></span></div>"
      ],
      "text/plain": [
       "<IPython.core.display.HTML object>"
      ]
     },
     "metadata": {},
     "output_type": "display_data"
    },
    {
     "data": {
      "text/html": [
       "<div class=\"section \"><a target=\"_blank\" href=\"https://cdli.ucla.edu/search/search_results.php?SearchMode=Text&amp;ObjectID=P361599\" title=\"Show this document on CDLI\" sec=\"P361599 obverse:6\">P361599 obverse:6</a></div><div class=\" children\"><div class=\"contnr c3    \" ><div class=\"lbl c3  \" ><span class=\"nd\">line</span></div><div class=\"children hor wrap \"><div class=\"contnr c2    \" ><div class=\"lbl c2  \" ><span class=\"nd\">word</span> <span class=\"txtt\">la₂ </span></div><div class='features'><span class=\"atf xft\" ><span class=\"f\">atf=</span>la2</span></div><div class=\"children hor  \"><div class=\"contnr c0 trm   \" ><div class=\"lbl c0 trm \" ><span class=\"txtt\">la₂ </span></div><div class='features'><span class=\"atf xft\" ><span class=\"f\">atf=</span>la2</span></div></div></div></div><div class=\"contnr c2    \" ><div class=\"lbl c2  \" ><span class=\"nd\">word</span> <span class=\"txtt\">ni-iz-ku </span></div><div class='features'><span class=\"atf xft\" ><span class=\"f\">atf=</span>ni-iz!-ku!</span></div><div class=\"children hor  \"><div class=\"contnr c0 trm   \" ><div class=\"lbl c0 trm \" ><span class=\"txtt\">ni-</span></div><div class='features'><span class=\"atf xft\" ><span class=\"f\">atf=</span>ni</span></div></div><div class=\"contnr c0 trm   hl\" ><div class=\"lbl c0 trm hl\" ><span class=\"txtt\">iz-</span></div><div class='features'><span class=\"atf xft\" ><span class=\"f\">atf=</span>iz!</span></div></div><div class=\"contnr c0 trm   hl\" ><div class=\"lbl c0 trm hl\" ><span class=\"txtt\">ku </span></div><div class='features'><span class=\"atf xft\" ><span class=\"f\">atf=</span>ku!</span></div></div></div></div><div class=\"contnr c2    \" ><div class=\"lbl c2  \" ><span class=\"nd\">word</span> <span class=\"txtt\">a-ma-kam </span></div><div class='features'><span class=\"atf xft\" ><span class=\"f\">atf=</span>a-ma-kam</span></div><div class=\"children hor  \"><div class=\"contnr c0 trm   \" ><div class=\"lbl c0 trm \" ><span class=\"txtt\">a-</span></div><div class='features'><span class=\"atf xft\" ><span class=\"f\">atf=</span>a</span></div></div><div class=\"contnr c0 trm   \" ><div class=\"lbl c0 trm \" ><span class=\"txtt\">ma-</span></div><div class='features'><span class=\"atf xft\" ><span class=\"f\">atf=</span>ma</span></div></div><div class=\"contnr c0 trm   \" ><div class=\"lbl c0 trm \" ><span class=\"txtt\">kam </span></div><div class='features'><span class=\"atf xft\" ><span class=\"f\">atf=</span>kam</span></div></div></div></div><div class=\"contnr c2    \" ><div class=\"lbl c2  \" ><span class=\"nd\">word</span> <span class=\"txtt\">a-na </span></div><div class='features'><span class=\"atf xft\" ><span class=\"f\">atf=</span>a-na</span></div><div class=\"children hor  \"><div class=\"contnr c0 trm   \" ><div class=\"lbl c0 trm \" ><span class=\"txtt\">a-</span></div><div class='features'><span class=\"atf xft\" ><span class=\"f\">atf=</span>a</span></div></div><div class=\"contnr c0 trm   \" ><div class=\"lbl c0 trm \" ><span class=\"txtt\">na </span></div><div class='features'><span class=\"atf xft\" ><span class=\"f\">atf=</span>na</span></div></div></div></div><div class=\"contnr c2    \" ><div class=\"lbl c2  \" ><span class=\"nd\">word</span> <span class=\"txtt\">ši₂-im</span></div><div class='features'><span class=\"atf xft\" ><span class=\"f\">atf=</span>szi2-im</span></div><div class=\"children hor  \"><div class=\"contnr c0 trm   \" ><div class=\"lbl c0 trm \" ><span class=\"txtt\">ši₂-</span></div><div class='features'><span class=\"atf xft\" ><span class=\"f\">atf=</span>szi2</span></div></div><div class=\"contnr c0 trm   \" ><div class=\"lbl c0 trm \" ><span class=\"txtt\">im</span></div><div class='features'><span class=\"atf xft\" ><span class=\"f\">atf=</span>im</span></div></div></div></div></div></div></div>"
      ],
      "text/plain": [
       "<IPython.core.display.HTML object>"
      ]
     },
     "metadata": {},
     "output_type": "display_data"
    },
    {
     "data": {
      "text/markdown": [
       "---\n",
       "# flag: damage + question\n",
       "\n",
       "Location: P293386 edge:1"
      ],
      "text/plain": [
       "<IPython.core.display.Markdown object>"
      ]
     },
     "metadata": {},
     "output_type": "display_data"
    },
    {
     "name": "stdout",
     "output_type": "stream",
     "text": [
      "1. sza asz2!-qi2-la2-szu _ku3-babbar_ sza _i3-gesz#?_\n"
     ]
    },
    {
     "data": {
      "text/html": [
       "<div class=\"\"><span class=\"section \"><a target=\"_blank\" href=\"https://cdli.ucla.edu/search/search_results.php?SearchMode=Text&amp;ObjectID=P293386\" title=\"Show this document on CDLI\" sec=\"P293386 edge:1\">P293386 edge:1</a></span>  <span class=\"txtt\"><span class=\"r\">ša</span> </span><span class=\"txtt\"><span class=\"remarkable\"><span class=\"r\">aš₂</span></span>-</span><span class=\"txtt\"><span class=\"r\">qi₂</span>-</span><span class=\"txtt\"><span class=\"r\">la₂</span>-</span><span class=\"txtt\"><span class=\"r\">šu</span> </span><span class=\"txtt\"><span class=\"langalt\"><span class=\"r\">ku₃</span></span>-</span><span class=\"txtt\"><span class=\"langalt\"><span class=\"r\">babbar</span></span> </span><span class=\"txtt\"><span class=\"r\">ša</span> </span><span class=\"txtt\"><span class=\"langalt\"><span class=\"r\">i₃</span></span>-</span><span class=\"plain   hl\" ><span class=\"txtt\"><span class=\"langalt\"><span class=\"question damage\"><span class=\"r\">geš</span></span></span></span></span></div>"
      ],
      "text/plain": [
       "<IPython.core.display.HTML object>"
      ]
     },
     "metadata": {},
     "output_type": "display_data"
    },
    {
     "data": {
      "text/html": [
       "<div class=\"\"><span class=\"section \"><a target=\"_blank\" href=\"https://cdli.ucla.edu/search/search_results.php?SearchMode=Text&amp;ObjectID=P293386\" title=\"Show this document on CDLI\" sec=\"P293386 edge:1\">P293386 edge:1</a></span>  <span class=\"txtu akk\"><span class=\"r\">𒊭</span> </span><span class=\"txtu akk\"><span class=\"remarkable\"><span class=\"r\">𒀾</span></span></span><span class=\"txtu akk\"><span class=\"r\">𒆠</span></span><span class=\"txtu akk\"><span class=\"r\">𒇲</span></span><span class=\"txtu akk\"><span class=\"r\">𒋗</span> </span><span class=\"txtu akk\"><span class=\"langalt\"><span class=\"r\">𒆬</span></span></span><span class=\"txtu akk\"><span class=\"langalt\"><span class=\"r\">𒌓</span></span> </span><span class=\"txtu akk\"><span class=\"r\">𒊭</span> </span><span class=\"txtu akk\"><span class=\"langalt\"><span class=\"r\">𒉌</span></span></span><span class=\"plain   hl\" ><span class=\"txtu akk\"><span class=\"langalt\"><span class=\"question damage\"><span class=\"r\">𒄑</span></span></span></span></span></div>"
      ],
      "text/plain": [
       "<IPython.core.display.HTML object>"
      ]
     },
     "metadata": {},
     "output_type": "display_data"
    },
    {
     "data": {
      "text/html": [
       "<div class=\"section \"><a target=\"_blank\" href=\"https://cdli.ucla.edu/search/search_results.php?SearchMode=Text&amp;ObjectID=P293386\" title=\"Show this document on CDLI\" sec=\"P293386 edge:1\">P293386 edge:1</a></div><div class=\" children\"><div class=\"contnr c3    \" ><div class=\"lbl c3  \" ><span class=\"nd\">line</span></div><div class=\"children hor wrap \"><div class=\"contnr c2    \" ><div class=\"lbl c2  \" ><span class=\"nd\">word</span> <span class=\"txtt\">ša </span></div><div class='features'><span class=\"atf xft\" ><span class=\"f\">atf=</span>sza</span></div><div class=\"children hor  \"><div class=\"contnr c0 trm   \" ><div class=\"lbl c0 trm \" ><span class=\"txtt\">ša </span></div><div class='features'><span class=\"atf xft\" ><span class=\"f\">atf=</span>sza</span></div></div></div></div><div class=\"contnr c2    \" ><div class=\"lbl c2  \" ><span class=\"nd\">word</span> <span class=\"txtt\">aš₂-qi₂-la₂-šu </span></div><div class='features'><span class=\"atf xft\" ><span class=\"f\">atf=</span>asz2!-qi2-la2-szu</span></div><div class=\"children hor  \"><div class=\"contnr c0 trm   \" ><div class=\"lbl c0 trm \" ><span class=\"txtt\">aš₂-</span></div><div class='features'><span class=\"atf xft\" ><span class=\"f\">atf=</span>asz2!</span></div></div><div class=\"contnr c0 trm   \" ><div class=\"lbl c0 trm \" ><span class=\"txtt\">qi₂-</span></div><div class='features'><span class=\"atf xft\" ><span class=\"f\">atf=</span>qi2</span></div></div><div class=\"contnr c0 trm   \" ><div class=\"lbl c0 trm \" ><span class=\"txtt\">la₂-</span></div><div class='features'><span class=\"atf xft\" ><span class=\"f\">atf=</span>la2</span></div></div><div class=\"contnr c0 trm   \" ><div class=\"lbl c0 trm \" ><span class=\"txtt\">šu </span></div><div class='features'><span class=\"atf xft\" ><span class=\"f\">atf=</span>szu</span></div></div></div></div><div class=\"contnr c2    \" ><div class=\"lbl c2  \" ><span class=\"nd\">word</span> <span class=\"txtt\">ku₃-babbar </span></div><div class='features'><span class=\"atf xft\" ><span class=\"f\">atf=</span>_ku3-babbar_</span></div><div class=\"children hor  \"><div class=\"contnr c1    \" ><div class=\"lbl c1  \" ><span class=\"nd\">cluster</span></div><div class=\"children hor wrap \"><div class=\"contnr c0 trm   \" ><div class=\"lbl c0 trm \" ><span class=\"txtt\">ku₃-</span></div><div class='features'><span class=\"atf xft\" ><span class=\"f\">atf=</span>ku3</span></div></div><div class=\"contnr c0 trm   \" ><div class=\"lbl c0 trm \" ><span class=\"txtt\">babbar </span></div><div class='features'><span class=\"atf xft\" ><span class=\"f\">atf=</span>babbar</span></div></div></div></div></div></div><div class=\"contnr c2    \" ><div class=\"lbl c2  \" ><span class=\"nd\">word</span> <span class=\"txtt\">ša </span></div><div class='features'><span class=\"atf xft\" ><span class=\"f\">atf=</span>sza</span></div><div class=\"children hor  \"><div class=\"contnr c0 trm   \" ><div class=\"lbl c0 trm \" ><span class=\"txtt\">ša </span></div><div class='features'><span class=\"atf xft\" ><span class=\"f\">atf=</span>sza</span></div></div></div></div><div class=\"contnr c2    \" ><div class=\"lbl c2  \" ><span class=\"nd\">word</span> <span class=\"txtt\">i₃-geš</span></div><div class='features'><span class=\"atf xft\" ><span class=\"f\">atf=</span>_i3-gesz#?_</span></div><div class=\"children hor  \"><div class=\"contnr c1    \" ><div class=\"lbl c1  \" ><span class=\"nd\">cluster</span></div><div class=\"children hor wrap \"><div class=\"contnr c0 trm   \" ><div class=\"lbl c0 trm \" ><span class=\"txtt\">i₃-</span></div><div class='features'><span class=\"atf xft\" ><span class=\"f\">atf=</span>i3</span></div></div><div class=\"contnr c0 trm   hl\" ><div class=\"lbl c0 trm hl\" ><span class=\"txtt\">geš</span></div><div class='features'><span class=\"atf xft\" ><span class=\"f\">atf=</span>gesz#?</span></div></div></div></div></div></div></div></div></div>"
      ],
      "text/plain": [
       "<IPython.core.display.HTML object>"
      ]
     },
     "metadata": {},
     "output_type": "display_data"
    },
    {
     "data": {
      "text/markdown": [
       "---\n",
       "# flag: damage + remarkable\n",
       "\n",
       "Location: P290549 obverse:12"
      ],
      "text/plain": [
       "<IPython.core.display.Markdown object>"
      ]
     },
     "metadata": {},
     "output_type": "display_data"
    },
    {
     "name": "stdout",
     "output_type": "stream",
     "text": [
      "12. [i]-na-di2 lu#! i-de8-e a-di3 3(disz)-szi2-szu\n"
     ]
    },
    {
     "data": {
      "text/html": [
       "<div class=\"\"><span class=\"section \"><a target=\"_blank\" href=\"https://cdli.ucla.edu/search/search_results.php?SearchMode=Text&amp;ObjectID=P290549\" title=\"Show this document on CDLI\" sec=\"P290549 obverse:12\">P290549 obverse:12</a></span>  <span class=\"txtt\"><span class=\"missing\"><span class=\"r\">i</span></span>-</span><span class=\"txtt\"><span class=\"r\">na</span>-</span><span class=\"txtt\"><span class=\"r\">di₂</span> </span><span class=\"plain   hl\" ><span class=\"txtt\"><span class=\"remarkable damage\"><span class=\"r\">lu</span></span> </span></span><span class=\"txtt\"><span class=\"r\">i</span>-</span><span class=\"txtt\"><span class=\"r\">de₈</span>-</span><span class=\"txtt\"><span class=\"r\">e</span> </span><span class=\"txtt\"><span class=\"r\">a</span>-</span><span class=\"txtt\"><span class=\"r\">di₃</span> </span><span class=\"txtt\"><span class=\"quantity\">3</span>⌈<span class=\"r\">diš</span>⌉-</span><span class=\"txtt\"><span class=\"r\">ši₂</span>-</span><span class=\"txtt\"><span class=\"r\">šu</span></span></div>"
      ],
      "text/plain": [
       "<IPython.core.display.HTML object>"
      ]
     },
     "metadata": {},
     "output_type": "display_data"
    },
    {
     "data": {
      "text/html": [
       "<div class=\"\"><span class=\"section \"><a target=\"_blank\" href=\"https://cdli.ucla.edu/search/search_results.php?SearchMode=Text&amp;ObjectID=P290549\" title=\"Show this document on CDLI\" sec=\"P290549 obverse:12\">P290549 obverse:12</a></span>  <span class=\"txtu akk\"><span class=\"missing\"><span class=\"r\">𒄿</span></span></span><span class=\"txtu akk\"><span class=\"r\">𒈾</span></span><span class=\"txtu akk\"><span class=\"r\">𒊹</span> </span><span class=\"plain   hl\" ><span class=\"txtu akk\"><span class=\"remarkable damage\"><span class=\"r\">𒇻</span></span> </span></span><span class=\"txtu akk\"><span class=\"r\">𒄿</span></span><span class=\"txtu akk\"><span class=\"r\">𒊹</span></span><span class=\"txtu akk\"><span class=\"r\">𒂊</span> </span><span class=\"txtu akk\"><span class=\"r\">𒀀</span></span><span class=\"txtu akk\"><span class=\"r\">𒋾</span> </span><span class=\"txtu akk\">𒐈</span><span class=\"txtu akk\"><span class=\"r\">𒋛</span></span><span class=\"txtu akk\"><span class=\"r\">𒋗</span></span></div>"
      ],
      "text/plain": [
       "<IPython.core.display.HTML object>"
      ]
     },
     "metadata": {},
     "output_type": "display_data"
    },
    {
     "data": {
      "text/html": [
       "<div class=\"section \"><a target=\"_blank\" href=\"https://cdli.ucla.edu/search/search_results.php?SearchMode=Text&amp;ObjectID=P290549\" title=\"Show this document on CDLI\" sec=\"P290549 obverse:12\">P290549 obverse:12</a></div><div class=\" children\"><div class=\"contnr c3    \" ><div class=\"lbl c3  \" ><span class=\"nd\">line</span></div><div class=\"children hor wrap \"><div class=\"contnr c2    \" ><div class=\"lbl c2  \" ><span class=\"nd\">word</span> <span class=\"txtt\">i-na-di₂ </span></div><div class='features'><span class=\"atf xft\" ><span class=\"f\">atf=</span>[i]-na-di2</span></div><div class=\"children hor  \"><div class=\"contnr c1    \" ><div class=\"lbl c1  \" ><span class=\"nd\">cluster</span></div><div class=\"children hor wrap \"><div class=\"contnr c0 trm   \" ><div class=\"lbl c0 trm \" ><span class=\"txtt\">i-</span></div><div class='features'><span class=\"atf xft\" ><span class=\"f\">atf=</span>i</span></div></div></div></div><div class=\"contnr c0 trm   \" ><div class=\"lbl c0 trm \" ><span class=\"txtt\">na-</span></div><div class='features'><span class=\"atf xft\" ><span class=\"f\">atf=</span>na</span></div></div><div class=\"contnr c0 trm   \" ><div class=\"lbl c0 trm \" ><span class=\"txtt\">di₂ </span></div><div class='features'><span class=\"atf xft\" ><span class=\"f\">atf=</span>di2</span></div></div></div></div><div class=\"contnr c2    \" ><div class=\"lbl c2  \" ><span class=\"nd\">word</span> <span class=\"txtt\">lu </span></div><div class='features'><span class=\"atf xft\" ><span class=\"f\">atf=</span>lu#!</span></div><div class=\"children hor  \"><div class=\"contnr c0 trm   hl\" ><div class=\"lbl c0 trm hl\" ><span class=\"txtt\">lu </span></div><div class='features'><span class=\"atf xft\" ><span class=\"f\">atf=</span>lu#!</span></div></div></div></div><div class=\"contnr c2    \" ><div class=\"lbl c2  \" ><span class=\"nd\">word</span> <span class=\"txtt\">i-de₈-e </span></div><div class='features'><span class=\"atf xft\" ><span class=\"f\">atf=</span>i-de8-e</span></div><div class=\"children hor  \"><div class=\"contnr c0 trm   \" ><div class=\"lbl c0 trm \" ><span class=\"txtt\">i-</span></div><div class='features'><span class=\"atf xft\" ><span class=\"f\">atf=</span>i</span></div></div><div class=\"contnr c0 trm   \" ><div class=\"lbl c0 trm \" ><span class=\"txtt\">de₈-</span></div><div class='features'><span class=\"atf xft\" ><span class=\"f\">atf=</span>de8</span></div></div><div class=\"contnr c0 trm   \" ><div class=\"lbl c0 trm \" ><span class=\"txtt\">e </span></div><div class='features'><span class=\"atf xft\" ><span class=\"f\">atf=</span>e</span></div></div></div></div><div class=\"contnr c2    \" ><div class=\"lbl c2  \" ><span class=\"nd\">word</span> <span class=\"txtt\">a-di₃ </span></div><div class='features'><span class=\"atf xft\" ><span class=\"f\">atf=</span>a-di3</span></div><div class=\"children hor  \"><div class=\"contnr c0 trm   \" ><div class=\"lbl c0 trm \" ><span class=\"txtt\">a-</span></div><div class='features'><span class=\"atf xft\" ><span class=\"f\">atf=</span>a</span></div></div><div class=\"contnr c0 trm   \" ><div class=\"lbl c0 trm \" ><span class=\"txtt\">di₃ </span></div><div class='features'><span class=\"atf xft\" ><span class=\"f\">atf=</span>di3</span></div></div></div></div><div class=\"contnr c2    \" ><div class=\"lbl c2  \" ><span class=\"nd\">word</span> <span class=\"txtt\">3(diš)-ši₂-šu</span></div><div class='features'><span class=\"atf xft\" ><span class=\"f\">atf=</span>3(disz)-szi2-szu</span></div><div class=\"children hor  \"><div class=\"contnr c0 trm   \" ><div class=\"lbl c0 trm \" ><span class=\"txtt\">3(diš)-</span></div><div class='features'><span class=\"atf xft\" ><span class=\"f\">atf=</span>3(disz)</span></div></div><div class=\"contnr c0 trm   \" ><div class=\"lbl c0 trm \" ><span class=\"txtt\">ši₂-</span></div><div class='features'><span class=\"atf xft\" ><span class=\"f\">atf=</span>szi2</span></div></div><div class=\"contnr c0 trm   \" ><div class=\"lbl c0 trm \" ><span class=\"txtt\">šu</span></div><div class='features'><span class=\"atf xft\" ><span class=\"f\">atf=</span>szu</span></div></div></div></div></div></div></div>"
      ],
      "text/plain": [
       "<IPython.core.display.HTML object>"
      ]
     },
     "metadata": {},
     "output_type": "display_data"
    },
    {
     "data": {
      "text/markdown": [
       "---\n",
       "# sign: comment\n",
       "\n",
       "Location: P358477 obverse:5"
      ],
      "text/plain": [
       "<IPython.core.display.Markdown object>"
      ]
     },
     "metadata": {},
     "output_type": "display_data"
    },
    {
     "name": "stdout",
     "output_type": "stream",
     "text": [
      "5. ($ blank space $) 7(disz) sza szu-a-szur\n"
     ]
    },
    {
     "data": {
      "text/html": [
       "<div class=\"\"><span class=\"section \"><a target=\"_blank\" href=\"https://cdli.ucla.edu/search/search_results.php?SearchMode=Text&amp;ObjectID=P358477\" title=\"Show this document on CDLI\" sec=\"P358477 obverse:5\">P358477 obverse:5</a></span>  <span class=\"plain   hl\" ><span class=\"txtt\"><span class=\"comment\">blank space</span> </span></span><span class=\"txtt\"><span class=\"quantity\">7</span>⌈<span class=\"r\">diš</span>⌉ </span><span class=\"txtt\"><span class=\"r\">ša</span> </span><span class=\"txtt\"><span class=\"r\">šu</span>-</span><span class=\"txtt\"><span class=\"r\">a</span>-</span><span class=\"txtt\"><span class=\"r\">šur</span></span></div>"
      ],
      "text/plain": [
       "<IPython.core.display.HTML object>"
      ]
     },
     "metadata": {},
     "output_type": "display_data"
    },
    {
     "data": {
      "text/html": [
       "<div class=\"\"><span class=\"section \"><a target=\"_blank\" href=\"https://cdli.ucla.edu/search/search_results.php?SearchMode=Text&amp;ObjectID=P358477\" title=\"Show this document on CDLI\" sec=\"P358477 obverse:5\">P358477 obverse:5</a></span>  <span class=\"plain   hl\" ><span class=\"txtu akk\"><span class=\"comment\">blank space</span> </span></span><span class=\"txtu akk\">𒐌 </span><span class=\"txtu akk\"><span class=\"r\">𒊭</span> </span><span class=\"txtu akk\"><span class=\"r\">𒋗</span></span><span class=\"txtu akk\"><span class=\"r\">𒀀</span></span><span class=\"txtu akk\"><span class=\"r\">𒋩</span></span></div>"
      ],
      "text/plain": [
       "<IPython.core.display.HTML object>"
      ]
     },
     "metadata": {},
     "output_type": "display_data"
    },
    {
     "data": {
      "text/html": [
       "<div class=\"section \"><a target=\"_blank\" href=\"https://cdli.ucla.edu/search/search_results.php?SearchMode=Text&amp;ObjectID=P358477\" title=\"Show this document on CDLI\" sec=\"P358477 obverse:5\">P358477 obverse:5</a></div><div class=\" children\"><div class=\"contnr c3    \" ><div class=\"lbl c3  \" ><span class=\"nd\">line</span></div><div class=\"children hor wrap \"><div class=\"contnr c2    \" ><div class=\"lbl c2  \" ><span class=\"nd\">word</span> <span class=\"txtt\">(<span>$</span> blank space <span>$</span>) </span></div><div class=\"children hor  \"><div class=\"contnr c0 trm   hl\" ><div class=\"lbl c0 trm hl\" ><span class=\"txtt\">(<span>$</span> blank space <span>$</span>) </span></div><div class='features'><span class=\"atf xft\" ><span class=\"f\">atf=</span>(<span>$</span> blank space <span>$</span>)</span></div></div></div></div><div class=\"contnr c2    \" ><div class=\"lbl c2  \" ><span class=\"nd\">word</span> <span class=\"txtt\">7(diš) </span></div><div class='features'><span class=\"atf xft\" ><span class=\"f\">atf=</span>7(disz)</span></div><div class=\"children hor  \"><div class=\"contnr c0 trm   \" ><div class=\"lbl c0 trm \" ><span class=\"txtt\">7(diš) </span></div><div class='features'><span class=\"atf xft\" ><span class=\"f\">atf=</span>7(disz)</span></div></div></div></div><div class=\"contnr c2    \" ><div class=\"lbl c2  \" ><span class=\"nd\">word</span> <span class=\"txtt\">ša </span></div><div class='features'><span class=\"atf xft\" ><span class=\"f\">atf=</span>sza</span></div><div class=\"children hor  \"><div class=\"contnr c0 trm   \" ><div class=\"lbl c0 trm \" ><span class=\"txtt\">ša </span></div><div class='features'><span class=\"atf xft\" ><span class=\"f\">atf=</span>sza</span></div></div></div></div><div class=\"contnr c2    \" ><div class=\"lbl c2  \" ><span class=\"nd\">word</span> <span class=\"txtt\">šu-a-šur</span></div><div class='features'><span class=\"atf xft\" ><span class=\"f\">atf=</span>szu-a-szur</span></div><div class=\"children hor  \"><div class=\"contnr c0 trm   \" ><div class=\"lbl c0 trm \" ><span class=\"txtt\">šu-</span></div><div class='features'><span class=\"atf xft\" ><span class=\"f\">atf=</span>szu</span></div></div><div class=\"contnr c0 trm   \" ><div class=\"lbl c0 trm \" ><span class=\"txtt\">a-</span></div><div class='features'><span class=\"atf xft\" ><span class=\"f\">atf=</span>a</span></div></div><div class=\"contnr c0 trm   \" ><div class=\"lbl c0 trm \" ><span class=\"txtt\">šur</span></div><div class='features'><span class=\"atf xft\" ><span class=\"f\">atf=</span>szur</span></div></div></div></div></div></div></div>"
      ],
      "text/plain": [
       "<IPython.core.display.HTML object>"
      ]
     },
     "metadata": {},
     "output_type": "display_data"
    },
    {
     "data": {
      "text/markdown": [
       "---\n",
       "# sign: grapheme\n",
       "\n",
       "Location: P500569 seal - surface a:2:4"
      ],
      "text/plain": [
       "<IPython.core.display.Markdown object>"
      ]
     },
     "metadata": {},
     "output_type": "display_data"
    },
    {
     "name": "stdout",
     "output_type": "stream",
     "text": [
      "4. ARAD2-zu\n"
     ]
    },
    {
     "data": {
      "text/html": [
       "<div class=\"\"><span class=\"section \"><a target=\"_blank\" href=\"https://cdli.ucla.edu/search/search_results.php?SearchMode=Text&amp;ObjectID=P500569\" title=\"Show this document on CDLI\" sec=\"P500569 seal - surface a:2:4\">P500569 seal - surface a:2:4</a></span>  <span class=\"plain   hl\" ><span class=\"txtt\"><span class=\"g\">ARAD₂</span>-</span></span><span class=\"txtt\"><span class=\"r\">zu</span></span></div>"
      ],
      "text/plain": [
       "<IPython.core.display.HTML object>"
      ]
     },
     "metadata": {},
     "output_type": "display_data"
    },
    {
     "data": {
      "text/html": [
       "<div class=\"\"><span class=\"section \"><a target=\"_blank\" href=\"https://cdli.ucla.edu/search/search_results.php?SearchMode=Text&amp;ObjectID=P500569\" title=\"Show this document on CDLI\" sec=\"P500569 seal - surface a:2:4\">P500569 seal - surface a:2:4</a></span>  <span class=\"plain   hl\" ><span class=\"txtu akk\"><span class=\"g\">𒀵</span></span></span><span class=\"txtu akk\"><span class=\"r\">𒍪</span></span></div>"
      ],
      "text/plain": [
       "<IPython.core.display.HTML object>"
      ]
     },
     "metadata": {},
     "output_type": "display_data"
    },
    {
     "data": {
      "text/html": [
       "<div class=\"section \"><a target=\"_blank\" href=\"https://cdli.ucla.edu/search/search_results.php?SearchMode=Text&amp;ObjectID=P500569\" title=\"Show this document on CDLI\" sec=\"P500569 seal - surface a:2:4\">P500569 seal - surface a:2:4</a></div><div class=\" children\"><div class=\"contnr c3    \" ><div class=\"lbl c3  \" ><span class=\"nd\">line</span></div><div class=\"children hor wrap \"><div class=\"contnr c2    \" ><div class=\"lbl c2  \" ><span class=\"nd\">word</span> <span class=\"txtt\">ARAD₂-zu</span></div><div class='features'><span class=\"atf xft\" ><span class=\"f\">atf=</span>ARAD2-zu</span></div><div class=\"children hor  \"><div class=\"contnr c0 trm   hl\" ><div class=\"lbl c0 trm hl\" ><span class=\"txtt\">ARAD₂-</span></div><div class='features'><span class=\"atf xft\" ><span class=\"f\">atf=</span>ARAD2</span></div></div><div class=\"contnr c0 trm   \" ><div class=\"lbl c0 trm \" ><span class=\"txtt\">zu</span></div><div class='features'><span class=\"atf xft\" ><span class=\"f\">atf=</span>zu</span></div></div></div></div></div></div></div>"
      ],
      "text/plain": [
       "<IPython.core.display.HTML object>"
      ]
     },
     "metadata": {},
     "output_type": "display_data"
    },
    {
     "data": {
      "text/markdown": [
       "---\n",
       "# sign: correction\n",
       "\n",
       "Location: P393106 obverse:6"
      ],
      "text/plain": [
       "<IPython.core.display.Markdown object>"
      ]
     },
     "metadata": {},
     "output_type": "display_data"
    },
    {
     "name": "stdout",
     "output_type": "stream",
     "text": [
      "6. e-ti!(DU)-qu2-ma / a-la2-hu-um\n"
     ]
    },
    {
     "data": {
      "text/html": [
       "<div class=\"\"><span class=\"section \"><a target=\"_blank\" href=\"https://cdli.ucla.edu/search/search_results.php?SearchMode=Text&amp;ObjectID=P393106\" title=\"Show this document on CDLI\" sec=\"P393106 obverse:6\">P393106 obverse:6</a></span>  <span class=\"txtt\"><span class=\"r\">e</span>-</span><span class=\"plain   hl\" ><span class=\"txtt\"><span class=\"r\">ti</span><span class=\"operator\">=</span>⌈<span class=\"g\">DU</span>⌉-</span></span><span class=\"txtt\"><span class=\"r\">qu₂</span>-</span><span class=\"txtt\"><span class=\"r\">ma</span> </span><span class=\"txtt\">/ </span><span class=\"txtt\"><span class=\"r\">a</span>-</span><span class=\"txtt\"><span class=\"r\">la₂</span>-</span><span class=\"txtt\"><span class=\"r\">hu</span>-</span><span class=\"txtt\"><span class=\"r\">um</span></span></div>"
      ],
      "text/plain": [
       "<IPython.core.display.HTML object>"
      ]
     },
     "metadata": {},
     "output_type": "display_data"
    },
    {
     "data": {
      "text/html": [
       "<div class=\"\"><span class=\"section \"><a target=\"_blank\" href=\"https://cdli.ucla.edu/search/search_results.php?SearchMode=Text&amp;ObjectID=P393106\" title=\"Show this document on CDLI\" sec=\"P393106 obverse:6\">P393106 obverse:6</a></span>  <span class=\"txtu akk\"><span class=\"r\">𒂊</span></span><span class=\"plain   hl\" ><span class=\"txtu akk\"><span class=\"r\">𒋾</span><span class=\"operator\">=</span>⌈<span class=\"g\">𒁺</span>⌉</span></span><span class=\"txtu akk\"><span class=\"r\">𒆪</span></span><span class=\"txtu akk\"><span class=\"r\">𒈠</span> </span><span class=\"txtu akk\">𒁹 </span><span class=\"txtu akk\"><span class=\"r\">𒀀</span></span><span class=\"txtu akk\"><span class=\"r\">𒇲</span></span><span class=\"txtu akk\"><span class=\"r\">𒄷</span></span><span class=\"txtu akk\"><span class=\"r\">𒌝</span></span></div>"
      ],
      "text/plain": [
       "<IPython.core.display.HTML object>"
      ]
     },
     "metadata": {},
     "output_type": "display_data"
    },
    {
     "data": {
      "text/html": [
       "<div class=\"section \"><a target=\"_blank\" href=\"https://cdli.ucla.edu/search/search_results.php?SearchMode=Text&amp;ObjectID=P393106\" title=\"Show this document on CDLI\" sec=\"P393106 obverse:6\">P393106 obverse:6</a></div><div class=\" children\"><div class=\"contnr c3    \" ><div class=\"lbl c3  \" ><span class=\"nd\">line</span></div><div class=\"children hor wrap \"><div class=\"contnr c2    \" ><div class=\"lbl c2  \" ><span class=\"nd\">word</span> <span class=\"txtt\">e-ti=DU-qu₂-ma </span></div><div class='features'><span class=\"atf xft\" ><span class=\"f\">atf=</span>e-ti!(DU)-qu2-ma</span></div><div class=\"children hor  \"><div class=\"contnr c0 trm   \" ><div class=\"lbl c0 trm \" ><span class=\"txtt\">e-</span></div><div class='features'><span class=\"atf xft\" ><span class=\"f\">atf=</span>e</span></div></div><div class=\"contnr c0 trm   hl\" ><div class=\"lbl c0 trm hl\" ><span class=\"txtt\">ti=DU-</span></div><div class='features'><span class=\"atf xft\" ><span class=\"f\">atf=</span>ti!(DU)</span></div></div><div class=\"contnr c0 trm   \" ><div class=\"lbl c0 trm \" ><span class=\"txtt\">qu₂-</span></div><div class='features'><span class=\"atf xft\" ><span class=\"f\">atf=</span>qu2</span></div></div><div class=\"contnr c0 trm   \" ><div class=\"lbl c0 trm \" ><span class=\"txtt\">ma </span></div><div class='features'><span class=\"atf xft\" ><span class=\"f\">atf=</span>ma</span></div></div></div></div><div class=\"contnr c0 trm   \" ><div class=\"lbl c0 trm \" ><span class=\"txtt\">/ </span></div><div class='features'><span class=\"atf xft\" ><span class=\"f\">atf=</span>/</span></div></div><div class=\"contnr c2    \" ><div class=\"lbl c2  \" ><span class=\"nd\">word</span> <span class=\"txtt\">a-la₂-hu-um</span></div><div class='features'><span class=\"atf xft\" ><span class=\"f\">atf=</span>a-la2-hu-um</span></div><div class=\"children hor  \"><div class=\"contnr c0 trm   \" ><div class=\"lbl c0 trm \" ><span class=\"txtt\">a-</span></div><div class='features'><span class=\"atf xft\" ><span class=\"f\">atf=</span>a</span></div></div><div class=\"contnr c0 trm   \" ><div class=\"lbl c0 trm \" ><span class=\"txtt\">la₂-</span></div><div class='features'><span class=\"atf xft\" ><span class=\"f\">atf=</span>la2</span></div></div><div class=\"contnr c0 trm   \" ><div class=\"lbl c0 trm \" ><span class=\"txtt\">hu-</span></div><div class='features'><span class=\"atf xft\" ><span class=\"f\">atf=</span>hu</span></div></div><div class=\"contnr c0 trm   \" ><div class=\"lbl c0 trm \" ><span class=\"txtt\">um</span></div><div class='features'><span class=\"atf xft\" ><span class=\"f\">atf=</span>um</span></div></div></div></div></div></div></div>"
      ],
      "text/plain": [
       "<IPython.core.display.HTML object>"
      ]
     },
     "metadata": {},
     "output_type": "display_data"
    },
    {
     "data": {
      "text/markdown": [
       "---\n",
       "# sign: numeral\n",
       "\n",
       "Location: P393106 obverse:1"
      ],
      "text/plain": [
       "<IPython.core.display.Markdown object>"
      ]
     },
     "metadata": {},
     "output_type": "display_data"
    },
    {
     "name": "stdout",
     "output_type": "stream",
     "text": [
      "1. _2(disz) 1/2(disz) ma-na 8(disz) 1/2(disz) gin2 ku3 babbar_ hu-bu-ul\n"
     ]
    },
    {
     "data": {
      "text/html": [
       "<div class=\"\"><span class=\"section \"><a target=\"_blank\" href=\"https://cdli.ucla.edu/search/search_results.php?SearchMode=Text&amp;ObjectID=P393106\" title=\"Show this document on CDLI\" sec=\"P393106 obverse:1\">P393106 obverse:1</a></span>  <span class=\"plain   hl\" ><span class=\"txtt\"><span class=\"langalt\"><span class=\"quantity\">2</span>⌈<span class=\"r\">diš</span>⌉</span> </span></span><span class=\"plain   hl\" ><span class=\"txtt\"><span class=\"langalt\"><span class=\"quantity\">1/2</span>⌈<span class=\"r\">diš</span>⌉</span> </span></span><span class=\"txtt\"><span class=\"langalt\"><span class=\"r\">ma</span></span>-</span><span class=\"txtt\"><span class=\"langalt\"><span class=\"r\">na</span></span> </span><span class=\"plain   hl\" ><span class=\"txtt\"><span class=\"langalt\"><span class=\"quantity\">8</span>⌈<span class=\"r\">diš</span>⌉</span> </span></span><span class=\"plain   hl\" ><span class=\"txtt\"><span class=\"langalt\"><span class=\"quantity\">1/2</span>⌈<span class=\"r\">diš</span>⌉</span> </span></span><span class=\"txtt\"><span class=\"langalt\"><span class=\"r\">gin₂</span></span> </span><span class=\"txtt\"><span class=\"langalt\"><span class=\"r\">ku₃</span></span> </span><span class=\"txtt\"><span class=\"langalt\"><span class=\"r\">babbar</span></span> </span><span class=\"txtt\"><span class=\"r\">hu</span>-</span><span class=\"txtt\"><span class=\"r\">bu</span>-</span><span class=\"txtt\"><span class=\"r\">ul</span></span></div>"
      ],
      "text/plain": [
       "<IPython.core.display.HTML object>"
      ]
     },
     "metadata": {},
     "output_type": "display_data"
    },
    {
     "data": {
      "text/html": [
       "<div class=\"\"><span class=\"section \"><a target=\"_blank\" href=\"https://cdli.ucla.edu/search/search_results.php?SearchMode=Text&amp;ObjectID=P393106\" title=\"Show this document on CDLI\" sec=\"P393106 obverse:1\">P393106 obverse:1</a></span>  <span class=\"plain   hl\" ><span class=\"txtu akk\"><span class=\"langalt\">𒈫</span> </span></span><span class=\"plain   hl\" ><span class=\"txtu akk\"><span class=\"langalt\">𒈦</span> </span></span><span class=\"txtu akk\"><span class=\"langalt\"><span class=\"r\">𒈠</span></span></span><span class=\"txtu akk\"><span class=\"langalt\"><span class=\"r\">𒈾</span></span> </span><span class=\"plain   hl\" ><span class=\"txtu akk\"><span class=\"langalt\">𒐍</span> </span></span><span class=\"plain   hl\" ><span class=\"txtu akk\"><span class=\"langalt\">𒈦</span> </span></span><span class=\"txtu akk\"><span class=\"langalt\"><span class=\"r\">𒂅</span></span> </span><span class=\"txtu akk\"><span class=\"langalt\"><span class=\"r\">𒆬</span></span> </span><span class=\"txtu akk\"><span class=\"langalt\"><span class=\"r\">𒌓</span></span> </span><span class=\"txtu akk\"><span class=\"r\">𒄷</span></span><span class=\"txtu akk\"><span class=\"r\">𒁍</span></span><span class=\"txtu akk\"><span class=\"r\">𒌌</span></span></div>"
      ],
      "text/plain": [
       "<IPython.core.display.HTML object>"
      ]
     },
     "metadata": {},
     "output_type": "display_data"
    },
    {
     "data": {
      "text/html": [
       "<div class=\"section \"><a target=\"_blank\" href=\"https://cdli.ucla.edu/search/search_results.php?SearchMode=Text&amp;ObjectID=P393106\" title=\"Show this document on CDLI\" sec=\"P393106 obverse:1\">P393106 obverse:1</a></div><div class=\" children\"><div class=\"contnr c3    \" ><div class=\"lbl c3  \" ><span class=\"nd\">line</span></div><div class=\"children hor wrap \"><div class=\"contnr c2    \" ><div class=\"lbl c2  \" ><span class=\"nd\">word</span> <span class=\"txtt\">2(diš) </span></div><div class='features'><span class=\"atf xft\" ><span class=\"f\">atf=</span>_2(disz)</span></div><div class=\"children hor  \"><div class=\"contnr c1   rno \" ><div class=\"lbl c1  \" ><span class=\"nd\">cluster</span></div><div class=\"children hor wrap \"><div class=\"contnr c0 trm   hl\" ><div class=\"lbl c0 trm hl\" ><span class=\"txtt\">2(diš) </span></div><div class='features'><span class=\"atf xft\" ><span class=\"f\">atf=</span>2(disz)</span></div></div></div></div></div></div><div class=\"contnr c2    \" ><div class=\"lbl c2  \" ><span class=\"nd\">word</span> <span class=\"txtt\">1/2(diš) </span></div><div class='features'><span class=\"atf xft\" ><span class=\"f\">atf=</span>1/2(disz)</span></div><div class=\"children hor  \"><div class=\"contnr c1   lno rno \" ><div class=\"lbl c1  \" ><span class=\"nd\">cluster</span></div><div class=\"children hor wrap \"><div class=\"contnr c0 trm   hl\" ><div class=\"lbl c0 trm hl\" ><span class=\"txtt\">1/2(diš) </span></div><div class='features'><span class=\"atf xft\" ><span class=\"f\">atf=</span>1/2(disz)</span></div></div></div></div></div></div><div class=\"contnr c2    \" ><div class=\"lbl c2  \" ><span class=\"nd\">word</span> <span class=\"txtt\">ma-na </span></div><div class='features'><span class=\"atf xft\" ><span class=\"f\">atf=</span>ma-na</span></div><div class=\"children hor  \"><div class=\"contnr c1   lno rno \" ><div class=\"lbl c1  \" ><span class=\"nd\">cluster</span></div><div class=\"children hor wrap \"><div class=\"contnr c0 trm   \" ><div class=\"lbl c0 trm \" ><span class=\"txtt\">ma-</span></div><div class='features'><span class=\"atf xft\" ><span class=\"f\">atf=</span>ma</span></div></div><div class=\"contnr c0 trm   \" ><div class=\"lbl c0 trm \" ><span class=\"txtt\">na </span></div><div class='features'><span class=\"atf xft\" ><span class=\"f\">atf=</span>na</span></div></div></div></div></div></div><div class=\"contnr c2    \" ><div class=\"lbl c2  \" ><span class=\"nd\">word</span> <span class=\"txtt\">8(diš) </span></div><div class='features'><span class=\"atf xft\" ><span class=\"f\">atf=</span>8(disz)</span></div><div class=\"children hor  \"><div class=\"contnr c1   lno rno \" ><div class=\"lbl c1  \" ><span class=\"nd\">cluster</span></div><div class=\"children hor wrap \"><div class=\"contnr c0 trm   hl\" ><div class=\"lbl c0 trm hl\" ><span class=\"txtt\">8(diš) </span></div><div class='features'><span class=\"atf xft\" ><span class=\"f\">atf=</span>8(disz)</span></div></div></div></div></div></div><div class=\"contnr c2    \" ><div class=\"lbl c2  \" ><span class=\"nd\">word</span> <span class=\"txtt\">1/2(diš) </span></div><div class='features'><span class=\"atf xft\" ><span class=\"f\">atf=</span>1/2(disz)</span></div><div class=\"children hor  \"><div class=\"contnr c1   lno rno \" ><div class=\"lbl c1  \" ><span class=\"nd\">cluster</span></div><div class=\"children hor wrap \"><div class=\"contnr c0 trm   hl\" ><div class=\"lbl c0 trm hl\" ><span class=\"txtt\">1/2(diš) </span></div><div class='features'><span class=\"atf xft\" ><span class=\"f\">atf=</span>1/2(disz)</span></div></div></div></div></div></div><div class=\"contnr c2    \" ><div class=\"lbl c2  \" ><span class=\"nd\">word</span> <span class=\"txtt\">gin₂ </span></div><div class='features'><span class=\"atf xft\" ><span class=\"f\">atf=</span>gin2</span></div><div class=\"children hor  \"><div class=\"contnr c1   lno rno \" ><div class=\"lbl c1  \" ><span class=\"nd\">cluster</span></div><div class=\"children hor wrap \"><div class=\"contnr c0 trm   \" ><div class=\"lbl c0 trm \" ><span class=\"txtt\">gin₂ </span></div><div class='features'><span class=\"atf xft\" ><span class=\"f\">atf=</span>gin2</span></div></div></div></div></div></div><div class=\"contnr c2    \" ><div class=\"lbl c2  \" ><span class=\"nd\">word</span> <span class=\"txtt\">ku₃ </span></div><div class='features'><span class=\"atf xft\" ><span class=\"f\">atf=</span>ku3</span></div><div class=\"children hor  \"><div class=\"contnr c1   lno rno \" ><div class=\"lbl c1  \" ><span class=\"nd\">cluster</span></div><div class=\"children hor wrap \"><div class=\"contnr c0 trm   \" ><div class=\"lbl c0 trm \" ><span class=\"txtt\">ku₃ </span></div><div class='features'><span class=\"atf xft\" ><span class=\"f\">atf=</span>ku3</span></div></div></div></div></div></div><div class=\"contnr c2    \" ><div class=\"lbl c2  \" ><span class=\"nd\">word</span> <span class=\"txtt\">babbar </span></div><div class='features'><span class=\"atf xft\" ><span class=\"f\">atf=</span>babbar_</span></div><div class=\"children hor  \"><div class=\"contnr c1   lno \" ><div class=\"lbl c1  \" ><span class=\"nd\">cluster</span></div><div class=\"children hor wrap \"><div class=\"contnr c0 trm   \" ><div class=\"lbl c0 trm \" ><span class=\"txtt\">babbar </span></div><div class='features'><span class=\"atf xft\" ><span class=\"f\">atf=</span>babbar</span></div></div></div></div></div></div><div class=\"contnr c2    \" ><div class=\"lbl c2  \" ><span class=\"nd\">word</span> <span class=\"txtt\">hu-bu-ul</span></div><div class='features'><span class=\"atf xft\" ><span class=\"f\">atf=</span>hu-bu-ul</span></div><div class=\"children hor  \"><div class=\"contnr c0 trm   \" ><div class=\"lbl c0 trm \" ><span class=\"txtt\">hu-</span></div><div class='features'><span class=\"atf xft\" ><span class=\"f\">atf=</span>hu</span></div></div><div class=\"contnr c0 trm   \" ><div class=\"lbl c0 trm \" ><span class=\"txtt\">bu-</span></div><div class='features'><span class=\"atf xft\" ><span class=\"f\">atf=</span>bu</span></div></div><div class=\"contnr c0 trm   \" ><div class=\"lbl c0 trm \" ><span class=\"txtt\">ul</span></div><div class='features'><span class=\"atf xft\" ><span class=\"f\">atf=</span>ul</span></div></div></div></div></div></div></div>"
      ],
      "text/plain": [
       "<IPython.core.display.HTML object>"
      ]
     },
     "metadata": {},
     "output_type": "display_data"
    },
    {
     "data": {
      "text/markdown": [
       "---\n",
       "# sign: ligature\n",
       "\n",
       "Location: P360690 reverse:10"
      ],
      "text/plain": [
       "<IPython.core.display.Markdown object>"
      ]
     },
     "metadata": {},
     "output_type": "display_data"
    },
    {
     "name": "stdout",
     "output_type": "stream",
     "text": [
      "10. a-na nu-i-e / a-na ma-s,arx(NI)?-tim\n"
     ]
    },
    {
     "data": {
      "text/html": [
       "<div class=\"\"><span class=\"section \"><a target=\"_blank\" href=\"https://cdli.ucla.edu/search/search_results.php?SearchMode=Text&amp;ObjectID=P360690\" title=\"Show this document on CDLI\" sec=\"P360690 reverse:10\">P360690 reverse:10</a></span>  <span class=\"txtt\"><span class=\"r\">a</span>-</span><span class=\"txtt\"><span class=\"r\">na</span> </span><span class=\"txtt\"><span class=\"r\">nu</span>-</span><span class=\"txtt\"><span class=\"r\">i</span>-</span><span class=\"txtt\"><span class=\"r\">e</span> </span><span class=\"txtt\">/ </span><span class=\"txtt\"><span class=\"r\">a</span>-</span><span class=\"txtt\"><span class=\"r\">na</span> </span><span class=\"txtt\"><span class=\"r\">ma</span>-</span><span class=\"plain   hl\" ><span class=\"txtt\"><span class=\"question\"><span class=\"r\">ṣar</span><span class=\"operator\">␣</span>⌈<span class=\"g\">NI</span>⌉</span>-</span></span><span class=\"txtt\"><span class=\"r\">tim</span></span></div>"
      ],
      "text/plain": [
       "<IPython.core.display.HTML object>"
      ]
     },
     "metadata": {},
     "output_type": "display_data"
    },
    {
     "data": {
      "text/html": [
       "<div class=\"\"><span class=\"section \"><a target=\"_blank\" href=\"https://cdli.ucla.edu/search/search_results.php?SearchMode=Text&amp;ObjectID=P360690\" title=\"Show this document on CDLI\" sec=\"P360690 reverse:10\">P360690 reverse:10</a></span>  <span class=\"txtu akk\"><span class=\"r\">𒀀</span></span><span class=\"txtu akk\"><span class=\"r\">𒈾</span> </span><span class=\"txtu akk\"><span class=\"r\">𒉡</span></span><span class=\"txtu akk\"><span class=\"r\">𒄿</span></span><span class=\"txtu akk\"><span class=\"r\">𒂊</span> </span><span class=\"txtu akk\">𒁹 </span><span class=\"txtu akk\"><span class=\"r\">𒀀</span></span><span class=\"txtu akk\"><span class=\"r\">𒈾</span> </span><span class=\"txtu akk\"><span class=\"r\">𒈠</span></span><span class=\"plain   hl\" ><span class=\"txtu akk\"><span class=\"question\"><span class=\"r\">𒇡</span><span class=\"operator\">␣</span>⌈<span class=\"g\">𒉌</span>⌉</span></span></span><span class=\"txtu akk\"><span class=\"r\">𒁴</span></span></div>"
      ],
      "text/plain": [
       "<IPython.core.display.HTML object>"
      ]
     },
     "metadata": {},
     "output_type": "display_data"
    },
    {
     "data": {
      "text/html": [
       "<div class=\"section \"><a target=\"_blank\" href=\"https://cdli.ucla.edu/search/search_results.php?SearchMode=Text&amp;ObjectID=P360690\" title=\"Show this document on CDLI\" sec=\"P360690 reverse:10\">P360690 reverse:10</a></div><div class=\" children\"><div class=\"contnr c3    \" ><div class=\"lbl c3  \" ><span class=\"nd\">line</span></div><div class=\"children hor wrap \"><div class=\"contnr c2    \" ><div class=\"lbl c2  \" ><span class=\"nd\">word</span> <span class=\"txtt\">a-na </span></div><div class='features'><span class=\"atf xft\" ><span class=\"f\">atf=</span>a-na</span></div><div class=\"children hor  \"><div class=\"contnr c0 trm   \" ><div class=\"lbl c0 trm \" ><span class=\"txtt\">a-</span></div><div class='features'><span class=\"atf xft\" ><span class=\"f\">atf=</span>a</span></div></div><div class=\"contnr c0 trm   \" ><div class=\"lbl c0 trm \" ><span class=\"txtt\">na </span></div><div class='features'><span class=\"atf xft\" ><span class=\"f\">atf=</span>na</span></div></div></div></div><div class=\"contnr c2    \" ><div class=\"lbl c2  \" ><span class=\"nd\">word</span> <span class=\"txtt\">nu-i-e </span></div><div class='features'><span class=\"atf xft\" ><span class=\"f\">atf=</span>nu-i-e</span></div><div class=\"children hor  \"><div class=\"contnr c0 trm   \" ><div class=\"lbl c0 trm \" ><span class=\"txtt\">nu-</span></div><div class='features'><span class=\"atf xft\" ><span class=\"f\">atf=</span>nu</span></div></div><div class=\"contnr c0 trm   \" ><div class=\"lbl c0 trm \" ><span class=\"txtt\">i-</span></div><div class='features'><span class=\"atf xft\" ><span class=\"f\">atf=</span>i</span></div></div><div class=\"contnr c0 trm   \" ><div class=\"lbl c0 trm \" ><span class=\"txtt\">e </span></div><div class='features'><span class=\"atf xft\" ><span class=\"f\">atf=</span>e</span></div></div></div></div><div class=\"contnr c0 trm   \" ><div class=\"lbl c0 trm \" ><span class=\"txtt\">/ </span></div><div class='features'><span class=\"atf xft\" ><span class=\"f\">atf=</span>/</span></div></div><div class=\"contnr c2    \" ><div class=\"lbl c2  \" ><span class=\"nd\">word</span> <span class=\"txtt\">a-na </span></div><div class='features'><span class=\"atf xft\" ><span class=\"f\">atf=</span>a-na</span></div><div class=\"children hor  \"><div class=\"contnr c0 trm   \" ><div class=\"lbl c0 trm \" ><span class=\"txtt\">a-</span></div><div class='features'><span class=\"atf xft\" ><span class=\"f\">atf=</span>a</span></div></div><div class=\"contnr c0 trm   \" ><div class=\"lbl c0 trm \" ><span class=\"txtt\">na </span></div><div class='features'><span class=\"atf xft\" ><span class=\"f\">atf=</span>na</span></div></div></div></div><div class=\"contnr c2    \" ><div class=\"lbl c2  \" ><span class=\"nd\">word</span> <span class=\"txtt\">ma-ṣar␣NI-tim</span></div><div class='features'><span class=\"atf xft\" ><span class=\"f\">atf=</span>ma-s,arx(NI)?-tim</span></div><div class=\"children hor  \"><div class=\"contnr c0 trm   \" ><div class=\"lbl c0 trm \" ><span class=\"txtt\">ma-</span></div><div class='features'><span class=\"atf xft\" ><span class=\"f\">atf=</span>ma</span></div></div><div class=\"contnr c0 trm   hl\" ><div class=\"lbl c0 trm hl\" ><span class=\"txtt\">ṣar␣NI-</span></div><div class='features'><span class=\"atf xft\" ><span class=\"f\">atf=</span>s,arx(NI)?</span></div></div><div class=\"contnr c0 trm   \" ><div class=\"lbl c0 trm \" ><span class=\"txtt\">tim</span></div><div class='features'><span class=\"atf xft\" ><span class=\"f\">atf=</span>tim</span></div></div></div></div></div></div></div>"
      ],
      "text/plain": [
       "<IPython.core.display.HTML object>"
      ]
     },
     "metadata": {},
     "output_type": "display_data"
    },
    {
     "data": {
      "text/markdown": [
       "---\n",
       "# sign: word divider\n",
       "\n",
       "Location: P360690 reverse:10"
      ],
      "text/plain": [
       "<IPython.core.display.Markdown object>"
      ]
     },
     "metadata": {},
     "output_type": "display_data"
    },
    {
     "name": "stdout",
     "output_type": "stream",
     "text": [
      "10. a-na nu-i-e / a-na ma-s,arx(NI)?-tim\n"
     ]
    },
    {
     "data": {
      "text/html": [
       "<div class=\"\"><span class=\"section \"><a target=\"_blank\" href=\"https://cdli.ucla.edu/search/search_results.php?SearchMode=Text&amp;ObjectID=P360690\" title=\"Show this document on CDLI\" sec=\"P360690 reverse:10\">P360690 reverse:10</a></span>  <span class=\"txtt\"><span class=\"r\">a</span>-</span><span class=\"txtt\"><span class=\"r\">na</span> </span><span class=\"txtt\"><span class=\"r\">nu</span>-</span><span class=\"txtt\"><span class=\"r\">i</span>-</span><span class=\"txtt\"><span class=\"r\">e</span> </span><span class=\"plain   hl\" ><span class=\"txtt\">/ </span></span><span class=\"txtt\"><span class=\"r\">a</span>-</span><span class=\"txtt\"><span class=\"r\">na</span> </span><span class=\"txtt\"><span class=\"r\">ma</span>-</span><span class=\"txtt\"><span class=\"question\"><span class=\"r\">ṣar</span><span class=\"operator\">␣</span>⌈<span class=\"g\">NI</span>⌉</span>-</span><span class=\"txtt\"><span class=\"r\">tim</span></span></div>"
      ],
      "text/plain": [
       "<IPython.core.display.HTML object>"
      ]
     },
     "metadata": {},
     "output_type": "display_data"
    },
    {
     "data": {
      "text/html": [
       "<div class=\"\"><span class=\"section \"><a target=\"_blank\" href=\"https://cdli.ucla.edu/search/search_results.php?SearchMode=Text&amp;ObjectID=P360690\" title=\"Show this document on CDLI\" sec=\"P360690 reverse:10\">P360690 reverse:10</a></span>  <span class=\"txtu akk\"><span class=\"r\">𒀀</span></span><span class=\"txtu akk\"><span class=\"r\">𒈾</span> </span><span class=\"txtu akk\"><span class=\"r\">𒉡</span></span><span class=\"txtu akk\"><span class=\"r\">𒄿</span></span><span class=\"txtu akk\"><span class=\"r\">𒂊</span> </span><span class=\"plain   hl\" ><span class=\"txtu akk\">𒁹 </span></span><span class=\"txtu akk\"><span class=\"r\">𒀀</span></span><span class=\"txtu akk\"><span class=\"r\">𒈾</span> </span><span class=\"txtu akk\"><span class=\"r\">𒈠</span></span><span class=\"txtu akk\"><span class=\"question\"><span class=\"r\">𒇡</span><span class=\"operator\">␣</span>⌈<span class=\"g\">𒉌</span>⌉</span></span><span class=\"txtu akk\"><span class=\"r\">𒁴</span></span></div>"
      ],
      "text/plain": [
       "<IPython.core.display.HTML object>"
      ]
     },
     "metadata": {},
     "output_type": "display_data"
    },
    {
     "data": {
      "text/html": [
       "<div class=\"section \"><a target=\"_blank\" href=\"https://cdli.ucla.edu/search/search_results.php?SearchMode=Text&amp;ObjectID=P360690\" title=\"Show this document on CDLI\" sec=\"P360690 reverse:10\">P360690 reverse:10</a></div><div class=\" children\"><div class=\"contnr c3    \" ><div class=\"lbl c3  \" ><span class=\"nd\">line</span></div><div class=\"children hor wrap \"><div class=\"contnr c2    \" ><div class=\"lbl c2  \" ><span class=\"nd\">word</span> <span class=\"txtt\">a-na </span></div><div class='features'><span class=\"atf xft\" ><span class=\"f\">atf=</span>a-na</span></div><div class=\"children hor  \"><div class=\"contnr c0 trm   \" ><div class=\"lbl c0 trm \" ><span class=\"txtt\">a-</span></div><div class='features'><span class=\"atf xft\" ><span class=\"f\">atf=</span>a</span></div></div><div class=\"contnr c0 trm   \" ><div class=\"lbl c0 trm \" ><span class=\"txtt\">na </span></div><div class='features'><span class=\"atf xft\" ><span class=\"f\">atf=</span>na</span></div></div></div></div><div class=\"contnr c2    \" ><div class=\"lbl c2  \" ><span class=\"nd\">word</span> <span class=\"txtt\">nu-i-e </span></div><div class='features'><span class=\"atf xft\" ><span class=\"f\">atf=</span>nu-i-e</span></div><div class=\"children hor  \"><div class=\"contnr c0 trm   \" ><div class=\"lbl c0 trm \" ><span class=\"txtt\">nu-</span></div><div class='features'><span class=\"atf xft\" ><span class=\"f\">atf=</span>nu</span></div></div><div class=\"contnr c0 trm   \" ><div class=\"lbl c0 trm \" ><span class=\"txtt\">i-</span></div><div class='features'><span class=\"atf xft\" ><span class=\"f\">atf=</span>i</span></div></div><div class=\"contnr c0 trm   \" ><div class=\"lbl c0 trm \" ><span class=\"txtt\">e </span></div><div class='features'><span class=\"atf xft\" ><span class=\"f\">atf=</span>e</span></div></div></div></div><div class=\"contnr c0 trm   hl\" ><div class=\"lbl c0 trm hl\" ><span class=\"txtt\">/ </span></div><div class='features'><span class=\"atf xft\" ><span class=\"f\">atf=</span>/</span></div></div><div class=\"contnr c2    \" ><div class=\"lbl c2  \" ><span class=\"nd\">word</span> <span class=\"txtt\">a-na </span></div><div class='features'><span class=\"atf xft\" ><span class=\"f\">atf=</span>a-na</span></div><div class=\"children hor  \"><div class=\"contnr c0 trm   \" ><div class=\"lbl c0 trm \" ><span class=\"txtt\">a-</span></div><div class='features'><span class=\"atf xft\" ><span class=\"f\">atf=</span>a</span></div></div><div class=\"contnr c0 trm   \" ><div class=\"lbl c0 trm \" ><span class=\"txtt\">na </span></div><div class='features'><span class=\"atf xft\" ><span class=\"f\">atf=</span>na</span></div></div></div></div><div class=\"contnr c2    \" ><div class=\"lbl c2  \" ><span class=\"nd\">word</span> <span class=\"txtt\">ma-ṣar␣NI-tim</span></div><div class='features'><span class=\"atf xft\" ><span class=\"f\">atf=</span>ma-s,arx(NI)?-tim</span></div><div class=\"children hor  \"><div class=\"contnr c0 trm   \" ><div class=\"lbl c0 trm \" ><span class=\"txtt\">ma-</span></div><div class='features'><span class=\"atf xft\" ><span class=\"f\">atf=</span>ma</span></div></div><div class=\"contnr c0 trm   \" ><div class=\"lbl c0 trm \" ><span class=\"txtt\">ṣar␣NI-</span></div><div class='features'><span class=\"atf xft\" ><span class=\"f\">atf=</span>s,arx(NI)?</span></div></div><div class=\"contnr c0 trm   \" ><div class=\"lbl c0 trm \" ><span class=\"txtt\">tim</span></div><div class='features'><span class=\"atf xft\" ><span class=\"f\">atf=</span>tim</span></div></div></div></div></div></div></div>"
      ],
      "text/plain": [
       "<IPython.core.display.HTML object>"
      ]
     },
     "metadata": {},
     "output_type": "display_data"
    },
    {
     "data": {
      "text/markdown": [
       "---\n",
       "# sign: unknown and ellipsis\n",
       "\n",
       "Location: P393106 reverse:8"
      ],
      "text/plain": [
       "<IPython.core.display.Markdown object>"
      ]
     },
     "metadata": {},
     "output_type": "display_data"
    },
    {
     "name": "stdout",
     "output_type": "stream",
     "text": [
      "8. x x [...] x x\n"
     ]
    },
    {
     "data": {
      "text/html": [
       "<div class=\"\"><span class=\"section \"><a target=\"_blank\" href=\"https://cdli.ucla.edu/search/search_results.php?SearchMode=Text&amp;ObjectID=P393106\" title=\"Show this document on CDLI\" sec=\"P393106 reverse:8\">P393106 reverse:8</a></span>  <span class=\"plain   hl\" ><span class=\"txtt\"><span class=\"uncertain\"><span class=\"r\">x</span></span> </span></span><span class=\"plain   hl\" ><span class=\"txtt\"><span class=\"uncertain\"><span class=\"r\">x</span></span> </span></span><span class=\"plain   hl\" ><span class=\"txtt\"><span class=\"missing\"><span class=\"missing\">...</span></span> </span></span><span class=\"plain   hl\" ><span class=\"txtt\"><span class=\"uncertain\"><span class=\"r\">x</span></span> </span></span><span class=\"plain   hl\" ><span class=\"txtt\"><span class=\"uncertain\"><span class=\"r\">x</span></span></span></span></div>"
      ],
      "text/plain": [
       "<IPython.core.display.HTML object>"
      ]
     },
     "metadata": {},
     "output_type": "display_data"
    },
    {
     "data": {
      "text/html": [
       "<div class=\"\"><span class=\"section \"><a target=\"_blank\" href=\"https://cdli.ucla.edu/search/search_results.php?SearchMode=Text&amp;ObjectID=P393106\" title=\"Show this document on CDLI\" sec=\"P393106 reverse:8\">P393106 reverse:8</a></span>  <span class=\"plain   hl\" ><span class=\"txtu akk\"><span class=\"uncertain\"><span class=\"r\">x</span></span> </span></span><span class=\"plain   hl\" ><span class=\"txtu akk\"><span class=\"uncertain\"><span class=\"r\">x</span></span> </span></span><span class=\"plain   hl\" ><span class=\"txtu akk\"><span class=\"missing\"><span class=\"missing\">...</span></span> </span></span><span class=\"plain   hl\" ><span class=\"txtu akk\"><span class=\"uncertain\"><span class=\"r\">x</span></span> </span></span><span class=\"plain   hl\" ><span class=\"txtu akk\"><span class=\"uncertain\"><span class=\"r\">x</span></span></span></span></div>"
      ],
      "text/plain": [
       "<IPython.core.display.HTML object>"
      ]
     },
     "metadata": {},
     "output_type": "display_data"
    },
    {
     "data": {
      "text/html": [
       "<div class=\"section \"><a target=\"_blank\" href=\"https://cdli.ucla.edu/search/search_results.php?SearchMode=Text&amp;ObjectID=P393106\" title=\"Show this document on CDLI\" sec=\"P393106 reverse:8\">P393106 reverse:8</a></div><div class=\" children\"><div class=\"contnr c3    \" ><div class=\"lbl c3  \" ><span class=\"nd\">line</span></div><div class=\"children hor wrap \"><div class=\"contnr c2    \" ><div class=\"lbl c2  \" ><span class=\"nd\">word</span> <span class=\"txtt\">x </span></div><div class='features'><span class=\"atf xft\" ><span class=\"f\">atf=</span>x</span></div><div class=\"children hor  \"><div class=\"contnr c0 trm   hl\" ><div class=\"lbl c0 trm hl\" ><span class=\"txtt\">x </span></div><div class='features'><span class=\"atf xft\" ><span class=\"f\">atf=</span>x</span></div></div></div></div><div class=\"contnr c2    \" ><div class=\"lbl c2  \" ><span class=\"nd\">word</span> <span class=\"txtt\">x </span></div><div class='features'><span class=\"atf xft\" ><span class=\"f\">atf=</span>x</span></div><div class=\"children hor  \"><div class=\"contnr c0 trm   hl\" ><div class=\"lbl c0 trm hl\" ><span class=\"txtt\">x </span></div><div class='features'><span class=\"atf xft\" ><span class=\"f\">atf=</span>x</span></div></div></div></div><div class=\"contnr c2    \" ><div class=\"lbl c2  \" ><span class=\"nd\">word</span> <span class=\"txtt\">… </span></div><div class='features'><span class=\"atf xft\" ><span class=\"f\">atf=</span>[...]</span></div><div class=\"children hor  \"><div class=\"contnr c1    \" ><div class=\"lbl c1  \" ><span class=\"nd\">cluster</span></div><div class=\"children hor wrap \"><div class=\"contnr c0 trm   hl\" ><div class=\"lbl c0 trm hl\" ><span class=\"txtt\">… </span></div><div class='features'><span class=\"atf xft\" ><span class=\"f\">atf=</span>...</span></div></div></div></div></div></div><div class=\"contnr c2    \" ><div class=\"lbl c2  \" ><span class=\"nd\">word</span> <span class=\"txtt\">x </span></div><div class='features'><span class=\"atf xft\" ><span class=\"f\">atf=</span>x</span></div><div class=\"children hor  \"><div class=\"contnr c0 trm   hl\" ><div class=\"lbl c0 trm hl\" ><span class=\"txtt\">x </span></div><div class='features'><span class=\"atf xft\" ><span class=\"f\">atf=</span>x</span></div></div></div></div><div class=\"contnr c2    \" ><div class=\"lbl c2  \" ><span class=\"nd\">word</span> <span class=\"txtt\">x</span></div><div class='features'><span class=\"atf xft\" ><span class=\"f\">atf=</span>x</span></div><div class=\"children hor  \"><div class=\"contnr c0 trm   hl\" ><div class=\"lbl c0 trm hl\" ><span class=\"txtt\">x</span></div><div class='features'><span class=\"atf xft\" ><span class=\"f\">atf=</span>x</span></div></div></div></div></div></div></div>"
      ],
      "text/plain": [
       "<IPython.core.display.HTML object>"
      ]
     },
     "metadata": {},
     "output_type": "display_data"
    }
   ],
   "source": [
    "for (line, (desc, positions)) in lines:\n",
    "    ln = T.nodeFromSection(line)\n",
    "    A.dm(\"---\\n# {}\\n\\nLocation: {} {}:{}\".format(desc, *line))\n",
    "    s = L.d(ln, otype=\"sign\")[0]\n",
    "    highlights = {s + p - 1 for p in positions}\n",
    "    print(*A.getSource(ln), sep=\"\\n\")\n",
    "    A.plain(ln, fmt=\"layout-orig-rich\", highlights=highlights)\n",
    "    A.plain(ln, fmt=\"layout-orig-unicode\", highlights=highlights)\n",
    "    A.pretty(\n",
    "        ln,\n",
    "        extraFeatures=\"atf\",\n",
    "        fmt=\"text-orig-rich\",\n",
    "        baseTypes=\"sign\",\n",
    "        highlights=highlights,\n",
    "    )"
   ]
  },
  {
   "cell_type": "markdown",
   "metadata": {},
   "source": [
    "---\n",
    "\n",
    "All chapters:\n",
    "\n",
    "* **[start](start.ipynb)** introduction to computing with your corpus\n",
    "* **display** become an expert in creating pretty displays of your text structures\n",
    "* **[search](search.ipynb)** turbo charge your hand-coding with search templates\n",
    "* **[exportExcel](exportExcel.ipynb)** make tailor-made spreadsheets out of your results\n",
    "* **[share](share.ipynb)** draw in other people's data and let them use yours\n",
    "* **[similarLines](similarLines.ipynb)** spot the similarities between lines\n",
    "\n",
    "---\n",
    "\n",
    "See the [cookbook](cookbook) for recipes for small, concrete tasks.\n",
    "\n",
    "CC-BY Dirk Roorda"
   ]
  }
 ],
 "metadata": {
  "jupytext": {
   "encoding": "# -*- coding: utf-8 -*-"
  },
  "kernelspec": {
   "display_name": "Python 3",
   "language": "python",
   "name": "python3"
  },
  "language_info": {
   "codemirror_mode": {
    "name": "ipython",
    "version": 3
   },
   "file_extension": ".py",
   "mimetype": "text/x-python",
   "name": "python",
   "nbconvert_exporter": "python",
   "pygments_lexer": "ipython3",
   "version": "3.8.3"
  },
  "toc": {
   "base_numbering": 1,
   "nav_menu": {},
   "number_sections": true,
   "sideBar": true,
   "skip_h1_title": false,
   "title_cell": "Table of Contents",
   "title_sidebar": "Contents",
   "toc_cell": false,
   "toc_position": {},
   "toc_section_display": "block",
   "toc_window_display": false
  }
 },
 "nbformat": 4,
 "nbformat_minor": 4
}
