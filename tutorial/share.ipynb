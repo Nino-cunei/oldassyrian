{
 "cells": [
  {
   "cell_type": "markdown",
   "metadata": {},
   "source": [
    "<img align=\"right\" src=\"images/tf.png\" width=\"128\"/>\n",
    "<img align=\"right\" src=\"images/ninologo.png\" width=\"128\"/>\n",
    "<img align=\"right\" src=\"images/dans.png\" width=\"128\"/>\n",
    "\n",
    "---\n",
    "\n",
    "To get started: consult [start](start.ipynb)\n",
    "\n",
    "---\n",
    "\n",
    "# Sharing data features\n",
    "\n",
    "## Explore additional data\n",
    "\n",
    "Once you analyse a corpus, it is likely that you produce data that others can reuse.\n",
    "Maybe you have defined a set of proper name occurrences, or special numerals, or you have computed part-of-speech assignments.\n",
    "\n",
    "It is possible to turn these insights into *new features*, i.e. new `.tf` files with values assigned to specific nodes.\n",
    "\n",
    "## Make your own data\n",
    "\n",
    "New data is a product of your own methods and computations in the first place.\n",
    "But how do you turn that data into new TF features?\n",
    "It turns out that the last step is not that difficult.\n",
    "\n",
    "If you can shape your data as a mapping (dictionary) from node numbers (integers) to values\n",
    "(strings or integers), then TF can turn that data into a feature file for you with one command.\n",
    "\n",
    "## Share your new data\n",
    "You can then easily share your new features on GitHub, so that your colleagues everywhere\n",
    "can try it out for themselves.\n",
    "\n",
    "You can add such data on the fly, by passing a `mod={org}/{repo}/{path}` parameter,\n",
    "or a bunch of them separated by commas.\n",
    "\n",
    "If the data is there, it will be auto-downloaded and stored on your machine.\n",
    "\n",
    "Let's do it."
   ]
  },
  {
   "cell_type": "code",
   "execution_count": null,
   "metadata": {},
   "outputs": [],
   "source": [
    "%load_ext autoreload\n",
    "%autoreload 2"
   ]
  },
  {
   "cell_type": "code",
   "execution_count": null,
   "metadata": {
    "ExecuteTime": {
     "end_time": "2018-05-24T10:06:39.818664Z",
     "start_time": "2018-05-24T10:06:39.796588Z"
    }
   },
   "outputs": [],
   "source": [
    "import collections\n",
    "import os\n",
    "\n",
    "from tf.app import use\n"
   ]
  },
  {
   "cell_type": "code",
   "execution_count": 3,
   "metadata": {},
   "outputs": [
    {
     "data": {
      "text/html": [
       "<b title=\"local github\">TF-app:</b> <span title=\"repo clone offline under ~/github\">~/github/annotation/app-oldassyrian/code</span>"
      ],
      "text/plain": [
       "<IPython.core.display.HTML object>"
      ]
     },
     "metadata": {},
     "output_type": "display_data"
    },
    {
     "data": {
      "text/html": [
       "<b title=\"local github\">data:</b> <span title=\"repo clone offline under ~/github\">~/github/Nino-cunei/oldassyrian/tf/0.1</span>"
      ],
      "text/plain": [
       "<IPython.core.display.HTML object>"
      ]
     },
     "metadata": {},
     "output_type": "display_data"
    },
    {
     "data": {
      "text/html": [
       "<b>Text-Fabric:</b> <a target=\"_blank\" href=\"https://annotation.github.io/text-fabric/cheatsheet.html\" title=\"text-fabric-api\">Text-Fabric API 8.3.4</a>, <a target=\"_blank\" href=\"https://github.com/annotation/app-oldassyrian\" title=\"oldassyrian TF-app\">app-oldassyrian</a>, <a target=\"_blank\" href=\"https://annotation.github.io/text-fabric/about/searchusage.html\" title=\"Search Templates Introduction and Reference\">Search Reference</a><br><b>Data:</b> <a target=\"_blank\" href=\"https://github.com/Nino-cunei/oldassyrian/blob/master/docs/about.md\" title=\"provenance of Old Assyrian Documents 2000-1600: Cuneiform tablets\">OLDASSYRIAN</a>, <a target=\"_blank\" href=\"https://github.com/Nino-cunei/oldassyrian/blob/master/programs/mapReadings.ipynb\" title=\"mapping from readings to UNICODE\">Character table</a>, <a target=\"_blank\" href=\"https://github.com/Nino-cunei/tfFromAtf/blob/master/docs/transcription.md\" title=\"OLDASSYRIAN feature documentation\">Feature docs</a><br><b>Features:</b><br><details><summary><b>Old Assyrian Documents 2000-1600: Cuneiform tablets</b></summary><a target=\"_blank\" href=\"https://github.com/Nino-cunei/tfFromAtf/blob/master/docs/transcription.md\" title=\"~/github/Nino-cunei/oldassyrian/tf/0.1/ARK.tf\">ARK</a><br><a target=\"_blank\" href=\"https://github.com/Nino-cunei/tfFromAtf/blob/master/docs/transcription.md\" title=\"~/github/Nino-cunei/oldassyrian/tf/0.1/after.tf\">after</a><br><a target=\"_blank\" href=\"https://github.com/Nino-cunei/tfFromAtf/blob/master/docs/transcription.md\" title=\"~/github/Nino-cunei/oldassyrian/tf/0.1/afterr.tf\">afterr</a><br><a target=\"_blank\" href=\"https://github.com/Nino-cunei/tfFromAtf/blob/master/docs/transcription.md\" title=\"~/github/Nino-cunei/oldassyrian/tf/0.1/afteru.tf\">afteru</a><br><a target=\"_blank\" href=\"https://github.com/Nino-cunei/tfFromAtf/blob/master/docs/transcription.md\" title=\"~/github/Nino-cunei/oldassyrian/tf/0.1/atf.tf\">atf</a><br><a target=\"_blank\" href=\"https://github.com/Nino-cunei/tfFromAtf/blob/master/docs/transcription.md\" title=\"~/github/Nino-cunei/oldassyrian/tf/0.1/atfpost.tf\">atfpost</a><br><a target=\"_blank\" href=\"https://github.com/Nino-cunei/tfFromAtf/blob/master/docs/transcription.md\" title=\"~/github/Nino-cunei/oldassyrian/tf/0.1/atfpre.tf\">atfpre</a><br><a target=\"_blank\" href=\"https://github.com/Nino-cunei/tfFromAtf/blob/master/docs/transcription.md\" title=\"~/github/Nino-cunei/oldassyrian/tf/0.1/author.tf\">author</a><br><a target=\"_blank\" href=\"https://github.com/Nino-cunei/tfFromAtf/blob/master/docs/transcription.md\" title=\"~/github/Nino-cunei/oldassyrian/tf/0.1/col.tf\">col</a><br><a target=\"_blank\" href=\"https://github.com/Nino-cunei/tfFromAtf/blob/master/docs/transcription.md\" title=\"~/github/Nino-cunei/oldassyrian/tf/0.1/collection.tf\">collection</a><br><a target=\"_blank\" href=\"https://github.com/Nino-cunei/tfFromAtf/blob/master/docs/transcription.md\" title=\"~/github/Nino-cunei/oldassyrian/tf/0.1/comment.tf\">comment</a><br><a target=\"_blank\" href=\"https://github.com/Nino-cunei/tfFromAtf/blob/master/docs/transcription.md\" title=\"~/github/Nino-cunei/oldassyrian/tf/0.1/damage.tf\">damage</a><br><a target=\"_blank\" href=\"https://github.com/Nino-cunei/tfFromAtf/blob/master/docs/transcription.md\" title=\"~/github/Nino-cunei/oldassyrian/tf/0.1/det.tf\">det</a><br><a target=\"_blank\" href=\"https://github.com/Nino-cunei/tfFromAtf/blob/master/docs/transcription.md\" title=\"~/github/Nino-cunei/oldassyrian/tf/0.1/docnote.tf\">docnote</a><br><a target=\"_blank\" href=\"https://github.com/Nino-cunei/tfFromAtf/blob/master/docs/transcription.md\" title=\"~/github/Nino-cunei/oldassyrian/tf/0.1/docnumber.tf\">docnumber</a><br><a target=\"_blank\" href=\"https://github.com/Nino-cunei/tfFromAtf/blob/master/docs/transcription.md\" title=\"~/github/Nino-cunei/oldassyrian/tf/0.1/excavation.tf\">excavation</a><br><a target=\"_blank\" href=\"https://github.com/Nino-cunei/tfFromAtf/blob/master/docs/transcription.md\" title=\"~/github/Nino-cunei/oldassyrian/tf/0.1/excised.tf\">excised</a><br><a target=\"_blank\" href=\"https://github.com/Nino-cunei/tfFromAtf/blob/master/docs/transcription.md\" title=\"~/github/Nino-cunei/oldassyrian/tf/0.1/face.tf\">face</a><br><a target=\"_blank\" href=\"https://github.com/Nino-cunei/tfFromAtf/blob/master/docs/transcription.md\" title=\"~/github/Nino-cunei/oldassyrian/tf/0.1/flags.tf\">flags</a><br><a target=\"_blank\" href=\"https://github.com/Nino-cunei/tfFromAtf/blob/master/docs/transcription.md\" title=\"~/github/Nino-cunei/oldassyrian/tf/0.1/fraction.tf\">fraction</a><br><a target=\"_blank\" href=\"https://github.com/Nino-cunei/tfFromAtf/blob/master/docs/transcription.md\" title=\"~/github/Nino-cunei/oldassyrian/tf/0.1/genre.tf\">genre</a><br><a target=\"_blank\" href=\"https://github.com/Nino-cunei/tfFromAtf/blob/master/docs/transcription.md\" title=\"~/github/Nino-cunei/oldassyrian/tf/0.1/grapheme.tf\">grapheme</a><br><a target=\"_blank\" href=\"https://github.com/Nino-cunei/tfFromAtf/blob/master/docs/transcription.md\" title=\"~/github/Nino-cunei/oldassyrian/tf/0.1/graphemer.tf\">graphemer</a><br><a target=\"_blank\" href=\"https://github.com/Nino-cunei/tfFromAtf/blob/master/docs/transcription.md\" title=\"~/github/Nino-cunei/oldassyrian/tf/0.1/graphemeu.tf\">graphemeu</a><br><a target=\"_blank\" href=\"https://github.com/Nino-cunei/tfFromAtf/blob/master/docs/transcription.md\" title=\"~/github/Nino-cunei/oldassyrian/tf/0.1/lang.tf\">lang</a><br><a target=\"_blank\" href=\"https://github.com/Nino-cunei/tfFromAtf/blob/master/docs/transcription.md\" title=\"~/github/Nino-cunei/oldassyrian/tf/0.1/langalt.tf\">langalt</a><br><a target=\"_blank\" href=\"https://github.com/Nino-cunei/tfFromAtf/blob/master/docs/transcription.md\" title=\"~/github/Nino-cunei/oldassyrian/tf/0.1/ln.tf\">ln</a><br><a target=\"_blank\" href=\"https://github.com/Nino-cunei/tfFromAtf/blob/master/docs/transcription.md\" title=\"~/github/Nino-cunei/oldassyrian/tf/0.1/lnc.tf\">lnc</a><br><a target=\"_blank\" href=\"https://github.com/Nino-cunei/tfFromAtf/blob/master/docs/transcription.md\" title=\"~/github/Nino-cunei/oldassyrian/tf/0.1/lnno.tf\">lnno</a><br><a target=\"_blank\" href=\"https://github.com/Nino-cunei/tfFromAtf/blob/master/docs/transcription.md\" title=\"~/github/Nino-cunei/oldassyrian/tf/0.1/material.tf\">material</a><br><a target=\"_blank\" href=\"https://github.com/Nino-cunei/tfFromAtf/blob/master/docs/transcription.md\" title=\"~/github/Nino-cunei/oldassyrian/tf/0.1/missing.tf\">missing</a><br><a target=\"_blank\" href=\"https://github.com/Nino-cunei/tfFromAtf/blob/master/docs/transcription.md\" title=\"~/github/Nino-cunei/oldassyrian/tf/0.1/museumcode.tf\">museumcode</a><br><a target=\"_blank\" href=\"https://github.com/Nino-cunei/tfFromAtf/blob/master/docs/transcription.md\" title=\"~/github/Nino-cunei/oldassyrian/tf/0.1/museumname.tf\">museumname</a><br><a target=\"_blank\" href=\"https://github.com/Nino-cunei/tfFromAtf/blob/master/docs/transcription.md\" title=\"~/github/Nino-cunei/oldassyrian/tf/0.1/object.tf\">object</a><br><a target=\"_blank\" href=\"https://github.com/Nino-cunei/tfFromAtf/blob/master/docs/transcription.md\" title=\"~/github/Nino-cunei/oldassyrian/tf/0.1/operator.tf\">operator</a><br><a target=\"_blank\" href=\"https://github.com/Nino-cunei/tfFromAtf/blob/master/docs/transcription.md\" title=\"~/github/Nino-cunei/oldassyrian/tf/0.1/operatorr.tf\">operatorr</a><br><a target=\"_blank\" href=\"https://github.com/Nino-cunei/tfFromAtf/blob/master/docs/transcription.md\" title=\"~/github/Nino-cunei/oldassyrian/tf/0.1/operatoru.tf\">operatoru</a><br><a target=\"_blank\" href=\"https://github.com/Nino-cunei/tfFromAtf/blob/master/docs/transcription.md\" title=\"~/github/Nino-cunei/oldassyrian/tf/0.1/otype.tf\">otype</a><br><a target=\"_blank\" href=\"https://github.com/Nino-cunei/tfFromAtf/blob/master/docs/transcription.md\" title=\"~/github/Nino-cunei/oldassyrian/tf/0.1/period.tf\">period</a><br><a target=\"_blank\" href=\"https://github.com/Nino-cunei/tfFromAtf/blob/master/docs/transcription.md\" title=\"~/github/Nino-cunei/oldassyrian/tf/0.1/pnumber.tf\">pnumber</a><br><a target=\"_blank\" href=\"https://github.com/Nino-cunei/tfFromAtf/blob/master/docs/transcription.md\" title=\"~/github/Nino-cunei/oldassyrian/tf/0.1/primecol.tf\">primecol</a><br><a target=\"_blank\" href=\"https://github.com/Nino-cunei/tfFromAtf/blob/master/docs/transcription.md\" title=\"~/github/Nino-cunei/oldassyrian/tf/0.1/primeln.tf\">primeln</a><br><a target=\"_blank\" href=\"https://github.com/Nino-cunei/tfFromAtf/blob/master/docs/transcription.md\" title=\"~/github/Nino-cunei/oldassyrian/tf/0.1/pubdate.tf\">pubdate</a><br><a target=\"_blank\" href=\"https://github.com/Nino-cunei/tfFromAtf/blob/master/docs/transcription.md\" title=\"~/github/Nino-cunei/oldassyrian/tf/0.1/question.tf\">question</a><br><a target=\"_blank\" href=\"https://github.com/Nino-cunei/tfFromAtf/blob/master/docs/transcription.md\" title=\"~/github/Nino-cunei/oldassyrian/tf/0.1/reading.tf\">reading</a><br><a target=\"_blank\" href=\"https://github.com/Nino-cunei/tfFromAtf/blob/master/docs/transcription.md\" title=\"~/github/Nino-cunei/oldassyrian/tf/0.1/readingr.tf\">readingr</a><br><a target=\"_blank\" href=\"https://github.com/Nino-cunei/tfFromAtf/blob/master/docs/transcription.md\" title=\"~/github/Nino-cunei/oldassyrian/tf/0.1/readingu.tf\">readingu</a><br><a target=\"_blank\" href=\"https://github.com/Nino-cunei/tfFromAtf/blob/master/docs/transcription.md\" title=\"~/github/Nino-cunei/oldassyrian/tf/0.1/remarkable.tf\">remarkable</a><br><a target=\"_blank\" href=\"https://github.com/Nino-cunei/tfFromAtf/blob/master/docs/transcription.md\" title=\"~/github/Nino-cunei/oldassyrian/tf/0.1/remarks.tf\">remarks</a><br><a target=\"_blank\" href=\"https://github.com/Nino-cunei/tfFromAtf/blob/master/docs/transcription.md\" title=\"~/github/Nino-cunei/oldassyrian/tf/0.1/repeat.tf\">repeat</a><br><a target=\"_blank\" href=\"https://github.com/Nino-cunei/tfFromAtf/blob/master/docs/transcription.md\" title=\"~/github/Nino-cunei/oldassyrian/tf/0.1/srcLn.tf\">srcLn</a><br><a target=\"_blank\" href=\"https://github.com/Nino-cunei/tfFromAtf/blob/master/docs/transcription.md\" title=\"~/github/Nino-cunei/oldassyrian/tf/0.1/srcLnNum.tf\">srcLnNum</a><br><a target=\"_blank\" href=\"https://github.com/Nino-cunei/tfFromAtf/blob/master/docs/transcription.md\" title=\"~/github/Nino-cunei/oldassyrian/tf/0.1/srcfile.tf\">srcfile</a><br><a target=\"_blank\" href=\"https://github.com/Nino-cunei/tfFromAtf/blob/master/docs/transcription.md\" title=\"~/github/Nino-cunei/oldassyrian/tf/0.1/subgenre.tf\">subgenre</a><br><a target=\"_blank\" href=\"https://github.com/Nino-cunei/tfFromAtf/blob/master/docs/transcription.md\" title=\"~/github/Nino-cunei/oldassyrian/tf/0.1/supplied.tf\">supplied</a><br><a target=\"_blank\" href=\"https://github.com/Nino-cunei/tfFromAtf/blob/master/docs/transcription.md\" title=\"~/github/Nino-cunei/oldassyrian/tf/0.1/sym.tf\">sym</a><br><a target=\"_blank\" href=\"https://github.com/Nino-cunei/tfFromAtf/blob/master/docs/transcription.md\" title=\"~/github/Nino-cunei/oldassyrian/tf/0.1/symr.tf\">symr</a><br><a target=\"_blank\" href=\"https://github.com/Nino-cunei/tfFromAtf/blob/master/docs/transcription.md\" title=\"~/github/Nino-cunei/oldassyrian/tf/0.1/symu.tf\">symu</a><br><a target=\"_blank\" href=\"https://github.com/Nino-cunei/tfFromAtf/blob/master/docs/transcription.md\" title=\"~/github/Nino-cunei/oldassyrian/tf/0.1/trans.tf\">trans</a><br><a target=\"_blank\" href=\"https://github.com/Nino-cunei/tfFromAtf/blob/master/docs/transcription.md\" title=\"~/github/Nino-cunei/oldassyrian/tf/0.1/transcriber.tf\">transcriber</a><br><a target=\"_blank\" href=\"https://github.com/Nino-cunei/tfFromAtf/blob/master/docs/transcription.md\" title=\"~/github/Nino-cunei/oldassyrian/tf/0.1/translation@en.tf\">translation@ll</a><br><a target=\"_blank\" href=\"https://github.com/Nino-cunei/tfFromAtf/blob/master/docs/transcription.md\" title=\"~/github/Nino-cunei/oldassyrian/tf/0.1/type.tf\">type</a><br><a target=\"_blank\" href=\"https://github.com/Nino-cunei/tfFromAtf/blob/master/docs/transcription.md\" title=\"~/github/Nino-cunei/oldassyrian/tf/0.1/uncertain.tf\">uncertain</a><br><a target=\"_blank\" href=\"https://github.com/Nino-cunei/tfFromAtf/blob/master/docs/transcription.md\" title=\"~/github/Nino-cunei/oldassyrian/tf/0.1/version.tf\">version</a><br><a target=\"_blank\" href=\"https://github.com/Nino-cunei/tfFromAtf/blob/master/docs/transcription.md\" title=\"~/github/Nino-cunei/oldassyrian/tf/0.1/volume.tf\">volume</a><br><b><i><a target=\"_blank\" href=\"https://github.com/Nino-cunei/tfFromAtf/blob/master/docs/transcription.md\" title=\"~/github/Nino-cunei/oldassyrian/tf/0.1/oslots.tf\">oslots</a></i></b><br></details>"
      ],
      "text/plain": [
       "<IPython.core.display.HTML object>"
      ]
     },
     "metadata": {},
     "output_type": "display_data"
    },
    {
     "data": {
      "text/html": [
       "<style>tr.tf.ltr, td.tf.ltr, th.tf.ltr { text-align: left ! important;}\n",
       "tr.tf.rtl, td.tf.rtl, th.tf.rtl { text-align: right ! important;}\n",
       "@font-face {\n",
       "  font-family: \"Gentium Plus\";\n",
       "  src: local('Gentium Plus'), local('GentiumPlus'),\n",
       "    url('/server/static/fonts/GentiumPlus-R.woff') format('woff'),\n",
       "    url('https://github.com/annotation/text-fabric/blob/master/tf/server/static/fonts/GentiumPlus-R.woff?raw=true') format('woff');\n",
       "}\n",
       "\n",
       "@font-face {\n",
       "  font-family: \"Ezra SIL\";\n",
       "  src: local('Ezra SIL'), local('EzraSIL'),\n",
       "    url('/server/static/fonts/SILEOT.woff') format('woff'),\n",
       "    url('https://github.com/annotation/text-fabric/blob/master/tf/server/static/fonts/SILEOT.woff?raw=true') format('woff');\n",
       "}\n",
       "\n",
       "@font-face {\n",
       "  font-family: \"SBL Hebrew\";\n",
       "  src: local('SBL Hebrew'), local('SBLHebrew'),\n",
       "    url('/server/static/fonts/SBL_Hbrw.woff') format('woff'),\n",
       "    url('https://github.com/annotation/text-fabric/blob/master/tf/server/static/fonts/SBL_Hbrw.woff?raw=true') format('woff');\n",
       "}\n",
       "\n",
       "@font-face {\n",
       "  font-family: \"Estrangelo Edessa\";\n",
       "  src: local('Estrangelo Edessa'), local('EstrangeloEdessa');\n",
       "    url('/server/static/fonts/SyrCOMEdessa.woff') format('woff'),\n",
       "    url('https://github.com/annotation/text-fabric/blob/master/tf/server/static/fonts/SyrCOMEdessa.woff?raw=true') format('woff');\n",
       "}\n",
       "\n",
       "@font-face {\n",
       "  font-family: AmiriQuran;\n",
       "  font-style: normal;\n",
       "  font-weight: 400;\n",
       "  src: local('Amiri Quran'), local('AmiriQuran'),\n",
       "    url('/server/static/fonts/AmiriQuran.woff') format('woff'),\n",
       "    url('https://github.com/annotation/text-fabric/blob/master/tf/server/static/fonts/AmiriQuran.woff?raw=true') format('woff');\n",
       "}\n",
       "\n",
       "@font-face {\n",
       "  font-family: AmiriQuranColored;\n",
       "  font-style: normal;\n",
       "  font-weight: 400;\n",
       "  src: local('Amiri Quran Colored'), local('AmiriQuranColored'),\n",
       "    url('/server/static/fonts/AmiriQuranColored.woff') format('woff'),\n",
       "    url('https://github.com/annotation/text-fabric/blob/master/tf/server/static/fonts/AmiriQuranColored.woff?raw=true') format('woff');\n",
       "}\n",
       "\n",
       "@font-face {\n",
       "  font-family: \"Santakku\";\n",
       "  src: local('Santakku'),\n",
       "    url('/server/static/fonts/Santakku.woff') format('woff'),\n",
       "    url('https://github.com/annotation/text-fabric/blob/master/tf/server/static/fonts/Santakku.woff?raw=true') format('woff');\n",
       "}\n",
       "\n",
       "@font-face {\n",
       "  font-family: \"SantakkuM\";\n",
       "  src: local('SantakkuM'),\n",
       "    url('/server/static/fonts/SantakkuM.woff') format('woff'),\n",
       "    url('https://github.com/annotation/text-fabric/blob/master/tf/server/static/fonts/SantakkuM.woff?raw=true') format('woff');\n",
       "}\n",
       "/* bypassing some classical notebook settings */\n",
       "div#notebook {\n",
       "  line-height: unset;\n",
       "}\n",
       "/* neutral text */\n",
       ".txtn,.txtn a:visited,.txtn a:link {\n",
       "    font-family: sans-serif;\n",
       "    font-size: medium;\n",
       "    direction: ltr;\n",
       "    text-decoration: none;\n",
       "    color: var(--text-color);\n",
       "}\n",
       "/* transcription text */\n",
       ".txtt,.txtt a:visited,.txtt a:link {\n",
       "    font-family: monospace;\n",
       "    font-size: medium;\n",
       "    direction: ltr;\n",
       "    text-decoration: none;\n",
       "    color: var(--text-color);\n",
       "}\n",
       "/* source text */\n",
       ".txto,.txto a:visited,.txto a:link {\n",
       "    font-family: serif;\n",
       "    font-size: medium;\n",
       "    direction: ltr;\n",
       "    text-decoration: none;\n",
       "    color: var(--text-color);\n",
       "}\n",
       "/* phonetic text */\n",
       ".txtp,.txtp a:visited,.txtp a:link {\n",
       "    font-family: Gentium, sans-serif;\n",
       "    font-size: medium;\n",
       "    direction: ltr;\n",
       "    text-decoration: none;\n",
       "    color: var(--text-color);\n",
       "}\n",
       "/* original script text */\n",
       ".txtu,.txtu a:visited,.txtu a:link {\n",
       "    font-family: Gentium, sans-serif;\n",
       "    font-size: medium;\n",
       "    text-decoration: none;\n",
       "    color: var(--text-color);\n",
       "}\n",
       "/* hebrew */\n",
       ".txtu.hbo,.lex.hbo {\n",
       "    font-family: \"Ezra SIL\", \"SBL Hebrew\", sans-serif;\n",
       "    font-size: large;\n",
       "    direction: rtl ! important;\n",
       "    unicode-bidi: embed;\n",
       "}\n",
       "/* syriac */\n",
       ".txtu.syc,.lex.syc {\n",
       "    font-family: \"Estrangelo Edessa\", sans-serif;\n",
       "    font-size: medium;\n",
       "    direction: rtl ! important;\n",
       "    unicode-bidi: embed;\n",
       "}\n",
       "/* neo aramaic */\n",
       ".txtu.cld,.lex.cld {\n",
       "    font-family: \"CharisSIL-R\", sans-serif;\n",
       "    font-size: medium;\n",
       "    direction: ltr ! important;\n",
       "    unicode-bidi: embed;\n",
       "}\n",
       "/* standard arabic */\n",
       ".txtu.ara,.lex.ara {\n",
       "    font-family: \"AmiriQuran\", sans-serif;\n",
       "    font-size: large;\n",
       "    direction: rtl ! important;\n",
       "    unicode-bidi: embed;\n",
       "}\n",
       "/* cuneiform */\n",
       ".txtu.akk,.lex.akk {\n",
       "    font-family: Santakku, sans-serif;\n",
       "    font-size: large;\n",
       "    direction: ltr ! important;\n",
       "    unicode-bidi: embed;\n",
       "}\n",
       "/* greek */\n",
       ".txtu.grc,.lex.grc a:link {\n",
       "    font-family: Gentium, sans-serif;\n",
       "    font-size: medium;\n",
       "    direction: ltr ! important;\n",
       "    unicode-bidi: embed;\n",
       "}\n",
       "a:hover {\n",
       "    text-decoration: underline | important;\n",
       "    color: #0000ff | important;\n",
       "}\n",
       ".ltr {\n",
       "    direction: ltr ! important;\n",
       "}\n",
       ".rtl {\n",
       "    direction: rtl ! important;\n",
       "}\n",
       ".features {\n",
       "    font-family: monospace;\n",
       "    font-size: medium;\n",
       "    font-weight: bold;\n",
       "    color: var(--features);\n",
       "    display: flex;\n",
       "    flex-flow: column nowrap;\n",
       "    justify-content: flex-start;\n",
       "    align-items: flex-start;\n",
       "    align-content: flex-start;\n",
       "    padding: 0.1rem;\n",
       "    margin: 0.1rem;\n",
       "    direction: ltr;\n",
       "    border: var(--meta-width) solid var(--meta-color);\n",
       "    border-radius: var(--meta-width);\n",
       "}\n",
       ".features div,.features span {\n",
       "    padding: 0;\n",
       "    margin: -0.1rem 0;\n",
       "}\n",
       ".features .f {\n",
       "    font-family: sans-serif;\n",
       "    font-size: small;\n",
       "    font-weight: normal;\n",
       "    color: #5555bb;\n",
       "}\n",
       ".features .xft {\n",
       "  color: #000000;\n",
       "  background-color: #eeeeee;\n",
       "  font-size: medium;\n",
       "  margin: 0.1rem 0rem;\n",
       "}\n",
       ".features .xft .f {\n",
       "  color: #000000;\n",
       "  background-color: #eeeeee;\n",
       "  font-size: small;\n",
       "  font-weight: normal;\n",
       "}\n",
       ".section {\n",
       "    font-family: sans-serif;\n",
       "    font-size: small;\n",
       "    font-weight: bold;\n",
       "    color: var(--section);\n",
       "    unicode-bidi: embed;\n",
       "    text-align: start;\n",
       "}\n",
       ".structure {\n",
       "    font-family: sans-serif;\n",
       "    font-size: small;\n",
       "    font-weight: bold;\n",
       "    color: var(--structure);\n",
       "    unicode-bidi: embed;\n",
       "    text-align: start;\n",
       "}\n",
       ".comments {\n",
       "    display: flex;\n",
       "    justify-content: flex-start;\n",
       "    align-items: flex-start;\n",
       "    align-content: flex-start;\n",
       "    flex-flow: column nowrap;\n",
       "}\n",
       ".nd, a:link.nd {\n",
       "    font-family: sans-serif;\n",
       "    font-size: small;\n",
       "    color: var(--node);\n",
       "    vertical-align: super;\n",
       "    direction: ltr ! important;\n",
       "    unicode-bidi: embed;\n",
       "}\n",
       ".lex {\n",
       "  color: var(--lex-color);;\n",
       "}\n",
       ".children,.children.ltr {\n",
       "    display: flex;\n",
       "    border: 0;\n",
       "    background-color: #ffffff;\n",
       "    justify-content: flex-start;\n",
       "    align-items: flex-start;\n",
       "    align-content: flex-start;\n",
       "}\n",
       ".children.stretch {\n",
       "    align-items: stretch;\n",
       "}\n",
       ".children.hor {\n",
       "    flex-flow: row nowrap;\n",
       "}\n",
       ".children.hor.wrap {\n",
       "    flex-flow: row wrap;\n",
       "}\n",
       ".children.ver {\n",
       "    flex-flow: column nowrap;\n",
       "}\n",
       ".children.ver.wrap {\n",
       "    flex-flow: column wrap;\n",
       "}\n",
       ".contnr {\n",
       "    width: fit-content;\n",
       "    display: flex;\n",
       "    justify-content: flex-start;\n",
       "    align-items: flex-start;\n",
       "    align-content: flex-start;\n",
       "    flex-flow: column nowrap;\n",
       "    background: #ffffff none repeat scroll 0 0;\n",
       "    padding:  0.5rem 0.1rem 0.1rem 0.1rem;\n",
       "    margin: 0.8rem 0.1rem 0.1rem 0.1rem;\n",
       "    border-style: solid;\n",
       "    font-size: small;\n",
       "}\n",
       ".contnr.trm {\n",
       "    background-attachment: local;\n",
       "}\n",
       ".contnr.cnul {\n",
       "    padding:  0;\n",
       "    margin: 0;\n",
       "    border-style: solid;\n",
       "    font-size: xx-small;\n",
       "}\n",
       ".contnr.cnul,.lbl.cnul {\n",
       "    border-color: var(--border-color-nul);\n",
       "    border-width: var(--border-width-nul);\n",
       "    border-radius: var(--border-width-nul);\n",
       "}\n",
       ".contnr.c0,.lbl.c0 {\n",
       "    border-color: var(--border-color0);\n",
       "    border-width: var(--border-width0);\n",
       "    border-radius: var(--border-width0);\n",
       "}\n",
       ".contnr.c1,.lbl.c1 {\n",
       "    border-color: var(--border-color1);\n",
       "    border-width: var(--border-width1);\n",
       "    border-radius: var(--border-width1);\n",
       "}\n",
       ".contnr.c2,.lbl.c2 {\n",
       "    border-color: var(--border-color2);\n",
       "    border-width: var(--border-width2);\n",
       "    border-radius: var(--border-width2);\n",
       "}\n",
       ".contnr.c3,.lbl.c3 {\n",
       "    border-color: var(--border-color3);\n",
       "    border-width: var(--border-width3);\n",
       "    border-radius: var(--border-width3);\n",
       "}\n",
       ".contnr.c4,.lbl.c4 {\n",
       "    border-color: var(--border-color4);\n",
       "    border-width: var(--border-width4);\n",
       "    border-radius: var(--border-width4);\n",
       "}\n",
       "span.plain {\n",
       "    display: inline-block;\n",
       "    white-space: pre-wrap;\n",
       "}\n",
       ".plain {\n",
       "    background-color: #ffffff;\n",
       "}\n",
       ".plain.l,.contnr.l,.contnr.l>.lbl {\n",
       "    border-left-style: dotted\n",
       "}\n",
       ".plain.r,.contnr.r,.contnr.r>.lbl {\n",
       "    border-right-style: dotted\n",
       "}\n",
       ".plain.lno,.contnr.lno,.contnr.lno>.lbl {\n",
       "    border-left-style: none\n",
       "}\n",
       ".plain.rno,.contnr.rno,.contnr.rno>.lbl {\n",
       "    border-right-style: none\n",
       "}\n",
       ".plain.l {\n",
       "    padding-left: 0.2rem;\n",
       "    margin-left: 0.1rem;\n",
       "    border-width: var(--border-width-plain);\n",
       "}\n",
       ".plain.r {\n",
       "    padding-right: 0.2rem;\n",
       "    margin-right: 0.1rem;\n",
       "    border-width: var(--border-width-plain);\n",
       "}\n",
       ".lbl {\n",
       "    font-family: monospace;\n",
       "    margin-top: -1.2rem;\n",
       "    margin-left: 1rem;\n",
       "    background: #ffffff none repeat scroll 0 0;\n",
       "    padding: 0 0.3rem;\n",
       "    border-style: solid;\n",
       "    display: block;\n",
       "    color: var(--label)\n",
       "}\n",
       ".lbl.trm {\n",
       "    background-attachment: local;\n",
       "    margin-top: 0.1rem;\n",
       "    margin-left: 0.1rem;\n",
       "    padding: 0.1rem 0.1rem;\n",
       "    border-style: none;\n",
       "}\n",
       ".lbl.cnul {\n",
       "    font-size: xx-small;\n",
       "}\n",
       ".lbl.c0 {\n",
       "    font-size: small;\n",
       "}\n",
       ".lbl.c1 {\n",
       "    font-size: small;\n",
       "}\n",
       ".lbl.c2 {\n",
       "    font-size: medium;\n",
       "}\n",
       ".lbl.c3 {\n",
       "    font-size: medium;\n",
       "}\n",
       ".lbl.c4 {\n",
       "    font-size: large;\n",
       "}\n",
       ".occs, a:link.occs {\n",
       "    font-size: small;\n",
       "}\n",
       "\n",
       "/* PROVENANCE */\n",
       "\n",
       "div.prov {\n",
       "\tmargin: 2rem;\n",
       "\tpadding: 1rem;\n",
       "\tborder: 0.1rem solid var(--fog-rim);\n",
       "}\n",
       "div.pline {\n",
       "\tdisplay: flex;\n",
       "\tflex-flow: row nowrap;\n",
       "\tjustify-content: stretch;\n",
       "\talign-items: baseline;\n",
       "}\n",
       "div.p2line {\n",
       "\tmargin-left: 2em;\n",
       "\tdisplay: flex;\n",
       "\tflex-flow: row nowrap;\n",
       "\tjustify-content: stretch;\n",
       "\talign-items: baseline;\n",
       "}\n",
       "div.psline {\n",
       "\tdisplay: flex;\n",
       "\tflex-flow: row nowrap;\n",
       "\tjustify-content: stretch;\n",
       "\talign-items: baseline;\n",
       "\tbackground-color: var(--gold-mist-back);\n",
       "}\n",
       "div.pname {\n",
       "\tflex: 0 0 5rem;\n",
       "\tfont-weight: bold;\n",
       "}\n",
       "div.pval {\n",
       "    flex: 1 1 auto;\n",
       "}\n",
       "\n",
       ":root {\n",
       "\t--node:               hsla(120, 100%,  20%, 1.0  );\n",
       "\t--label:              hsla(  0, 100%,  20%, 1.0  );\n",
       "\t--section:            hsla(  0, 100%,  25%, 1.0  );\n",
       "\t--structure:          hsla(120, 100%,  25%, 1.0  );\n",
       "\t--features:           hsla(  0,   0%,  30%, 1.0  );\n",
       "  --text-color:         hsla( 60,  80%,  10%, 1.0  );\n",
       "  --lex-color:          hsla(220,  90%,  60%, 1.0  );\n",
       "  --meta-color:         hsla(  0,   0%,  90%, 0.7  );\n",
       "  --meta-width:         0.15rem;\n",
       "  --border-color-nul:   hsla(  0,   0%,  90%, 0.5  );\n",
       "  --border-color0:      hsla(  0,   0%,  90%, 0.9  );\n",
       "  --border-color1:      hsla(  0,   0%,  80%, 0.9  );\n",
       "  --border-color2:      hsla(  0,   0%,  70%, 0.9  );\n",
       "  --border-color3:      hsla(  0,   0%,  80%, 0.8  );\n",
       "  --border-color4:      hsla(  0,   0%,  60%, 0.9  );\n",
       "  --border-width-nul:   0.1rem;\n",
       "  --border-width0:      0.1rem;\n",
       "  --border-width1:      0.15rem;\n",
       "  --border-width2:      0.2rem;\n",
       "  --border-width3:      0.3rem;\n",
       "  --border-width4:      0.25rem;\n",
       "  --border-width-plain: 0.1rem;\n",
       "}\n",
       ".hl {\n",
       "  background-color: var(--hl-strong);\n",
       "}\n",
       "span.hl {\n",
       "\tbackground-color: var(--hl-strong);\n",
       "\tborder-width: 0;\n",
       "\tborder-radius: 0.1rem;\n",
       "\tborder-style: solid;\n",
       "}\n",
       "div.contnr.hl,div.lbl.hl {\n",
       "  background-color: var(--hl-strong);\n",
       "}\n",
       "div.contnr.hl {\n",
       "  border-color: var(--hl-rim) ! important;\n",
       "\tborder-width: 0.2rem ! important;\n",
       "}\n",
       "\n",
       "span.hlbx {\n",
       "\tborder-color: var(--hl-rim);\n",
       "\tborder-width: 0.2rem ! important;\n",
       "\tborder-style: solid;\n",
       "\tborder-radius: 0.3rem;\n",
       "  padding: 0.2rem;\n",
       "  margin: 0.2rem;\n",
       "}\n",
       "\n",
       "span.plain {\n",
       "  display: inline-block;\n",
       "  white-space: pre-wrap;\n",
       "}\n",
       "\n",
       ":root {\n",
       "\t--hl-strong:        hsla( 60, 100%,  70%, 0.9  );\n",
       "\t--hl-rim:           hsla( 55,  80%,  50%, 1.0  );\n",
       "}\n",
       ".pnum {\n",
       "    font-family: sans-serif;\n",
       "    font-size: small;\n",
       "    font-weight: bold;\n",
       "    color: #444444;\n",
       "}\n",
       ".op {\n",
       "    padding:  0.5em 0.1em 0.1em 0.1em;\n",
       "    margin: 0.8em 0.1em 0.1em 0.1em;\n",
       "    font-family: monospace;\n",
       "    font-size: x-large;\n",
       "    font-weight: bold;\n",
       "}\n",
       ".period {\n",
       "    font-family: monospace;\n",
       "    font-size: medium;\n",
       "    font-weight: bold;\n",
       "    color: #0000bb;\n",
       "}\n",
       ".comment {\n",
       "    color: #7777dd;\n",
       "    font-family: monospace;\n",
       "    font-size: small;\n",
       "}\n",
       ".operator {\n",
       "    color: #ff77ff;\n",
       "    font-size: large;\n",
       "}\n",
       "/* LANGUAGE: superscript and subscript */\n",
       "\n",
       "/* cluster */\n",
       ".det {\n",
       "    vertical-align: super;\n",
       "}\n",
       "/* cluster */\n",
       ".langalt {\n",
       "    vertical-align: sub;\n",
       "}\n",
       "/* REDACTIONAL: line over or under  */\n",
       "\n",
       "/* flag */\n",
       ".collated {\n",
       "    font-weight: bold;\n",
       "    text-decoration: underline;\n",
       "}\n",
       "/* cluster */\n",
       ".excised {\n",
       "    color: #dd0000;\n",
       "    text-decoration: line-through;\n",
       "}\n",
       "/* cluster */\n",
       ".supplied {\n",
       "    color: #0000ff;\n",
       "    text-decoration: overline;\n",
       "}\n",
       "/* flag */\n",
       ".remarkable {\n",
       "    font-weight: bold;\n",
       "    text-decoration: overline;\n",
       "}\n",
       "\n",
       "/* UNSURE: italic*/\n",
       "\n",
       "/* cluster */\n",
       ".uncertain {\n",
       "    font-style: italic\n",
       "}\n",
       "/* flag */\n",
       ".question {\n",
       "    font-weight: bold;\n",
       "    font-style: italic\n",
       "}\n",
       "\n",
       "/* BROKEN: text-shadow */\n",
       "\n",
       "/* cluster */\n",
       ".missing {\n",
       "    color: #999999;\n",
       "    text-shadow: #bbbbbb 1px 1px;\n",
       "}\n",
       "/* flag */\n",
       ".damage {\n",
       "    font-weight: bold;\n",
       "    color: #999999;\n",
       "    text-shadow: #bbbbbb 1px 1px;\n",
       "}\n",
       ".empty {\n",
       "  color: #ff0000;\n",
       "}\n",
       "\n",
       "</style>"
      ],
      "text/plain": [
       "<IPython.core.display.HTML object>"
      ]
     },
     "metadata": {},
     "output_type": "display_data"
    },
    {
     "data": {
      "text/html": [
       "<div><b>Text-Fabric API:</b> names <a target=\"_blank\" href=\"https://annotation.github.io/text-fabric/cheatsheet.html\" title=\"doc\">N F E L T S C TF</a> directly usable</div><hr>"
      ],
      "text/plain": [
       "<IPython.core.display.HTML object>"
      ]
     },
     "metadata": {},
     "output_type": "display_data"
    }
   ],
   "source": [
    "A = use(\"oldassyrian:clone\", checkout=\"clone\", hoist=globals())\n",
    "# A = use('oldassyrian', hoist=globals())"
   ]
  },
  {
   "cell_type": "markdown",
   "metadata": {},
   "source": [
    "# Making data\n",
    "\n",
    "We illustrate the data creation part by creating a new feature, `ummama`.\n",
    "The idea is that we mark every sign reading that occurs between `um-ma` and `ma` some where in the first 3 lines of a face.\n",
    "We want to mark every occurrence of such signs elsewhere in the corpus with `ummama=1`.\n",
    "\n",
    "We only do it if the sign between the `um-ma` and `ma` (which must be on the same line) is not missing, damaged, or questionable.\n",
    "\n",
    "The easiest way to get started is to run a query:"
   ]
  },
  {
   "cell_type": "code",
   "execution_count": 4,
   "metadata": {},
   "outputs": [],
   "source": [
    "query = \"\"\"\n",
    "line ln<4\n",
    "  =: sign reading=um missing# damage# question#\n",
    "  <: sign reading=ma missing# damage# question#\n",
    "% the next sign is the one that we are after\n",
    "  < sign missing# damage# question#\n",
    "  < sign reading=ma missing# damage# question#\n",
    "\"\"\""
   ]
  },
  {
   "cell_type": "code",
   "execution_count": 5,
   "metadata": {},
   "outputs": [
    {
     "name": "stdout",
     "output_type": "stream",
     "text": [
      "  7.34s 4081 results\n"
     ]
    }
   ],
   "source": [
    "results = A.search(query)"
   ]
  },
  {
   "cell_type": "code",
   "execution_count": 6,
   "metadata": {},
   "outputs": [
    {
     "data": {
      "text/html": [
       "<table><tr class=\"tf ltr\"><th class=\"tf ltr\">n</th><th class=\"tf ltr\">p</th><th class=\"tf ltr\">line</th><th class=\"tf\">sign</th><th class=\"tf\">sign</th><th class=\"tf\">sign</th><th class=\"tf\">sign</th></tr>\n",
       "<tr class=\"tf ltr\"><td class=\"tf ltr\">1</td><td class=\"tf ltr\"><span class=\"section ltr\"><a target=\"_blank\" href=\"https://cdli.ucla.edu/search/search_results.php?SearchMode=Text&amp;ObjectID=P361248\" title=\"Show this document on CDLI\" sec=\"P361248 obverse:2\">P361248 obverse:2</a></span></td><td class=\"tf ltr\"><div class=\"\"><span class=\"plain   hl\" ><span class=\"txto\">um-</span></span><span class=\"plain   hl\" ><span class=\"txto\">ma </span></span><span class=\"plain   hl\" ><span class=\"txto\">_dam-</span></span><span class=\"txto\">gar3_-</span><span class=\"txto\">ru-</span><span class=\"txto\">tum-</span><span class=\"plain   hl\" ><span class=\"txto\">ma</span></span></div></td><td class=\"tf ltr\"><div class=\"\"><span class=\"plain   hl\" ><span class=\"txto\">um-</span></span></div></td><td class=\"tf ltr\"><div class=\"\"><span class=\"plain   hl\" ><span class=\"txto\">ma </span></span></div></td><td class=\"tf ltr\"><div class=\"\"><span class=\"plain   hl\" ><span class=\"txto\">_dam-</span></span></div></td><td class=\"tf ltr\"><div class=\"\"><span class=\"plain   hl\" ><span class=\"txto\">ma</span></span></div></td></tr>\n",
       "<tr class=\"tf ltr\"><td class=\"tf ltr\">2</td><td class=\"tf ltr\"><span class=\"section ltr\"><a target=\"_blank\" href=\"https://cdli.ucla.edu/search/search_results.php?SearchMode=Text&amp;ObjectID=P361248\" title=\"Show this document on CDLI\" sec=\"P361248 obverse:2\">P361248 obverse:2</a></span></td><td class=\"tf ltr\"><div class=\"\"><span class=\"plain   hl\" ><span class=\"txto\">um-</span></span><span class=\"plain   hl\" ><span class=\"txto\">ma </span></span><span class=\"txto\">_dam-</span><span class=\"plain   hl\" ><span class=\"txto\">gar3_-</span></span><span class=\"txto\">ru-</span><span class=\"txto\">tum-</span><span class=\"plain   hl\" ><span class=\"txto\">ma</span></span></div></td><td class=\"tf ltr\"><div class=\"\"><span class=\"plain   hl\" ><span class=\"txto\">um-</span></span></div></td><td class=\"tf ltr\"><div class=\"\"><span class=\"plain   hl\" ><span class=\"txto\">ma </span></span></div></td><td class=\"tf ltr\"><div class=\"\"><span class=\"plain   hl\" ><span class=\"txto\">gar3_-</span></span></div></td><td class=\"tf ltr\"><div class=\"\"><span class=\"plain   hl\" ><span class=\"txto\">ma</span></span></div></td></tr>\n",
       "<tr class=\"tf ltr\"><td class=\"tf ltr\">3</td><td class=\"tf ltr\"><span class=\"section ltr\"><a target=\"_blank\" href=\"https://cdli.ucla.edu/search/search_results.php?SearchMode=Text&amp;ObjectID=P361248\" title=\"Show this document on CDLI\" sec=\"P361248 obverse:2\">P361248 obverse:2</a></span></td><td class=\"tf ltr\"><div class=\"\"><span class=\"plain   hl\" ><span class=\"txto\">um-</span></span><span class=\"plain   hl\" ><span class=\"txto\">ma </span></span><span class=\"txto\">_dam-</span><span class=\"txto\">gar3_-</span><span class=\"plain   hl\" ><span class=\"txto\">ru-</span></span><span class=\"txto\">tum-</span><span class=\"plain   hl\" ><span class=\"txto\">ma</span></span></div></td><td class=\"tf ltr\"><div class=\"\"><span class=\"plain   hl\" ><span class=\"txto\">um-</span></span></div></td><td class=\"tf ltr\"><div class=\"\"><span class=\"plain   hl\" ><span class=\"txto\">ma </span></span></div></td><td class=\"tf ltr\"><div class=\"\"><span class=\"plain   hl\" ><span class=\"txto\">ru-</span></span></div></td><td class=\"tf ltr\"><div class=\"\"><span class=\"plain   hl\" ><span class=\"txto\">ma</span></span></div></td></tr>\n",
       "<tr class=\"tf ltr\"><td class=\"tf ltr\">4</td><td class=\"tf ltr\"><span class=\"section ltr\"><a target=\"_blank\" href=\"https://cdli.ucla.edu/search/search_results.php?SearchMode=Text&amp;ObjectID=P361248\" title=\"Show this document on CDLI\" sec=\"P361248 obverse:2\">P361248 obverse:2</a></span></td><td class=\"tf ltr\"><div class=\"\"><span class=\"plain   hl\" ><span class=\"txto\">um-</span></span><span class=\"plain   hl\" ><span class=\"txto\">ma </span></span><span class=\"txto\">_dam-</span><span class=\"txto\">gar3_-</span><span class=\"txto\">ru-</span><span class=\"plain   hl\" ><span class=\"txto\">tum-</span></span><span class=\"plain   hl\" ><span class=\"txto\">ma</span></span></div></td><td class=\"tf ltr\"><div class=\"\"><span class=\"plain   hl\" ><span class=\"txto\">um-</span></span></div></td><td class=\"tf ltr\"><div class=\"\"><span class=\"plain   hl\" ><span class=\"txto\">ma </span></span></div></td><td class=\"tf ltr\"><div class=\"\"><span class=\"plain   hl\" ><span class=\"txto\">tum-</span></span></div></td><td class=\"tf ltr\"><div class=\"\"><span class=\"plain   hl\" ><span class=\"txto\">ma</span></span></div></td></tr>\n",
       "<tr class=\"tf ltr\"><td class=\"tf ltr\">5</td><td class=\"tf ltr\"><span class=\"section ltr\"><a target=\"_blank\" href=\"https://cdli.ucla.edu/search/search_results.php?SearchMode=Text&amp;ObjectID=P360984\" title=\"Show this document on CDLI\" sec=\"P360984 obverse:2\">P360984 obverse:2</a></span></td><td class=\"tf ltr\"><div class=\"\"><span class=\"plain   hl\" ><span class=\"txto\">um-</span></span><span class=\"plain   hl\" ><span class=\"txto\">ma </span></span><span class=\"plain   hl\" ><span class=\"txto\">wa-</span></span><span class=\"txto\">la2-</span><span class=\"txto\">wa-</span><span class=\"txto\">la2-</span><span class=\"plain   hl\" ><span class=\"txto\">ma</span></span></div></td><td class=\"tf ltr\"><div class=\"\"><span class=\"plain   hl\" ><span class=\"txto\">um-</span></span></div></td><td class=\"tf ltr\"><div class=\"\"><span class=\"plain   hl\" ><span class=\"txto\">ma </span></span></div></td><td class=\"tf ltr\"><div class=\"\"><span class=\"plain   hl\" ><span class=\"txto\">wa-</span></span></div></td><td class=\"tf ltr\"><div class=\"\"><span class=\"plain   hl\" ><span class=\"txto\">ma</span></span></div></td></tr>\n",
       "<tr class=\"tf ltr\"><td class=\"tf ltr\">6</td><td class=\"tf ltr\"><span class=\"section ltr\"><a target=\"_blank\" href=\"https://cdli.ucla.edu/search/search_results.php?SearchMode=Text&amp;ObjectID=P360984\" title=\"Show this document on CDLI\" sec=\"P360984 obverse:2\">P360984 obverse:2</a></span></td><td class=\"tf ltr\"><div class=\"\"><span class=\"plain   hl\" ><span class=\"txto\">um-</span></span><span class=\"plain   hl\" ><span class=\"txto\">ma </span></span><span class=\"txto\">wa-</span><span class=\"plain   hl\" ><span class=\"txto\">la2-</span></span><span class=\"txto\">wa-</span><span class=\"txto\">la2-</span><span class=\"plain   hl\" ><span class=\"txto\">ma</span></span></div></td><td class=\"tf ltr\"><div class=\"\"><span class=\"plain   hl\" ><span class=\"txto\">um-</span></span></div></td><td class=\"tf ltr\"><div class=\"\"><span class=\"plain   hl\" ><span class=\"txto\">ma </span></span></div></td><td class=\"tf ltr\"><div class=\"\"><span class=\"plain   hl\" ><span class=\"txto\">la2-</span></span></div></td><td class=\"tf ltr\"><div class=\"\"><span class=\"plain   hl\" ><span class=\"txto\">ma</span></span></div></td></tr>\n",
       "<tr class=\"tf ltr\"><td class=\"tf ltr\">7</td><td class=\"tf ltr\"><span class=\"section ltr\"><a target=\"_blank\" href=\"https://cdli.ucla.edu/search/search_results.php?SearchMode=Text&amp;ObjectID=P360984\" title=\"Show this document on CDLI\" sec=\"P360984 obverse:2\">P360984 obverse:2</a></span></td><td class=\"tf ltr\"><div class=\"\"><span class=\"plain   hl\" ><span class=\"txto\">um-</span></span><span class=\"plain   hl\" ><span class=\"txto\">ma </span></span><span class=\"txto\">wa-</span><span class=\"txto\">la2-</span><span class=\"plain   hl\" ><span class=\"txto\">wa-</span></span><span class=\"txto\">la2-</span><span class=\"plain   hl\" ><span class=\"txto\">ma</span></span></div></td><td class=\"tf ltr\"><div class=\"\"><span class=\"plain   hl\" ><span class=\"txto\">um-</span></span></div></td><td class=\"tf ltr\"><div class=\"\"><span class=\"plain   hl\" ><span class=\"txto\">ma </span></span></div></td><td class=\"tf ltr\"><div class=\"\"><span class=\"plain   hl\" ><span class=\"txto\">wa-</span></span></div></td><td class=\"tf ltr\"><div class=\"\"><span class=\"plain   hl\" ><span class=\"txto\">ma</span></span></div></td></tr>\n",
       "<tr class=\"tf ltr\"><td class=\"tf ltr\">8</td><td class=\"tf ltr\"><span class=\"section ltr\"><a target=\"_blank\" href=\"https://cdli.ucla.edu/search/search_results.php?SearchMode=Text&amp;ObjectID=P360984\" title=\"Show this document on CDLI\" sec=\"P360984 obverse:2\">P360984 obverse:2</a></span></td><td class=\"tf ltr\"><div class=\"\"><span class=\"plain   hl\" ><span class=\"txto\">um-</span></span><span class=\"plain   hl\" ><span class=\"txto\">ma </span></span><span class=\"txto\">wa-</span><span class=\"txto\">la2-</span><span class=\"txto\">wa-</span><span class=\"plain   hl\" ><span class=\"txto\">la2-</span></span><span class=\"plain   hl\" ><span class=\"txto\">ma</span></span></div></td><td class=\"tf ltr\"><div class=\"\"><span class=\"plain   hl\" ><span class=\"txto\">um-</span></span></div></td><td class=\"tf ltr\"><div class=\"\"><span class=\"plain   hl\" ><span class=\"txto\">ma </span></span></div></td><td class=\"tf ltr\"><div class=\"\"><span class=\"plain   hl\" ><span class=\"txto\">la2-</span></span></div></td><td class=\"tf ltr\"><div class=\"\"><span class=\"plain   hl\" ><span class=\"txto\">ma</span></span></div></td></tr>\n",
       "<tr class=\"tf ltr\"><td class=\"tf ltr\">9</td><td class=\"tf ltr\"><span class=\"section ltr\"><a target=\"_blank\" href=\"https://cdli.ucla.edu/search/search_results.php?SearchMode=Text&amp;ObjectID=P361576\" title=\"Show this document on CDLI\" sec=\"P361576 obverse:2\">P361576 obverse:2</a></span></td><td class=\"tf ltr\"><div class=\"\"><span class=\"plain   hl\" ><span class=\"txto\">um-</span></span><span class=\"plain   hl\" ><span class=\"txto\">ma </span></span><span class=\"plain   hl\" ><span class=\"txto\">szu-</span></span><span class=\"txto\">su2-</span><span class=\"txto\">en6-</span><span class=\"plain   hl\" ><span class=\"txto\">ma</span></span></div></td><td class=\"tf ltr\"><div class=\"\"><span class=\"plain   hl\" ><span class=\"txto\">um-</span></span></div></td><td class=\"tf ltr\"><div class=\"\"><span class=\"plain   hl\" ><span class=\"txto\">ma </span></span></div></td><td class=\"tf ltr\"><div class=\"\"><span class=\"plain   hl\" ><span class=\"txto\">szu-</span></span></div></td><td class=\"tf ltr\"><div class=\"\"><span class=\"plain   hl\" ><span class=\"txto\">ma</span></span></div></td></tr>\n",
       "<tr class=\"tf ltr\"><td class=\"tf ltr\">10</td><td class=\"tf ltr\"><span class=\"section ltr\"><a target=\"_blank\" href=\"https://cdli.ucla.edu/search/search_results.php?SearchMode=Text&amp;ObjectID=P361576\" title=\"Show this document on CDLI\" sec=\"P361576 obverse:2\">P361576 obverse:2</a></span></td><td class=\"tf ltr\"><div class=\"\"><span class=\"plain   hl\" ><span class=\"txto\">um-</span></span><span class=\"plain   hl\" ><span class=\"txto\">ma </span></span><span class=\"txto\">szu-</span><span class=\"plain   hl\" ><span class=\"txto\">su2-</span></span><span class=\"txto\">en6-</span><span class=\"plain   hl\" ><span class=\"txto\">ma</span></span></div></td><td class=\"tf ltr\"><div class=\"\"><span class=\"plain   hl\" ><span class=\"txto\">um-</span></span></div></td><td class=\"tf ltr\"><div class=\"\"><span class=\"plain   hl\" ><span class=\"txto\">ma </span></span></div></td><td class=\"tf ltr\"><div class=\"\"><span class=\"plain   hl\" ><span class=\"txto\">su2-</span></span></div></td><td class=\"tf ltr\"><div class=\"\"><span class=\"plain   hl\" ><span class=\"txto\">ma</span></span></div></td></tr></table>"
      ],
      "text/plain": [
       "<IPython.core.display.HTML object>"
      ]
     },
     "metadata": {},
     "output_type": "display_data"
    }
   ],
   "source": [
    "A.table(results, end=10)"
   ]
  },
  {
   "cell_type": "markdown",
   "metadata": {},
   "source": [
    "Observe how the signs between `um-ma` and `ma` are picked up, except the damaged `nu` and `ur2`.\n",
    "\n",
    "First we are collect these readings, and survey the frequencies in the result.\n",
    "\n",
    "Some signs do not have a reading, but then they have a grapheme.\n",
    "If they do not have a grapheme, they might be comment signs, and we skip them."
   ]
  },
  {
   "cell_type": "code",
   "execution_count": 7,
   "metadata": {},
   "outputs": [
    {
     "name": "stdout",
     "output_type": "stream",
     "text": [
      "Found 164 distinct readings\n",
      "a       657 x\n",
      "szur3   171 x\n",
      "szu     142 x\n",
      "i       141 x\n",
      "szur    137 x\n",
      "na      132 x\n",
      "ma      115 x\n",
      "ku      112 x\n",
      "di2     101 x\n",
      "um       96 x\n",
      "sza      82 x\n",
      "la2      80 x\n",
      "ta       78 x\n",
      "hu       70 x\n",
      "esz18    69 x\n",
      "dar      67 x\n",
      "lum2     63 x\n",
      "lim      55 x\n",
      "da       53 x\n",
      "bu       52 x\n",
      " ... and 144 more ...\n"
     ]
    }
   ],
   "source": [
    "umaReadings = collections.Counter()\n",
    "\n",
    "# collect\n",
    "\n",
    "for (line, um, ma1, sign, ma2) in results:\n",
    "    reading = F.reading.v(sign) or F.grapheme.v(sign)\n",
    "    if not reading:\n",
    "        continue\n",
    "    umaReadings[reading] += 1\n",
    "\n",
    "# show\n",
    "\n",
    "print(f\"Found {len(umaReadings)} distinct readings\")\n",
    "limit = 20\n",
    "\n",
    "for (reading, amount) in sorted(\n",
    "    umaReadings.items(),\n",
    "    key=lambda x: (-x[1], x[0]),\n",
    ")[0:limit]:\n",
    "    print(f\"{reading:<6} {amount:>4} x\")\n",
    "print(f\" ... and {len(umaReadings) - limit} more ...\")"
   ]
  },
  {
   "cell_type": "markdown",
   "metadata": {},
   "source": [
    "Now we visit all signs in the whole corpus and check whether their reading or grapheme is in this set.\n",
    "If so, we give that sign a value 1 in the dictionary `ummama`."
   ]
  },
  {
   "cell_type": "code",
   "execution_count": 8,
   "metadata": {},
   "outputs": [
    {
     "name": "stdout",
     "output_type": "stream",
     "text": [
      "Assigned `ummama=1` to 659791 sign occurrences out of 766501\n"
     ]
    }
   ],
   "source": [
    "ummama = {}\n",
    "\n",
    "allSigns = F.otype.s(\"sign\")\n",
    "\n",
    "for s in allSigns:\n",
    "    reading = F.reading.v(s) or F.grapheme.v(s)\n",
    "    if not reading:\n",
    "        continue\n",
    "    if reading in umaReadings:\n",
    "        ummama[s] = 1\n",
    "\n",
    "print(f\"Assigned `ummama=1` to {len(ummama)} sign occurrences out of {len(allSigns)}\")"
   ]
  },
  {
   "cell_type": "markdown",
   "metadata": {},
   "source": [
    "Note that the majority of all signs also occurs between `um-ma` and `ma` at the start of a document.\n",
    "\n",
    "Maybe this is an indication that we are not capturing the idea of selecting specific signs,\n",
    "we may have to strengthen our search criterion.\n",
    "\n",
    "But that is beyond this tutorial. We suppose these ummama words form a valueable set that we want to share."
   ]
  },
  {
   "cell_type": "markdown",
   "metadata": {},
   "source": [
    "# Saving data\n",
    "\n",
    "The [documentation](https://annotation.github.io/text-fabric/tf/core/fabric.html#tf.core.fabric.FabricCore.save)\n",
    "explains how to save this data into a text-fabric\n",
    "data file.\n",
    "\n",
    "We choose a location where to save it, the `exercises` repository in the `Nino-cunei` organization, in the folder `analysis`.\n",
    "\n",
    "In order to do this, we restart the TF api, but now with the desired output location in the `locations` parameter."
   ]
  },
  {
   "cell_type": "code",
   "execution_count": 12,
   "metadata": {},
   "outputs": [],
   "source": [
    "GITHUB = os.path.expanduser(\"~/github\")\n",
    "ORG = \"Nino-cunei\"\n",
    "REPO = \"exercises\"\n",
    "PATH = \"ass-analysis\"\n",
    "VERSION = A.version"
   ]
  },
  {
   "cell_type": "markdown",
   "metadata": {},
   "source": [
    "Note the version: we have built the version against a specific version of the data:"
   ]
  },
  {
   "cell_type": "code",
   "execution_count": 13,
   "metadata": {},
   "outputs": [
    {
     "data": {
      "text/plain": [
       "0.1"
      ]
     },
     "execution_count": 13,
     "metadata": {},
     "output_type": "execute_result"
    }
   ],
   "source": [
    "A.version"
   ]
  },
  {
   "cell_type": "markdown",
   "metadata": {},
   "source": [
    "Later on, we pass this version on, so that users of our data will get the shared data in exactly the same version as their core data."
   ]
  },
  {
   "cell_type": "markdown",
   "metadata": {},
   "source": [
    "We have to specify a bit of metadata for this feature:"
   ]
  },
  {
   "cell_type": "code",
   "execution_count": 14,
   "metadata": {},
   "outputs": [],
   "source": [
    "metaData = {\n",
    "    \"ummama\": dict(\n",
    "        valueType=\"int\",\n",
    "        description=\"reading occurs somewhere between um-ma and ma\",\n",
    "        creator=\"Dirk Roorda\",\n",
    "    ),\n",
    "}"
   ]
  },
  {
   "cell_type": "markdown",
   "metadata": {},
   "source": [
    "Now we can give the save command:"
   ]
  },
  {
   "cell_type": "code",
   "execution_count": 15,
   "metadata": {},
   "outputs": [
    {
     "name": "stdout",
     "output_type": "stream",
     "text": [
      "  0.00s Exporting 1 node and 0 edge and 0 config features to ~/github/Nino-cunei/exercises/ass-analysis/tf/0.1:\n",
      "   |     0.68s T ummama               to ~/github/Nino-cunei/exercises/ass-analysis/tf/0.1\n",
      "  0.68s Exported 1 node features and 0 edge features and 0 config features to ~/github/Nino-cunei/exercises/ass-analysis/tf/0.1\n"
     ]
    },
    {
     "data": {
      "text/plain": [
       "True"
      ]
     },
     "execution_count": 15,
     "metadata": {},
     "output_type": "execute_result"
    }
   ],
   "source": [
    "TF.save(\n",
    "    nodeFeatures=dict(ummama=ummama),\n",
    "    metaData=metaData,\n",
    "    location=f\"{GITHUB}/{ORG}/{REPO}/{PATH}/tf\",\n",
    "    module=VERSION,\n",
    ")"
   ]
  },
  {
   "cell_type": "markdown",
   "metadata": {},
   "source": [
    "# Sharing data\n",
    "\n",
    "How to share your own data is explained in the\n",
    "[documentation](https://annotation.github.io/text-fabric/tf/about/datasharing.html).\n",
    "\n",
    "Here we show it step by step for the `ummama` feature.\n",
    "\n",
    "If you commit your changes to the exercises repo, and have done a `git push origin master`,\n",
    "you already have shared your data!\n",
    "\n",
    "If you want to make a stable release, so that you can keep developing, while your users fall back\n",
    "on the stable data, you can make a new release.\n",
    "\n",
    "Go to the GitHub website for that, go to your repo, and click *Releases* and follow the nudges.\n",
    "\n",
    "If you want to make it even smoother for your users, you can zip the data and attach it as a binary to the release just created.\n",
    "\n",
    "We need to zip the data in exactly the right directory structure. Text-Fabric can do that for us:"
   ]
  },
  {
   "cell_type": "code",
   "execution_count": 16,
   "metadata": {},
   "outputs": [
    {
     "name": "stdout",
     "output_type": "stream",
     "text": [
      "True\n",
      "Create release data for Nino-cunei/exercises/ass-analysis/tf\n",
      "Found 1 versions\n",
      "zip files end up in ~/Downloads/Nino-cunei-release/exercises\n",
      "zipping Nino-cunei/exercises       0.1 with   1 features ==> ass-analysis-tf-0.1.zip\n"
     ]
    }
   ],
   "source": [
    "%%sh\n",
    "\n",
    "text-fabric-zip Nino-cunei/exercises/ass-analysis/tf"
   ]
  },
  {
   "cell_type": "markdown",
   "metadata": {},
   "source": [
    "All versions have been zipped, but it works OK if you only attach the newest version to the newest release.\n",
    "\n",
    "If a user asks for an older version in this release, the system can still find it."
   ]
  },
  {
   "cell_type": "markdown",
   "metadata": {},
   "source": [
    "# Use the data\n",
    "\n",
    "We can use the data by calling it up when we say `use('oldassyrian', ...)`.\n",
    "\n",
    "Here is how:"
   ]
  },
  {
   "cell_type": "code",
   "execution_count": 17,
   "metadata": {},
   "outputs": [
    {
     "data": {
      "text/html": [
       "<b title=\"local github\">TF-app:</b> <span title=\"repo clone offline under ~/github\">~/github/annotation/app-oldassyrian/code</span>"
      ],
      "text/plain": [
       "<IPython.core.display.HTML object>"
      ]
     },
     "metadata": {},
     "output_type": "display_data"
    },
    {
     "data": {
      "text/html": [
       "<b title=\"local github\">data:</b> <span title=\"repo clone offline under ~/github\">~/github/Nino-cunei/oldassyrian/tf/0.1</span>"
      ],
      "text/plain": [
       "<IPython.core.display.HTML object>"
      ]
     },
     "metadata": {},
     "output_type": "display_data"
    },
    {
     "data": {
      "text/html": [
       "<b title=\"local github\">data:</b> <span title=\"repo clone offline under ~/github\">~/github/Nino-cunei/exercises/ass-analysis/tf/0.1</span>"
      ],
      "text/plain": [
       "<IPython.core.display.HTML object>"
      ]
     },
     "metadata": {},
     "output_type": "display_data"
    },
    {
     "name": "stdout",
     "output_type": "stream",
     "text": [
      "   |     0.88s T ummama               from ~/github/Nino-cunei/exercises/ass-analysis/tf/0.1\n"
     ]
    },
    {
     "data": {
      "text/html": [
       "<b>Text-Fabric:</b> <a target=\"_blank\" href=\"https://annotation.github.io/text-fabric/cheatsheet.html\" title=\"text-fabric-api\">Text-Fabric API 8.3.4</a>, <a target=\"_blank\" href=\"https://github.com/annotation/app-oldassyrian\" title=\"oldassyrian TF-app\">app-oldassyrian</a>, <a target=\"_blank\" href=\"https://annotation.github.io/text-fabric/about/searchusage.html\" title=\"Search Templates Introduction and Reference\">Search Reference</a><br><b>Data:</b> <a target=\"_blank\" href=\"https://github.com/Nino-cunei/oldassyrian/blob/master/docs/about.md\" title=\"provenance of Old Assyrian Documents 2000-1600: Cuneiform tablets\">OLDASSYRIAN</a>, <a target=\"_blank\" href=\"https://github.com/Nino-cunei/oldassyrian/blob/master/programs/mapReadings.ipynb\" title=\"mapping from readings to UNICODE\">Character table</a>, <a target=\"_blank\" href=\"https://github.com/Nino-cunei/tfFromAtf/blob/master/docs/transcription.md\" title=\"OLDASSYRIAN feature documentation\">Feature docs</a><br><b>Features:</b><br><details><summary><b>Nino-cunei/exercises/ass-analysis/tf</b></summary><a target=\"_blank\" href=\"https://github.com/Nino-cunei/exercises/tree/master/ass-analysis/tf\" title=\"~/github/Nino-cunei/exercises/ass-analysis/tf/0.1/ummama.tf\">ummama</a><br></details><details><summary><b>Old Assyrian Documents 2000-1600: Cuneiform tablets</b></summary><a target=\"_blank\" href=\"https://github.com/Nino-cunei/tfFromAtf/blob/master/docs/transcription.md\" title=\"~/github/Nino-cunei/oldassyrian/tf/0.1/ARK.tf\">ARK</a><br><a target=\"_blank\" href=\"https://github.com/Nino-cunei/tfFromAtf/blob/master/docs/transcription.md\" title=\"~/github/Nino-cunei/oldassyrian/tf/0.1/after.tf\">after</a><br><a target=\"_blank\" href=\"https://github.com/Nino-cunei/tfFromAtf/blob/master/docs/transcription.md\" title=\"~/github/Nino-cunei/oldassyrian/tf/0.1/afterr.tf\">afterr</a><br><a target=\"_blank\" href=\"https://github.com/Nino-cunei/tfFromAtf/blob/master/docs/transcription.md\" title=\"~/github/Nino-cunei/oldassyrian/tf/0.1/afteru.tf\">afteru</a><br><a target=\"_blank\" href=\"https://github.com/Nino-cunei/tfFromAtf/blob/master/docs/transcription.md\" title=\"~/github/Nino-cunei/oldassyrian/tf/0.1/atf.tf\">atf</a><br><a target=\"_blank\" href=\"https://github.com/Nino-cunei/tfFromAtf/blob/master/docs/transcription.md\" title=\"~/github/Nino-cunei/oldassyrian/tf/0.1/atfpost.tf\">atfpost</a><br><a target=\"_blank\" href=\"https://github.com/Nino-cunei/tfFromAtf/blob/master/docs/transcription.md\" title=\"~/github/Nino-cunei/oldassyrian/tf/0.1/atfpre.tf\">atfpre</a><br><a target=\"_blank\" href=\"https://github.com/Nino-cunei/tfFromAtf/blob/master/docs/transcription.md\" title=\"~/github/Nino-cunei/oldassyrian/tf/0.1/author.tf\">author</a><br><a target=\"_blank\" href=\"https://github.com/Nino-cunei/tfFromAtf/blob/master/docs/transcription.md\" title=\"~/github/Nino-cunei/oldassyrian/tf/0.1/col.tf\">col</a><br><a target=\"_blank\" href=\"https://github.com/Nino-cunei/tfFromAtf/blob/master/docs/transcription.md\" title=\"~/github/Nino-cunei/oldassyrian/tf/0.1/collection.tf\">collection</a><br><a target=\"_blank\" href=\"https://github.com/Nino-cunei/tfFromAtf/blob/master/docs/transcription.md\" title=\"~/github/Nino-cunei/oldassyrian/tf/0.1/comment.tf\">comment</a><br><a target=\"_blank\" href=\"https://github.com/Nino-cunei/tfFromAtf/blob/master/docs/transcription.md\" title=\"~/github/Nino-cunei/oldassyrian/tf/0.1/damage.tf\">damage</a><br><a target=\"_blank\" href=\"https://github.com/Nino-cunei/tfFromAtf/blob/master/docs/transcription.md\" title=\"~/github/Nino-cunei/oldassyrian/tf/0.1/det.tf\">det</a><br><a target=\"_blank\" href=\"https://github.com/Nino-cunei/tfFromAtf/blob/master/docs/transcription.md\" title=\"~/github/Nino-cunei/oldassyrian/tf/0.1/docnote.tf\">docnote</a><br><a target=\"_blank\" href=\"https://github.com/Nino-cunei/tfFromAtf/blob/master/docs/transcription.md\" title=\"~/github/Nino-cunei/oldassyrian/tf/0.1/docnumber.tf\">docnumber</a><br><a target=\"_blank\" href=\"https://github.com/Nino-cunei/tfFromAtf/blob/master/docs/transcription.md\" title=\"~/github/Nino-cunei/oldassyrian/tf/0.1/excavation.tf\">excavation</a><br><a target=\"_blank\" href=\"https://github.com/Nino-cunei/tfFromAtf/blob/master/docs/transcription.md\" title=\"~/github/Nino-cunei/oldassyrian/tf/0.1/excised.tf\">excised</a><br><a target=\"_blank\" href=\"https://github.com/Nino-cunei/tfFromAtf/blob/master/docs/transcription.md\" title=\"~/github/Nino-cunei/oldassyrian/tf/0.1/face.tf\">face</a><br><a target=\"_blank\" href=\"https://github.com/Nino-cunei/tfFromAtf/blob/master/docs/transcription.md\" title=\"~/github/Nino-cunei/oldassyrian/tf/0.1/flags.tf\">flags</a><br><a target=\"_blank\" href=\"https://github.com/Nino-cunei/tfFromAtf/blob/master/docs/transcription.md\" title=\"~/github/Nino-cunei/oldassyrian/tf/0.1/fraction.tf\">fraction</a><br><a target=\"_blank\" href=\"https://github.com/Nino-cunei/tfFromAtf/blob/master/docs/transcription.md\" title=\"~/github/Nino-cunei/oldassyrian/tf/0.1/genre.tf\">genre</a><br><a target=\"_blank\" href=\"https://github.com/Nino-cunei/tfFromAtf/blob/master/docs/transcription.md\" title=\"~/github/Nino-cunei/oldassyrian/tf/0.1/grapheme.tf\">grapheme</a><br><a target=\"_blank\" href=\"https://github.com/Nino-cunei/tfFromAtf/blob/master/docs/transcription.md\" title=\"~/github/Nino-cunei/oldassyrian/tf/0.1/graphemer.tf\">graphemer</a><br><a target=\"_blank\" href=\"https://github.com/Nino-cunei/tfFromAtf/blob/master/docs/transcription.md\" title=\"~/github/Nino-cunei/oldassyrian/tf/0.1/graphemeu.tf\">graphemeu</a><br><a target=\"_blank\" href=\"https://github.com/Nino-cunei/tfFromAtf/blob/master/docs/transcription.md\" title=\"~/github/Nino-cunei/oldassyrian/tf/0.1/lang.tf\">lang</a><br><a target=\"_blank\" href=\"https://github.com/Nino-cunei/tfFromAtf/blob/master/docs/transcription.md\" title=\"~/github/Nino-cunei/oldassyrian/tf/0.1/langalt.tf\">langalt</a><br><a target=\"_blank\" href=\"https://github.com/Nino-cunei/tfFromAtf/blob/master/docs/transcription.md\" title=\"~/github/Nino-cunei/oldassyrian/tf/0.1/ln.tf\">ln</a><br><a target=\"_blank\" href=\"https://github.com/Nino-cunei/tfFromAtf/blob/master/docs/transcription.md\" title=\"~/github/Nino-cunei/oldassyrian/tf/0.1/lnc.tf\">lnc</a><br><a target=\"_blank\" href=\"https://github.com/Nino-cunei/tfFromAtf/blob/master/docs/transcription.md\" title=\"~/github/Nino-cunei/oldassyrian/tf/0.1/lnno.tf\">lnno</a><br><a target=\"_blank\" href=\"https://github.com/Nino-cunei/tfFromAtf/blob/master/docs/transcription.md\" title=\"~/github/Nino-cunei/oldassyrian/tf/0.1/material.tf\">material</a><br><a target=\"_blank\" href=\"https://github.com/Nino-cunei/tfFromAtf/blob/master/docs/transcription.md\" title=\"~/github/Nino-cunei/oldassyrian/tf/0.1/missing.tf\">missing</a><br><a target=\"_blank\" href=\"https://github.com/Nino-cunei/tfFromAtf/blob/master/docs/transcription.md\" title=\"~/github/Nino-cunei/oldassyrian/tf/0.1/museumcode.tf\">museumcode</a><br><a target=\"_blank\" href=\"https://github.com/Nino-cunei/tfFromAtf/blob/master/docs/transcription.md\" title=\"~/github/Nino-cunei/oldassyrian/tf/0.1/museumname.tf\">museumname</a><br><a target=\"_blank\" href=\"https://github.com/Nino-cunei/tfFromAtf/blob/master/docs/transcription.md\" title=\"~/github/Nino-cunei/oldassyrian/tf/0.1/object.tf\">object</a><br><a target=\"_blank\" href=\"https://github.com/Nino-cunei/tfFromAtf/blob/master/docs/transcription.md\" title=\"~/github/Nino-cunei/oldassyrian/tf/0.1/operator.tf\">operator</a><br><a target=\"_blank\" href=\"https://github.com/Nino-cunei/tfFromAtf/blob/master/docs/transcription.md\" title=\"~/github/Nino-cunei/oldassyrian/tf/0.1/operatorr.tf\">operatorr</a><br><a target=\"_blank\" href=\"https://github.com/Nino-cunei/tfFromAtf/blob/master/docs/transcription.md\" title=\"~/github/Nino-cunei/oldassyrian/tf/0.1/operatoru.tf\">operatoru</a><br><a target=\"_blank\" href=\"https://github.com/Nino-cunei/tfFromAtf/blob/master/docs/transcription.md\" title=\"~/github/Nino-cunei/oldassyrian/tf/0.1/otype.tf\">otype</a><br><a target=\"_blank\" href=\"https://github.com/Nino-cunei/tfFromAtf/blob/master/docs/transcription.md\" title=\"~/github/Nino-cunei/oldassyrian/tf/0.1/period.tf\">period</a><br><a target=\"_blank\" href=\"https://github.com/Nino-cunei/tfFromAtf/blob/master/docs/transcription.md\" title=\"~/github/Nino-cunei/oldassyrian/tf/0.1/pnumber.tf\">pnumber</a><br><a target=\"_blank\" href=\"https://github.com/Nino-cunei/tfFromAtf/blob/master/docs/transcription.md\" title=\"~/github/Nino-cunei/oldassyrian/tf/0.1/primecol.tf\">primecol</a><br><a target=\"_blank\" href=\"https://github.com/Nino-cunei/tfFromAtf/blob/master/docs/transcription.md\" title=\"~/github/Nino-cunei/oldassyrian/tf/0.1/primeln.tf\">primeln</a><br><a target=\"_blank\" href=\"https://github.com/Nino-cunei/tfFromAtf/blob/master/docs/transcription.md\" title=\"~/github/Nino-cunei/oldassyrian/tf/0.1/pubdate.tf\">pubdate</a><br><a target=\"_blank\" href=\"https://github.com/Nino-cunei/tfFromAtf/blob/master/docs/transcription.md\" title=\"~/github/Nino-cunei/oldassyrian/tf/0.1/question.tf\">question</a><br><a target=\"_blank\" href=\"https://github.com/Nino-cunei/tfFromAtf/blob/master/docs/transcription.md\" title=\"~/github/Nino-cunei/oldassyrian/tf/0.1/reading.tf\">reading</a><br><a target=\"_blank\" href=\"https://github.com/Nino-cunei/tfFromAtf/blob/master/docs/transcription.md\" title=\"~/github/Nino-cunei/oldassyrian/tf/0.1/readingr.tf\">readingr</a><br><a target=\"_blank\" href=\"https://github.com/Nino-cunei/tfFromAtf/blob/master/docs/transcription.md\" title=\"~/github/Nino-cunei/oldassyrian/tf/0.1/readingu.tf\">readingu</a><br><a target=\"_blank\" href=\"https://github.com/Nino-cunei/tfFromAtf/blob/master/docs/transcription.md\" title=\"~/github/Nino-cunei/oldassyrian/tf/0.1/remarkable.tf\">remarkable</a><br><a target=\"_blank\" href=\"https://github.com/Nino-cunei/tfFromAtf/blob/master/docs/transcription.md\" title=\"~/github/Nino-cunei/oldassyrian/tf/0.1/remarks.tf\">remarks</a><br><a target=\"_blank\" href=\"https://github.com/Nino-cunei/tfFromAtf/blob/master/docs/transcription.md\" title=\"~/github/Nino-cunei/oldassyrian/tf/0.1/repeat.tf\">repeat</a><br><a target=\"_blank\" href=\"https://github.com/Nino-cunei/tfFromAtf/blob/master/docs/transcription.md\" title=\"~/github/Nino-cunei/oldassyrian/tf/0.1/srcLn.tf\">srcLn</a><br><a target=\"_blank\" href=\"https://github.com/Nino-cunei/tfFromAtf/blob/master/docs/transcription.md\" title=\"~/github/Nino-cunei/oldassyrian/tf/0.1/srcLnNum.tf\">srcLnNum</a><br><a target=\"_blank\" href=\"https://github.com/Nino-cunei/tfFromAtf/blob/master/docs/transcription.md\" title=\"~/github/Nino-cunei/oldassyrian/tf/0.1/srcfile.tf\">srcfile</a><br><a target=\"_blank\" href=\"https://github.com/Nino-cunei/tfFromAtf/blob/master/docs/transcription.md\" title=\"~/github/Nino-cunei/oldassyrian/tf/0.1/subgenre.tf\">subgenre</a><br><a target=\"_blank\" href=\"https://github.com/Nino-cunei/tfFromAtf/blob/master/docs/transcription.md\" title=\"~/github/Nino-cunei/oldassyrian/tf/0.1/supplied.tf\">supplied</a><br><a target=\"_blank\" href=\"https://github.com/Nino-cunei/tfFromAtf/blob/master/docs/transcription.md\" title=\"~/github/Nino-cunei/oldassyrian/tf/0.1/sym.tf\">sym</a><br><a target=\"_blank\" href=\"https://github.com/Nino-cunei/tfFromAtf/blob/master/docs/transcription.md\" title=\"~/github/Nino-cunei/oldassyrian/tf/0.1/symr.tf\">symr</a><br><a target=\"_blank\" href=\"https://github.com/Nino-cunei/tfFromAtf/blob/master/docs/transcription.md\" title=\"~/github/Nino-cunei/oldassyrian/tf/0.1/symu.tf\">symu</a><br><a target=\"_blank\" href=\"https://github.com/Nino-cunei/tfFromAtf/blob/master/docs/transcription.md\" title=\"~/github/Nino-cunei/oldassyrian/tf/0.1/trans.tf\">trans</a><br><a target=\"_blank\" href=\"https://github.com/Nino-cunei/tfFromAtf/blob/master/docs/transcription.md\" title=\"~/github/Nino-cunei/oldassyrian/tf/0.1/transcriber.tf\">transcriber</a><br><a target=\"_blank\" href=\"https://github.com/Nino-cunei/tfFromAtf/blob/master/docs/transcription.md\" title=\"~/github/Nino-cunei/oldassyrian/tf/0.1/translation@en.tf\">translation@ll</a><br><a target=\"_blank\" href=\"https://github.com/Nino-cunei/tfFromAtf/blob/master/docs/transcription.md\" title=\"~/github/Nino-cunei/oldassyrian/tf/0.1/type.tf\">type</a><br><a target=\"_blank\" href=\"https://github.com/Nino-cunei/tfFromAtf/blob/master/docs/transcription.md\" title=\"~/github/Nino-cunei/oldassyrian/tf/0.1/uncertain.tf\">uncertain</a><br><a target=\"_blank\" href=\"https://github.com/Nino-cunei/tfFromAtf/blob/master/docs/transcription.md\" title=\"~/github/Nino-cunei/oldassyrian/tf/0.1/version.tf\">version</a><br><a target=\"_blank\" href=\"https://github.com/Nino-cunei/tfFromAtf/blob/master/docs/transcription.md\" title=\"~/github/Nino-cunei/oldassyrian/tf/0.1/volume.tf\">volume</a><br><b><i><a target=\"_blank\" href=\"https://github.com/Nino-cunei/tfFromAtf/blob/master/docs/transcription.md\" title=\"~/github/Nino-cunei/oldassyrian/tf/0.1/oslots.tf\">oslots</a></i></b><br></details>"
      ],
      "text/plain": [
       "<IPython.core.display.HTML object>"
      ]
     },
     "metadata": {},
     "output_type": "display_data"
    },
    {
     "data": {
      "text/html": [
       "<style>tr.tf.ltr, td.tf.ltr, th.tf.ltr { text-align: left ! important;}\n",
       "tr.tf.rtl, td.tf.rtl, th.tf.rtl { text-align: right ! important;}\n",
       "@font-face {\n",
       "  font-family: \"Gentium Plus\";\n",
       "  src: local('Gentium Plus'), local('GentiumPlus'),\n",
       "    url('/server/static/fonts/GentiumPlus-R.woff') format('woff'),\n",
       "    url('https://github.com/annotation/text-fabric/blob/master/tf/server/static/fonts/GentiumPlus-R.woff?raw=true') format('woff');\n",
       "}\n",
       "\n",
       "@font-face {\n",
       "  font-family: \"Ezra SIL\";\n",
       "  src: local('Ezra SIL'), local('EzraSIL'),\n",
       "    url('/server/static/fonts/SILEOT.woff') format('woff'),\n",
       "    url('https://github.com/annotation/text-fabric/blob/master/tf/server/static/fonts/SILEOT.woff?raw=true') format('woff');\n",
       "}\n",
       "\n",
       "@font-face {\n",
       "  font-family: \"SBL Hebrew\";\n",
       "  src: local('SBL Hebrew'), local('SBLHebrew'),\n",
       "    url('/server/static/fonts/SBL_Hbrw.woff') format('woff'),\n",
       "    url('https://github.com/annotation/text-fabric/blob/master/tf/server/static/fonts/SBL_Hbrw.woff?raw=true') format('woff');\n",
       "}\n",
       "\n",
       "@font-face {\n",
       "  font-family: \"Estrangelo Edessa\";\n",
       "  src: local('Estrangelo Edessa'), local('EstrangeloEdessa');\n",
       "    url('/server/static/fonts/SyrCOMEdessa.woff') format('woff'),\n",
       "    url('https://github.com/annotation/text-fabric/blob/master/tf/server/static/fonts/SyrCOMEdessa.woff?raw=true') format('woff');\n",
       "}\n",
       "\n",
       "@font-face {\n",
       "  font-family: AmiriQuran;\n",
       "  font-style: normal;\n",
       "  font-weight: 400;\n",
       "  src: local('Amiri Quran'), local('AmiriQuran'),\n",
       "    url('/server/static/fonts/AmiriQuran.woff') format('woff'),\n",
       "    url('https://github.com/annotation/text-fabric/blob/master/tf/server/static/fonts/AmiriQuran.woff?raw=true') format('woff');\n",
       "}\n",
       "\n",
       "@font-face {\n",
       "  font-family: AmiriQuranColored;\n",
       "  font-style: normal;\n",
       "  font-weight: 400;\n",
       "  src: local('Amiri Quran Colored'), local('AmiriQuranColored'),\n",
       "    url('/server/static/fonts/AmiriQuranColored.woff') format('woff'),\n",
       "    url('https://github.com/annotation/text-fabric/blob/master/tf/server/static/fonts/AmiriQuranColored.woff?raw=true') format('woff');\n",
       "}\n",
       "\n",
       "@font-face {\n",
       "  font-family: \"Santakku\";\n",
       "  src: local('Santakku'),\n",
       "    url('/server/static/fonts/Santakku.woff') format('woff'),\n",
       "    url('https://github.com/annotation/text-fabric/blob/master/tf/server/static/fonts/Santakku.woff?raw=true') format('woff');\n",
       "}\n",
       "\n",
       "@font-face {\n",
       "  font-family: \"SantakkuM\";\n",
       "  src: local('SantakkuM'),\n",
       "    url('/server/static/fonts/SantakkuM.woff') format('woff'),\n",
       "    url('https://github.com/annotation/text-fabric/blob/master/tf/server/static/fonts/SantakkuM.woff?raw=true') format('woff');\n",
       "}\n",
       "/* bypassing some classical notebook settings */\n",
       "div#notebook {\n",
       "  line-height: unset;\n",
       "}\n",
       "/* neutral text */\n",
       ".txtn,.txtn a:visited,.txtn a:link {\n",
       "    font-family: sans-serif;\n",
       "    font-size: medium;\n",
       "    direction: ltr;\n",
       "    text-decoration: none;\n",
       "    color: var(--text-color);\n",
       "}\n",
       "/* transcription text */\n",
       ".txtt,.txtt a:visited,.txtt a:link {\n",
       "    font-family: monospace;\n",
       "    font-size: medium;\n",
       "    direction: ltr;\n",
       "    text-decoration: none;\n",
       "    color: var(--text-color);\n",
       "}\n",
       "/* source text */\n",
       ".txto,.txto a:visited,.txto a:link {\n",
       "    font-family: serif;\n",
       "    font-size: medium;\n",
       "    direction: ltr;\n",
       "    text-decoration: none;\n",
       "    color: var(--text-color);\n",
       "}\n",
       "/* phonetic text */\n",
       ".txtp,.txtp a:visited,.txtp a:link {\n",
       "    font-family: Gentium, sans-serif;\n",
       "    font-size: medium;\n",
       "    direction: ltr;\n",
       "    text-decoration: none;\n",
       "    color: var(--text-color);\n",
       "}\n",
       "/* original script text */\n",
       ".txtu,.txtu a:visited,.txtu a:link {\n",
       "    font-family: Gentium, sans-serif;\n",
       "    font-size: medium;\n",
       "    text-decoration: none;\n",
       "    color: var(--text-color);\n",
       "}\n",
       "/* hebrew */\n",
       ".txtu.hbo,.lex.hbo {\n",
       "    font-family: \"Ezra SIL\", \"SBL Hebrew\", sans-serif;\n",
       "    font-size: large;\n",
       "    direction: rtl ! important;\n",
       "    unicode-bidi: embed;\n",
       "}\n",
       "/* syriac */\n",
       ".txtu.syc,.lex.syc {\n",
       "    font-family: \"Estrangelo Edessa\", sans-serif;\n",
       "    font-size: medium;\n",
       "    direction: rtl ! important;\n",
       "    unicode-bidi: embed;\n",
       "}\n",
       "/* neo aramaic */\n",
       ".txtu.cld,.lex.cld {\n",
       "    font-family: \"CharisSIL-R\", sans-serif;\n",
       "    font-size: medium;\n",
       "    direction: ltr ! important;\n",
       "    unicode-bidi: embed;\n",
       "}\n",
       "/* standard arabic */\n",
       ".txtu.ara,.lex.ara {\n",
       "    font-family: \"AmiriQuran\", sans-serif;\n",
       "    font-size: large;\n",
       "    direction: rtl ! important;\n",
       "    unicode-bidi: embed;\n",
       "}\n",
       "/* cuneiform */\n",
       ".txtu.akk,.lex.akk {\n",
       "    font-family: Santakku, sans-serif;\n",
       "    font-size: large;\n",
       "    direction: ltr ! important;\n",
       "    unicode-bidi: embed;\n",
       "}\n",
       "/* greek */\n",
       ".txtu.grc,.lex.grc a:link {\n",
       "    font-family: Gentium, sans-serif;\n",
       "    font-size: medium;\n",
       "    direction: ltr ! important;\n",
       "    unicode-bidi: embed;\n",
       "}\n",
       "a:hover {\n",
       "    text-decoration: underline | important;\n",
       "    color: #0000ff | important;\n",
       "}\n",
       ".ltr {\n",
       "    direction: ltr ! important;\n",
       "}\n",
       ".rtl {\n",
       "    direction: rtl ! important;\n",
       "}\n",
       ".features {\n",
       "    font-family: monospace;\n",
       "    font-size: medium;\n",
       "    font-weight: bold;\n",
       "    color: var(--features);\n",
       "    display: flex;\n",
       "    flex-flow: column nowrap;\n",
       "    justify-content: flex-start;\n",
       "    align-items: flex-start;\n",
       "    align-content: flex-start;\n",
       "    padding: 0.1rem;\n",
       "    margin: 0.1rem;\n",
       "    direction: ltr;\n",
       "    border: var(--meta-width) solid var(--meta-color);\n",
       "    border-radius: var(--meta-width);\n",
       "}\n",
       ".features div,.features span {\n",
       "    padding: 0;\n",
       "    margin: -0.1rem 0;\n",
       "}\n",
       ".features .f {\n",
       "    font-family: sans-serif;\n",
       "    font-size: small;\n",
       "    font-weight: normal;\n",
       "    color: #5555bb;\n",
       "}\n",
       ".features .xft {\n",
       "  color: #000000;\n",
       "  background-color: #eeeeee;\n",
       "  font-size: medium;\n",
       "  margin: 0.1rem 0rem;\n",
       "}\n",
       ".features .xft .f {\n",
       "  color: #000000;\n",
       "  background-color: #eeeeee;\n",
       "  font-size: small;\n",
       "  font-weight: normal;\n",
       "}\n",
       ".section {\n",
       "    font-family: sans-serif;\n",
       "    font-size: small;\n",
       "    font-weight: bold;\n",
       "    color: var(--section);\n",
       "    unicode-bidi: embed;\n",
       "    text-align: start;\n",
       "}\n",
       ".structure {\n",
       "    font-family: sans-serif;\n",
       "    font-size: small;\n",
       "    font-weight: bold;\n",
       "    color: var(--structure);\n",
       "    unicode-bidi: embed;\n",
       "    text-align: start;\n",
       "}\n",
       ".comments {\n",
       "    display: flex;\n",
       "    justify-content: flex-start;\n",
       "    align-items: flex-start;\n",
       "    align-content: flex-start;\n",
       "    flex-flow: column nowrap;\n",
       "}\n",
       ".nd, a:link.nd {\n",
       "    font-family: sans-serif;\n",
       "    font-size: small;\n",
       "    color: var(--node);\n",
       "    vertical-align: super;\n",
       "    direction: ltr ! important;\n",
       "    unicode-bidi: embed;\n",
       "}\n",
       ".lex {\n",
       "  color: var(--lex-color);;\n",
       "}\n",
       ".children,.children.ltr {\n",
       "    display: flex;\n",
       "    border: 0;\n",
       "    background-color: #ffffff;\n",
       "    justify-content: flex-start;\n",
       "    align-items: flex-start;\n",
       "    align-content: flex-start;\n",
       "}\n",
       ".children.stretch {\n",
       "    align-items: stretch;\n",
       "}\n",
       ".children.hor {\n",
       "    flex-flow: row nowrap;\n",
       "}\n",
       ".children.hor.wrap {\n",
       "    flex-flow: row wrap;\n",
       "}\n",
       ".children.ver {\n",
       "    flex-flow: column nowrap;\n",
       "}\n",
       ".children.ver.wrap {\n",
       "    flex-flow: column wrap;\n",
       "}\n",
       ".contnr {\n",
       "    width: fit-content;\n",
       "    display: flex;\n",
       "    justify-content: flex-start;\n",
       "    align-items: flex-start;\n",
       "    align-content: flex-start;\n",
       "    flex-flow: column nowrap;\n",
       "    background: #ffffff none repeat scroll 0 0;\n",
       "    padding:  0.5rem 0.1rem 0.1rem 0.1rem;\n",
       "    margin: 0.8rem 0.1rem 0.1rem 0.1rem;\n",
       "    border-style: solid;\n",
       "    font-size: small;\n",
       "}\n",
       ".contnr.trm {\n",
       "    background-attachment: local;\n",
       "}\n",
       ".contnr.cnul {\n",
       "    padding:  0;\n",
       "    margin: 0;\n",
       "    border-style: solid;\n",
       "    font-size: xx-small;\n",
       "}\n",
       ".contnr.cnul,.lbl.cnul {\n",
       "    border-color: var(--border-color-nul);\n",
       "    border-width: var(--border-width-nul);\n",
       "    border-radius: var(--border-width-nul);\n",
       "}\n",
       ".contnr.c0,.lbl.c0 {\n",
       "    border-color: var(--border-color0);\n",
       "    border-width: var(--border-width0);\n",
       "    border-radius: var(--border-width0);\n",
       "}\n",
       ".contnr.c1,.lbl.c1 {\n",
       "    border-color: var(--border-color1);\n",
       "    border-width: var(--border-width1);\n",
       "    border-radius: var(--border-width1);\n",
       "}\n",
       ".contnr.c2,.lbl.c2 {\n",
       "    border-color: var(--border-color2);\n",
       "    border-width: var(--border-width2);\n",
       "    border-radius: var(--border-width2);\n",
       "}\n",
       ".contnr.c3,.lbl.c3 {\n",
       "    border-color: var(--border-color3);\n",
       "    border-width: var(--border-width3);\n",
       "    border-radius: var(--border-width3);\n",
       "}\n",
       ".contnr.c4,.lbl.c4 {\n",
       "    border-color: var(--border-color4);\n",
       "    border-width: var(--border-width4);\n",
       "    border-radius: var(--border-width4);\n",
       "}\n",
       "span.plain {\n",
       "    display: inline-block;\n",
       "    white-space: pre-wrap;\n",
       "}\n",
       ".plain {\n",
       "    background-color: #ffffff;\n",
       "}\n",
       ".plain.l,.contnr.l,.contnr.l>.lbl {\n",
       "    border-left-style: dotted\n",
       "}\n",
       ".plain.r,.contnr.r,.contnr.r>.lbl {\n",
       "    border-right-style: dotted\n",
       "}\n",
       ".plain.lno,.contnr.lno,.contnr.lno>.lbl {\n",
       "    border-left-style: none\n",
       "}\n",
       ".plain.rno,.contnr.rno,.contnr.rno>.lbl {\n",
       "    border-right-style: none\n",
       "}\n",
       ".plain.l {\n",
       "    padding-left: 0.2rem;\n",
       "    margin-left: 0.1rem;\n",
       "    border-width: var(--border-width-plain);\n",
       "}\n",
       ".plain.r {\n",
       "    padding-right: 0.2rem;\n",
       "    margin-right: 0.1rem;\n",
       "    border-width: var(--border-width-plain);\n",
       "}\n",
       ".lbl {\n",
       "    font-family: monospace;\n",
       "    margin-top: -1.2rem;\n",
       "    margin-left: 1rem;\n",
       "    background: #ffffff none repeat scroll 0 0;\n",
       "    padding: 0 0.3rem;\n",
       "    border-style: solid;\n",
       "    display: block;\n",
       "    color: var(--label)\n",
       "}\n",
       ".lbl.trm {\n",
       "    background-attachment: local;\n",
       "    margin-top: 0.1rem;\n",
       "    margin-left: 0.1rem;\n",
       "    padding: 0.1rem 0.1rem;\n",
       "    border-style: none;\n",
       "}\n",
       ".lbl.cnul {\n",
       "    font-size: xx-small;\n",
       "}\n",
       ".lbl.c0 {\n",
       "    font-size: small;\n",
       "}\n",
       ".lbl.c1 {\n",
       "    font-size: small;\n",
       "}\n",
       ".lbl.c2 {\n",
       "    font-size: medium;\n",
       "}\n",
       ".lbl.c3 {\n",
       "    font-size: medium;\n",
       "}\n",
       ".lbl.c4 {\n",
       "    font-size: large;\n",
       "}\n",
       ".occs, a:link.occs {\n",
       "    font-size: small;\n",
       "}\n",
       "\n",
       "/* PROVENANCE */\n",
       "\n",
       "div.prov {\n",
       "\tmargin: 2rem;\n",
       "\tpadding: 1rem;\n",
       "\tborder: 0.1rem solid var(--fog-rim);\n",
       "}\n",
       "div.pline {\n",
       "\tdisplay: flex;\n",
       "\tflex-flow: row nowrap;\n",
       "\tjustify-content: stretch;\n",
       "\talign-items: baseline;\n",
       "}\n",
       "div.p2line {\n",
       "\tmargin-left: 2em;\n",
       "\tdisplay: flex;\n",
       "\tflex-flow: row nowrap;\n",
       "\tjustify-content: stretch;\n",
       "\talign-items: baseline;\n",
       "}\n",
       "div.psline {\n",
       "\tdisplay: flex;\n",
       "\tflex-flow: row nowrap;\n",
       "\tjustify-content: stretch;\n",
       "\talign-items: baseline;\n",
       "\tbackground-color: var(--gold-mist-back);\n",
       "}\n",
       "div.pname {\n",
       "\tflex: 0 0 5rem;\n",
       "\tfont-weight: bold;\n",
       "}\n",
       "div.pval {\n",
       "    flex: 1 1 auto;\n",
       "}\n",
       "\n",
       ":root {\n",
       "\t--node:               hsla(120, 100%,  20%, 1.0  );\n",
       "\t--label:              hsla(  0, 100%,  20%, 1.0  );\n",
       "\t--section:            hsla(  0, 100%,  25%, 1.0  );\n",
       "\t--structure:          hsla(120, 100%,  25%, 1.0  );\n",
       "\t--features:           hsla(  0,   0%,  30%, 1.0  );\n",
       "  --text-color:         hsla( 60,  80%,  10%, 1.0  );\n",
       "  --lex-color:          hsla(220,  90%,  60%, 1.0  );\n",
       "  --meta-color:         hsla(  0,   0%,  90%, 0.7  );\n",
       "  --meta-width:         0.15rem;\n",
       "  --border-color-nul:   hsla(  0,   0%,  90%, 0.5  );\n",
       "  --border-color0:      hsla(  0,   0%,  90%, 0.9  );\n",
       "  --border-color1:      hsla(  0,   0%,  80%, 0.9  );\n",
       "  --border-color2:      hsla(  0,   0%,  70%, 0.9  );\n",
       "  --border-color3:      hsla(  0,   0%,  80%, 0.8  );\n",
       "  --border-color4:      hsla(  0,   0%,  60%, 0.9  );\n",
       "  --border-width-nul:   0.1rem;\n",
       "  --border-width0:      0.1rem;\n",
       "  --border-width1:      0.15rem;\n",
       "  --border-width2:      0.2rem;\n",
       "  --border-width3:      0.3rem;\n",
       "  --border-width4:      0.25rem;\n",
       "  --border-width-plain: 0.1rem;\n",
       "}\n",
       ".hl {\n",
       "  background-color: var(--hl-strong);\n",
       "}\n",
       "span.hl {\n",
       "\tbackground-color: var(--hl-strong);\n",
       "\tborder-width: 0;\n",
       "\tborder-radius: 0.1rem;\n",
       "\tborder-style: solid;\n",
       "}\n",
       "div.contnr.hl,div.lbl.hl {\n",
       "  background-color: var(--hl-strong);\n",
       "}\n",
       "div.contnr.hl {\n",
       "  border-color: var(--hl-rim) ! important;\n",
       "\tborder-width: 0.2rem ! important;\n",
       "}\n",
       "\n",
       "span.hlbx {\n",
       "\tborder-color: var(--hl-rim);\n",
       "\tborder-width: 0.2rem ! important;\n",
       "\tborder-style: solid;\n",
       "\tborder-radius: 0.3rem;\n",
       "  padding: 0.2rem;\n",
       "  margin: 0.2rem;\n",
       "}\n",
       "\n",
       "span.plain {\n",
       "  display: inline-block;\n",
       "  white-space: pre-wrap;\n",
       "}\n",
       "\n",
       ":root {\n",
       "\t--hl-strong:        hsla( 60, 100%,  70%, 0.9  );\n",
       "\t--hl-rim:           hsla( 55,  80%,  50%, 1.0  );\n",
       "}\n",
       ".pnum {\n",
       "    font-family: sans-serif;\n",
       "    font-size: small;\n",
       "    font-weight: bold;\n",
       "    color: #444444;\n",
       "}\n",
       ".op {\n",
       "    padding:  0.5em 0.1em 0.1em 0.1em;\n",
       "    margin: 0.8em 0.1em 0.1em 0.1em;\n",
       "    font-family: monospace;\n",
       "    font-size: x-large;\n",
       "    font-weight: bold;\n",
       "}\n",
       ".period {\n",
       "    font-family: monospace;\n",
       "    font-size: medium;\n",
       "    font-weight: bold;\n",
       "    color: #0000bb;\n",
       "}\n",
       ".comment {\n",
       "    color: #7777dd;\n",
       "    font-family: monospace;\n",
       "    font-size: small;\n",
       "}\n",
       ".operator {\n",
       "    color: #ff77ff;\n",
       "    font-size: large;\n",
       "}\n",
       "/* LANGUAGE: superscript and subscript */\n",
       "\n",
       "/* cluster */\n",
       ".det {\n",
       "    vertical-align: super;\n",
       "}\n",
       "/* cluster */\n",
       ".langalt {\n",
       "    vertical-align: sub;\n",
       "}\n",
       "/* REDACTIONAL: line over or under  */\n",
       "\n",
       "/* flag */\n",
       ".collated {\n",
       "    font-weight: bold;\n",
       "    text-decoration: underline;\n",
       "}\n",
       "/* cluster */\n",
       ".excised {\n",
       "    color: #dd0000;\n",
       "    text-decoration: line-through;\n",
       "}\n",
       "/* cluster */\n",
       ".supplied {\n",
       "    color: #0000ff;\n",
       "    text-decoration: overline;\n",
       "}\n",
       "/* flag */\n",
       ".remarkable {\n",
       "    font-weight: bold;\n",
       "    text-decoration: overline;\n",
       "}\n",
       "\n",
       "/* UNSURE: italic*/\n",
       "\n",
       "/* cluster */\n",
       ".uncertain {\n",
       "    font-style: italic\n",
       "}\n",
       "/* flag */\n",
       ".question {\n",
       "    font-weight: bold;\n",
       "    font-style: italic\n",
       "}\n",
       "\n",
       "/* BROKEN: text-shadow */\n",
       "\n",
       "/* cluster */\n",
       ".missing {\n",
       "    color: #999999;\n",
       "    text-shadow: #bbbbbb 1px 1px;\n",
       "}\n",
       "/* flag */\n",
       ".damage {\n",
       "    font-weight: bold;\n",
       "    color: #999999;\n",
       "    text-shadow: #bbbbbb 1px 1px;\n",
       "}\n",
       ".empty {\n",
       "  color: #ff0000;\n",
       "}\n",
       "\n",
       "</style>"
      ],
      "text/plain": [
       "<IPython.core.display.HTML object>"
      ]
     },
     "metadata": {},
     "output_type": "display_data"
    },
    {
     "data": {
      "text/html": [
       "<div><b>Text-Fabric API:</b> names <a target=\"_blank\" href=\"https://annotation.github.io/text-fabric/cheatsheet.html\" title=\"doc\">N F E L T S C TF</a> directly usable</div><hr>"
      ],
      "text/plain": [
       "<IPython.core.display.HTML object>"
      ]
     },
     "metadata": {},
     "output_type": "display_data"
    }
   ],
   "source": [
    "A = use(\n",
    "    \"oldassyrian:clone\",\n",
    "    checkout=\"clone\",\n",
    "    hoist=globals(),\n",
    "    mod=\"Nino-cunei/exercises/ass-analysis/tf:clone\",\n",
    ")\n",
    "# A = use('oldassyrian', hoist=globals(), mod='Nino-cunei/exercises/ass-analysis/tf')"
   ]
  },
  {
   "cell_type": "markdown",
   "metadata": {},
   "source": [
    "Above you see a new section in the feature list: **Nino-cunei/exercises/analysis/tf** with our foreign feature in it: `ummama`.\n",
    "\n",
    "Now, suppose did not know much about this feature, then we would like to do a few basic checks:"
   ]
  },
  {
   "cell_type": "code",
   "execution_count": 18,
   "metadata": {},
   "outputs": [
    {
     "data": {
      "text/plain": [
       "((1, 659791),)"
      ]
     },
     "execution_count": 18,
     "metadata": {},
     "output_type": "execute_result"
    }
   ],
   "source": [
    "F.ummama.freqList()"
   ]
  },
  {
   "cell_type": "markdown",
   "metadata": {},
   "source": [
    "We see that the feature has only one value, `1`, and that 182222 nodes have it."
   ]
  },
  {
   "cell_type": "markdown",
   "metadata": {},
   "source": [
    "Which nodes have a ummmama feature?"
   ]
  },
  {
   "cell_type": "code",
   "execution_count": 19,
   "metadata": {},
   "outputs": [
    {
     "data": {
      "text/plain": [
       "{'sign'}"
      ]
     },
     "execution_count": 19,
     "metadata": {},
     "output_type": "execute_result"
    }
   ],
   "source": [
    "{F.otype.v(n) for n in N.walk() if F.ummama.v(n)}"
   ]
  },
  {
   "cell_type": "markdown",
   "metadata": {},
   "source": [
    "Only signs have the feature.\n",
    "\n",
    "Let's have a look at a table of some ummama signs."
   ]
  },
  {
   "cell_type": "code",
   "execution_count": 20,
   "metadata": {},
   "outputs": [
    {
     "name": "stdout",
     "output_type": "stream",
     "text": [
      "  1.06s 659791 results\n"
     ]
    }
   ],
   "source": [
    "results = A.search(\n",
    "    \"\"\"\n",
    "sign ummama\n",
    "\"\"\"\n",
    ")"
   ]
  },
  {
   "cell_type": "code",
   "execution_count": 21,
   "metadata": {},
   "outputs": [
    {
     "data": {
      "text/html": [
       "<table><tr class=\"tf ltr\"><th class=\"tf ltr\">n</th><th class=\"tf ltr\">p</th><th class=\"tf ltr\">sign</th></tr>\n",
       "<tr class=\"tf ltr\"><td class=\"tf ltr\">1</td><td class=\"tf ltr\"><span class=\"section ltr\"><a target=\"_blank\" href=\"https://cdli.ucla.edu/search/search_results.php?SearchMode=Text&amp;ObjectID=P390626\" title=\"Show this document on CDLI\" sec=\"P390626 obverse:1\">P390626 obverse:1</a></span></td><td class=\"tf ltr\"><div class=\"\"><span class=\"plain   hl\" ><span class=\"txto\">_lugal_ </span></span></div></td></tr>\n",
       "<tr class=\"tf ltr\"><td class=\"tf ltr\">2</td><td class=\"tf ltr\"><span class=\"section ltr\"><a target=\"_blank\" href=\"https://cdli.ucla.edu/search/search_results.php?SearchMode=Text&amp;ObjectID=P390626\" title=\"Show this document on CDLI\" sec=\"P390626 obverse:1\">P390626 obverse:1</a></span></td><td class=\"tf ltr\"><div class=\"\"><span class=\"plain   hl\" ><span class=\"txto\">lugal-</span></span></div></td></tr>\n",
       "<tr class=\"tf ltr\"><td class=\"tf ltr\">3</td><td class=\"tf ltr\"><span class=\"section ltr\"><a target=\"_blank\" href=\"https://cdli.ucla.edu/search/search_results.php?SearchMode=Text&amp;ObjectID=P390626\" title=\"Show this document on CDLI\" sec=\"P390626 obverse:1\">P390626 obverse:1</a></span></td><td class=\"tf ltr\"><div class=\"\"><span class=\"plain   hl\" ><span class=\"txto\">ke-</span></span></div></td></tr>\n",
       "<tr class=\"tf ltr\"><td class=\"tf ltr\">4</td><td class=\"tf ltr\"><span class=\"section ltr\"><a target=\"_blank\" href=\"https://cdli.ucla.edu/search/search_results.php?SearchMode=Text&amp;ObjectID=P390626\" title=\"Show this document on CDLI\" sec=\"P390626 obverse:1\">P390626 obverse:1</a></span></td><td class=\"tf ltr\"><div class=\"\"><span class=\"plain   hl\" ><span class=\"txto\">en6 </span></span></div></td></tr>\n",
       "<tr class=\"tf ltr\"><td class=\"tf ltr\">5</td><td class=\"tf ltr\"><span class=\"section ltr\"><a target=\"_blank\" href=\"https://cdli.ucla.edu/search/search_results.php?SearchMode=Text&amp;ObjectID=P390626\" title=\"Show this document on CDLI\" sec=\"P390626 obverse:1\">P390626 obverse:1</a></span></td><td class=\"tf ltr\"><div class=\"\"><span class=\"plain   hl\" ><span class=\"txto\">_lugal_</span></span></div></td></tr>\n",
       "<tr class=\"tf ltr\"><td class=\"tf ltr\">6</td><td class=\"tf ltr\"><span class=\"section ltr\"><a target=\"_blank\" href=\"https://cdli.ucla.edu/search/search_results.php?SearchMode=Text&amp;ObjectID=P390626\" title=\"Show this document on CDLI\" sec=\"P390626 obverse:2\">P390626 obverse:2</a></span></td><td class=\"tf ltr\"><div class=\"\"><span class=\"plain   hl\" ><span class=\"txto\">a-</span></span></div></td></tr>\n",
       "<tr class=\"tf ltr\"><td class=\"tf ltr\">7</td><td class=\"tf ltr\"><span class=\"section ltr\"><a target=\"_blank\" href=\"https://cdli.ucla.edu/search/search_results.php?SearchMode=Text&amp;ObjectID=P390626\" title=\"Show this document on CDLI\" sec=\"P390626 obverse:2\">P390626 obverse:2</a></span></td><td class=\"tf ltr\"><div class=\"\"><span class=\"plain   hl\" ><span class=\"txto\">ki-</span></span></div></td></tr>\n",
       "<tr class=\"tf ltr\"><td class=\"tf ltr\">8</td><td class=\"tf ltr\"><span class=\"section ltr\"><a target=\"_blank\" href=\"https://cdli.ucla.edu/search/search_results.php?SearchMode=Text&amp;ObjectID=P390626\" title=\"Show this document on CDLI\" sec=\"P390626 obverse:2\">P390626 obverse:2</a></span></td><td class=\"tf ltr\"><div class=\"\"><span class=\"plain   hl\" ><span class=\"txto\">di2-</span></span></div></td></tr>\n",
       "<tr class=\"tf ltr\"><td class=\"tf ltr\">9</td><td class=\"tf ltr\"><span class=\"section ltr\"><a target=\"_blank\" href=\"https://cdli.ucla.edu/search/search_results.php?SearchMode=Text&amp;ObjectID=P390626\" title=\"Show this document on CDLI\" sec=\"P390626 obverse:2\">P390626 obverse:2</a></span></td><td class=\"tf ltr\"><div class=\"\"><span class=\"plain   hl\" ><span class=\"txto\">e </span></span></div></td></tr>\n",
       "<tr class=\"tf ltr\"><td class=\"tf ltr\">10</td><td class=\"tf ltr\"><span class=\"section ltr\"><a target=\"_blank\" href=\"https://cdli.ucla.edu/search/search_results.php?SearchMode=Text&amp;ObjectID=P390626\" title=\"Show this document on CDLI\" sec=\"P390626 obverse:2\">P390626 obverse:2</a></span></td><td class=\"tf ltr\"><div class=\"\"><span class=\"plain   hl\" ><span class=\"txto\">re-</span></span></div></td></tr>\n",
       "<tr class=\"tf ltr\"><td class=\"tf ltr\">11</td><td class=\"tf ltr\"><span class=\"section ltr\"><a target=\"_blank\" href=\"https://cdli.ucla.edu/search/search_results.php?SearchMode=Text&amp;ObjectID=P390626\" title=\"Show this document on CDLI\" sec=\"P390626 obverse:2\">P390626 obverse:2</a></span></td><td class=\"tf ltr\"><div class=\"\"><span class=\"plain   hl\" ><span class=\"txto\">be-</span></span></div></td></tr>\n",
       "<tr class=\"tf ltr\"><td class=\"tf ltr\">12</td><td class=\"tf ltr\"><span class=\"section ltr\"><a target=\"_blank\" href=\"https://cdli.ucla.edu/search/search_results.php?SearchMode=Text&amp;ObjectID=P390626\" title=\"Show this document on CDLI\" sec=\"P390626 obverse:2\">P390626 obverse:2</a></span></td><td class=\"tf ltr\"><div class=\"\"><span class=\"plain   hl\" ><span class=\"txto\">tim </span></span></div></td></tr>\n",
       "<tr class=\"tf ltr\"><td class=\"tf ltr\">13</td><td class=\"tf ltr\"><span class=\"section ltr\"><a target=\"_blank\" href=\"https://cdli.ucla.edu/search/search_results.php?SearchMode=Text&amp;ObjectID=P390626\" title=\"Show this document on CDLI\" sec=\"P390626 obverse:2\">P390626 obverse:2</a></span></td><td class=\"tf ltr\"><div class=\"\"><span class=\"plain   hl\" ><span class=\"txto\">_lugal_</span></span></div></td></tr>\n",
       "<tr class=\"tf ltr\"><td class=\"tf ltr\">14</td><td class=\"tf ltr\"><span class=\"section ltr\"><a target=\"_blank\" href=\"https://cdli.ucla.edu/search/search_results.php?SearchMode=Text&amp;ObjectID=P390626\" title=\"Show this document on CDLI\" sec=\"P390626 obverse:3\">P390626 obverse:3</a></span></td><td class=\"tf ltr\"><div class=\"\"><span class=\"plain   hl\" ><span class=\"txto\">da-</span></span></div></td></tr>\n",
       "<tr class=\"tf ltr\"><td class=\"tf ltr\">15</td><td class=\"tf ltr\"><span class=\"section ltr\"><a target=\"_blank\" href=\"https://cdli.ucla.edu/search/search_results.php?SearchMode=Text&amp;ObjectID=P390626\" title=\"Show this document on CDLI\" sec=\"P390626 obverse:3\">P390626 obverse:3</a></span></td><td class=\"tf ltr\"><div class=\"\"><span class=\"plain   hl\" ><span class=\"txto\">num </span></span></div></td></tr>\n",
       "<tr class=\"tf ltr\"><td class=\"tf ltr\">16</td><td class=\"tf ltr\"><span class=\"section ltr\"><a target=\"_blank\" href=\"https://cdli.ucla.edu/search/search_results.php?SearchMode=Text&amp;ObjectID=P390626\" title=\"Show this document on CDLI\" sec=\"P390626 obverse:3\">P390626 obverse:3</a></span></td><td class=\"tf ltr\"><div class=\"\"><span class=\"plain   hl\" ><span class=\"txto\">sza </span></span></div></td></tr>\n",
       "<tr class=\"tf ltr\"><td class=\"tf ltr\">17</td><td class=\"tf ltr\"><span class=\"section ltr\"><a target=\"_blank\" href=\"https://cdli.ucla.edu/search/search_results.php?SearchMode=Text&amp;ObjectID=P390626\" title=\"Show this document on CDLI\" sec=\"P390626 obverse:3\">P390626 obverse:3</a></span></td><td class=\"tf ltr\"><div class=\"\"><span class=\"plain   hl\" ><span class=\"txto\">isz-</span></span></div></td></tr>\n",
       "<tr class=\"tf ltr\"><td class=\"tf ltr\">18</td><td class=\"tf ltr\"><span class=\"section ltr\"><a target=\"_blank\" href=\"https://cdli.ucla.edu/search/search_results.php?SearchMode=Text&amp;ObjectID=P390626\" title=\"Show this document on CDLI\" sec=\"P390626 obverse:3\">P390626 obverse:3</a></span></td><td class=\"tf ltr\"><div class=\"\"><span class=\"plain   hl\" ><span class=\"txto\">ti2 </span></span></div></td></tr>\n",
       "<tr class=\"tf ltr\"><td class=\"tf ltr\">19</td><td class=\"tf ltr\"><span class=\"section ltr\"><a target=\"_blank\" href=\"https://cdli.ucla.edu/search/search_results.php?SearchMode=Text&amp;ObjectID=P390626\" title=\"Show this document on CDLI\" sec=\"P390626 obverse:3\">P390626 obverse:3</a></span></td><td class=\"tf ltr\"><div class=\"\"><span class=\"plain   hl\" ><span class=\"txto\">i-</span></span></div></td></tr>\n",
       "<tr class=\"tf ltr\"><td class=\"tf ltr\">20</td><td class=\"tf ltr\"><span class=\"section ltr\"><a target=\"_blank\" href=\"https://cdli.ucla.edu/search/search_results.php?SearchMode=Text&amp;ObjectID=P390626\" title=\"Show this document on CDLI\" sec=\"P390626 obverse:3\">P390626 obverse:3</a></span></td><td class=\"tf ltr\"><div class=\"\"><span class=\"plain   hl\" ><span class=\"txto\">e</span></span></div></td></tr></table>"
      ],
      "text/plain": [
       "<IPython.core.display.HTML object>"
      ]
     },
     "metadata": {},
     "output_type": "display_data"
    }
   ],
   "source": [
    "A.table(results, start=1, end=20)"
   ]
  },
  {
   "cell_type": "markdown",
   "metadata": {},
   "source": [
    "Now let's get some non-ummama signs:"
   ]
  },
  {
   "cell_type": "code",
   "execution_count": 22,
   "metadata": {},
   "outputs": [
    {
     "name": "stdout",
     "output_type": "stream",
     "text": [
      "  0.59s 106710 results\n"
     ]
    }
   ],
   "source": [
    "results = A.search(\n",
    "    \"\"\"\n",
    "sign ummama#\n",
    "\"\"\"\n",
    ")"
   ]
  },
  {
   "cell_type": "code",
   "execution_count": 23,
   "metadata": {},
   "outputs": [
    {
     "data": {
      "text/html": [
       "<table><tr class=\"tf ltr\"><th class=\"tf ltr\">n</th><th class=\"tf ltr\">p</th><th class=\"tf ltr\">sign</th></tr>\n",
       "<tr class=\"tf ltr\"><td class=\"tf ltr\">1</td><td class=\"tf ltr\"><span class=\"section ltr\"><a target=\"_blank\" href=\"https://cdli.ucla.edu/search/search_results.php?SearchMode=Text&amp;ObjectID=P390626\" title=\"Show this document on CDLI\" sec=\"P390626 obverse:3\">P390626 obverse:3</a></span></td><td class=\"tf ltr\"><div class=\"\"><span class=\"plain   hl\" ><span class=\"txto\">le-</span></span></div></td></tr>\n",
       "<tr class=\"tf ltr\"><td class=\"tf ltr\">2</td><td class=\"tf ltr\"><span class=\"section ltr\"><a target=\"_blank\" href=\"https://cdli.ucla.edu/search/search_results.php?SearchMode=Text&amp;ObjectID=P390626\" title=\"Show this document on CDLI\" sec=\"P390626 obverse:4\">P390626 obverse:4</a></span></td><td class=\"tf ltr\"><div class=\"\"><span class=\"plain   hl\" ><span class=\"txto\">wu-</span></span></div></td></tr>\n",
       "<tr class=\"tf ltr\"><td class=\"tf ltr\">3</td><td class=\"tf ltr\"><span class=\"section ltr\"><a target=\"_blank\" href=\"https://cdli.ucla.edu/search/search_results.php?SearchMode=Text&amp;ObjectID=P390626\" title=\"Show this document on CDLI\" sec=\"P390626 obverse:7\">P390626 obverse:7</a></span></td><td class=\"tf ltr\"><div class=\"\"><span class=\"plain   hl\" ><span class=\"txto\">as,-</span></span></div></td></tr>\n",
       "<tr class=\"tf ltr\"><td class=\"tf ltr\">4</td><td class=\"tf ltr\"><span class=\"section ltr\"><a target=\"_blank\" href=\"https://cdli.ucla.edu/search/search_results.php?SearchMode=Text&amp;ObjectID=P390626\" title=\"Show this document on CDLI\" sec=\"P390626 obverse:8\">P390626 obverse:8</a></span></td><td class=\"tf ltr\"><div class=\"\"><span class=\"plain   hl\" ><span class=\"txto\">u4-</span></span></div></td></tr>\n",
       "<tr class=\"tf ltr\"><td class=\"tf ltr\">5</td><td class=\"tf ltr\"><span class=\"section ltr\"><a target=\"_blank\" href=\"https://cdli.ucla.edu/search/search_results.php?SearchMode=Text&amp;ObjectID=P390626\" title=\"Show this document on CDLI\" sec=\"P390626 obverse:8\">P390626 obverse:8</a></span></td><td class=\"tf ltr\"><div class=\"\"><span class=\"plain   hl\" ><span class=\"txto\">te2-</span></span></div></td></tr>\n",
       "<tr class=\"tf ltr\"><td class=\"tf ltr\">6</td><td class=\"tf ltr\"><span class=\"section ltr\"><a target=\"_blank\" href=\"https://cdli.ucla.edu/search/search_results.php?SearchMode=Text&amp;ObjectID=P390626\" title=\"Show this document on CDLI\" sec=\"P390626 obverse:11\">P390626 obverse:11</a></span></td><td class=\"tf ltr\"><div class=\"\"><span class=\"plain   hl\" ><span class=\"txto\">iq </span></span></div></td></tr>\n",
       "<tr class=\"tf ltr\"><td class=\"tf ltr\">7</td><td class=\"tf ltr\"><span class=\"section ltr\"><a target=\"_blank\" href=\"https://cdli.ucla.edu/search/search_results.php?SearchMode=Text&amp;ObjectID=P390626\" title=\"Show this document on CDLI\" sec=\"P390626 obverse:15\">P390626 obverse:15</a></span></td><td class=\"tf ltr\"><div class=\"\"><span class=\"plain   hl\" ><span class=\"txto\">iq-</span></span></div></td></tr>\n",
       "<tr class=\"tf ltr\"><td class=\"tf ltr\">8</td><td class=\"tf ltr\"><span class=\"section ltr\"><a target=\"_blank\" href=\"https://cdli.ucla.edu/search/search_results.php?SearchMode=Text&amp;ObjectID=P390626\" title=\"Show this document on CDLI\" sec=\"P390626 obverse:17\">P390626 obverse:17</a></span></td><td class=\"tf ltr\"><div class=\"\"><span class=\"plain   hl\" ><span class=\"txto\">as,-</span></span></div></td></tr>\n",
       "<tr class=\"tf ltr\"><td class=\"tf ltr\">9</td><td class=\"tf ltr\"><span class=\"section ltr\"><a target=\"_blank\" href=\"https://cdli.ucla.edu/search/search_results.php?SearchMode=Text&amp;ObjectID=P390626\" title=\"Show this document on CDLI\" sec=\"P390626 obverse:18\">P390626 obverse:18</a></span></td><td class=\"tf ltr\"><div class=\"\"><span class=\"plain   hl\" ><span class=\"txto\">sze2-</span></span></div></td></tr>\n",
       "<tr class=\"tf ltr\"><td class=\"tf ltr\">10</td><td class=\"tf ltr\"><span class=\"section ltr\"><a target=\"_blank\" href=\"https://cdli.ucla.edu/search/search_results.php?SearchMode=Text&amp;ObjectID=P390626\" title=\"Show this document on CDLI\" sec=\"P390626 obverse:19\">P390626 obverse:19</a></span></td><td class=\"tf ltr\"><div class=\"\"><span class=\"plain   hl\" ><span class=\"txto\">gu4 </span></span></div></td></tr>\n",
       "<tr class=\"tf ltr\"><td class=\"tf ltr\">11</td><td class=\"tf ltr\"><span class=\"section ltr\"><a target=\"_blank\" href=\"https://cdli.ucla.edu/search/search_results.php?SearchMode=Text&amp;ObjectID=P390626\" title=\"Show this document on CDLI\" sec=\"P390626 obverse:20\">P390626 obverse:20</a></span></td><td class=\"tf ltr\"><div class=\"\"><span class=\"plain   hl\" ><span class=\"txto\">_udu-</span></span></div></td></tr>\n",
       "<tr class=\"tf ltr\"><td class=\"tf ltr\">12</td><td class=\"tf ltr\"><span class=\"section ltr\"><a target=\"_blank\" href=\"https://cdli.ucla.edu/search/search_results.php?SearchMode=Text&amp;ObjectID=P390626\" title=\"Show this document on CDLI\" sec=\"P390626 obverse:20\">P390626 obverse:20</a></span></td><td class=\"tf ltr\"><div class=\"\"><span class=\"plain   hl\" ><span class=\"txto\">t,a-</span></span></div></td></tr>\n",
       "<tr class=\"tf ltr\"><td class=\"tf ltr\">13</td><td class=\"tf ltr\"><span class=\"section ltr\"><a target=\"_blank\" href=\"https://cdli.ucla.edu/search/search_results.php?SearchMode=Text&amp;ObjectID=P390626\" title=\"Show this document on CDLI\" sec=\"P390626 obverse:21\">P390626 obverse:21</a></span></td><td class=\"tf ltr\"><div class=\"\"><span class=\"plain   hl\" ><span class=\"txto\">qa2-</span></span></div></td></tr>\n",
       "<tr class=\"tf ltr\"><td class=\"tf ltr\">14</td><td class=\"tf ltr\"><span class=\"section ltr\"><a target=\"_blank\" href=\"https://cdli.ucla.edu/search/search_results.php?SearchMode=Text&amp;ObjectID=P390626\" title=\"Show this document on CDLI\" sec=\"P390626 obverse:26\">P390626 obverse:26</a></span></td><td class=\"tf ltr\"><div class=\"\"><span class=\"plain   hl\" ><span class=\"txto\">u4-</span></span></div></td></tr>\n",
       "<tr class=\"tf ltr\"><td class=\"tf ltr\">15</td><td class=\"tf ltr\"><span class=\"section ltr\"><a target=\"_blank\" href=\"https://cdli.ucla.edu/search/search_results.php?SearchMode=Text&amp;ObjectID=P390626\" title=\"Show this document on CDLI\" sec=\"P390626 obverse:29\">P390626 obverse:29</a></span></td><td class=\"tf ltr\"><div class=\"\"><span class=\"plain   hl\" ><span class=\"txto\">_tir_-</span></span></div></td></tr>\n",
       "<tr class=\"tf ltr\"><td class=\"tf ltr\">16</td><td class=\"tf ltr\"><span class=\"section ltr\"><a target=\"_blank\" href=\"https://cdli.ucla.edu/search/search_results.php?SearchMode=Text&amp;ObjectID=P390626\" title=\"Show this document on CDLI\" sec=\"P390626 obverse:29\">P390626 obverse:29</a></span></td><td class=\"tf ltr\"><div class=\"\"><span class=\"plain   hl\" ><span class=\"txto\">ig-</span></span></div></td></tr>\n",
       "<tr class=\"tf ltr\"><td class=\"tf ltr\">17</td><td class=\"tf ltr\"><span class=\"section ltr\"><a target=\"_blank\" href=\"https://cdli.ucla.edu/search/search_results.php?SearchMode=Text&amp;ObjectID=P390626\" title=\"Show this document on CDLI\" sec=\"P390626 obverse:30\">P390626 obverse:30</a></span></td><td class=\"tf ltr\"><div class=\"\"><span class=\"plain   hl\" ><span class=\"txto\">qa2-</span></span></div></td></tr>\n",
       "<tr class=\"tf ltr\"><td class=\"tf ltr\">18</td><td class=\"tf ltr\"><span class=\"section ltr\"><a target=\"_blank\" href=\"https://cdli.ucla.edu/search/search_results.php?SearchMode=Text&amp;ObjectID=P390626\" title=\"Show this document on CDLI\" sec=\"P390626 reverse:3\">P390626 reverse:3</a></span></td><td class=\"tf ltr\"><div class=\"\"><span class=\"plain   hl\" ><span class=\"txto\">ik-</span></span></div></td></tr>\n",
       "<tr class=\"tf ltr\"><td class=\"tf ltr\">19</td><td class=\"tf ltr\"><span class=\"section ltr\"><a target=\"_blank\" href=\"https://cdli.ucla.edu/search/search_results.php?SearchMode=Text&amp;ObjectID=P390626\" title=\"Show this document on CDLI\" sec=\"P390626 reverse:3\">P390626 reverse:3</a></span></td><td class=\"tf ltr\"><div class=\"\"><span class=\"plain   hl\" ><span class=\"txto\">ud-</span></span></div></td></tr>\n",
       "<tr class=\"tf ltr\"><td class=\"tf ltr\">20</td><td class=\"tf ltr\"><span class=\"section ltr\"><a target=\"_blank\" href=\"https://cdli.ucla.edu/search/search_results.php?SearchMode=Text&amp;ObjectID=P390626\" title=\"Show this document on CDLI\" sec=\"P390626 reverse:3\">P390626 reverse:3</a></span></td><td class=\"tf ltr\"><div class=\"\"><span class=\"plain   hl\" ><span class=\"txto\">ap2-</span></span></div></td></tr></table>"
      ],
      "text/plain": [
       "<IPython.core.display.HTML object>"
      ]
     },
     "metadata": {},
     "output_type": "display_data"
    }
   ],
   "source": [
    "A.table(results, start=1, end=20)"
   ]
  },
  {
   "cell_type": "markdown",
   "metadata": {},
   "source": [
    "Let's get lines with both ummama and non-ummama signs:"
   ]
  },
  {
   "cell_type": "code",
   "execution_count": 24,
   "metadata": {},
   "outputs": [
    {
     "name": "stdout",
     "output_type": "stream",
     "text": [
      "  3.13s 607109 results\n"
     ]
    }
   ],
   "source": [
    "results = A.search(\n",
    "    \"\"\"\n",
    "line\n",
    "  sign ummama\n",
    "  sign ummama#\n",
    "\"\"\"\n",
    ")"
   ]
  },
  {
   "cell_type": "code",
   "execution_count": 25,
   "metadata": {},
   "outputs": [
    {
     "data": {
      "text/html": [
       "<table><tr class=\"tf ltr\"><th class=\"tf ltr\">n</th><th class=\"tf ltr\">p</th><th class=\"tf ltr\">line</th><th class=\"tf\">sign</th><th class=\"tf\">sign</th><th class=\"tf\">sign</th><th class=\"tf\">sign</th><th class=\"tf\">sign</th><th class=\"tf\">sign</th><th class=\"tf\">sign</th><th class=\"tf\">sign</th></tr>\n",
       "<tr class=\"tf ltr\"><td class=\"tf ltr\">1</td><td class=\"tf ltr\"><span class=\"section ltr\"><a target=\"_blank\" href=\"https://cdli.ucla.edu/search/search_results.php?SearchMode=Text&amp;ObjectID=P390626\" title=\"Show this document on CDLI\" sec=\"P390626 obverse:3\">P390626 obverse:3</a></span></td><td class=\"tf ltr\"><div class=\"\"><span class=\"plain   hl\" ><span class=\"txto\">da-</span></span><span class=\"plain   hl\" ><span class=\"txto\">num </span></span><span class=\"plain   hl\" ><span class=\"txto\">sza </span></span><span class=\"plain   hl\" ><span class=\"txto\">isz-</span></span><span class=\"plain   hl\" ><span class=\"txto\">ti2 </span></span><span class=\"plain   hl\" ><span class=\"txto\">i-</span></span><span class=\"plain   hl\" ><span class=\"txto\">le-</span></span><span class=\"plain   hl\" ><span class=\"txto\">e</span></span></div></td><td class=\"tf ltr\"><div class=\"\"><span class=\"plain   hl\" ><span class=\"txto\">da-</span></span></div></td><td class=\"tf ltr\"><div class=\"\"><span class=\"plain   hl\" ><span class=\"txto\">num </span></span></div></td><td class=\"tf ltr\"><div class=\"\"><span class=\"plain   hl\" ><span class=\"txto\">sza </span></span></div></td><td class=\"tf ltr\"><div class=\"\"><span class=\"plain   hl\" ><span class=\"txto\">isz-</span></span></div></td><td class=\"tf ltr\"><div class=\"\"><span class=\"plain   hl\" ><span class=\"txto\">ti2 </span></span></div></td><td class=\"tf ltr\"><div class=\"\"><span class=\"plain   hl\" ><span class=\"txto\">i-</span></span></div></td><td class=\"tf ltr\"><div class=\"\"><span class=\"plain   hl\" ><span class=\"txto\">le-</span></span></div></td><td class=\"tf ltr\"><div class=\"\"><span class=\"plain   hl\" ><span class=\"txto\">e</span></span></div></td></tr>\n",
       "<tr class=\"tf ltr\"><td class=\"tf ltr\">2</td><td class=\"tf ltr\"><span class=\"section ltr\"><a target=\"_blank\" href=\"https://cdli.ucla.edu/search/search_results.php?SearchMode=Text&amp;ObjectID=P390626\" title=\"Show this document on CDLI\" sec=\"P390626 obverse:4\">P390626 obverse:4</a></span></td><td class=\"tf ltr\"><div class=\"\"><span class=\"plain   hl\" ><span class=\"txto\">e-</span></span><span class=\"plain   hl\" ><span class=\"txto\">ta-</span></span><span class=\"plain   hl\" ><span class=\"txto\">wu-</span></span><span class=\"plain   hl\" ><span class=\"txto\">ni </span></span><span class=\"plain   hl\" ><span class=\"txto\">{d}</span></span><span class=\"plain   hl\" ><span class=\"txto\">iszkur </span></span><span class=\"plain   hl\" ><span class=\"txto\">da-</span></span><span class=\"plain   hl\" ><span class=\"txto\">nu-</span></span><span class=\"plain   hl\" ><span class=\"txto\">tam2</span></span></div></td><td class=\"tf ltr\"><div class=\"\"><span class=\"plain   hl\" ><span class=\"txto\">e-</span></span></div></td><td class=\"tf ltr\"><div class=\"\"><span class=\"plain   hl\" ><span class=\"txto\">ta-</span></span></div></td><td class=\"tf ltr\"><div class=\"\"><span class=\"plain   hl\" ><span class=\"txto\">wu-</span></span></div></td><td class=\"tf ltr\"><div class=\"\"><span class=\"plain   hl\" ><span class=\"txto\">ni </span></span></div></td><td class=\"tf ltr\"><div class=\"\"><span class=\"plain   hl\" ><span class=\"txto\">{d}</span></span></div></td><td class=\"tf ltr\"><div class=\"\"><span class=\"plain   hl\" ><span class=\"txto\">iszkur </span></span></div></td><td class=\"tf ltr\"><div class=\"\"><span class=\"plain   hl\" ><span class=\"txto\">da-</span></span></div></td><td class=\"tf ltr\"><div class=\"\"><span class=\"plain   hl\" ><span class=\"txto\">nu-</span></span></div></td><td class=\"tf ltr\"><div class=\"\"><span class=\"plain   hl\" ><span class=\"txto\">tam2</span></span></div></td></tr></table>"
      ],
      "text/plain": [
       "<IPython.core.display.HTML object>"
      ]
     },
     "metadata": {},
     "output_type": "display_data"
    }
   ],
   "source": [
    "A.table(results, start=1, end=2, condensed=True)"
   ]
  },
  {
   "cell_type": "markdown",
   "metadata": {},
   "source": [
    "With highlights:"
   ]
  },
  {
   "cell_type": "code",
   "execution_count": 26,
   "metadata": {},
   "outputs": [],
   "source": [
    "highlights = {}\n",
    "\n",
    "for s in F.otype.s(\"sign\"):\n",
    "    color = \"lightsalmon\" if F.ummama.v(s) else \"mediumaquamarine\"\n",
    "    highlights[s] = color"
   ]
  },
  {
   "cell_type": "code",
   "execution_count": 27,
   "metadata": {},
   "outputs": [
    {
     "data": {
      "text/html": [
       "<table><tr class=\"tf ltr\"><th class=\"tf ltr\">n</th><th class=\"tf ltr\">p</th><th class=\"tf ltr\">line</th><th class=\"tf\">sign</th><th class=\"tf\">sign</th><th class=\"tf\">sign</th><th class=\"tf\">sign</th><th class=\"tf\">sign</th><th class=\"tf\">sign</th><th class=\"tf\">sign</th><th class=\"tf\">sign</th></tr>\n",
       "<tr class=\"tf ltr\"><td class=\"tf ltr\">1</td><td class=\"tf ltr\"><span class=\"section ltr\"><a target=\"_blank\" href=\"https://cdli.ucla.edu/search/search_results.php?SearchMode=Text&amp;ObjectID=P390626\" title=\"Show this document on CDLI\" sec=\"P390626 obverse:3\">P390626 obverse:3</a></span></td><td class=\"tf ltr\"><div class=\"\"><span class=\"plain   hl\"  style=\"background-color: lightsalmon;\" ><span class=\"txto\">da-</span></span><span class=\"plain   hl\"  style=\"background-color: lightsalmon;\" ><span class=\"txto\">num </span></span><span class=\"plain   hl\"  style=\"background-color: lightsalmon;\" ><span class=\"txto\">sza </span></span><span class=\"plain   hl\"  style=\"background-color: lightsalmon;\" ><span class=\"txto\">isz-</span></span><span class=\"plain   hl\"  style=\"background-color: lightsalmon;\" ><span class=\"txto\">ti2 </span></span><span class=\"plain   hl\"  style=\"background-color: lightsalmon;\" ><span class=\"txto\">i-</span></span><span class=\"plain   hl\"  style=\"background-color: mediumaquamarine;\" ><span class=\"txto\">le-</span></span><span class=\"plain   hl\"  style=\"background-color: lightsalmon;\" ><span class=\"txto\">e</span></span></div></td><td class=\"tf ltr\"><div class=\"\"><span class=\"plain   hl\"  style=\"background-color: lightsalmon;\" ><span class=\"txto\">da-</span></span></div></td><td class=\"tf ltr\"><div class=\"\"><span class=\"plain   hl\"  style=\"background-color: lightsalmon;\" ><span class=\"txto\">num </span></span></div></td><td class=\"tf ltr\"><div class=\"\"><span class=\"plain   hl\"  style=\"background-color: lightsalmon;\" ><span class=\"txto\">sza </span></span></div></td><td class=\"tf ltr\"><div class=\"\"><span class=\"plain   hl\"  style=\"background-color: lightsalmon;\" ><span class=\"txto\">isz-</span></span></div></td><td class=\"tf ltr\"><div class=\"\"><span class=\"plain   hl\"  style=\"background-color: lightsalmon;\" ><span class=\"txto\">ti2 </span></span></div></td><td class=\"tf ltr\"><div class=\"\"><span class=\"plain   hl\"  style=\"background-color: lightsalmon;\" ><span class=\"txto\">i-</span></span></div></td><td class=\"tf ltr\"><div class=\"\"><span class=\"plain   hl\"  style=\"background-color: mediumaquamarine;\" ><span class=\"txto\">le-</span></span></div></td><td class=\"tf ltr\"><div class=\"\"><span class=\"plain   hl\"  style=\"background-color: lightsalmon;\" ><span class=\"txto\">e</span></span></div></td></tr>\n",
       "<tr class=\"tf ltr\"><td class=\"tf ltr\">2</td><td class=\"tf ltr\"><span class=\"section ltr\"><a target=\"_blank\" href=\"https://cdli.ucla.edu/search/search_results.php?SearchMode=Text&amp;ObjectID=P390626\" title=\"Show this document on CDLI\" sec=\"P390626 obverse:4\">P390626 obverse:4</a></span></td><td class=\"tf ltr\"><div class=\"\"><span class=\"plain   hl\"  style=\"background-color: lightsalmon;\" ><span class=\"txto\">e-</span></span><span class=\"plain   hl\"  style=\"background-color: lightsalmon;\" ><span class=\"txto\">ta-</span></span><span class=\"plain   hl\"  style=\"background-color: mediumaquamarine;\" ><span class=\"txto\">wu-</span></span><span class=\"plain   hl\"  style=\"background-color: lightsalmon;\" ><span class=\"txto\">ni </span></span><span class=\"plain   hl\"  style=\"background-color: lightsalmon;\" ><span class=\"txto\">{d}</span></span><span class=\"plain   hl\"  style=\"background-color: lightsalmon;\" ><span class=\"txto\">iszkur </span></span><span class=\"plain   hl\"  style=\"background-color: lightsalmon;\" ><span class=\"txto\">da-</span></span><span class=\"plain   hl\"  style=\"background-color: lightsalmon;\" ><span class=\"txto\">nu-</span></span><span class=\"plain   hl\"  style=\"background-color: lightsalmon;\" ><span class=\"txto\">tam2</span></span></div></td><td class=\"tf ltr\"><div class=\"\"><span class=\"plain   hl\"  style=\"background-color: lightsalmon;\" ><span class=\"txto\">e-</span></span></div></td><td class=\"tf ltr\"><div class=\"\"><span class=\"plain   hl\"  style=\"background-color: lightsalmon;\" ><span class=\"txto\">ta-</span></span></div></td><td class=\"tf ltr\"><div class=\"\"><span class=\"plain   hl\"  style=\"background-color: mediumaquamarine;\" ><span class=\"txto\">wu-</span></span></div></td><td class=\"tf ltr\"><div class=\"\"><span class=\"plain   hl\"  style=\"background-color: lightsalmon;\" ><span class=\"txto\">ni </span></span></div></td><td class=\"tf ltr\"><div class=\"\"><span class=\"plain   hl\"  style=\"background-color: lightsalmon;\" ><span class=\"txto\">{d}</span></span></div></td><td class=\"tf ltr\"><div class=\"\"><span class=\"plain   hl\"  style=\"background-color: lightsalmon;\" ><span class=\"txto\">iszkur </span></span></div></td><td class=\"tf ltr\"><div class=\"\"><span class=\"plain   hl\"  style=\"background-color: lightsalmon;\" ><span class=\"txto\">da-</span></span></div></td><td class=\"tf ltr\"><div class=\"\"><span class=\"plain   hl\"  style=\"background-color: lightsalmon;\" ><span class=\"txto\">nu-</span></span></div></td><td class=\"tf ltr\"><div class=\"\"><span class=\"plain   hl\"  style=\"background-color: lightsalmon;\" ><span class=\"txto\">tam2</span></span></div></td></tr>\n",
       "<tr class=\"tf ltr\"><td class=\"tf ltr\">3</td><td class=\"tf ltr\"><span class=\"section ltr\"><a target=\"_blank\" href=\"https://cdli.ucla.edu/search/search_results.php?SearchMode=Text&amp;ObjectID=P390626\" title=\"Show this document on CDLI\" sec=\"P390626 obverse:7\">P390626 obverse:7</a></span></td><td class=\"tf ltr\"><div class=\"\"><span class=\"plain   hl\"  style=\"background-color: lightsalmon;\" ><span class=\"txto\">sza-</span></span><span class=\"plain   hl\"  style=\"background-color: lightsalmon;\" ><span class=\"txto\">am-</span></span><span class=\"plain   hl\"  style=\"background-color: lightsalmon;\" ><span class=\"txto\">szi2-</span></span><span class=\"plain   hl\"  style=\"background-color: lightsalmon;\" ><span class=\"txto\">im </span></span><span class=\"plain   hl\"  style=\"background-color: lightsalmon;\" ><span class=\"txto\">ma-</span></span><span class=\"plain   hl\"  style=\"background-color: lightsalmon;\" ><span class=\"txto\">tam2 </span></span><span class=\"plain   hl\"  style=\"background-color: mediumaquamarine;\" ><span class=\"txto\">as,-</span></span><span class=\"plain   hl\"  style=\"background-color: lightsalmon;\" ><span class=\"txto\">ba-</span></span><span class=\"plain   hl\"  style=\"background-color: lightsalmon;\" ><span class=\"txto\">at-</span></span><span class=\"plain   hl\"  style=\"background-color: lightsalmon;\" ><span class=\"txto\">ma</span></span></div></td><td class=\"tf ltr\"><div class=\"\"><span class=\"plain   hl\"  style=\"background-color: lightsalmon;\" ><span class=\"txto\">sza-</span></span></div></td><td class=\"tf ltr\"><div class=\"\"><span class=\"plain   hl\"  style=\"background-color: lightsalmon;\" ><span class=\"txto\">am-</span></span></div></td><td class=\"tf ltr\"><div class=\"\"><span class=\"plain   hl\"  style=\"background-color: lightsalmon;\" ><span class=\"txto\">szi2-</span></span></div></td><td class=\"tf ltr\"><div class=\"\"><span class=\"plain   hl\"  style=\"background-color: lightsalmon;\" ><span class=\"txto\">im </span></span></div></td><td class=\"tf ltr\"><div class=\"\"><span class=\"plain   hl\"  style=\"background-color: lightsalmon;\" ><span class=\"txto\">ma-</span></span></div></td><td class=\"tf ltr\"><div class=\"\"><span class=\"plain   hl\"  style=\"background-color: lightsalmon;\" ><span class=\"txto\">tam2 </span></span></div></td><td class=\"tf ltr\"><div class=\"\"><span class=\"plain   hl\"  style=\"background-color: mediumaquamarine;\" ><span class=\"txto\">as,-</span></span></div></td><td class=\"tf ltr\"><div class=\"\"><span class=\"plain   hl\"  style=\"background-color: lightsalmon;\" ><span class=\"txto\">ba-</span></span></div></td><td class=\"tf ltr\"><div class=\"\"><span class=\"plain   hl\"  style=\"background-color: lightsalmon;\" ><span class=\"txto\">at-</span></span></div></td><td class=\"tf ltr\"><div class=\"\"><span class=\"plain   hl\"  style=\"background-color: lightsalmon;\" ><span class=\"txto\">ma</span></span></div></td></tr>\n",
       "<tr class=\"tf ltr\"><td class=\"tf ltr\">4</td><td class=\"tf ltr\"><span class=\"section ltr\"><a target=\"_blank\" href=\"https://cdli.ucla.edu/search/search_results.php?SearchMode=Text&amp;ObjectID=P390626\" title=\"Show this document on CDLI\" sec=\"P390626 obverse:8\">P390626 obverse:8</a></span></td><td class=\"tf ltr\"><div class=\"\"><span class=\"plain   hl\"  style=\"background-color: lightsalmon;\" ><span class=\"txto\">i-</span></span><span class=\"plain   hl\"  style=\"background-color: lightsalmon;\" ><span class=\"txto\">na </span></span><span class=\"plain   hl\"  style=\"background-color: mediumaquamarine;\" ><span class=\"txto\">u4-</span></span><span class=\"plain   hl\"  style=\"background-color: lightsalmon;\" ><span class=\"txto\">mi3-</span></span><span class=\"plain   hl\"  style=\"background-color: lightsalmon;\" ><span class=\"txto\">im </span></span><span class=\"plain   hl\"  style=\"background-color: lightsalmon;\" ><span class=\"txto\">isz-</span></span><span class=\"plain   hl\"  style=\"background-color: mediumaquamarine;\" ><span class=\"txto\">te2-</span></span><span class=\"plain   hl\"  style=\"background-color: lightsalmon;\" ><span class=\"txto\">en6</span></span></div></td><td class=\"tf ltr\"><div class=\"\"><span class=\"plain   hl\"  style=\"background-color: mediumaquamarine;\" ><span class=\"txto\">te2-</span></span></div></td><td class=\"tf ltr\"><div class=\"\"><span class=\"plain   hl\"  style=\"background-color: lightsalmon;\" ><span class=\"txto\">en6</span></span></div></td><td class=\"tf ltr\"><div class=\"\"><span class=\"plain   hl\"  style=\"background-color: lightsalmon;\" ><span class=\"txto\">i-</span></span></div></td><td class=\"tf ltr\"><div class=\"\"><span class=\"plain   hl\"  style=\"background-color: lightsalmon;\" ><span class=\"txto\">na </span></span></div></td><td class=\"tf ltr\"><div class=\"\"><span class=\"plain   hl\"  style=\"background-color: mediumaquamarine;\" ><span class=\"txto\">u4-</span></span></div></td><td class=\"tf ltr\"><div class=\"\"><span class=\"plain   hl\"  style=\"background-color: lightsalmon;\" ><span class=\"txto\">mi3-</span></span></div></td><td class=\"tf ltr\"><div class=\"\"><span class=\"plain   hl\"  style=\"background-color: lightsalmon;\" ><span class=\"txto\">im </span></span></div></td><td class=\"tf ltr\"><div class=\"\"><span class=\"plain   hl\"  style=\"background-color: lightsalmon;\" ><span class=\"txto\">isz-</span></span></div></td></tr>\n",
       "<tr class=\"tf ltr\"><td class=\"tf ltr\">5</td><td class=\"tf ltr\"><span class=\"section ltr\"><a target=\"_blank\" href=\"https://cdli.ucla.edu/search/search_results.php?SearchMode=Text&amp;ObjectID=P390626\" title=\"Show this document on CDLI\" sec=\"P390626 obverse:11\">P390626 obverse:11</a></span></td><td class=\"tf ltr\"><div class=\"\"><span class=\"plain   hl\"  style=\"background-color: lightsalmon;\" ><span class=\"txto\">u2-</span></span><span class=\"plain   hl\"  style=\"background-color: lightsalmon;\" ><span class=\"txto\">ha-</span></span><span class=\"plain   hl\"  style=\"background-color: lightsalmon;\" ><span class=\"txto\">li-</span></span><span class=\"plain   hl\"  style=\"background-color: mediumaquamarine;\" ><span class=\"txto\">iq </span></span><span class=\"plain   hl\"  style=\"background-color: lightsalmon;\" ><span class=\"txto\">{d}</span></span><span class=\"plain   hl\"  style=\"background-color: lightsalmon;\" ><span class=\"txto\">iszkur </span></span><span class=\"plain   hl\"  style=\"background-color: lightsalmon;\" ><span class=\"txto\">be-</span></span><span class=\"plain   hl\"  style=\"background-color: lightsalmon;\" ><span class=\"txto\">el </span></span><span class=\"plain   hl\"  style=\"background-color: lightsalmon;\" ><span class=\"txto\">e-</span></span><span class=\"plain   hl\"  style=\"background-color: lightsalmon;\" ><span class=\"txto\">mu-</span></span><span class=\"plain   hl\"  style=\"background-color: lightsalmon;\" ><span class=\"txto\">qi2-</span></span><span class=\"plain   hl\"  style=\"background-color: lightsalmon;\" ><span class=\"txto\">im</span></span></div></td><td class=\"tf ltr\"><div class=\"\"><span class=\"plain   hl\"  style=\"background-color: lightsalmon;\" ><span class=\"txto\">{d}</span></span></div></td><td class=\"tf ltr\"><div class=\"\"><span class=\"plain   hl\"  style=\"background-color: lightsalmon;\" ><span class=\"txto\">iszkur </span></span></div></td><td class=\"tf ltr\"><div class=\"\"><span class=\"plain   hl\"  style=\"background-color: lightsalmon;\" ><span class=\"txto\">be-</span></span></div></td><td class=\"tf ltr\"><div class=\"\"><span class=\"plain   hl\"  style=\"background-color: lightsalmon;\" ><span class=\"txto\">el </span></span></div></td><td class=\"tf ltr\"><div class=\"\"><span class=\"plain   hl\"  style=\"background-color: lightsalmon;\" ><span class=\"txto\">e-</span></span></div></td><td class=\"tf ltr\"><div class=\"\"><span class=\"plain   hl\"  style=\"background-color: lightsalmon;\" ><span class=\"txto\">mu-</span></span></div></td><td class=\"tf ltr\"><div class=\"\"><span class=\"plain   hl\"  style=\"background-color: lightsalmon;\" ><span class=\"txto\">qi2-</span></span></div></td><td class=\"tf ltr\"><div class=\"\"><span class=\"plain   hl\"  style=\"background-color: lightsalmon;\" ><span class=\"txto\">im</span></span></div></td><td class=\"tf ltr\"><div class=\"\"><span class=\"plain   hl\"  style=\"background-color: lightsalmon;\" ><span class=\"txto\">u2-</span></span></div></td><td class=\"tf ltr\"><div class=\"\"><span class=\"plain   hl\"  style=\"background-color: lightsalmon;\" ><span class=\"txto\">ha-</span></span></div></td><td class=\"tf ltr\"><div class=\"\"><span class=\"plain   hl\"  style=\"background-color: lightsalmon;\" ><span class=\"txto\">li-</span></span></div></td><td class=\"tf ltr\"><div class=\"\"><span class=\"plain   hl\"  style=\"background-color: mediumaquamarine;\" ><span class=\"txto\">iq </span></span></div></td></tr>\n",
       "<tr class=\"tf ltr\"><td class=\"tf ltr\">6</td><td class=\"tf ltr\"><span class=\"section ltr\"><a target=\"_blank\" href=\"https://cdli.ucla.edu/search/search_results.php?SearchMode=Text&amp;ObjectID=P390626\" title=\"Show this document on CDLI\" sec=\"P390626 obverse:15\">P390626 obverse:15</a></span></td><td class=\"tf ltr\"><div class=\"\"><span class=\"plain   hl\"  style=\"background-color: lightsalmon;\" ><span class=\"txto\">la2-</span></span><span class=\"plain   hl\"  style=\"background-color: lightsalmon;\" ><span class=\"txto\">sa3-</span></span><span class=\"plain   hl\"  style=\"background-color: lightsalmon;\" ><span class=\"txto\">mi3-</span></span><span class=\"plain   hl\"  style=\"background-color: lightsalmon;\" ><span class=\"txto\">a </span></span><span class=\"plain   hl\"  style=\"background-color: lightsalmon;\" ><span class=\"txto\">mu-</span></span><span class=\"plain   hl\"  style=\"background-color: lightsalmon;\" ><span class=\"txto\">sa3-</span></span><span class=\"plain   hl\"  style=\"background-color: lightsalmon;\" ><span class=\"txto\">ri </span></span><span class=\"plain   hl\"  style=\"background-color: lightsalmon;\" ><span class=\"txto\">i-</span></span><span class=\"plain   hl\"  style=\"background-color: lightsalmon;\" ><span class=\"txto\">bi4-</span></span><span class=\"plain   hl\"  style=\"background-color: lightsalmon;\" ><span class=\"txto\">ti2-</span></span><span class=\"plain   hl\"  style=\"background-color: mediumaquamarine;\" ><span class=\"txto\">iq-</span></span><span class=\"plain   hl\"  style=\"background-color: lightsalmon;\" ><span class=\"txto\">ma</span></span></div></td><td class=\"tf ltr\"><div class=\"\"><span class=\"plain   hl\"  style=\"background-color: lightsalmon;\" ><span class=\"txto\">la2-</span></span></div></td><td class=\"tf ltr\"><div class=\"\"><span class=\"plain   hl\"  style=\"background-color: lightsalmon;\" ><span class=\"txto\">sa3-</span></span></div></td><td class=\"tf ltr\"><div class=\"\"><span class=\"plain   hl\"  style=\"background-color: lightsalmon;\" ><span class=\"txto\">mi3-</span></span></div></td><td class=\"tf ltr\"><div class=\"\"><span class=\"plain   hl\"  style=\"background-color: lightsalmon;\" ><span class=\"txto\">a </span></span></div></td><td class=\"tf ltr\"><div class=\"\"><span class=\"plain   hl\"  style=\"background-color: lightsalmon;\" ><span class=\"txto\">mu-</span></span></div></td><td class=\"tf ltr\"><div class=\"\"><span class=\"plain   hl\"  style=\"background-color: lightsalmon;\" ><span class=\"txto\">sa3-</span></span></div></td><td class=\"tf ltr\"><div class=\"\"><span class=\"plain   hl\"  style=\"background-color: lightsalmon;\" ><span class=\"txto\">ri </span></span></div></td><td class=\"tf ltr\"><div class=\"\"><span class=\"plain   hl\"  style=\"background-color: lightsalmon;\" ><span class=\"txto\">i-</span></span></div></td><td class=\"tf ltr\"><div class=\"\"><span class=\"plain   hl\"  style=\"background-color: lightsalmon;\" ><span class=\"txto\">bi4-</span></span></div></td><td class=\"tf ltr\"><div class=\"\"><span class=\"plain   hl\"  style=\"background-color: lightsalmon;\" ><span class=\"txto\">ti2-</span></span></div></td><td class=\"tf ltr\"><div class=\"\"><span class=\"plain   hl\"  style=\"background-color: mediumaquamarine;\" ><span class=\"txto\">iq-</span></span></div></td><td class=\"tf ltr\"><div class=\"\"><span class=\"plain   hl\"  style=\"background-color: lightsalmon;\" ><span class=\"txto\">ma</span></span></div></td></tr>\n",
       "<tr class=\"tf ltr\"><td class=\"tf ltr\">7</td><td class=\"tf ltr\"><span class=\"section ltr\"><a target=\"_blank\" href=\"https://cdli.ucla.edu/search/search_results.php?SearchMode=Text&amp;ObjectID=P390626\" title=\"Show this document on CDLI\" sec=\"P390626 obverse:17\">P390626 obverse:17</a></span></td><td class=\"tf ltr\"><div class=\"\"><span class=\"plain   hl\"  style=\"background-color: lightsalmon;\" ><span class=\"txto\">s,a-</span></span><span class=\"plain   hl\"  style=\"background-color: lightsalmon;\" ><span class=\"txto\">bi4-</span></span><span class=\"plain   hl\"  style=\"background-color: lightsalmon;\" ><span class=\"txto\">tam2 </span></span><span class=\"plain   hl\"  style=\"background-color: mediumaquamarine;\" ><span class=\"txto\">as,-</span></span><span class=\"plain   hl\"  style=\"background-color: lightsalmon;\" ><span class=\"txto\">ba-</span></span><span class=\"plain   hl\"  style=\"background-color: lightsalmon;\" ><span class=\"txto\">at </span></span><span class=\"plain   hl\"  style=\"background-color: lightsalmon;\" ><span class=\"txto\">li-</span></span><span class=\"plain   hl\"  style=\"background-color: lightsalmon;\" ><span class=\"txto\">bi4-</span></span><span class=\"plain   hl\"  style=\"background-color: lightsalmon;\" ><span class=\"txto\">tam2</span></span></div></td><td class=\"tf ltr\"><div class=\"\"><span class=\"plain   hl\"  style=\"background-color: lightsalmon;\" ><span class=\"txto\">s,a-</span></span></div></td><td class=\"tf ltr\"><div class=\"\"><span class=\"plain   hl\"  style=\"background-color: lightsalmon;\" ><span class=\"txto\">bi4-</span></span></div></td><td class=\"tf ltr\"><div class=\"\"><span class=\"plain   hl\"  style=\"background-color: lightsalmon;\" ><span class=\"txto\">tam2 </span></span></div></td><td class=\"tf ltr\"><div class=\"\"><span class=\"plain   hl\"  style=\"background-color: mediumaquamarine;\" ><span class=\"txto\">as,-</span></span></div></td><td class=\"tf ltr\"><div class=\"\"><span class=\"plain   hl\"  style=\"background-color: lightsalmon;\" ><span class=\"txto\">ba-</span></span></div></td><td class=\"tf ltr\"><div class=\"\"><span class=\"plain   hl\"  style=\"background-color: lightsalmon;\" ><span class=\"txto\">at </span></span></div></td><td class=\"tf ltr\"><div class=\"\"><span class=\"plain   hl\"  style=\"background-color: lightsalmon;\" ><span class=\"txto\">li-</span></span></div></td><td class=\"tf ltr\"><div class=\"\"><span class=\"plain   hl\"  style=\"background-color: lightsalmon;\" ><span class=\"txto\">bi4-</span></span></div></td><td class=\"tf ltr\"><div class=\"\"><span class=\"plain   hl\"  style=\"background-color: lightsalmon;\" ><span class=\"txto\">tam2</span></span></div></td></tr>\n",
       "<tr class=\"tf ltr\"><td class=\"tf ltr\">8</td><td class=\"tf ltr\"><span class=\"section ltr\"><a target=\"_blank\" href=\"https://cdli.ucla.edu/search/search_results.php?SearchMode=Text&amp;ObjectID=P390626\" title=\"Show this document on CDLI\" sec=\"P390626 obverse:18\">P390626 obverse:18</a></span></td><td class=\"tf ltr\"><div class=\"\"><span class=\"plain   hl\"  style=\"background-color: lightsalmon;\" ><span class=\"txto\">i-</span></span><span class=\"plain   hl\"  style=\"background-color: lightsalmon;\" ><span class=\"txto\">ma-</span></span><span class=\"plain   hl\"  style=\"background-color: lightsalmon;\" ><span class=\"txto\">e </span></span><span class=\"plain   hl\"  style=\"background-color: lightsalmon;\" ><span class=\"txto\">u2-</span></span><span class=\"plain   hl\"  style=\"background-color: mediumaquamarine;\" ><span class=\"txto\">sze2-</span></span><span class=\"plain   hl\"  style=\"background-color: lightsalmon;\" ><span class=\"txto\">li </span></span><span class=\"plain   hl\"  style=\"background-color: lightsalmon;\" ><span class=\"txto\">{d}</span></span><span class=\"plain   hl\"  style=\"background-color: lightsalmon;\" ><span class=\"txto\">iszkur </span></span><span class=\"plain   hl\"  style=\"background-color: lightsalmon;\" ><span class=\"txto\">u3 </span></span><span class=\"plain   hl\"  style=\"background-color: lightsalmon;\" ><span class=\"txto\">esz18-</span></span><span class=\"plain   hl\"  style=\"background-color: lightsalmon;\" ><span class=\"txto\">dar</span></span></div></td><td class=\"tf ltr\"><div class=\"\"><span class=\"plain   hl\"  style=\"background-color: lightsalmon;\" ><span class=\"txto\">i-</span></span></div></td><td class=\"tf ltr\"><div class=\"\"><span class=\"plain   hl\"  style=\"background-color: lightsalmon;\" ><span class=\"txto\">ma-</span></span></div></td><td class=\"tf ltr\"><div class=\"\"><span class=\"plain   hl\"  style=\"background-color: lightsalmon;\" ><span class=\"txto\">e </span></span></div></td><td class=\"tf ltr\"><div class=\"\"><span class=\"plain   hl\"  style=\"background-color: lightsalmon;\" ><span class=\"txto\">u2-</span></span></div></td><td class=\"tf ltr\"><div class=\"\"><span class=\"plain   hl\"  style=\"background-color: mediumaquamarine;\" ><span class=\"txto\">sze2-</span></span></div></td><td class=\"tf ltr\"><div class=\"\"><span class=\"plain   hl\"  style=\"background-color: lightsalmon;\" ><span class=\"txto\">li </span></span></div></td><td class=\"tf ltr\"><div class=\"\"><span class=\"plain   hl\"  style=\"background-color: lightsalmon;\" ><span class=\"txto\">{d}</span></span></div></td><td class=\"tf ltr\"><div class=\"\"><span class=\"plain   hl\"  style=\"background-color: lightsalmon;\" ><span class=\"txto\">iszkur </span></span></div></td><td class=\"tf ltr\"><div class=\"\"><span class=\"plain   hl\"  style=\"background-color: lightsalmon;\" ><span class=\"txto\">u3 </span></span></div></td><td class=\"tf ltr\"><div class=\"\"><span class=\"plain   hl\"  style=\"background-color: lightsalmon;\" ><span class=\"txto\">esz18-</span></span></div></td><td class=\"tf ltr\"><div class=\"\"><span class=\"plain   hl\"  style=\"background-color: lightsalmon;\" ><span class=\"txto\">dar</span></span></div></td></tr>\n",
       "<tr class=\"tf ltr\"><td class=\"tf ltr\">9</td><td class=\"tf ltr\"><span class=\"section ltr\"><a target=\"_blank\" href=\"https://cdli.ucla.edu/search/search_results.php?SearchMode=Text&amp;ObjectID=P390626\" title=\"Show this document on CDLI\" sec=\"P390626 obverse:19\">P390626 obverse:19</a></span></td><td class=\"tf ltr\"><div class=\"\"><span class=\"plain   hl\"  style=\"background-color: lightsalmon;\" ><span class=\"txto\">at#-</span></span><span class=\"plain   hl\"  style=\"background-color: lightsalmon;\" ><span class=\"txto\">[ma] </span></span><span class=\"plain   hl\"  style=\"background-color: lightsalmon;\" ><span class=\"txto\">_1(disz) </span></span><span class=\"plain   hl\"  style=\"background-color: lightsalmon;\" ><span class=\"txto\">li#-</span></span><span class=\"plain   hl\"  style=\"background-color: lightsalmon;\" ><span class=\"txto\">im </span></span><span class=\"plain   hl\"  style=\"background-color: mediumaquamarine;\" ><span class=\"txto\">gu4 </span></span><span class=\"plain   hl\"  style=\"background-color: lightsalmon;\" ><span class=\"txto\">hi-</span></span><span class=\"plain   hl\"  style=\"background-color: lightsalmon;\" ><span class=\"txto\">a_ </span></span><span class=\"plain   hl\"  style=\"background-color: lightsalmon;\" ><span class=\"txto\">6(disz) </span></span><span class=\"plain   hl\"  style=\"background-color: lightsalmon;\" ><span class=\"txto\">li-</span></span><span class=\"plain   hl\"  style=\"background-color: lightsalmon;\" ><span class=\"txto\">me-</span></span><span class=\"plain   hl\"  style=\"background-color: lightsalmon;\" ><span class=\"txto\">e</span></span></div></td><td class=\"tf ltr\"><div class=\"\"><span class=\"plain   hl\"  style=\"background-color: lightsalmon;\" ><span class=\"txto\">at#-</span></span></div></td><td class=\"tf ltr\"><div class=\"\"><span class=\"plain   hl\"  style=\"background-color: lightsalmon;\" ><span class=\"txto\">[ma] </span></span></div></td><td class=\"tf ltr\"><div class=\"\"><span class=\"plain   hl\"  style=\"background-color: lightsalmon;\" ><span class=\"txto\">_1(disz) </span></span></div></td><td class=\"tf ltr\"><div class=\"\"><span class=\"plain   hl\"  style=\"background-color: lightsalmon;\" ><span class=\"txto\">li#-</span></span></div></td><td class=\"tf ltr\"><div class=\"\"><span class=\"plain   hl\"  style=\"background-color: lightsalmon;\" ><span class=\"txto\">im </span></span></div></td><td class=\"tf ltr\"><div class=\"\"><span class=\"plain   hl\"  style=\"background-color: mediumaquamarine;\" ><span class=\"txto\">gu4 </span></span></div></td><td class=\"tf ltr\"><div class=\"\"><span class=\"plain   hl\"  style=\"background-color: lightsalmon;\" ><span class=\"txto\">hi-</span></span></div></td><td class=\"tf ltr\"><div class=\"\"><span class=\"plain   hl\"  style=\"background-color: lightsalmon;\" ><span class=\"txto\">a_ </span></span></div></td><td class=\"tf ltr\"><div class=\"\"><span class=\"plain   hl\"  style=\"background-color: lightsalmon;\" ><span class=\"txto\">6(disz) </span></span></div></td><td class=\"tf ltr\"><div class=\"\"><span class=\"plain   hl\"  style=\"background-color: lightsalmon;\" ><span class=\"txto\">li-</span></span></div></td><td class=\"tf ltr\"><div class=\"\"><span class=\"plain   hl\"  style=\"background-color: lightsalmon;\" ><span class=\"txto\">me-</span></span></div></td><td class=\"tf ltr\"><div class=\"\"><span class=\"plain   hl\"  style=\"background-color: lightsalmon;\" ><span class=\"txto\">e</span></span></div></td></tr>\n",
       "<tr class=\"tf ltr\"><td class=\"tf ltr\">10</td><td class=\"tf ltr\"><span class=\"section ltr\"><a target=\"_blank\" href=\"https://cdli.ucla.edu/search/search_results.php?SearchMode=Text&amp;ObjectID=P390626\" title=\"Show this document on CDLI\" sec=\"P390626 obverse:20\">P390626 obverse:20</a></span></td><td class=\"tf ltr\"><div class=\"\"><span class=\"plain   hl\"  style=\"background-color: mediumaquamarine;\" ><span class=\"txto\">_udu-</span></span><span class=\"plain   hl\"  style=\"background-color: lightsalmon;\" ><span class=\"txto\">hi-</span></span><span class=\"plain   hl\"  style=\"background-color: lightsalmon;\" ><span class=\"txto\">a_ </span></span><span class=\"plain   hl\"  style=\"background-color: lightsalmon;\" ><span class=\"txto\">u2-</span></span><span class=\"plain   hl\"  style=\"background-color: lightsalmon;\" ><span class=\"txto\">mi3-</span></span><span class=\"plain   hl\"  style=\"background-color: lightsalmon;\" ><span class=\"txto\">sza-</span></span><span class=\"plain   hl\"  style=\"background-color: lightsalmon;\" ><span class=\"txto\">ma </span></span><span class=\"plain   hl\"  style=\"background-color: lightsalmon;\" ><span class=\"txto\">lu </span></span><span class=\"plain   hl\"  style=\"background-color: lightsalmon;\" ><span class=\"txto\">u2-</span></span><span class=\"plain   hl\"  style=\"background-color: mediumaquamarine;\" ><span class=\"txto\">t,a-</span></span><span class=\"plain   hl\"  style=\"background-color: lightsalmon;\" ><span class=\"txto\">ba-</span></span><span class=\"plain   hl\"  style=\"background-color: lightsalmon;\" ><span class=\"txto\">ah</span></span></div></td><td class=\"tf ltr\"><div class=\"\"><span class=\"plain   hl\"  style=\"background-color: mediumaquamarine;\" ><span class=\"txto\">_udu-</span></span></div></td><td class=\"tf ltr\"><div class=\"\"><span class=\"plain   hl\"  style=\"background-color: lightsalmon;\" ><span class=\"txto\">hi-</span></span></div></td><td class=\"tf ltr\"><div class=\"\"><span class=\"plain   hl\"  style=\"background-color: lightsalmon;\" ><span class=\"txto\">a_ </span></span></div></td><td class=\"tf ltr\"><div class=\"\"><span class=\"plain   hl\"  style=\"background-color: lightsalmon;\" ><span class=\"txto\">u2-</span></span></div></td><td class=\"tf ltr\"><div class=\"\"><span class=\"plain   hl\"  style=\"background-color: lightsalmon;\" ><span class=\"txto\">mi3-</span></span></div></td><td class=\"tf ltr\"><div class=\"\"><span class=\"plain   hl\"  style=\"background-color: lightsalmon;\" ><span class=\"txto\">sza-</span></span></div></td><td class=\"tf ltr\"><div class=\"\"><span class=\"plain   hl\"  style=\"background-color: lightsalmon;\" ><span class=\"txto\">ma </span></span></div></td><td class=\"tf ltr\"><div class=\"\"><span class=\"plain   hl\"  style=\"background-color: lightsalmon;\" ><span class=\"txto\">lu </span></span></div></td><td class=\"tf ltr\"><div class=\"\"><span class=\"plain   hl\"  style=\"background-color: lightsalmon;\" ><span class=\"txto\">u2-</span></span></div></td><td class=\"tf ltr\"><div class=\"\"><span class=\"plain   hl\"  style=\"background-color: mediumaquamarine;\" ><span class=\"txto\">t,a-</span></span></div></td><td class=\"tf ltr\"><div class=\"\"><span class=\"plain   hl\"  style=\"background-color: lightsalmon;\" ><span class=\"txto\">ba-</span></span></div></td><td class=\"tf ltr\"><div class=\"\"><span class=\"plain   hl\"  style=\"background-color: lightsalmon;\" ><span class=\"txto\">ah</span></span></div></td></tr></table>"
      ],
      "text/plain": [
       "<IPython.core.display.HTML object>"
      ]
     },
     "metadata": {},
     "output_type": "display_data"
    }
   ],
   "source": [
    "A.table(\n",
    "    results, start=1, end=10, baseTypes=\"sign\", condensed=True, highlights=highlights\n",
    ")"
   ]
  },
  {
   "cell_type": "markdown",
   "metadata": {},
   "source": [
    "If we do a pretty display, the `ummama` feature shows up."
   ]
  },
  {
   "cell_type": "code",
   "execution_count": 28,
   "metadata": {},
   "outputs": [
    {
     "data": {
      "text/html": [
       "<p><b>line</b> <i>1</i></p>"
      ],
      "text/plain": [
       "<IPython.core.display.HTML object>"
      ]
     },
     "metadata": {},
     "output_type": "display_data"
    },
    {
     "data": {
      "text/html": [
       "<div class=\"section \"><a target=\"_blank\" href=\"https://cdli.ucla.edu/search/search_results.php?SearchMode=Text&amp;ObjectID=P390626\" title=\"Show this document on CDLI\" sec=\"P390626 obverse:3\">P390626 obverse:3</a></div><div class=\" children\"><div class=\"contnr c3    \" ><div class=\"lbl c3  \" ><span class=\"nd\">line:865274</span></div><div class=\"children hor wrap \"><div class=\"contnr c2    \" ><div class=\"lbl c2  \" ><span class=\"nd\">word:975138</span> <span class=\"txto\">da-num </span></div><div class=\"children hor  \"><div class=\"contnr c0 trm   hl\"  style=\"background-color: lightsalmon;\" ><div class=\"lbl c0 trm hl\"  style=\"background-color: lightsalmon;\" ><span class=\"nd\">14</span> <span class=\"txto\">da-</span></div><div class='features'><span class=\"ummama xft\" ><span class=\"f\">ummama=</span>1</span></div></div><div class=\"contnr c0 trm   hl\"  style=\"background-color: lightsalmon;\" ><div class=\"lbl c0 trm hl\"  style=\"background-color: lightsalmon;\" ><span class=\"nd\">15</span> <span class=\"txto\">num </span></div><div class='features'><span class=\"ummama xft\" ><span class=\"f\">ummama=</span>1</span></div></div></div></div><div class=\"contnr c2    \" ><div class=\"lbl c2  \" ><span class=\"nd\">word:975139</span> <span class=\"txto\">sza </span></div><div class=\"children hor  \"><div class=\"contnr c0 trm   hl\"  style=\"background-color: lightsalmon;\" ><div class=\"lbl c0 trm hl\"  style=\"background-color: lightsalmon;\" ><span class=\"nd\">16</span> <span class=\"txto\">sza </span></div><div class='features'><span class=\"ummama xft\" ><span class=\"f\">ummama=</span>1</span></div></div></div></div><div class=\"contnr c2    \" ><div class=\"lbl c2  \" ><span class=\"nd\">word:975140</span> <span class=\"txto\">isz-ti2 </span></div><div class=\"children hor  \"><div class=\"contnr c0 trm   hl\"  style=\"background-color: lightsalmon;\" ><div class=\"lbl c0 trm hl\"  style=\"background-color: lightsalmon;\" ><span class=\"nd\">17</span> <span class=\"txto\">isz-</span></div><div class='features'><span class=\"ummama xft\" ><span class=\"f\">ummama=</span>1</span></div></div><div class=\"contnr c0 trm   hl\"  style=\"background-color: lightsalmon;\" ><div class=\"lbl c0 trm hl\"  style=\"background-color: lightsalmon;\" ><span class=\"nd\">18</span> <span class=\"txto\">ti2 </span></div><div class='features'><span class=\"ummama xft\" ><span class=\"f\">ummama=</span>1</span></div></div></div></div><div class=\"contnr c2    \" ><div class=\"lbl c2  \" ><span class=\"nd\">word:975141</span> <span class=\"txto\">i-le-e</span></div><div class=\"children hor  \"><div class=\"contnr c0 trm   hl\"  style=\"background-color: lightsalmon;\" ><div class=\"lbl c0 trm hl\"  style=\"background-color: lightsalmon;\" ><span class=\"nd\">19</span> <span class=\"txto\">i-</span></div><div class='features'><span class=\"ummama xft\" ><span class=\"f\">ummama=</span>1</span></div></div><div class=\"contnr c0 trm   hl\"  style=\"background-color: mediumaquamarine;\" ><div class=\"lbl c0 trm hl\"  style=\"background-color: mediumaquamarine;\" ><span class=\"nd\">20</span> <span class=\"txto\">le-</span></div></div><div class=\"contnr c0 trm   hl\"  style=\"background-color: lightsalmon;\" ><div class=\"lbl c0 trm hl\"  style=\"background-color: lightsalmon;\" ><span class=\"nd\">21</span> <span class=\"txto\">e</span></div><div class='features'><span class=\"ummama xft\" ><span class=\"f\">ummama=</span>1</span></div></div></div></div></div></div></div>"
      ],
      "text/plain": [
       "<IPython.core.display.HTML object>"
      ]
     },
     "metadata": {},
     "output_type": "display_data"
    },
    {
     "data": {
      "text/html": [
       "<p><b>line</b> <i>2</i></p>"
      ],
      "text/plain": [
       "<IPython.core.display.HTML object>"
      ]
     },
     "metadata": {},
     "output_type": "display_data"
    },
    {
     "data": {
      "text/html": [
       "<div class=\"section \"><a target=\"_blank\" href=\"https://cdli.ucla.edu/search/search_results.php?SearchMode=Text&amp;ObjectID=P390626\" title=\"Show this document on CDLI\" sec=\"P390626 obverse:4\">P390626 obverse:4</a></div><div class=\" children\"><div class=\"contnr c3    \" ><div class=\"lbl c3  \" ><span class=\"nd\">line:865275</span></div><div class=\"children hor wrap \"><div class=\"contnr c2    \" ><div class=\"lbl c2  \" ><span class=\"nd\">word:975142</span> <span class=\"txto\">e-ta-wu-ni </span></div><div class=\"children hor  \"><div class=\"contnr c0 trm   hl\"  style=\"background-color: lightsalmon;\" ><div class=\"lbl c0 trm hl\"  style=\"background-color: lightsalmon;\" ><span class=\"nd\">22</span> <span class=\"txto\">e-</span></div><div class='features'><span class=\"ummama xft\" ><span class=\"f\">ummama=</span>1</span></div></div><div class=\"contnr c0 trm   hl\"  style=\"background-color: lightsalmon;\" ><div class=\"lbl c0 trm hl\"  style=\"background-color: lightsalmon;\" ><span class=\"nd\">23</span> <span class=\"txto\">ta-</span></div><div class='features'><span class=\"ummama xft\" ><span class=\"f\">ummama=</span>1</span></div></div><div class=\"contnr c0 trm   hl\"  style=\"background-color: mediumaquamarine;\" ><div class=\"lbl c0 trm hl\"  style=\"background-color: mediumaquamarine;\" ><span class=\"nd\">24</span> <span class=\"txto\">wu-</span></div></div><div class=\"contnr c0 trm   hl\"  style=\"background-color: lightsalmon;\" ><div class=\"lbl c0 trm hl\"  style=\"background-color: lightsalmon;\" ><span class=\"nd\">25</span> <span class=\"txto\">ni </span></div><div class='features'><span class=\"ummama xft\" ><span class=\"f\">ummama=</span>1</span></div></div></div></div><div class=\"contnr c2    \" ><div class=\"lbl c2  \" ><span class=\"nd\">word:975143</span> <span class=\"txto\">{d}iszkur </span></div><div class=\"children hor  \"><div class=\"contnr c1    \" ><div class=\"lbl c1  \" ><span class=\"nd\">cluster:766505</span></div><div class=\"children hor wrap \"><div class=\"contnr c0 trm   hl\"  style=\"background-color: lightsalmon;\" ><div class=\"lbl c0 trm hl\"  style=\"background-color: lightsalmon;\" ><span class=\"nd\">26</span> <span class=\"txto\">{d}</span></div><div class='features'><span class=\"ummama xft\" ><span class=\"f\">ummama=</span>1</span></div></div></div></div><div class=\"contnr c0 trm   hl\"  style=\"background-color: lightsalmon;\" ><div class=\"lbl c0 trm hl\"  style=\"background-color: lightsalmon;\" ><span class=\"nd\">27</span> <span class=\"txto\">iszkur </span></div><div class='features'><span class=\"ummama xft\" ><span class=\"f\">ummama=</span>1</span></div></div></div></div><div class=\"contnr c2    \" ><div class=\"lbl c2  \" ><span class=\"nd\">word:975144</span> <span class=\"txto\">da-nu-tam2</span></div><div class=\"children hor  \"><div class=\"contnr c0 trm   hl\"  style=\"background-color: lightsalmon;\" ><div class=\"lbl c0 trm hl\"  style=\"background-color: lightsalmon;\" ><span class=\"nd\">28</span> <span class=\"txto\">da-</span></div><div class='features'><span class=\"ummama xft\" ><span class=\"f\">ummama=</span>1</span></div></div><div class=\"contnr c0 trm   hl\"  style=\"background-color: lightsalmon;\" ><div class=\"lbl c0 trm hl\"  style=\"background-color: lightsalmon;\" ><span class=\"nd\">29</span> <span class=\"txto\">nu-</span></div><div class='features'><span class=\"ummama xft\" ><span class=\"f\">ummama=</span>1</span></div></div><div class=\"contnr c0 trm   hl\"  style=\"background-color: lightsalmon;\" ><div class=\"lbl c0 trm hl\"  style=\"background-color: lightsalmon;\" ><span class=\"nd\">30</span> <span class=\"txto\">tam2</span></div><div class='features'><span class=\"ummama xft\" ><span class=\"f\">ummama=</span>1</span></div></div></div></div></div></div></div>"
      ],
      "text/plain": [
       "<IPython.core.display.HTML object>"
      ]
     },
     "metadata": {},
     "output_type": "display_data"
    },
    {
     "data": {
      "text/html": [
       "<p><b>line</b> <i>3</i></p>"
      ],
      "text/plain": [
       "<IPython.core.display.HTML object>"
      ]
     },
     "metadata": {},
     "output_type": "display_data"
    },
    {
     "data": {
      "text/html": [
       "<div class=\"section \"><a target=\"_blank\" href=\"https://cdli.ucla.edu/search/search_results.php?SearchMode=Text&amp;ObjectID=P390626\" title=\"Show this document on CDLI\" sec=\"P390626 obverse:7\">P390626 obverse:7</a></div><div class=\" children\"><div class=\"contnr c3    \" ><div class=\"lbl c3  \" ><span class=\"nd\">line:865278</span></div><div class=\"children hor wrap \"><div class=\"contnr c2    \" ><div class=\"lbl c2  \" ><span class=\"nd\">word:975151</span> <span class=\"txto\">sza-am-szi2-im </span></div><div class=\"children hor  \"><div class=\"contnr c0 trm   hl\"  style=\"background-color: lightsalmon;\" ><div class=\"lbl c0 trm hl\"  style=\"background-color: lightsalmon;\" ><span class=\"nd\">48</span> <span class=\"txto\">sza-</span></div><div class='features'><span class=\"ummama xft\" ><span class=\"f\">ummama=</span>1</span></div></div><div class=\"contnr c0 trm   hl\"  style=\"background-color: lightsalmon;\" ><div class=\"lbl c0 trm hl\"  style=\"background-color: lightsalmon;\" ><span class=\"nd\">49</span> <span class=\"txto\">am-</span></div><div class='features'><span class=\"ummama xft\" ><span class=\"f\">ummama=</span>1</span></div></div><div class=\"contnr c0 trm   hl\"  style=\"background-color: lightsalmon;\" ><div class=\"lbl c0 trm hl\"  style=\"background-color: lightsalmon;\" ><span class=\"nd\">50</span> <span class=\"txto\">szi2-</span></div><div class='features'><span class=\"ummama xft\" ><span class=\"f\">ummama=</span>1</span></div></div><div class=\"contnr c0 trm   hl\"  style=\"background-color: lightsalmon;\" ><div class=\"lbl c0 trm hl\"  style=\"background-color: lightsalmon;\" ><span class=\"nd\">51</span> <span class=\"txto\">im </span></div><div class='features'><span class=\"ummama xft\" ><span class=\"f\">ummama=</span>1</span></div></div></div></div><div class=\"contnr c2    \" ><div class=\"lbl c2  \" ><span class=\"nd\">word:975152</span> <span class=\"txto\">ma-tam2 </span></div><div class=\"children hor  \"><div class=\"contnr c0 trm   hl\"  style=\"background-color: lightsalmon;\" ><div class=\"lbl c0 trm hl\"  style=\"background-color: lightsalmon;\" ><span class=\"nd\">52</span> <span class=\"txto\">ma-</span></div><div class='features'><span class=\"ummama xft\" ><span class=\"f\">ummama=</span>1</span></div></div><div class=\"contnr c0 trm   hl\"  style=\"background-color: lightsalmon;\" ><div class=\"lbl c0 trm hl\"  style=\"background-color: lightsalmon;\" ><span class=\"nd\">53</span> <span class=\"txto\">tam2 </span></div><div class='features'><span class=\"ummama xft\" ><span class=\"f\">ummama=</span>1</span></div></div></div></div><div class=\"contnr c2    \" ><div class=\"lbl c2  \" ><span class=\"nd\">word:975153</span> <span class=\"txto\">as,-ba-at-ma</span></div><div class=\"children hor  \"><div class=\"contnr c0 trm   hl\"  style=\"background-color: mediumaquamarine;\" ><div class=\"lbl c0 trm hl\"  style=\"background-color: mediumaquamarine;\" ><span class=\"nd\">54</span> <span class=\"txto\">as,-</span></div></div><div class=\"contnr c0 trm   hl\"  style=\"background-color: lightsalmon;\" ><div class=\"lbl c0 trm hl\"  style=\"background-color: lightsalmon;\" ><span class=\"nd\">55</span> <span class=\"txto\">ba-</span></div><div class='features'><span class=\"ummama xft\" ><span class=\"f\">ummama=</span>1</span></div></div><div class=\"contnr c0 trm   hl\"  style=\"background-color: lightsalmon;\" ><div class=\"lbl c0 trm hl\"  style=\"background-color: lightsalmon;\" ><span class=\"nd\">56</span> <span class=\"txto\">at-</span></div><div class='features'><span class=\"ummama xft\" ><span class=\"f\">ummama=</span>1</span></div></div><div class=\"contnr c0 trm   hl\"  style=\"background-color: lightsalmon;\" ><div class=\"lbl c0 trm hl\"  style=\"background-color: lightsalmon;\" ><span class=\"nd\">57</span> <span class=\"txto\">ma</span></div><div class='features'><span class=\"ummama xft\" ><span class=\"f\">ummama=</span>1</span></div></div></div></div></div></div></div>"
      ],
      "text/plain": [
       "<IPython.core.display.HTML object>"
      ]
     },
     "metadata": {},
     "output_type": "display_data"
    }
   ],
   "source": [
    "A.show(\n",
    "    results,\n",
    "    start=1,\n",
    "    end=3,\n",
    "    baseTypes=\"sign\",\n",
    "    condensed=True,\n",
    "    withNodes=True,\n",
    "    highlights=highlights,\n",
    ")"
   ]
  },
  {
   "cell_type": "markdown",
   "metadata": {},
   "source": [
    "Or in the context of a whole face:"
   ]
  },
  {
   "cell_type": "code",
   "execution_count": 29,
   "metadata": {},
   "outputs": [
    {
     "data": {
      "text/html": [
       "<p><b>face</b> <i>1</i></p>"
      ],
      "text/plain": [
       "<IPython.core.display.HTML object>"
      ]
     },
     "metadata": {},
     "output_type": "display_data"
    },
    {
     "data": {
      "text/html": [
       "<div class=\"section \"><a target=\"_blank\" href=\"https://cdli.ucla.edu/search/search_results.php?SearchMode=Text&amp;ObjectID=P390626\" title=\"Show this document on CDLI\" sec=\"P390626 obverse\">P390626 obverse</a></div><div class=\" children\"><div class=\"contnr c4    \" ><div class=\"lbl c4  \" ><span class=\"nd\">face</span> <span class=\"txto\"><span class=\"section\">P390626 obverse</span></span></div><div class=\"children hor wrap \"><div class=\"contnr c3    \" ><div class=\"lbl c3  \" ><span class=\"nd\">line</span></div><div class=\"children hor wrap \"><div class=\"contnr c2 trm   \" ><div class=\"lbl c2 trm \" ><span class=\"nd\">word</span> <span class=\"txto\"><span class=\"plain   \" ><span class=\"plain   hl\"  style=\"background-color: lightsalmon;\" ><span class=\"txto\">_lugal_ </span></span></span></span></div></div><div class=\"contnr c2 trm   \" ><div class=\"lbl c2 trm \" ><span class=\"nd\">word</span> <span class=\"txto\"><span class=\"plain   \" ><span class=\"plain   hl\"  style=\"background-color: lightsalmon;\" ><span class=\"txto\">lugal-</span></span><span class=\"plain   hl\"  style=\"background-color: lightsalmon;\" ><span class=\"txto\">ke-</span></span><span class=\"plain   hl\"  style=\"background-color: lightsalmon;\" ><span class=\"txto\">en6 </span></span></span></span></div></div><div class=\"contnr c2 trm   \" ><div class=\"lbl c2 trm \" ><span class=\"nd\">word</span> <span class=\"txto\"><span class=\"plain   \" ><span class=\"plain   hl\"  style=\"background-color: lightsalmon;\" ><span class=\"txto\">_lugal_</span></span></span></span></div></div></div></div><div class=\"contnr c3    \" ><div class=\"lbl c3  \" ><span class=\"nd\">line</span></div><div class=\"children hor wrap \"><div class=\"contnr c2 trm   \" ><div class=\"lbl c2 trm \" ><span class=\"nd\">word</span> <span class=\"txto\"><span class=\"plain   \" ><span class=\"plain   hl\"  style=\"background-color: lightsalmon;\" ><span class=\"txto\">a-</span></span><span class=\"plain   hl\"  style=\"background-color: lightsalmon;\" ><span class=\"txto\">ki-</span></span><span class=\"plain   hl\"  style=\"background-color: lightsalmon;\" ><span class=\"txto\">di2-</span></span><span class=\"plain   hl\"  style=\"background-color: lightsalmon;\" ><span class=\"txto\">e </span></span></span></span></div></div><div class=\"contnr c2 trm   \" ><div class=\"lbl c2 trm \" ><span class=\"nd\">word</span> <span class=\"txto\"><span class=\"plain   \" ><span class=\"plain   hl\"  style=\"background-color: lightsalmon;\" ><span class=\"txto\">re-</span></span><span class=\"plain   hl\"  style=\"background-color: lightsalmon;\" ><span class=\"txto\">be-</span></span><span class=\"plain   hl\"  style=\"background-color: lightsalmon;\" ><span class=\"txto\">tim </span></span></span></span></div></div><div class=\"contnr c2 trm   \" ><div class=\"lbl c2 trm \" ><span class=\"nd\">word</span> <span class=\"txto\"><span class=\"plain   \" ><span class=\"plain   hl\"  style=\"background-color: lightsalmon;\" ><span class=\"txto\">_lugal_</span></span></span></span></div></div></div></div><div class=\"contnr c3    hl\" ><div class=\"lbl c3  hl\" ><span class=\"nd\">line</span></div><div class=\"children hor wrap \"><div class=\"contnr c2 trm   \" ><div class=\"lbl c2 trm \" ><span class=\"nd\">word</span> <span class=\"txto\"><span class=\"plain   \" ><span class=\"plain   hl\"  style=\"background-color: lightsalmon;\" ><span class=\"txto\">da-</span></span><span class=\"plain   hl\"  style=\"background-color: lightsalmon;\" ><span class=\"txto\">num </span></span></span></span></div></div><div class=\"contnr c2 trm   \" ><div class=\"lbl c2 trm \" ><span class=\"nd\">word</span> <span class=\"txto\"><span class=\"plain   \" ><span class=\"plain   hl\"  style=\"background-color: lightsalmon;\" ><span class=\"txto\">sza </span></span></span></span></div></div><div class=\"contnr c2 trm   \" ><div class=\"lbl c2 trm \" ><span class=\"nd\">word</span> <span class=\"txto\"><span class=\"plain   \" ><span class=\"plain   hl\"  style=\"background-color: lightsalmon;\" ><span class=\"txto\">isz-</span></span><span class=\"plain   hl\"  style=\"background-color: lightsalmon;\" ><span class=\"txto\">ti2 </span></span></span></span></div></div><div class=\"contnr c2 trm   \" ><div class=\"lbl c2 trm \" ><span class=\"nd\">word</span> <span class=\"txto\"><span class=\"plain   \" ><span class=\"plain   hl\"  style=\"background-color: lightsalmon;\" ><span class=\"txto\">i-</span></span><span class=\"plain   hl\"  style=\"background-color: mediumaquamarine;\" ><span class=\"txto\">le-</span></span><span class=\"plain   hl\"  style=\"background-color: lightsalmon;\" ><span class=\"txto\">e</span></span></span></span></div></div></div></div><div class=\"contnr c3    hl\" ><div class=\"lbl c3  hl\" ><span class=\"nd\">line</span></div><div class=\"children hor wrap \"><div class=\"contnr c2 trm   \" ><div class=\"lbl c2 trm \" ><span class=\"nd\">word</span> <span class=\"txto\"><span class=\"plain   \" ><span class=\"plain   hl\"  style=\"background-color: lightsalmon;\" ><span class=\"txto\">e-</span></span><span class=\"plain   hl\"  style=\"background-color: lightsalmon;\" ><span class=\"txto\">ta-</span></span><span class=\"plain   hl\"  style=\"background-color: mediumaquamarine;\" ><span class=\"txto\">wu-</span></span><span class=\"plain   hl\"  style=\"background-color: lightsalmon;\" ><span class=\"txto\">ni </span></span></span></span></div></div><div class=\"contnr c2 trm   \" ><div class=\"lbl c2 trm \" ><span class=\"nd\">word</span> <span class=\"txto\"><span class=\"plain   \" ><span class=\"plain   hl\"  style=\"background-color: lightsalmon;\" ><span class=\"txto\">{d}</span></span><span class=\"plain   hl\"  style=\"background-color: lightsalmon;\" ><span class=\"txto\">iszkur </span></span></span></span></div></div><div class=\"contnr c2 trm   \" ><div class=\"lbl c2 trm \" ><span class=\"nd\">word</span> <span class=\"txto\"><span class=\"plain   \" ><span class=\"plain   hl\"  style=\"background-color: lightsalmon;\" ><span class=\"txto\">da-</span></span><span class=\"plain   hl\"  style=\"background-color: lightsalmon;\" ><span class=\"txto\">nu-</span></span><span class=\"plain   hl\"  style=\"background-color: lightsalmon;\" ><span class=\"txto\">tam2</span></span></span></span></div></div></div></div><div class=\"contnr c3    \" ><div class=\"lbl c3  \" ><span class=\"nd\">line</span></div><div class=\"children hor wrap \"><div class=\"contnr c2 trm   \" ><div class=\"lbl c2 trm \" ><span class=\"nd\">word</span> <span class=\"txto\"><span class=\"plain   \" ><span class=\"plain   hl\"  style=\"background-color: lightsalmon;\" ><span class=\"txto\">i-</span></span><span class=\"plain   hl\"  style=\"background-color: lightsalmon;\" ><span class=\"txto\">di2-</span></span><span class=\"plain   hl\"  style=\"background-color: lightsalmon;\" ><span class=\"txto\">szu-</span></span><span class=\"plain   hl\"  style=\"background-color: lightsalmon;\" ><span class=\"txto\">ma </span></span></span></span></div></div><div class=\"contnr c2 trm   \" ><div class=\"lbl c2 trm \" ><span class=\"nd\">word</span> <span class=\"txto\"><span class=\"plain   \" ><span class=\"plain   hl\"  style=\"background-color: lightsalmon;\" ><span class=\"txto\">isz-</span></span><span class=\"plain   hl\"  style=\"background-color: lightsalmon;\" ><span class=\"txto\">tu3 </span></span></span></span></div></div><div class=\"contnr c2 trm   \" ><div class=\"lbl c2 trm \" ><span class=\"nd\">word</span> <span class=\"txto\"><span class=\"plain   \" ><span class=\"plain   hl\"  style=\"background-color: lightsalmon;\" ><span class=\"txto\">s,i2-</span></span><span class=\"plain   hl\"  style=\"background-color: lightsalmon;\" ><span class=\"txto\">it</span></span></span></span></div></div></div></div><div class=\"contnr c3    \" ><div class=\"lbl c3  \" ><span class=\"nd\">line</span></div><div class=\"children hor wrap \"><div class=\"contnr c2 trm   \" ><div class=\"lbl c2 trm \" ><span class=\"nd\">word</span> <span class=\"txto\"><span class=\"plain   \" ><span class=\"plain   hl\"  style=\"background-color: lightsalmon;\" ><span class=\"txto\">sza-</span></span><span class=\"plain   hl\"  style=\"background-color: lightsalmon;\" ><span class=\"txto\">am-</span></span><span class=\"plain   hl\"  style=\"background-color: lightsalmon;\" ><span class=\"txto\">szi2-</span></span><span class=\"plain   hl\"  style=\"background-color: lightsalmon;\" ><span class=\"txto\">im </span></span></span></span></div></div><div class=\"contnr c2 trm   \" ><div class=\"lbl c2 trm \" ><span class=\"nd\">word</span> <span class=\"txto\"><span class=\"plain   \" ><span class=\"plain   hl\"  style=\"background-color: lightsalmon;\" ><span class=\"txto\">a-</span></span><span class=\"plain   hl\"  style=\"background-color: lightsalmon;\" ><span class=\"txto\">di2 </span></span></span></span></div></div><div class=\"contnr c2 trm   \" ><div class=\"lbl c2 trm \" ><span class=\"nd\">word</span> <span class=\"txto\"><span class=\"plain   \" ><span class=\"plain   hl\"  style=\"background-color: lightsalmon;\" ><span class=\"txto\">e-</span></span><span class=\"plain   hl\"  style=\"background-color: lightsalmon;\" ><span class=\"txto\">ra-</span></span><span class=\"plain   hl\"  style=\"background-color: lightsalmon;\" ><span class=\"txto\">ab2</span></span></span></span></div></div></div></div><div class=\"contnr c3    hl\" ><div class=\"lbl c3  hl\" ><span class=\"nd\">line</span></div><div class=\"children hor wrap \"><div class=\"contnr c2 trm   \" ><div class=\"lbl c2 trm \" ><span class=\"nd\">word</span> <span class=\"txto\"><span class=\"plain   \" ><span class=\"plain   hl\"  style=\"background-color: lightsalmon;\" ><span class=\"txto\">sza-</span></span><span class=\"plain   hl\"  style=\"background-color: lightsalmon;\" ><span class=\"txto\">am-</span></span><span class=\"plain   hl\"  style=\"background-color: lightsalmon;\" ><span class=\"txto\">szi2-</span></span><span class=\"plain   hl\"  style=\"background-color: lightsalmon;\" ><span class=\"txto\">im </span></span></span></span></div></div><div class=\"contnr c2 trm   \" ><div class=\"lbl c2 trm \" ><span class=\"nd\">word</span> <span class=\"txto\"><span class=\"plain   \" ><span class=\"plain   hl\"  style=\"background-color: lightsalmon;\" ><span class=\"txto\">ma-</span></span><span class=\"plain   hl\"  style=\"background-color: lightsalmon;\" ><span class=\"txto\">tam2 </span></span></span></span></div></div><div class=\"contnr c2 trm   \" ><div class=\"lbl c2 trm \" ><span class=\"nd\">word</span> <span class=\"txto\"><span class=\"plain   \" ><span class=\"plain   hl\"  style=\"background-color: mediumaquamarine;\" ><span class=\"txto\">as,-</span></span><span class=\"plain   hl\"  style=\"background-color: lightsalmon;\" ><span class=\"txto\">ba-</span></span><span class=\"plain   hl\"  style=\"background-color: lightsalmon;\" ><span class=\"txto\">at-</span></span><span class=\"plain   hl\"  style=\"background-color: lightsalmon;\" ><span class=\"txto\">ma</span></span></span></span></div></div></div></div><div class=\"contnr c3    hl\" ><div class=\"lbl c3  hl\" ><span class=\"nd\">line</span></div><div class=\"children hor wrap \"><div class=\"contnr c2 trm   \" ><div class=\"lbl c2 trm \" ><span class=\"nd\">word</span> <span class=\"txto\"><span class=\"plain   \" ><span class=\"plain   hl\"  style=\"background-color: lightsalmon;\" ><span class=\"txto\">i-</span></span><span class=\"plain   hl\"  style=\"background-color: lightsalmon;\" ><span class=\"txto\">na </span></span></span></span></div></div><div class=\"contnr c2 trm   \" ><div class=\"lbl c2 trm \" ><span class=\"nd\">word</span> <span class=\"txto\"><span class=\"plain   \" ><span class=\"plain   hl\"  style=\"background-color: mediumaquamarine;\" ><span class=\"txto\">u4-</span></span><span class=\"plain   hl\"  style=\"background-color: lightsalmon;\" ><span class=\"txto\">mi3-</span></span><span class=\"plain   hl\"  style=\"background-color: lightsalmon;\" ><span class=\"txto\">im </span></span></span></span></div></div><div class=\"contnr c2 trm   \" ><div class=\"lbl c2 trm \" ><span class=\"nd\">word</span> <span class=\"txto\"><span class=\"plain   \" ><span class=\"plain   hl\"  style=\"background-color: lightsalmon;\" ><span class=\"txto\">isz-</span></span><span class=\"plain   hl\"  style=\"background-color: mediumaquamarine;\" ><span class=\"txto\">te2-</span></span><span class=\"plain   hl\"  style=\"background-color: lightsalmon;\" ><span class=\"txto\">en6</span></span></span></span></div></div></div></div><div class=\"contnr c3    \" ><div class=\"lbl c3  \" ><span class=\"nd\">line</span></div><div class=\"children hor wrap \"><div class=\"contnr c2 trm   \" ><div class=\"lbl c2 trm \" ><span class=\"nd\">word</span> <span class=\"txto\"><span class=\"plain   \" ><span class=\"plain   hl\"  style=\"background-color: lightsalmon;\" ><span class=\"txto\">a-</span></span><span class=\"plain   hl\"  style=\"background-color: lightsalmon;\" ><span class=\"txto\">na </span></span></span></span></div></div><div class=\"contnr c2 trm   \" ><div class=\"lbl c2 trm \" ><span class=\"nd\">word</span> <span class=\"txto\"><span class=\"plain   \" ><span class=\"plain   hl\"  style=\"background-color: lightsalmon;\" ><span class=\"txto\">7(u) </span></span></span></span></div></div><div class=\"contnr c2 trm   \" ><div class=\"lbl c2 trm \" ><span class=\"nd\">word</span> <span class=\"txto\"><span class=\"plain   \" ><span class=\"plain   hl\"  style=\"background-color: lightsalmon;\" ><span class=\"txto\">a-</span></span><span class=\"plain   hl\"  style=\"background-color: lightsalmon;\" ><span class=\"txto\">la2-</span></span><span class=\"plain   hl\"  style=\"background-color: lightsalmon;\" ><span class=\"txto\">ni </span></span></span></span></div></div><div class=\"contnr c2 trm   \" ><div class=\"lbl c2 trm \" ><span class=\"nd\">word</span> <span class=\"txto\"><span class=\"plain   \" ><span class=\"plain   hl\"  style=\"background-color: lightsalmon;\" ><span class=\"txto\">ka3-</span></span><span class=\"plain   hl\"  style=\"background-color: lightsalmon;\" ><span class=\"txto\">ka3-</span></span><span class=\"plain   hl\"  style=\"background-color: lightsalmon;\" ><span class=\"txto\">am </span></span></span></span></div></div><div class=\"contnr c2 trm   \" ><div class=\"lbl c2 trm \" ><span class=\"nd\">word</span> <span class=\"txto\"><span class=\"plain   \" ><span class=\"plain   hl\"  style=\"background-color: lightsalmon;\" ><span class=\"txto\">a-</span></span><span class=\"plain   hl\"  style=\"background-color: lightsalmon;\" ><span class=\"txto\">di2-</span></span><span class=\"plain   hl\"  style=\"background-color: lightsalmon;\" ><span class=\"txto\">in</span></span></span></span></div></div></div></div><div class=\"contnr c3    \" ><div class=\"lbl c3  \" ><span class=\"nd\">line</span></div><div class=\"children hor wrap \"><div class=\"contnr c2 trm   \" ><div class=\"lbl c2 trm \" ><span class=\"nd\">word</span> <span class=\"txto\"><span class=\"plain   \" ><span class=\"plain   hl\"  style=\"background-color: lightsalmon;\" ><span class=\"txto\">ru-</span></span><span class=\"plain   hl\"  style=\"background-color: lightsalmon;\" ><span class=\"txto\">ba-</span></span><span class=\"plain   hl\"  style=\"background-color: lightsalmon;\" ><span class=\"txto\">e-</span></span><span class=\"plain   hl\"  style=\"background-color: lightsalmon;\" ><span class=\"txto\">szu-</span></span><span class=\"plain   hl\"  style=\"background-color: lightsalmon;\" ><span class=\"txto\">nu </span></span></span></span></div></div><div class=\"contnr c2 trm   \" ><div class=\"lbl c2 trm \" ><span class=\"nd\">word</span> <span class=\"txto\"><span class=\"plain   \" ><span class=\"plain   hl\"  style=\"background-color: lightsalmon;\" ><span class=\"txto\">u2-</span></span><span class=\"plain   hl\"  style=\"background-color: lightsalmon;\" ><span class=\"txto\">s,a-</span></span><span class=\"plain   hl\"  style=\"background-color: lightsalmon;\" ><span class=\"txto\">bi4-</span></span><span class=\"plain   hl\"  style=\"background-color: lightsalmon;\" ><span class=\"txto\">it </span></span></span></span></div></div><div class=\"contnr c2 trm   \" ><div class=\"lbl c2 trm \" ><span class=\"nd\">word</span> <span class=\"txto\"><span class=\"plain   \" ><span class=\"plain   hl\"  style=\"background-color: lightsalmon;\" ><span class=\"txto\">u3 </span></span></span></span></div></div><div class=\"contnr c2 trm   \" ><div class=\"lbl c2 trm \" ><span class=\"nd\">word</span> <span class=\"txto\"><span class=\"plain   \" ><span class=\"plain   hl\"  style=\"background-color: lightsalmon;\" ><span class=\"txto\">a-</span></span><span class=\"plain   hl\"  style=\"background-color: lightsalmon;\" ><span class=\"txto\">li-</span></span><span class=\"plain   hl\"  style=\"background-color: lightsalmon;\" ><span class=\"txto\">szu-</span></span><span class=\"plain   hl\"  style=\"background-color: lightsalmon;\" ><span class=\"txto\">nu</span></span></span></span></div></div></div></div><div class=\"contnr c3    hl\" ><div class=\"lbl c3  hl\" ><span class=\"nd\">line</span></div><div class=\"children hor wrap \"><div class=\"contnr c2 trm   \" ><div class=\"lbl c2 trm \" ><span class=\"nd\">word</span> <span class=\"txto\"><span class=\"plain   \" ><span class=\"plain   hl\"  style=\"background-color: lightsalmon;\" ><span class=\"txto\">u2-</span></span><span class=\"plain   hl\"  style=\"background-color: lightsalmon;\" ><span class=\"txto\">ha-</span></span><span class=\"plain   hl\"  style=\"background-color: lightsalmon;\" ><span class=\"txto\">li-</span></span><span class=\"plain   hl\"  style=\"background-color: mediumaquamarine;\" ><span class=\"txto\">iq </span></span></span></span></div></div><div class=\"contnr c2 trm   \" ><div class=\"lbl c2 trm \" ><span class=\"nd\">word</span> <span class=\"txto\"><span class=\"plain   \" ><span class=\"plain   hl\"  style=\"background-color: lightsalmon;\" ><span class=\"txto\">{d}</span></span><span class=\"plain   hl\"  style=\"background-color: lightsalmon;\" ><span class=\"txto\">iszkur </span></span></span></span></div></div><div class=\"contnr c2 trm   \" ><div class=\"lbl c2 trm \" ><span class=\"nd\">word</span> <span class=\"txto\"><span class=\"plain   \" ><span class=\"plain   hl\"  style=\"background-color: lightsalmon;\" ><span class=\"txto\">be-</span></span><span class=\"plain   hl\"  style=\"background-color: lightsalmon;\" ><span class=\"txto\">el </span></span></span></span></div></div><div class=\"contnr c2 trm   \" ><div class=\"lbl c2 trm \" ><span class=\"nd\">word</span> <span class=\"txto\"><span class=\"plain   \" ><span class=\"plain   hl\"  style=\"background-color: lightsalmon;\" ><span class=\"txto\">e-</span></span><span class=\"plain   hl\"  style=\"background-color: lightsalmon;\" ><span class=\"txto\">mu-</span></span><span class=\"plain   hl\"  style=\"background-color: lightsalmon;\" ><span class=\"txto\">qi2-</span></span><span class=\"plain   hl\"  style=\"background-color: lightsalmon;\" ><span class=\"txto\">im</span></span></span></span></div></div></div></div><div class=\"contnr c3    \" ><div class=\"lbl c3  \" ><span class=\"nd\">line</span></div><div class=\"children hor wrap \"><div class=\"contnr c2 trm   \" ><div class=\"lbl c2 trm \" ><span class=\"nd\">word</span> <span class=\"txto\"><span class=\"plain   \" ><span class=\"plain   hl\"  style=\"background-color: lightsalmon;\" ><span class=\"txto\">u3 </span></span></span></span></div></div><div class=\"contnr c2 trm   \" ><div class=\"lbl c2 trm \" ><span class=\"nd\">word</span> <span class=\"txto\"><span class=\"plain   \" ><span class=\"plain   hl\"  style=\"background-color: lightsalmon;\" ><span class=\"txto\">esz18-</span></span><span class=\"plain   hl\"  style=\"background-color: lightsalmon;\" ><span class=\"txto\">dar </span></span></span></span></div></div><div class=\"contnr c2 trm   \" ><div class=\"lbl c2 trm \" ><span class=\"nd\">word</span> <span class=\"txto\"><span class=\"plain   \" ><span class=\"plain   hl\"  style=\"background-color: lightsalmon;\" ><span class=\"txto\">be-</span></span><span class=\"plain   hl\"  style=\"background-color: lightsalmon;\" ><span class=\"txto\">la2-</span></span><span class=\"plain   hl\"  style=\"background-color: lightsalmon;\" ><span class=\"txto\">at </span></span></span></span></div></div><div class=\"contnr c2 trm   \" ><div class=\"lbl c2 trm \" ><span class=\"nd\">word</span> <span class=\"txto\"><span class=\"plain   \" ><span class=\"plain   hl\"  style=\"background-color: lightsalmon;\" ><span class=\"txto\">ta-</span></span><span class=\"plain   hl\"  style=\"background-color: lightsalmon;\" ><span class=\"txto\">ha-</span></span><span class=\"plain   hl\"  style=\"background-color: lightsalmon;\" ><span class=\"txto\">zi-</span></span><span class=\"plain   hl\"  style=\"background-color: lightsalmon;\" ><span class=\"txto\">im</span></span></span></span></div></div></div></div><div class=\"contnr c3    \" ><div class=\"lbl c3  \" ><span class=\"nd\">line</span></div><div class=\"children hor wrap \"><div class=\"contnr c2 trm   \" ><div class=\"lbl c2 trm \" ><span class=\"nd\">word</span> <span class=\"txto\"><span class=\"plain   \" ><span class=\"plain   hl\"  style=\"background-color: lightsalmon;\" ><span class=\"txto\">at-</span></span><span class=\"plain   hl\"  style=\"background-color: lightsalmon;\" ><span class=\"txto\">ma </span></span></span></span></div></div><div class=\"contnr c2 trm   \" ><div class=\"lbl c2 trm \" ><span class=\"nd\">word</span> <span class=\"txto\"><span class=\"plain   \" ><span class=\"plain   hl\"  style=\"background-color: lightsalmon;\" ><span class=\"txto\">s,a-</span></span><span class=\"plain   hl\"  style=\"background-color: lightsalmon;\" ><span class=\"txto\">bi4-</span></span><span class=\"plain   hl\"  style=\"background-color: lightsalmon;\" ><span class=\"txto\">tam2 </span></span></span></span></div></div><div class=\"contnr c2 trm   \" ><div class=\"lbl c2 trm \" ><span class=\"nd\">word</span> <span class=\"txto\"><span class=\"plain   \" ><span class=\"plain   hl\"  style=\"background-color: lightsalmon;\" ><span class=\"txto\">a-</span></span><span class=\"plain   hl\"  style=\"background-color: lightsalmon;\" ><span class=\"txto\">mu-</span></span><span class=\"plain   hl\"  style=\"background-color: lightsalmon;\" ><span class=\"txto\">ur-</span></span><span class=\"plain   hl\"  style=\"background-color: lightsalmon;\" ><span class=\"txto\">ma </span></span></span></span></div></div><div class=\"contnr c2 trm   \" ><div class=\"lbl c2 trm \" ><span class=\"nd\">word</span> <span class=\"txto\"><span class=\"plain   \" ><span class=\"plain   hl\"  style=\"background-color: lightsalmon;\" ><span class=\"txto\">li-</span></span><span class=\"plain   hl\"  style=\"background-color: lightsalmon;\" ><span class=\"txto\">bi4-</span></span><span class=\"plain   hl\"  style=\"background-color: lightsalmon;\" ><span class=\"txto\">tam2</span></span></span></span></div></div></div></div><div class=\"contnr c3    \" ><div class=\"lbl c3  \" ><span class=\"nd\">line</span></div><div class=\"children hor wrap \"><div class=\"contnr c2 trm   \" ><div class=\"lbl c2 trm \" ><span class=\"nd\">word</span> <span class=\"txto\"><span class=\"plain   \" ><span class=\"plain   hl\"  style=\"background-color: lightsalmon;\" ><span class=\"txto\">a-</span></span><span class=\"plain   hl\"  style=\"background-color: lightsalmon;\" ><span class=\"txto\">na </span></span></span></span></div></div><div class=\"contnr c2 trm   \" ><div class=\"lbl c2 trm \" ><span class=\"nd\">word</span> <span class=\"txto\"><span class=\"plain   \" ><span class=\"plain   hl\"  style=\"background-color: lightsalmon;\" ><span class=\"txto\">na-</span></span><span class=\"plain   hl\"  style=\"background-color: lightsalmon;\" ><span class=\"txto\">ri-</span></span><span class=\"plain   hl\"  style=\"background-color: lightsalmon;\" ><span class=\"txto\">im </span></span></span></span></div></div><div class=\"contnr c2 trm   \" ><div class=\"lbl c2 trm \" ><span class=\"nd\">word</span> <span class=\"txto\"><span class=\"plain   \" ><span class=\"plain   hl\"  style=\"background-color: lightsalmon;\" ><span class=\"txto\">a-</span></span><span class=\"plain   hl\"  style=\"background-color: lightsalmon;\" ><span class=\"txto\">di2-</span></span><span class=\"plain   hl\"  style=\"background-color: lightsalmon;\" ><span class=\"txto\">ma </span></span></span></span></div></div><div class=\"contnr c2 trm   \" ><div class=\"lbl c2 trm \" ><span class=\"nd\">word</span> <span class=\"txto\"><span class=\"plain   \" ><span class=\"plain   hl\"  style=\"background-color: lightsalmon;\" ><span class=\"txto\">i-</span></span><span class=\"plain   hl\"  style=\"background-color: lightsalmon;\" ><span class=\"txto\">na</span></span></span></span></div></div></div></div><div class=\"contnr c3    hl\" ><div class=\"lbl c3  hl\" ><span class=\"nd\">line</span></div><div class=\"children hor wrap \"><div class=\"contnr c2 trm   \" ><div class=\"lbl c2 trm \" ><span class=\"nd\">word</span> <span class=\"txto\"><span class=\"plain   \" ><span class=\"plain   hl\"  style=\"background-color: lightsalmon;\" ><span class=\"txto\">la2-</span></span><span class=\"plain   hl\"  style=\"background-color: lightsalmon;\" ><span class=\"txto\">sa3-</span></span><span class=\"plain   hl\"  style=\"background-color: lightsalmon;\" ><span class=\"txto\">mi3-</span></span><span class=\"plain   hl\"  style=\"background-color: lightsalmon;\" ><span class=\"txto\">a </span></span></span></span></div></div><div class=\"contnr c2 trm   \" ><div class=\"lbl c2 trm \" ><span class=\"nd\">word</span> <span class=\"txto\"><span class=\"plain   \" ><span class=\"plain   hl\"  style=\"background-color: lightsalmon;\" ><span class=\"txto\">mu-</span></span><span class=\"plain   hl\"  style=\"background-color: lightsalmon;\" ><span class=\"txto\">sa3-</span></span><span class=\"plain   hl\"  style=\"background-color: lightsalmon;\" ><span class=\"txto\">ri </span></span></span></span></div></div><div class=\"contnr c2 trm   \" ><div class=\"lbl c2 trm \" ><span class=\"nd\">word</span> <span class=\"txto\"><span class=\"plain   \" ><span class=\"plain   hl\"  style=\"background-color: lightsalmon;\" ><span class=\"txto\">i-</span></span><span class=\"plain   hl\"  style=\"background-color: lightsalmon;\" ><span class=\"txto\">bi4-</span></span><span class=\"plain   hl\"  style=\"background-color: lightsalmon;\" ><span class=\"txto\">ti2-</span></span><span class=\"plain   hl\"  style=\"background-color: mediumaquamarine;\" ><span class=\"txto\">iq-</span></span><span class=\"plain   hl\"  style=\"background-color: lightsalmon;\" ><span class=\"txto\">ma</span></span></span></span></div></div></div></div><div class=\"contnr c3    \" ><div class=\"lbl c3  \" ><span class=\"nd\">line</span></div><div class=\"children hor wrap \"><div class=\"contnr c2 trm   \" ><div class=\"lbl c2 trm \" ><span class=\"nd\">word</span> <span class=\"txto\"><span class=\"plain   \" ><span class=\"plain   hl\"  style=\"background-color: lightsalmon;\" ><span class=\"txto\">za-</span></span><span class=\"plain   hl\"  style=\"background-color: lightsalmon;\" ><span class=\"txto\">ar-</span></span><span class=\"plain   hl\"  style=\"background-color: lightsalmon;\" ><span class=\"txto\">a-</span></span><span class=\"plain   hl\"  style=\"background-color: lightsalmon;\" ><span class=\"txto\">am </span></span></span></span></div></div><div class=\"contnr c2 trm   \" ><div class=\"lbl c2 trm \" ><span class=\"nd\">word</span> <span class=\"txto\"><span class=\"plain   \" ><span class=\"plain   hl\"  style=\"background-color: lightsalmon;\" ><span class=\"txto\">asz2-</span></span><span class=\"plain   hl\"  style=\"background-color: lightsalmon;\" ><span class=\"txto\">ta-</span></span><span class=\"plain   hl\"  style=\"background-color: lightsalmon;\" ><span class=\"txto\">ka3-</span></span><span class=\"plain   hl\"  style=\"background-color: lightsalmon;\" ><span class=\"txto\">an-</span></span><span class=\"plain   hl\"  style=\"background-color: lightsalmon;\" ><span class=\"txto\">ma </span></span></span></span></div></div><div class=\"contnr c2 trm   \" ><div class=\"lbl c2 trm \" ><span class=\"nd\">word</span> <span class=\"txto\"><span class=\"plain   \" ><span class=\"plain   hl\"  style=\"background-color: lightsalmon;\" ><span class=\"txto\">al-</span></span><span class=\"plain   hl\"  style=\"background-color: lightsalmon;\" ><span class=\"txto\">su2-</span></span><span class=\"plain   hl\"  style=\"background-color: lightsalmon;\" ><span class=\"txto\">ma</span></span></span></span></div></div></div></div><div class=\"contnr c3    hl\" ><div class=\"lbl c3  hl\" ><span class=\"nd\">line</span></div><div class=\"children hor wrap \"><div class=\"contnr c2 trm   \" ><div class=\"lbl c2 trm \" ><span class=\"nd\">word</span> <span class=\"txto\"><span class=\"plain   \" ><span class=\"plain   hl\"  style=\"background-color: lightsalmon;\" ><span class=\"txto\">s,a-</span></span><span class=\"plain   hl\"  style=\"background-color: lightsalmon;\" ><span class=\"txto\">bi4-</span></span><span class=\"plain   hl\"  style=\"background-color: lightsalmon;\" ><span class=\"txto\">tam2 </span></span></span></span></div></div><div class=\"contnr c2 trm   \" ><div class=\"lbl c2 trm \" ><span class=\"nd\">word</span> <span class=\"txto\"><span class=\"plain   \" ><span class=\"plain   hl\"  style=\"background-color: mediumaquamarine;\" ><span class=\"txto\">as,-</span></span><span class=\"plain   hl\"  style=\"background-color: lightsalmon;\" ><span class=\"txto\">ba-</span></span><span class=\"plain   hl\"  style=\"background-color: lightsalmon;\" ><span class=\"txto\">at </span></span></span></span></div></div><div class=\"contnr c2 trm   \" ><div class=\"lbl c2 trm \" ><span class=\"nd\">word</span> <span class=\"txto\"><span class=\"plain   \" ><span class=\"plain   hl\"  style=\"background-color: lightsalmon;\" ><span class=\"txto\">li-</span></span><span class=\"plain   hl\"  style=\"background-color: lightsalmon;\" ><span class=\"txto\">bi4-</span></span><span class=\"plain   hl\"  style=\"background-color: lightsalmon;\" ><span class=\"txto\">tam2</span></span></span></span></div></div></div></div><div class=\"contnr c3    hl\" ><div class=\"lbl c3  hl\" ><span class=\"nd\">line</span></div><div class=\"children hor wrap \"><div class=\"contnr c2 trm   \" ><div class=\"lbl c2 trm \" ><span class=\"nd\">word</span> <span class=\"txto\"><span class=\"plain   \" ><span class=\"plain   hl\"  style=\"background-color: lightsalmon;\" ><span class=\"txto\">i-</span></span><span class=\"plain   hl\"  style=\"background-color: lightsalmon;\" ><span class=\"txto\">ma-</span></span><span class=\"plain   hl\"  style=\"background-color: lightsalmon;\" ><span class=\"txto\">e </span></span></span></span></div></div><div class=\"contnr c2 trm   \" ><div class=\"lbl c2 trm \" ><span class=\"nd\">word</span> <span class=\"txto\"><span class=\"plain   \" ><span class=\"plain   hl\"  style=\"background-color: lightsalmon;\" ><span class=\"txto\">u2-</span></span><span class=\"plain   hl\"  style=\"background-color: mediumaquamarine;\" ><span class=\"txto\">sze2-</span></span><span class=\"plain   hl\"  style=\"background-color: lightsalmon;\" ><span class=\"txto\">li </span></span></span></span></div></div><div class=\"contnr c2 trm   \" ><div class=\"lbl c2 trm \" ><span class=\"nd\">word</span> <span class=\"txto\"><span class=\"plain   \" ><span class=\"plain   hl\"  style=\"background-color: lightsalmon;\" ><span class=\"txto\">{d}</span></span><span class=\"plain   hl\"  style=\"background-color: lightsalmon;\" ><span class=\"txto\">iszkur </span></span></span></span></div></div><div class=\"contnr c2 trm   \" ><div class=\"lbl c2 trm \" ><span class=\"nd\">word</span> <span class=\"txto\"><span class=\"plain   \" ><span class=\"plain   hl\"  style=\"background-color: lightsalmon;\" ><span class=\"txto\">u3 </span></span></span></span></div></div><div class=\"contnr c2 trm   \" ><div class=\"lbl c2 trm \" ><span class=\"nd\">word</span> <span class=\"txto\"><span class=\"plain   \" ><span class=\"plain   hl\"  style=\"background-color: lightsalmon;\" ><span class=\"txto\">esz18-</span></span><span class=\"plain   hl\"  style=\"background-color: lightsalmon;\" ><span class=\"txto\">dar</span></span></span></span></div></div></div></div><div class=\"contnr c3    hl\" ><div class=\"lbl c3  hl\" ><span class=\"nd\">line</span></div><div class=\"children hor wrap \"><div class=\"contnr c2 trm   \" ><div class=\"lbl c2 trm \" ><span class=\"nd\">word</span> <span class=\"txto\"><span class=\"plain   \" ><span class=\"plain   hl\"  style=\"background-color: lightsalmon;\" ><span class=\"txto\">at#-</span></span><span class=\"plain   hl\"  style=\"background-color: lightsalmon;\" ><span class=\"txto\">[ma] </span></span></span></span></div></div><div class=\"contnr c2 trm   \" ><div class=\"lbl c2 trm \" ><span class=\"nd\">word</span> <span class=\"txto\"><span class=\"plain   \" ><span class=\"plain   hl\"  style=\"background-color: lightsalmon;\" ><span class=\"txto\">_1(disz) </span></span></span></span></div></div><div class=\"contnr c2 trm   \" ><div class=\"lbl c2 trm \" ><span class=\"nd\">word</span> <span class=\"txto\"><span class=\"plain   \" ><span class=\"plain   hl\"  style=\"background-color: lightsalmon;\" ><span class=\"txto\">li#-</span></span><span class=\"plain   hl\"  style=\"background-color: lightsalmon;\" ><span class=\"txto\">im </span></span></span></span></div></div><div class=\"contnr c2 trm   \" ><div class=\"lbl c2 trm \" ><span class=\"nd\">word</span> <span class=\"txto\"><span class=\"plain   \" ><span class=\"plain   hl\"  style=\"background-color: mediumaquamarine;\" ><span class=\"txto\">gu4 </span></span></span></span></div></div><div class=\"contnr c2 trm   \" ><div class=\"lbl c2 trm \" ><span class=\"nd\">word</span> <span class=\"txto\"><span class=\"plain   \" ><span class=\"plain   hl\"  style=\"background-color: lightsalmon;\" ><span class=\"txto\">hi-</span></span><span class=\"plain   hl\"  style=\"background-color: lightsalmon;\" ><span class=\"txto\">a_ </span></span></span></span></div></div><div class=\"contnr c2 trm   \" ><div class=\"lbl c2 trm \" ><span class=\"nd\">word</span> <span class=\"txto\"><span class=\"plain   \" ><span class=\"plain   hl\"  style=\"background-color: lightsalmon;\" ><span class=\"txto\">6(disz) </span></span></span></span></div></div><div class=\"contnr c2 trm   \" ><div class=\"lbl c2 trm \" ><span class=\"nd\">word</span> <span class=\"txto\"><span class=\"plain   \" ><span class=\"plain   hl\"  style=\"background-color: lightsalmon;\" ><span class=\"txto\">li-</span></span><span class=\"plain   hl\"  style=\"background-color: lightsalmon;\" ><span class=\"txto\">me-</span></span><span class=\"plain   hl\"  style=\"background-color: lightsalmon;\" ><span class=\"txto\">e</span></span></span></span></div></div></div></div><div class=\"contnr c3    hl\" ><div class=\"lbl c3  hl\" ><span class=\"nd\">line</span></div><div class=\"children hor wrap \"><div class=\"contnr c2 trm   \" ><div class=\"lbl c2 trm \" ><span class=\"nd\">word</span> <span class=\"txto\"><span class=\"plain   \" ><span class=\"plain   hl\"  style=\"background-color: mediumaquamarine;\" ><span class=\"txto\">_udu-</span></span><span class=\"plain   hl\"  style=\"background-color: lightsalmon;\" ><span class=\"txto\">hi-</span></span><span class=\"plain   hl\"  style=\"background-color: lightsalmon;\" ><span class=\"txto\">a_ </span></span></span></span></div></div><div class=\"contnr c2 trm   \" ><div class=\"lbl c2 trm \" ><span class=\"nd\">word</span> <span class=\"txto\"><span class=\"plain   \" ><span class=\"plain   hl\"  style=\"background-color: lightsalmon;\" ><span class=\"txto\">u2-</span></span><span class=\"plain   hl\"  style=\"background-color: lightsalmon;\" ><span class=\"txto\">mi3-</span></span><span class=\"plain   hl\"  style=\"background-color: lightsalmon;\" ><span class=\"txto\">sza-</span></span><span class=\"plain   hl\"  style=\"background-color: lightsalmon;\" ><span class=\"txto\">ma </span></span></span></span></div></div><div class=\"contnr c2 trm   \" ><div class=\"lbl c2 trm \" ><span class=\"nd\">word</span> <span class=\"txto\"><span class=\"plain   \" ><span class=\"plain   hl\"  style=\"background-color: lightsalmon;\" ><span class=\"txto\">lu </span></span></span></span></div></div><div class=\"contnr c2 trm   \" ><div class=\"lbl c2 trm \" ><span class=\"nd\">word</span> <span class=\"txto\"><span class=\"plain   \" ><span class=\"plain   hl\"  style=\"background-color: lightsalmon;\" ><span class=\"txto\">u2-</span></span><span class=\"plain   hl\"  style=\"background-color: mediumaquamarine;\" ><span class=\"txto\">t,a-</span></span><span class=\"plain   hl\"  style=\"background-color: lightsalmon;\" ><span class=\"txto\">ba-</span></span><span class=\"plain   hl\"  style=\"background-color: lightsalmon;\" ><span class=\"txto\">ah</span></span></span></span></div></div></div></div><div class=\"contnr c3    hl\" ><div class=\"lbl c3  hl\" ><span class=\"nd\">line</span></div><div class=\"children hor wrap \"><div class=\"contnr c2 trm   \" ><div class=\"lbl c2 trm \" ><span class=\"nd\">word</span> <span class=\"txto\"><span class=\"plain   \" ><span class=\"plain   hl\"  style=\"background-color: lightsalmon;\" ><span class=\"txto\">7(disz) </span></span></span></span></div></div><div class=\"contnr c2 trm   \" ><div class=\"lbl c2 trm \" ><span class=\"nd\">word</span> <span class=\"txto\"><span class=\"plain   \" ><span class=\"plain   hl\"  style=\"background-color: lightsalmon;\" ><span class=\"txto\">li-</span></span><span class=\"plain   hl\"  style=\"background-color: lightsalmon;\" ><span class=\"txto\">me-</span></span><span class=\"plain   hl\"  style=\"background-color: lightsalmon;\" ><span class=\"txto\">e </span></span></span></span></div></div><div class=\"contnr c2 trm   \" ><div class=\"lbl c2 trm \" ><span class=\"nd\">word</span> <span class=\"txto\"><span class=\"plain   \" ><span class=\"plain   hl\"  style=\"background-color: mediumaquamarine;\" ><span class=\"txto\">qa2-</span></span><span class=\"plain   hl\"  style=\"background-color: lightsalmon;\" ><span class=\"txto\">ra#-</span></span><span class=\"plain   hl\"  style=\"background-color: lightsalmon;\" ><span class=\"txto\">du-</span></span><span class=\"plain   hl\"  style=\"background-color: lightsalmon;\" ><span class=\"txto\">a </span></span></span></span></div></div><div class=\"contnr c2 trm   \" ><div class=\"lbl c2 trm \" ><span class=\"nd\">word</span> <span class=\"txto\"><span class=\"plain   \" ><span class=\"plain   hl\"  style=\"background-color: lightsalmon;\" ><span class=\"txto\">sza </span></span></span></span></div></div><div class=\"contnr c2 trm   \" ><div class=\"lbl c2 trm \" ><span class=\"nd\">word</span> <span class=\"txto\"><span class=\"plain   \" ><span class=\"plain   hl\"  style=\"background-color: lightsalmon;\" ><span class=\"txto\">i-</span></span><span class=\"plain   hl\"  style=\"background-color: lightsalmon;\" ><span class=\"txto\">ra-</span></span><span class=\"plain   hl\"  style=\"background-color: lightsalmon;\" ><span class=\"txto\">tim</span></span></span></span></div></div></div></div><div class=\"contnr c3    \" ><div class=\"lbl c3  \" ><span class=\"nd\">line</span></div><div class=\"children hor wrap \"><div class=\"contnr c2 trm   \" ><div class=\"lbl c2 trm \" ><span class=\"nd\">word</span> <span class=\"txto\"><span class=\"plain   \" ><span class=\"plain   hl\"  style=\"background-color: lightsalmon;\" ><span class=\"txto\">u2-</span></span><span class=\"plain   hl\"  style=\"background-color: lightsalmon;\" ><span class=\"txto\">mi3-</span></span><span class=\"plain   hl\"  style=\"background-color: lightsalmon;\" ><span class=\"txto\">sza-</span></span><span class=\"plain   hl\"  style=\"background-color: lightsalmon;\" ><span class=\"txto\">ma </span></span></span></span></div></div><div class=\"contnr c2 trm   \" ><div class=\"lbl c2 trm \" ><span class=\"nd\">word</span> <span class=\"txto\"><span class=\"plain   \" ><span class=\"plain   hl\"  style=\"background-color: lightsalmon;\" ><span class=\"txto\">ma-</span></span><span class=\"plain   hl\"  style=\"background-color: lightsalmon;\" ><span class=\"txto\">ah-</span></span><span class=\"plain   hl\"  style=\"background-color: lightsalmon;\" ><span class=\"txto\">ri-</span></span><span class=\"plain   hl\"  style=\"background-color: lightsalmon;\" ><span class=\"txto\">a </span></span></span></span></div></div><div class=\"contnr c2 trm   \" ><div class=\"lbl c2 trm \" ><span class=\"nd\">word</span> <span class=\"txto\"><span class=\"plain   \" ><span class=\"plain   hl\"  style=\"background-color: lightsalmon;\" ><span class=\"txto\">e-</span></span><span class=\"plain   hl\"  style=\"background-color: lightsalmon;\" ><span class=\"txto\">ku-</span></span><span class=\"plain   hl\"  style=\"background-color: lightsalmon;\" ><span class=\"txto\">lu-</span></span><span class=\"plain   hl\"  style=\"background-color: lightsalmon;\" ><span class=\"txto\">ni</span></span></span></span></div></div></div></div><div class=\"contnr c3    \" ><div class=\"lbl c3  \" ><span class=\"nd\">line</span></div><div class=\"children hor wrap \"><div class=\"contnr c2 trm   \" ><div class=\"lbl c2 trm \" ><span class=\"nd\">word</span> <span class=\"txto\"><span class=\"plain   \" ><span class=\"plain   hl\"  style=\"background-color: lightsalmon;\" ><span class=\"txto\">3(disz) </span></span></span></span></div></div><div class=\"contnr c2 trm   \" ><div class=\"lbl c2 trm \" ><span class=\"nd\">word</span> <span class=\"txto\"><span class=\"plain   \" ><span class=\"plain   hl\"  style=\"background-color: lightsalmon;\" ><span class=\"txto\">li-</span></span><span class=\"plain   hl\"  style=\"background-color: lightsalmon;\" ><span class=\"txto\">me-</span></span><span class=\"plain   hl\"  style=\"background-color: lightsalmon;\" ><span class=\"txto\">e </span></span></span></span></div></div><div class=\"contnr c2 trm   \" ><div class=\"lbl c2 trm \" ><span class=\"nd\">word</span> <span class=\"txto\"><span class=\"plain   \" ><span class=\"plain   hl\"  style=\"background-color: lightsalmon;\" ><span class=\"txto\">la2-</span></span><span class=\"plain   hl\"  style=\"background-color: lightsalmon;\" ><span class=\"txto\">si2-</span></span><span class=\"plain   hl\"  style=\"background-color: lightsalmon;\" ><span class=\"txto\">mu-</span></span><span class=\"plain   hl\"  style=\"background-color: lightsalmon;\" ><span class=\"txto\">u2-</span></span><span class=\"plain   hl\"  style=\"background-color: lightsalmon;\" ><span class=\"txto\">a</span></span></span></span></div></div></div></div><div class=\"contnr c3    \" ><div class=\"lbl c3  \" ><span class=\"nd\">line</span></div><div class=\"children hor wrap \"><div class=\"contnr c2 trm   \" ><div class=\"lbl c2 trm \" ><span class=\"nd\">word</span> <span class=\"txto\"><span class=\"plain   \" ><span class=\"plain   hl\"  style=\"background-color: lightsalmon;\" ><span class=\"txto\">sza </span></span></span></span></div></div><div class=\"contnr c2 trm   \" ><div class=\"lbl c2 trm \" ><span class=\"nd\">word</span> <span class=\"txto\"><span class=\"plain   \" ><span class=\"plain   hl\"  style=\"background-color: lightsalmon;\" ><span class=\"txto\">ar-</span></span><span class=\"plain   hl\"  style=\"background-color: lightsalmon;\" ><span class=\"txto\">ka3-</span></span><span class=\"plain   hl\"  style=\"background-color: lightsalmon;\" ><span class=\"txto\">tim </span></span></span></span></div></div><div class=\"contnr c2 trm   \" ><div class=\"lbl c2 trm \" ><span class=\"nd\">word</span> <span class=\"txto\"><span class=\"plain   \" ><span class=\"plain   hl\"  style=\"background-color: lightsalmon;\" ><span class=\"txto\">e-</span></span><span class=\"plain   hl\"  style=\"background-color: lightsalmon;\" ><span class=\"txto\">ku-</span></span><span class=\"plain   hl\"  style=\"background-color: lightsalmon;\" ><span class=\"txto\">lu-</span></span><span class=\"plain   hl\"  style=\"background-color: lightsalmon;\" ><span class=\"txto\">ni</span></span></span></span></div></div></div></div><div class=\"contnr c3    \" ><div class=\"lbl c3  \" ><span class=\"nd\">line</span></div><div class=\"children hor wrap \"><div class=\"contnr c2 trm   \" ><div class=\"lbl c2 trm \" ><span class=\"nd\">word</span> <span class=\"txto\"><span class=\"plain   \" ><span class=\"plain   hl\"  style=\"background-color: lightsalmon;\" ><span class=\"txto\">_1(disz) </span></span></span></span></div></div><div class=\"contnr c2 trm   \" ><div class=\"lbl c2 trm \" ><span class=\"nd\">word</span> <span class=\"txto\"><span class=\"plain   \" ><span class=\"plain   hl\"  style=\"background-color: lightsalmon;\" ><span class=\"txto\">li-</span></span><span class=\"plain   hl\"  style=\"background-color: lightsalmon;\" ><span class=\"txto\">im_ </span></span></span></span></div></div><div class=\"contnr c2 trm   \" ><div class=\"lbl c2 trm \" ><span class=\"nd\">word</span> <span class=\"txto\"><span class=\"plain   \" ><span class=\"plain   hl\"  style=\"background-color: lightsalmon;\" ><span class=\"txto\">sza-</span></span><span class=\"plain   hl\"  style=\"background-color: lightsalmon;\" ><span class=\"txto\">qi2-</span></span><span class=\"plain   hl\"  style=\"background-color: lightsalmon;\" ><span class=\"txto\">u2-</span></span><span class=\"plain   hl\"  style=\"background-color: lightsalmon;\" ><span class=\"txto\">a</span></span></span></span></div></div></div></div><div class=\"contnr c3    hl\" ><div class=\"lbl c3  hl\" ><span class=\"nd\">line</span></div><div class=\"children hor wrap \"><div class=\"contnr c2 trm   \" ><div class=\"lbl c2 trm \" ><span class=\"nd\">word</span> <span class=\"txto\"><span class=\"plain   \" ><span class=\"plain   hl\"  style=\"background-color: mediumaquamarine;\" ><span class=\"txto\">u4-</span></span><span class=\"plain   hl\"  style=\"background-color: lightsalmon;\" ><span class=\"txto\">mi3-</span></span><span class=\"plain   hl\"  style=\"background-color: lightsalmon;\" ><span class=\"txto\">sza-</span></span><span class=\"plain   hl\"  style=\"background-color: lightsalmon;\" ><span class=\"txto\">ma </span></span></span></span></div></div><div class=\"contnr c2 trm   \" ><div class=\"lbl c2 trm \" ><span class=\"nd\">word</span> <span class=\"txto\"><span class=\"plain   \" ><span class=\"plain   hl\"  style=\"background-color: lightsalmon;\" ><span class=\"txto\">mu-</span></span><span class=\"plain   hl\"  style=\"background-color: lightsalmon;\" ><span class=\"txto\">ha-</span></span><span class=\"plain   hl\"  style=\"background-color: lightsalmon;\" ><span class=\"txto\">am</span></span></span></span></div></div></div></div><div class=\"contnr c3    \" ><div class=\"lbl c3  \" ><span class=\"nd\">line</span></div><div class=\"children hor wrap \"><div class=\"contnr c2 trm   \" ><div class=\"lbl c2 trm \" ><span class=\"nd\">word</span> <span class=\"txto\"><span class=\"plain   \" ><span class=\"plain   hl\"  style=\"background-color: lightsalmon;\" ><span class=\"txto\">sza </span></span></span></span></div></div><div class=\"contnr c2 trm   \" ><div class=\"lbl c2 trm \" ><span class=\"nd\">word</span> <span class=\"txto\"><span class=\"plain   \" ><span class=\"plain   hl\"  style=\"background-color: lightsalmon;\" ><span class=\"txto\">kur-</span></span><span class=\"plain   hl\"  style=\"background-color: lightsalmon;\" ><span class=\"txto\">ur-</span></span><span class=\"plain   hl\"  style=\"background-color: lightsalmon;\" ><span class=\"txto\">si2-</span></span><span class=\"plain   hl\"  style=\"background-color: lightsalmon;\" ><span class=\"txto\">na-</span></span><span class=\"plain   hl\"  style=\"background-color: lightsalmon;\" ><span class=\"txto\">tim </span></span></span></span></div></div><div class=\"contnr c2 trm   \" ><div class=\"lbl c2 trm \" ><span class=\"nd\">word</span> <span class=\"txto\"><span class=\"plain   \" ><span class=\"plain   hl\"  style=\"background-color: lightsalmon;\" ><span class=\"txto\">a-</span></span><span class=\"plain   hl\"  style=\"background-color: lightsalmon;\" ><span class=\"txto\">di2-</span></span><span class=\"plain   hl\"  style=\"background-color: lightsalmon;\" ><span class=\"txto\">i</span></span></span></span></div></div></div></div><div class=\"contnr c3    \" ><div class=\"lbl c3  \" ><span class=\"nd\">line</span></div><div class=\"children hor wrap \"><div class=\"contnr c2 trm   \" ><div class=\"lbl c2 trm \" ><span class=\"nd\">word</span> <span class=\"txto\"><span class=\"plain   \" ><span class=\"plain   hl\"  style=\"background-color: lightsalmon;\" ><span class=\"txto\">sza-</span></span><span class=\"plain   hl\"  style=\"background-color: lightsalmon;\" ><span class=\"txto\">ba-</span></span><span class=\"plain   hl\"  style=\"background-color: lightsalmon;\" ><span class=\"txto\">im </span></span></span></span></div></div><div class=\"contnr c2 trm   \" ><div class=\"lbl c2 trm \" ><span class=\"nd\">word</span> <span class=\"txto\"><span class=\"plain   \" ><span class=\"plain   hl\"  style=\"background-color: lightsalmon;\" ><span class=\"txto\">e-</span></span><span class=\"plain   hl\"  style=\"background-color: lightsalmon;\" ><span class=\"txto\">ku-</span></span><span class=\"plain   hl\"  style=\"background-color: lightsalmon;\" ><span class=\"txto\">lu-</span></span><span class=\"plain   hl\"  style=\"background-color: lightsalmon;\" ><span class=\"txto\">ni</span></span></span></span></div></div></div></div><div class=\"contnr c3    hl\" ><div class=\"lbl c3  hl\" ><span class=\"nd\">line</span></div><div class=\"children hor wrap \"><div class=\"contnr c2 trm   \" ><div class=\"lbl c2 trm \" ><span class=\"nd\">word</span> <span class=\"txto\"><span class=\"plain   \" ><span class=\"plain   hl\"  style=\"background-color: mediumaquamarine;\" ><span class=\"txto\">_tir_-</span></span><span class=\"plain   hl\"  style=\"background-color: lightsalmon;\" ><span class=\"txto\">tu3 </span></span></span></span></div></div><div class=\"contnr c2 trm   \" ><div class=\"lbl c2 trm \" ><span class=\"nd\">word</span> <span class=\"txto\"><span class=\"plain   \" ><span class=\"plain   hl\"  style=\"background-color: lightsalmon;\" ><span class=\"txto\">i-</span></span><span class=\"plain   hl\"  style=\"background-color: mediumaquamarine;\" ><span class=\"txto\">ig-</span></span><span class=\"plain   hl\"  style=\"background-color: lightsalmon;\" ><span class=\"txto\">re-</span></span><span class=\"plain   hl\"  style=\"background-color: lightsalmon;\" ><span class=\"txto\">e-</span></span><span class=\"plain   hl\"  style=\"background-color: lightsalmon;\" ><span class=\"txto\">ma</span></span></span></span></div></div></div></div><div class=\"contnr c3    hl\" ><div class=\"lbl c3  hl\" ><span class=\"nd\">line</span></div><div class=\"children hor wrap \"><div class=\"contnr c2 trm   \" ><div class=\"lbl c2 trm \" ><span class=\"nd\">word</span> <span class=\"txto\"><span class=\"plain   \" ><span class=\"plain   hl\"  style=\"background-color: lightsalmon;\" ><span class=\"txto\">7(disz) </span></span></span></span></div></div><div class=\"contnr c2 trm   \" ><div class=\"lbl c2 trm \" ><span class=\"nd\">word</span> <span class=\"txto\"><span class=\"plain   \" ><span class=\"plain   hl\"  style=\"background-color: lightsalmon;\" ><span class=\"txto\">li-</span></span><span class=\"plain   hl\"  style=\"background-color: lightsalmon;\" ><span class=\"txto\">me-</span></span><span class=\"plain   hl\"  style=\"background-color: lightsalmon;\" ><span class=\"txto\">e </span></span></span></span></div></div><div class=\"contnr c2 trm   \" ><div class=\"lbl c2 trm \" ><span class=\"nd\">word</span> <span class=\"txto\"><span class=\"plain   \" ><span class=\"plain   hl\"  style=\"background-color: mediumaquamarine;\" ><span class=\"txto\">qa2-</span></span><span class=\"plain   hl\"  style=\"background-color: lightsalmon;\" ><span class=\"txto\">ra-</span></span><span class=\"plain   hl\"  style=\"background-color: lightsalmon;\" ><span class=\"txto\">du-</span></span><span class=\"plain   hl\"  style=\"background-color: lightsalmon;\" ><span class=\"txto\">a</span></span></span></span></div></div></div></div></div></div></div>"
      ],
      "text/plain": [
       "<IPython.core.display.HTML object>"
      ]
     },
     "metadata": {},
     "output_type": "display_data"
    }
   ],
   "source": [
    "A.show(\n",
    "    results,\n",
    "    start=1,\n",
    "    end=1,\n",
    "    condensed=True,\n",
    "    condenseType=\"face\",\n",
    "    withNodes=False,\n",
    "    highlights=highlights,\n",
    ")"
   ]
  },
  {
   "cell_type": "markdown",
   "metadata": {},
   "source": [
    "# All together!\n",
    "\n",
    "If more researchers have shared data modules, you can draw them all in.\n",
    "\n",
    "Then you can design queries that use features from all these different sources.\n",
    "\n",
    "In that way, you build your own research on top of the work of others."
   ]
  },
  {
   "cell_type": "markdown",
   "metadata": {},
   "source": [
    "Hover over the features to see where they come from, and you'll see they come from your local github repo."
   ]
  },
  {
   "cell_type": "markdown",
   "metadata": {},
   "source": [
    "---\n",
    "\n",
    "All chapters:\n",
    "\n",
    "* **[start](start.ipynb)** become an expert in creating pretty displays of your text structures\n",
    "* **[display](display.ipynb)** become an expert in creating pretty displays of your text structures\n",
    "* **[search](search.ipynb)** turbo charge your hand-coding with search templates\n",
    "* **[exportExcel](exportExcel.ipynb)** make tailor-made spreadsheets out of your results\n",
    "* **share** draw in other people's data and let them use yours\n",
    "* **[similarLines](similarLines.ipynb)** spot the similarities between lines\n",
    "\n",
    "---\n",
    "\n",
    "See the [cookbook](cookbook) for recipes for small, concrete tasks.\n",
    "\n",
    "CC-BY Dirk Roorda"
   ]
  }
 ],
 "metadata": {
  "kernelspec": {
   "display_name": "Python 3",
   "language": "python",
   "name": "python3"
  },
  "language_info": {
   "codemirror_mode": {
    "name": "ipython",
    "version": 3
   },
   "file_extension": ".py",
   "mimetype": "text/x-python",
   "name": "python",
   "nbconvert_exporter": "python",
   "pygments_lexer": "ipython3",
   "version": "3.8.3"
  }
 },
 "nbformat": 4,
 "nbformat_minor": 4
}
