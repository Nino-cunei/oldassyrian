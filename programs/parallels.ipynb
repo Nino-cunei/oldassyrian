{
 "cells": [
  {
   "cell_type": "code",
   "execution_count": 1,
   "metadata": {},
   "outputs": [],
   "source": [
    "%load_ext autoreload\n",
    "%autoreload 2"
   ]
  },
  {
   "cell_type": "code",
   "execution_count": 2,
   "metadata": {},
   "outputs": [],
   "source": [
    "import os\n",
    "import collections\n",
    "import pickle\n",
    "import gzip\n",
    "\n",
    "from tf.app import use"
   ]
  },
  {
   "cell_type": "code",
   "execution_count": 3,
   "metadata": {},
   "outputs": [
    {
     "data": {
      "text/html": [
       "<b title=\"local github\">TF-app:</b> <span title=\"repo clone offline under ~/github\">~/github/annotation/app-oldassyrian/code</span>"
      ],
      "text/plain": [
       "<IPython.core.display.HTML object>"
      ]
     },
     "metadata": {},
     "output_type": "display_data"
    },
    {
     "data": {
      "text/html": [
       "<b title=\"local github\">data:</b> <span title=\"repo clone offline under ~/github\">~/github/Nino-cunei/oldassyrian/tf/0.1</span>"
      ],
      "text/plain": [
       "<IPython.core.display.HTML object>"
      ]
     },
     "metadata": {},
     "output_type": "display_data"
    },
    {
     "data": {
      "text/html": [
       "<b>Text-Fabric:</b> <a target=\"_blank\" href=\"https://annotation.github.io/text-fabric/cheatsheet.html\" title=\"text-fabric-api\">Text-Fabric API 8.3.3</a>, <a target=\"_blank\" href=\"https://github.com/annotation/app-oldassyrian\" title=\"oldassyrian TF-app\">app-oldassyrian</a>, <a target=\"_blank\" href=\"https://annotation.github.io/text-fabric/about/searchusage.html\" title=\"Search Templates Introduction and Reference\">Search Reference</a><br><b>Data:</b> <a target=\"_blank\" href=\"https://github.com/Nino-cunei/oldassyrian/blob/master/docs/about.md\" title=\"provenance of Old Assyrian Documents 2000-1600: Cuneiform tablets\">OLDASSYRIAN</a>, <a target=\"_blank\" href=\"https://github.com/Nino-cunei/blob/master/programs/mapReadings.ipynb\" title=\"mapping from readings to UNICODE\">Character table</a>, <a target=\"_blank\" href=\"https://github.com/Nino-cunei/blob/master/docs/transcription.md\" title=\"OLDASSYRIAN feature documentation\">Feature docs</a><br><b>Features:</b><br><details><summary><b>Old Assyrian Documents 2000-1600: Cuneiform tablets</b></summary><a target=\"_blank\" href=\"https://github.com/Nino-cunei/blob/master/docs/transcription.md\" title=\"~/github/Nino-cunei/oldassyrian/tf/0.1/ARK.tf\">ARK</a><br><a target=\"_blank\" href=\"https://github.com/Nino-cunei/blob/master/docs/transcription.md\" title=\"~/github/Nino-cunei/oldassyrian/tf/0.1/after.tf\">after</a><br><a target=\"_blank\" href=\"https://github.com/Nino-cunei/blob/master/docs/transcription.md\" title=\"~/github/Nino-cunei/oldassyrian/tf/0.1/afterr.tf\">afterr</a><br><a target=\"_blank\" href=\"https://github.com/Nino-cunei/blob/master/docs/transcription.md\" title=\"~/github/Nino-cunei/oldassyrian/tf/0.1/afteru.tf\">afteru</a><br><a target=\"_blank\" href=\"https://github.com/Nino-cunei/blob/master/docs/transcription.md\" title=\"~/github/Nino-cunei/oldassyrian/tf/0.1/atf.tf\">atf</a><br><a target=\"_blank\" href=\"https://github.com/Nino-cunei/blob/master/docs/transcription.md\" title=\"~/github/Nino-cunei/oldassyrian/tf/0.1/atfpost.tf\">atfpost</a><br><a target=\"_blank\" href=\"https://github.com/Nino-cunei/blob/master/docs/transcription.md\" title=\"~/github/Nino-cunei/oldassyrian/tf/0.1/atfpre.tf\">atfpre</a><br><a target=\"_blank\" href=\"https://github.com/Nino-cunei/blob/master/docs/transcription.md\" title=\"~/github/Nino-cunei/oldassyrian/tf/0.1/author.tf\">author</a><br><a target=\"_blank\" href=\"https://github.com/Nino-cunei/blob/master/docs/transcription.md\" title=\"~/github/Nino-cunei/oldassyrian/tf/0.1/col.tf\">col</a><br><a target=\"_blank\" href=\"https://github.com/Nino-cunei/blob/master/docs/transcription.md\" title=\"~/github/Nino-cunei/oldassyrian/tf/0.1/collection.tf\">collection</a><br><a target=\"_blank\" href=\"https://github.com/Nino-cunei/blob/master/docs/transcription.md\" title=\"~/github/Nino-cunei/oldassyrian/tf/0.1/comment.tf\">comment</a><br><a target=\"_blank\" href=\"https://github.com/Nino-cunei/blob/master/docs/transcription.md\" title=\"~/github/Nino-cunei/oldassyrian/tf/0.1/damage.tf\">damage</a><br><a target=\"_blank\" href=\"https://github.com/Nino-cunei/blob/master/docs/transcription.md\" title=\"~/github/Nino-cunei/oldassyrian/tf/0.1/det.tf\">det</a><br><a target=\"_blank\" href=\"https://github.com/Nino-cunei/blob/master/docs/transcription.md\" title=\"~/github/Nino-cunei/oldassyrian/tf/0.1/docnote.tf\">docnote</a><br><a target=\"_blank\" href=\"https://github.com/Nino-cunei/blob/master/docs/transcription.md\" title=\"~/github/Nino-cunei/oldassyrian/tf/0.1/docnumber.tf\">docnumber</a><br><a target=\"_blank\" href=\"https://github.com/Nino-cunei/blob/master/docs/transcription.md\" title=\"~/github/Nino-cunei/oldassyrian/tf/0.1/excavation.tf\">excavation</a><br><a target=\"_blank\" href=\"https://github.com/Nino-cunei/blob/master/docs/transcription.md\" title=\"~/github/Nino-cunei/oldassyrian/tf/0.1/excised.tf\">excised</a><br><a target=\"_blank\" href=\"https://github.com/Nino-cunei/blob/master/docs/transcription.md\" title=\"~/github/Nino-cunei/oldassyrian/tf/0.1/face.tf\">face</a><br><a target=\"_blank\" href=\"https://github.com/Nino-cunei/blob/master/docs/transcription.md\" title=\"~/github/Nino-cunei/oldassyrian/tf/0.1/flags.tf\">flags</a><br><a target=\"_blank\" href=\"https://github.com/Nino-cunei/blob/master/docs/transcription.md\" title=\"~/github/Nino-cunei/oldassyrian/tf/0.1/fraction.tf\">fraction</a><br><a target=\"_blank\" href=\"https://github.com/Nino-cunei/blob/master/docs/transcription.md\" title=\"~/github/Nino-cunei/oldassyrian/tf/0.1/genre.tf\">genre</a><br><a target=\"_blank\" href=\"https://github.com/Nino-cunei/blob/master/docs/transcription.md\" title=\"~/github/Nino-cunei/oldassyrian/tf/0.1/grapheme.tf\">grapheme</a><br><a target=\"_blank\" href=\"https://github.com/Nino-cunei/blob/master/docs/transcription.md\" title=\"~/github/Nino-cunei/oldassyrian/tf/0.1/graphemer.tf\">graphemer</a><br><a target=\"_blank\" href=\"https://github.com/Nino-cunei/blob/master/docs/transcription.md\" title=\"~/github/Nino-cunei/oldassyrian/tf/0.1/graphemeu.tf\">graphemeu</a><br><a target=\"_blank\" href=\"https://github.com/Nino-cunei/blob/master/docs/transcription.md\" title=\"~/github/Nino-cunei/oldassyrian/tf/0.1/lang.tf\">lang</a><br><a target=\"_blank\" href=\"https://github.com/Nino-cunei/blob/master/docs/transcription.md\" title=\"~/github/Nino-cunei/oldassyrian/tf/0.1/langalt.tf\">langalt</a><br><a target=\"_blank\" href=\"https://github.com/Nino-cunei/blob/master/docs/transcription.md\" title=\"~/github/Nino-cunei/oldassyrian/tf/0.1/ln.tf\">ln</a><br><a target=\"_blank\" href=\"https://github.com/Nino-cunei/blob/master/docs/transcription.md\" title=\"~/github/Nino-cunei/oldassyrian/tf/0.1/lnc.tf\">lnc</a><br><a target=\"_blank\" href=\"https://github.com/Nino-cunei/blob/master/docs/transcription.md\" title=\"~/github/Nino-cunei/oldassyrian/tf/0.1/lnno.tf\">lnno</a><br><a target=\"_blank\" href=\"https://github.com/Nino-cunei/blob/master/docs/transcription.md\" title=\"~/github/Nino-cunei/oldassyrian/tf/0.1/material.tf\">material</a><br><a target=\"_blank\" href=\"https://github.com/Nino-cunei/blob/master/docs/transcription.md\" title=\"~/github/Nino-cunei/oldassyrian/tf/0.1/missing.tf\">missing</a><br><a target=\"_blank\" href=\"https://github.com/Nino-cunei/blob/master/docs/transcription.md\" title=\"~/github/Nino-cunei/oldassyrian/tf/0.1/museumcode.tf\">museumcode</a><br><a target=\"_blank\" href=\"https://github.com/Nino-cunei/blob/master/docs/transcription.md\" title=\"~/github/Nino-cunei/oldassyrian/tf/0.1/museumname.tf\">museumname</a><br><a target=\"_blank\" href=\"https://github.com/Nino-cunei/blob/master/docs/transcription.md\" title=\"~/github/Nino-cunei/oldassyrian/tf/0.1/object.tf\">object</a><br><a target=\"_blank\" href=\"https://github.com/Nino-cunei/blob/master/docs/transcription.md\" title=\"~/github/Nino-cunei/oldassyrian/tf/0.1/operator.tf\">operator</a><br><a target=\"_blank\" href=\"https://github.com/Nino-cunei/blob/master/docs/transcription.md\" title=\"~/github/Nino-cunei/oldassyrian/tf/0.1/operatorr.tf\">operatorr</a><br><a target=\"_blank\" href=\"https://github.com/Nino-cunei/blob/master/docs/transcription.md\" title=\"~/github/Nino-cunei/oldassyrian/tf/0.1/operatoru.tf\">operatoru</a><br><a target=\"_blank\" href=\"https://github.com/Nino-cunei/blob/master/docs/transcription.md\" title=\"~/github/Nino-cunei/oldassyrian/tf/0.1/otype.tf\">otype</a><br><a target=\"_blank\" href=\"https://github.com/Nino-cunei/blob/master/docs/transcription.md\" title=\"~/github/Nino-cunei/oldassyrian/tf/0.1/period.tf\">period</a><br><a target=\"_blank\" href=\"https://github.com/Nino-cunei/blob/master/docs/transcription.md\" title=\"~/github/Nino-cunei/oldassyrian/tf/0.1/pnumber.tf\">pnumber</a><br><a target=\"_blank\" href=\"https://github.com/Nino-cunei/blob/master/docs/transcription.md\" title=\"~/github/Nino-cunei/oldassyrian/tf/0.1/primecol.tf\">primecol</a><br><a target=\"_blank\" href=\"https://github.com/Nino-cunei/blob/master/docs/transcription.md\" title=\"~/github/Nino-cunei/oldassyrian/tf/0.1/primeln.tf\">primeln</a><br><a target=\"_blank\" href=\"https://github.com/Nino-cunei/blob/master/docs/transcription.md\" title=\"~/github/Nino-cunei/oldassyrian/tf/0.1/pubdate.tf\">pubdate</a><br><a target=\"_blank\" href=\"https://github.com/Nino-cunei/blob/master/docs/transcription.md\" title=\"~/github/Nino-cunei/oldassyrian/tf/0.1/question.tf\">question</a><br><a target=\"_blank\" href=\"https://github.com/Nino-cunei/blob/master/docs/transcription.md\" title=\"~/github/Nino-cunei/oldassyrian/tf/0.1/reading.tf\">reading</a><br><a target=\"_blank\" href=\"https://github.com/Nino-cunei/blob/master/docs/transcription.md\" title=\"~/github/Nino-cunei/oldassyrian/tf/0.1/readingr.tf\">readingr</a><br><a target=\"_blank\" href=\"https://github.com/Nino-cunei/blob/master/docs/transcription.md\" title=\"~/github/Nino-cunei/oldassyrian/tf/0.1/readingu.tf\">readingu</a><br><a target=\"_blank\" href=\"https://github.com/Nino-cunei/blob/master/docs/transcription.md\" title=\"~/github/Nino-cunei/oldassyrian/tf/0.1/remarkable.tf\">remarkable</a><br><a target=\"_blank\" href=\"https://github.com/Nino-cunei/blob/master/docs/transcription.md\" title=\"~/github/Nino-cunei/oldassyrian/tf/0.1/remarks.tf\">remarks</a><br><a target=\"_blank\" href=\"https://github.com/Nino-cunei/blob/master/docs/transcription.md\" title=\"~/github/Nino-cunei/oldassyrian/tf/0.1/repeat.tf\">repeat</a><br><a target=\"_blank\" href=\"https://github.com/Nino-cunei/blob/master/docs/transcription.md\" title=\"~/github/Nino-cunei/oldassyrian/tf/0.1/srcLn.tf\">srcLn</a><br><a target=\"_blank\" href=\"https://github.com/Nino-cunei/blob/master/docs/transcription.md\" title=\"~/github/Nino-cunei/oldassyrian/tf/0.1/srcLnNum.tf\">srcLnNum</a><br><a target=\"_blank\" href=\"https://github.com/Nino-cunei/blob/master/docs/transcription.md\" title=\"~/github/Nino-cunei/oldassyrian/tf/0.1/srcfile.tf\">srcfile</a><br><a target=\"_blank\" href=\"https://github.com/Nino-cunei/blob/master/docs/transcription.md\" title=\"~/github/Nino-cunei/oldassyrian/tf/0.1/subgenre.tf\">subgenre</a><br><a target=\"_blank\" href=\"https://github.com/Nino-cunei/blob/master/docs/transcription.md\" title=\"~/github/Nino-cunei/oldassyrian/tf/0.1/supplied.tf\">supplied</a><br><a target=\"_blank\" href=\"https://github.com/Nino-cunei/blob/master/docs/transcription.md\" title=\"~/github/Nino-cunei/oldassyrian/tf/0.1/sym.tf\">sym</a><br><a target=\"_blank\" href=\"https://github.com/Nino-cunei/blob/master/docs/transcription.md\" title=\"~/github/Nino-cunei/oldassyrian/tf/0.1/symr.tf\">symr</a><br><a target=\"_blank\" href=\"https://github.com/Nino-cunei/blob/master/docs/transcription.md\" title=\"~/github/Nino-cunei/oldassyrian/tf/0.1/symu.tf\">symu</a><br><a target=\"_blank\" href=\"https://github.com/Nino-cunei/blob/master/docs/transcription.md\" title=\"~/github/Nino-cunei/oldassyrian/tf/0.1/trans.tf\">trans</a><br><a target=\"_blank\" href=\"https://github.com/Nino-cunei/blob/master/docs/transcription.md\" title=\"~/github/Nino-cunei/oldassyrian/tf/0.1/transcriber.tf\">transcriber</a><br><a target=\"_blank\" href=\"https://github.com/Nino-cunei/blob/master/docs/transcription.md\" title=\"~/github/Nino-cunei/oldassyrian/tf/0.1/translation@en.tf\">translation@ll</a><br><a target=\"_blank\" href=\"https://github.com/Nino-cunei/blob/master/docs/transcription.md\" title=\"~/github/Nino-cunei/oldassyrian/tf/0.1/type.tf\">type</a><br><a target=\"_blank\" href=\"https://github.com/Nino-cunei/blob/master/docs/transcription.md\" title=\"~/github/Nino-cunei/oldassyrian/tf/0.1/uncertain.tf\">uncertain</a><br><a target=\"_blank\" href=\"https://github.com/Nino-cunei/blob/master/docs/transcription.md\" title=\"~/github/Nino-cunei/oldassyrian/tf/0.1/version.tf\">version</a><br><a target=\"_blank\" href=\"https://github.com/Nino-cunei/blob/master/docs/transcription.md\" title=\"~/github/Nino-cunei/oldassyrian/tf/0.1/volume.tf\">volume</a><br><b><i><a target=\"_blank\" href=\"https://github.com/Nino-cunei/blob/master/docs/transcription.md\" title=\"~/github/Nino-cunei/oldassyrian/tf/0.1/oslots.tf\">oslots</a></i></b><br></details>"
      ],
      "text/plain": [
       "<IPython.core.display.HTML object>"
      ]
     },
     "metadata": {},
     "output_type": "display_data"
    },
    {
     "data": {
      "text/html": [
       "<style>tr.tf.ltr, td.tf.ltr, th.tf.ltr { text-align: left ! important;}\n",
       "tr.tf.rtl, td.tf.rtl, th.tf.rtl { text-align: right ! important;}\n",
       "@font-face {\n",
       "  font-family: \"Gentium Plus\";\n",
       "  src: local('Gentium Plus'), local('GentiumPlus'),\n",
       "    url('/server/static/fonts/GentiumPlus-R.woff') format('woff'),\n",
       "    url('https://github.com/annotation/text-fabric/blob/master/tf/server/static/fonts/GentiumPlus-R.woff?raw=true') format('woff');\n",
       "}\n",
       "\n",
       "@font-face {\n",
       "  font-family: \"Ezra SIL\";\n",
       "  src: local('Ezra SIL'), local('EzraSIL'),\n",
       "    url('/server/static/fonts/SILEOT.woff') format('woff'),\n",
       "    url('https://github.com/annotation/text-fabric/blob/master/tf/server/static/fonts/SILEOT.woff?raw=true') format('woff');\n",
       "}\n",
       "\n",
       "@font-face {\n",
       "  font-family: \"SBL Hebrew\";\n",
       "  src: local('SBL Hebrew'), local('SBLHebrew'),\n",
       "    url('/server/static/fonts/SBL_Hbrw.woff') format('woff'),\n",
       "    url('https://github.com/annotation/text-fabric/blob/master/tf/server/static/fonts/SBL_Hbrw.woff?raw=true') format('woff');\n",
       "}\n",
       "\n",
       "@font-face {\n",
       "  font-family: \"Estrangelo Edessa\";\n",
       "  src: local('Estrangelo Edessa'), local('EstrangeloEdessa');\n",
       "    url('/server/static/fonts/SyrCOMEdessa.woff') format('woff'),\n",
       "    url('https://github.com/annotation/text-fabric/blob/master/tf/server/static/fonts/SyrCOMEdessa.woff?raw=true') format('woff');\n",
       "}\n",
       "\n",
       "@font-face {\n",
       "  font-family: AmiriQuran;\n",
       "  font-style: normal;\n",
       "  font-weight: 400;\n",
       "  src: local('Amiri Quran'), local('AmiriQuran'),\n",
       "    url('/server/static/fonts/AmiriQuran.woff') format('woff'),\n",
       "    url('https://github.com/annotation/text-fabric/blob/master/tf/server/static/fonts/AmiriQuran.woff?raw=true') format('woff');\n",
       "}\n",
       "\n",
       "@font-face {\n",
       "  font-family: AmiriQuranColored;\n",
       "  font-style: normal;\n",
       "  font-weight: 400;\n",
       "  src: local('Amiri Quran Colored'), local('AmiriQuranColored'),\n",
       "    url('/server/static/fonts/AmiriQuranColored.woff') format('woff'),\n",
       "    url('https://github.com/annotation/text-fabric/blob/master/tf/server/static/fonts/AmiriQuranColored.woff?raw=true') format('woff');\n",
       "}\n",
       "\n",
       "@font-face {\n",
       "  font-family: \"Santakku\";\n",
       "  src: local('Santakku'),\n",
       "    url('/server/static/fonts/Santakku.woff') format('woff'),\n",
       "    url('https://github.com/annotation/text-fabric/blob/master/tf/server/static/fonts/Santakku.woff?raw=true') format('woff');\n",
       "}\n",
       "\n",
       "@font-face {\n",
       "  font-family: \"SantakkuM\";\n",
       "  src: local('SantakkuM'),\n",
       "    url('/server/static/fonts/SantakkuM.woff') format('woff'),\n",
       "    url('https://github.com/annotation/text-fabric/blob/master/tf/server/static/fonts/SantakkuM.woff?raw=true') format('woff');\n",
       "}\n",
       "/* bypassing some classical notebook settings */\n",
       "div#notebook {\n",
       "  line-height: unset;\n",
       "}\n",
       "/* neutral text */\n",
       ".txtn,.txtn a:visited,.txtn a:link {\n",
       "    font-family: sans-serif;\n",
       "    font-size: medium;\n",
       "    direction: ltr;\n",
       "    text-decoration: none;\n",
       "    color: var(--text-color);\n",
       "}\n",
       "/* transcription text */\n",
       ".txtt,.txtt a:visited,.txtt a:link {\n",
       "    font-family: monospace;\n",
       "    font-size: medium;\n",
       "    direction: ltr;\n",
       "    text-decoration: none;\n",
       "    color: var(--text-color);\n",
       "}\n",
       "/* source text */\n",
       ".txto,.txto a:visited,.txto a:link {\n",
       "    font-family: serif;\n",
       "    font-size: medium;\n",
       "    direction: ltr;\n",
       "    text-decoration: none;\n",
       "    color: var(--text-color);\n",
       "}\n",
       "/* phonetic text */\n",
       ".txtp,.txtp a:visited,.txtp a:link {\n",
       "    font-family: Gentium, sans-serif;\n",
       "    font-size: medium;\n",
       "    direction: ltr;\n",
       "    text-decoration: none;\n",
       "    color: var(--text-color);\n",
       "}\n",
       "/* original script text */\n",
       ".txtu,.txtu a:visited,.txtu a:link {\n",
       "    font-family: Gentium, sans-serif;\n",
       "    font-size: medium;\n",
       "    text-decoration: none;\n",
       "    color: var(--text-color);\n",
       "}\n",
       "/* hebrew */\n",
       ".txtu.hbo,.lex.hbo {\n",
       "    font-family: \"Ezra SIL\", \"SBL Hebrew\", sans-serif;\n",
       "    font-size: large;\n",
       "    direction: rtl ! important;\n",
       "    unicode-bidi: embed;\n",
       "}\n",
       "/* syriac */\n",
       ".txtu.syc,.lex.syc {\n",
       "    font-family: \"Estrangelo Edessa\", sans-serif;\n",
       "    font-size: medium;\n",
       "    direction: rtl ! important;\n",
       "    unicode-bidi: embed;\n",
       "}\n",
       "/* neo aramaic */\n",
       ".txtu.cld,.lex.cld {\n",
       "    font-family: \"CharisSIL-R\", sans-serif;\n",
       "    font-size: medium;\n",
       "    direction: ltr ! important;\n",
       "    unicode-bidi: embed;\n",
       "}\n",
       "/* standard arabic */\n",
       ".txtu.ara,.lex.ara {\n",
       "    font-family: \"AmiriQuran\", sans-serif;\n",
       "    font-size: large;\n",
       "    direction: rtl ! important;\n",
       "    unicode-bidi: embed;\n",
       "}\n",
       "/* cuneiform */\n",
       ".txtu.akk,.lex.akk {\n",
       "    font-family: Santakku, sans-serif;\n",
       "    font-size: large;\n",
       "    direction: ltr ! important;\n",
       "    unicode-bidi: embed;\n",
       "}\n",
       "/* greek */\n",
       ".txtu.grc,.lex.grc a:link {\n",
       "    font-family: Gentium, sans-serif;\n",
       "    font-size: medium;\n",
       "    direction: ltr ! important;\n",
       "    unicode-bidi: embed;\n",
       "}\n",
       "a:hover {\n",
       "    text-decoration: underline | important;\n",
       "    color: #0000ff | important;\n",
       "}\n",
       ".ltr {\n",
       "    direction: ltr ! important;\n",
       "}\n",
       ".rtl {\n",
       "    direction: rtl ! important;\n",
       "}\n",
       ".features {\n",
       "    font-family: monospace;\n",
       "    font-size: medium;\n",
       "    font-weight: bold;\n",
       "    color: var(--features);\n",
       "    display: flex;\n",
       "    flex-flow: column nowrap;\n",
       "    justify-content: flex-start;\n",
       "    align-items: flex-start;\n",
       "    align-content: flex-start;\n",
       "    padding: 0.1rem;\n",
       "    margin: 0.1rem;\n",
       "    direction: ltr;\n",
       "    border: var(--meta-width) solid var(--meta-color);\n",
       "    border-radius: var(--meta-width);\n",
       "}\n",
       ".features div,.features span {\n",
       "    padding: 0;\n",
       "    margin: -0.1rem 0;\n",
       "}\n",
       ".features .f {\n",
       "    font-family: sans-serif;\n",
       "    font-size: small;\n",
       "    font-weight: normal;\n",
       "    color: #5555bb;\n",
       "}\n",
       ".features .xft {\n",
       "  color: #000000;\n",
       "  background-color: #eeeeee;\n",
       "  font-size: medium;\n",
       "  margin: 0.1rem 0rem;\n",
       "}\n",
       ".features .xft .f {\n",
       "  color: #000000;\n",
       "  background-color: #eeeeee;\n",
       "  font-size: small;\n",
       "  font-weight: normal;\n",
       "}\n",
       ".section {\n",
       "    font-family: sans-serif;\n",
       "    font-size: small;\n",
       "    font-weight: bold;\n",
       "    color: var(--section);\n",
       "    unicode-bidi: embed;\n",
       "    text-align: start;\n",
       "}\n",
       ".structure {\n",
       "    font-family: sans-serif;\n",
       "    font-size: small;\n",
       "    font-weight: bold;\n",
       "    color: var(--structure);\n",
       "    unicode-bidi: embed;\n",
       "    text-align: start;\n",
       "}\n",
       ".comments {\n",
       "    display: flex;\n",
       "    justify-content: flex-start;\n",
       "    align-items: flex-start;\n",
       "    align-content: flex-start;\n",
       "    flex-flow: column nowrap;\n",
       "}\n",
       ".nd, a:link.nd {\n",
       "    font-family: sans-serif;\n",
       "    font-size: small;\n",
       "    color: var(--node);\n",
       "    vertical-align: super;\n",
       "    direction: ltr ! important;\n",
       "    unicode-bidi: embed;\n",
       "}\n",
       ".lex {\n",
       "  color: var(--lex-color);;\n",
       "}\n",
       ".children,.children.ltr {\n",
       "    display: flex;\n",
       "    border: 0;\n",
       "    background-color: #ffffff;\n",
       "    justify-content: flex-start;\n",
       "    align-items: flex-start;\n",
       "    align-content: flex-start;\n",
       "}\n",
       ".children.stretch {\n",
       "    align-items: stretch;\n",
       "}\n",
       ".children.hor {\n",
       "    flex-flow: row nowrap;\n",
       "}\n",
       ".children.hor.wrap {\n",
       "    flex-flow: row wrap;\n",
       "}\n",
       ".children.ver {\n",
       "    flex-flow: column nowrap;\n",
       "}\n",
       ".children.ver.wrap {\n",
       "    flex-flow: column wrap;\n",
       "}\n",
       ".contnr {\n",
       "    width: fit-content;\n",
       "    display: flex;\n",
       "    justify-content: flex-start;\n",
       "    align-items: flex-start;\n",
       "    align-content: flex-start;\n",
       "    flex-flow: column nowrap;\n",
       "    background: #ffffff none repeat scroll 0 0;\n",
       "    padding:  0.5rem 0.1rem 0.1rem 0.1rem;\n",
       "    margin: 0.8rem 0.1rem 0.1rem 0.1rem;\n",
       "    border-style: solid;\n",
       "    font-size: small;\n",
       "}\n",
       ".contnr.trm {\n",
       "    background-attachment: local;\n",
       "}\n",
       ".contnr.cnul {\n",
       "    padding:  0;\n",
       "    margin: 0;\n",
       "    border-style: solid;\n",
       "    font-size: xx-small;\n",
       "}\n",
       ".contnr.cnul,.lbl.cnul {\n",
       "    border-color: var(--border-color-nul);\n",
       "    border-width: var(--border-width-nul);\n",
       "    border-radius: var(--border-width-nul);\n",
       "}\n",
       ".contnr.c0,.lbl.c0 {\n",
       "    border-color: var(--border-color0);\n",
       "    border-width: var(--border-width0);\n",
       "    border-radius: var(--border-width0);\n",
       "}\n",
       ".contnr.c1,.lbl.c1 {\n",
       "    border-color: var(--border-color1);\n",
       "    border-width: var(--border-width1);\n",
       "    border-radius: var(--border-width1);\n",
       "}\n",
       ".contnr.c2,.lbl.c2 {\n",
       "    border-color: var(--border-color2);\n",
       "    border-width: var(--border-width2);\n",
       "    border-radius: var(--border-width2);\n",
       "}\n",
       ".contnr.c3,.lbl.c3 {\n",
       "    border-color: var(--border-color3);\n",
       "    border-width: var(--border-width3);\n",
       "    border-radius: var(--border-width3);\n",
       "}\n",
       ".contnr.c4,.lbl.c4 {\n",
       "    border-color: var(--border-color4);\n",
       "    border-width: var(--border-width4);\n",
       "    border-radius: var(--border-width4);\n",
       "}\n",
       "span.plain {\n",
       "    display: inline-block;\n",
       "    white-space: pre-wrap;\n",
       "}\n",
       ".plain {\n",
       "    background-color: #ffffff;\n",
       "}\n",
       ".plain.l,.contnr.l,.contnr.l>.lbl {\n",
       "    border-left-style: dotted\n",
       "}\n",
       ".plain.r,.contnr.r,.contnr.r>.lbl {\n",
       "    border-right-style: dotted\n",
       "}\n",
       ".plain.lno,.contnr.lno,.contnr.lno>.lbl {\n",
       "    border-left-style: none\n",
       "}\n",
       ".plain.rno,.contnr.rno,.contnr.rno>.lbl {\n",
       "    border-right-style: none\n",
       "}\n",
       ".plain.l {\n",
       "    padding-left: 0.2rem;\n",
       "    margin-left: 0.1rem;\n",
       "    border-width: var(--border-width-plain);\n",
       "}\n",
       ".plain.r {\n",
       "    padding-right: 0.2rem;\n",
       "    margin-right: 0.1rem;\n",
       "    border-width: var(--border-width-plain);\n",
       "}\n",
       ".lbl {\n",
       "    font-family: monospace;\n",
       "    margin-top: -1.2rem;\n",
       "    margin-left: 1rem;\n",
       "    background: #ffffff none repeat scroll 0 0;\n",
       "    padding: 0 0.3rem;\n",
       "    border-style: solid;\n",
       "    display: block;\n",
       "    color: var(--label)\n",
       "}\n",
       ".lbl.trm {\n",
       "    background-attachment: local;\n",
       "    margin-top: 0.1rem;\n",
       "    margin-left: 0.1rem;\n",
       "    padding: 0.1rem 0.1rem;\n",
       "    border-style: none;\n",
       "}\n",
       ".lbl.cnul {\n",
       "    font-size: xx-small;\n",
       "}\n",
       ".lbl.c0 {\n",
       "    font-size: small;\n",
       "}\n",
       ".lbl.c1 {\n",
       "    font-size: small;\n",
       "}\n",
       ".lbl.c2 {\n",
       "    font-size: medium;\n",
       "}\n",
       ".lbl.c3 {\n",
       "    font-size: medium;\n",
       "}\n",
       ".lbl.c4 {\n",
       "    font-size: large;\n",
       "}\n",
       ".occs, a:link.occs {\n",
       "    font-size: small;\n",
       "}\n",
       "\n",
       "/* PROVENANCE */\n",
       "\n",
       "div.prov {\n",
       "\tmargin: 2rem;\n",
       "\tpadding: 1rem;\n",
       "\tborder: 0.1rem solid var(--fog-rim);\n",
       "}\n",
       "div.pline {\n",
       "\tdisplay: flex;\n",
       "\tflex-flow: row nowrap;\n",
       "\tjustify-content: stretch;\n",
       "\talign-items: baseline;\n",
       "}\n",
       "div.p2line {\n",
       "\tmargin-left: 2em;\n",
       "\tdisplay: flex;\n",
       "\tflex-flow: row nowrap;\n",
       "\tjustify-content: stretch;\n",
       "\talign-items: baseline;\n",
       "}\n",
       "div.psline {\n",
       "\tdisplay: flex;\n",
       "\tflex-flow: row nowrap;\n",
       "\tjustify-content: stretch;\n",
       "\talign-items: baseline;\n",
       "\tbackground-color: var(--gold-mist-back);\n",
       "}\n",
       "div.pname {\n",
       "\tflex: 0 0 5rem;\n",
       "\tfont-weight: bold;\n",
       "}\n",
       "div.pval {\n",
       "    flex: 1 1 auto;\n",
       "}\n",
       "\n",
       ":root {\n",
       "\t--node:               hsla(120, 100%,  20%, 1.0  );\n",
       "\t--label:              hsla(  0, 100%,  20%, 1.0  );\n",
       "\t--section:            hsla(  0, 100%,  25%, 1.0  );\n",
       "\t--structure:          hsla(120, 100%,  25%, 1.0  );\n",
       "\t--features:           hsla(  0,   0%,  30%, 1.0  );\n",
       "  --text-color:         hsla( 60,  80%,  10%, 1.0  );\n",
       "  --lex-color:          hsla(220,  90%,  60%, 1.0  );\n",
       "  --meta-color:         hsla(  0,   0%,  90%, 0.7  );\n",
       "  --meta-width:         0.15rem;\n",
       "  --border-color-nul:   hsla(  0,   0%,  90%, 0.5  );\n",
       "  --border-color0:      hsla(  0,   0%,  90%, 0.9  );\n",
       "  --border-color1:      hsla(  0,   0%,  80%, 0.9  );\n",
       "  --border-color2:      hsla(  0,   0%,  70%, 0.9  );\n",
       "  --border-color3:      hsla(  0,   0%,  80%, 0.8  );\n",
       "  --border-color4:      hsla(  0,   0%,  60%, 0.9  );\n",
       "  --border-width-nul:   0.1rem;\n",
       "  --border-width0:      0.1rem;\n",
       "  --border-width1:      0.15rem;\n",
       "  --border-width2:      0.2rem;\n",
       "  --border-width3:      0.3rem;\n",
       "  --border-width4:      0.25rem;\n",
       "  --border-width-plain: 0.1rem;\n",
       "}\n",
       ".hl {\n",
       "  background-color: var(--hl-strong);\n",
       "}\n",
       "span.hl {\n",
       "\tbackground-color: var(--hl-strong);\n",
       "\tborder-width: 0;\n",
       "\tborder-radius: 0.1rem;\n",
       "\tborder-style: solid;\n",
       "}\n",
       "div.contnr.hl,div.lbl.hl {\n",
       "  background-color: var(--hl-strong);\n",
       "}\n",
       "div.contnr.hl {\n",
       "  border-color: var(--hl-rim) ! important;\n",
       "\tborder-width: 0.2rem ! important;\n",
       "}\n",
       "\n",
       "span.hlbx {\n",
       "\tborder-color: var(--hl-rim);\n",
       "\tborder-width: 0.2rem ! important;\n",
       "\tborder-style: solid;\n",
       "\tborder-radius: 0.3rem;\n",
       "  padding: 0.2rem;\n",
       "  margin: 0.2rem;\n",
       "}\n",
       "\n",
       "span.plain {\n",
       "  display: inline-block;\n",
       "  white-space: pre-wrap;\n",
       "}\n",
       "\n",
       ":root {\n",
       "\t--hl-strong:        hsla( 60, 100%,  70%, 0.9  );\n",
       "\t--hl-rim:           hsla( 55,  80%,  50%, 1.0  );\n",
       "}\n",
       ".pnum {\n",
       "    font-family: sans-serif;\n",
       "    font-size: small;\n",
       "    font-weight: bold;\n",
       "    color: #444444;\n",
       "}\n",
       ".op {\n",
       "    padding:  0.5em 0.1em 0.1em 0.1em;\n",
       "    margin: 0.8em 0.1em 0.1em 0.1em;\n",
       "    font-family: monospace;\n",
       "    font-size: x-large;\n",
       "    font-weight: bold;\n",
       "}\n",
       ".period {\n",
       "    font-family: monospace;\n",
       "    font-size: medium;\n",
       "    font-weight: bold;\n",
       "    color: #0000bb;\n",
       "}\n",
       ".comment {\n",
       "    color: #7777dd;\n",
       "    font-family: monospace;\n",
       "    font-size: small;\n",
       "}\n",
       ".operator {\n",
       "    color: #ff77ff;\n",
       "    font-size: large;\n",
       "}\n",
       "/* LANGUAGE: superscript and subscript */\n",
       "\n",
       "/* cluster */\n",
       ".det {\n",
       "    vertical-align: super;\n",
       "}\n",
       "/* cluster */\n",
       ".langalt {\n",
       "    vertical-align: sub;\n",
       "}\n",
       "/* REDACTIONAL: line over or under  */\n",
       "\n",
       "/* flag */\n",
       ".collated {\n",
       "    font-weight: bold;\n",
       "    text-decoration: underline;\n",
       "}\n",
       "/* cluster */\n",
       ".excised {\n",
       "    color: #dd0000;\n",
       "    text-decoration: line-through;\n",
       "}\n",
       "/* cluster */\n",
       ".supplied {\n",
       "    color: #0000ff;\n",
       "    text-decoration: overline;\n",
       "}\n",
       "/* flag */\n",
       ".remarkable {\n",
       "    font-weight: bold;\n",
       "    text-decoration: overline;\n",
       "}\n",
       "\n",
       "/* UNSURE: italic*/\n",
       "\n",
       "/* cluster */\n",
       ".uncertain {\n",
       "    font-style: italic\n",
       "}\n",
       "/* flag */\n",
       ".question {\n",
       "    font-weight: bold;\n",
       "    font-style: italic\n",
       "}\n",
       "\n",
       "/* BROKEN: text-shadow */\n",
       "\n",
       "/* cluster */\n",
       ".missing {\n",
       "    color: #999999;\n",
       "    text-shadow: #bbbbbb 1px 1px;\n",
       "}\n",
       "/* flag */\n",
       ".damage {\n",
       "    font-weight: bold;\n",
       "    color: #999999;\n",
       "    text-shadow: #bbbbbb 1px 1px;\n",
       "}\n",
       ".empty {\n",
       "  color: #ff0000;\n",
       "}\n",
       "\n",
       "</style>"
      ],
      "text/plain": [
       "<IPython.core.display.HTML object>"
      ]
     },
     "metadata": {},
     "output_type": "display_data"
    },
    {
     "data": {
      "text/html": [
       "<div><b>Text-Fabric API:</b> names <a target=\"_blank\" href=\"https://annotation.github.io/text-fabric/cheatsheet.html\" title=\"doc\">N F E L T S C TF</a> directly usable</div><hr>"
      ],
      "text/plain": [
       "<IPython.core.display.HTML object>"
      ]
     },
     "metadata": {},
     "output_type": "display_data"
    }
   ],
   "source": [
    "A = use('oldassyrian:clone', checkout='clone', hoist=globals())"
   ]
  },
  {
   "cell_type": "markdown",
   "metadata": {},
   "source": [
    "# Parallels\n",
    "\n",
    "We make edges between similar lines.\n",
    "\n",
    "When are lines similar?\n",
    "\n",
    "If a certain distance metric is above a certain threshold.\n",
    "\n",
    "We choose this metric:\n",
    "\n",
    "* we reduce a line to the set of readings and graphemes in it, excluding unknown signs and ellipses.\n",
    "* the similarity between two lines is the length of the intersection divided by the length of the union of their sets times 100."
   ]
  },
  {
   "cell_type": "markdown",
   "metadata": {},
   "source": [
    "# Preparation\n",
    "\n",
    "We pre-compute all sets for all lines."
   ]
  },
  {
   "cell_type": "code",
   "execution_count": 4,
   "metadata": {},
   "outputs": [],
   "source": [
    "READABLE_TYPES = {'reading', 'grapheme', 'numeral', 'complex'}\n",
    "\n",
    "def makeSet(l):\n",
    "  if F.lnc.v(l): # comment line\n",
    "    return None\n",
    "  lineSet = set()\n",
    "  for s in L.d(l, otype='sign'):\n",
    "    if F.type.v(s) in READABLE_TYPES:\n",
    "      r = F.readingr.v(s)\n",
    "      if r:\n",
    "        lineSet.add(r)\n",
    "      g = F.graphemer.v(s)\n",
    "      if g:\n",
    "        lineSet.add(g)\n",
    "  return lineSet"
   ]
  },
  {
   "cell_type": "code",
   "execution_count": 5,
   "metadata": {},
   "outputs": [
    {
     "name": "stdout",
     "output_type": "stream",
     "text": [
      "102526 lines\n"
     ]
    }
   ],
   "source": [
    "lines = {}\n",
    "\n",
    "for l in F.otype.s('line'):\n",
    "  lineSet = makeSet(l)\n",
    "  if lineSet:\n",
    "    lines[l] = lineSet\n",
    "    \n",
    "nLines = len(lines)\n",
    "print(f'{nLines} lines')"
   ]
  },
  {
   "cell_type": "markdown",
   "metadata": {},
   "source": [
    "# Measure"
   ]
  },
  {
   "cell_type": "code",
   "execution_count": 6,
   "metadata": {},
   "outputs": [],
   "source": [
    "def sim(lSet, mSet):\n",
    "  return int(round(100 * len(lSet & mSet) / len(lSet | mSet)))"
   ]
  },
  {
   "cell_type": "markdown",
   "metadata": {},
   "source": [
    "# Compute all similarities\n",
    "\n",
    "We are going to perform several hundreds of millions of comparisons, each of which is more than an elemetary operation.\n",
    "\n",
    "Let's measure time."
   ]
  },
  {
   "cell_type": "code",
   "execution_count": 7,
   "metadata": {},
   "outputs": [],
   "source": [
    "THRESHOLD = 90\n",
    "\n",
    "def computeSim(limit=None):\n",
    "  similarity = {}\n",
    "\n",
    "  lineNodes = sorted(lines.keys())\n",
    "  nLines = len(lineNodes)\n",
    "\n",
    "  nComparisons = nLines * (nLines - 1) // 2\n",
    "\n",
    "  print(f'{nComparisons} comparisons to make')\n",
    "  chunkSize = nComparisons // 100\n",
    "\n",
    "  co = 0\n",
    "  b = 0\n",
    "  si = 0\n",
    "  p = 0\n",
    "\n",
    "  A.indent(reset=True)\n",
    "\n",
    "  stop = False\n",
    "  for i in range(nLines):\n",
    "    nodeI = lineNodes[i]\n",
    "    lineI = lines[nodeI]\n",
    "    for j in range(i + 1, nLines):\n",
    "      nodeJ = lineNodes[j]\n",
    "      lineJ = lines[nodeJ]\n",
    "      s = sim(lineI, lineJ)\n",
    "      co += 1\n",
    "      b += 1\n",
    "      if b == chunkSize:\n",
    "        p += 1\n",
    "        A.info(f'{p:>3}% - {co:>12} comparisons and {si:>10} similarities')\n",
    "        b = 0\n",
    "        if limit is not None and p >= limit:\n",
    "          stop = True\n",
    "          break\n",
    "\n",
    "      if s < THRESHOLD:\n",
    "        continue\n",
    "      similarity[(nodeI, nodeJ)] = sim(lineI, lineJ)\n",
    "      si += 1\n",
    "    if stop:\n",
    "      break\n",
    "\n",
    "  A.info(f'{p:>3}% - {co:>12} comparisons and {si:>10} similarities')\n",
    "  return similarity"
   ]
  },
  {
   "cell_type": "markdown",
   "metadata": {},
   "source": [
    "We are going to run it to 1% first and do some checks then."
   ]
  },
  {
   "cell_type": "code",
   "execution_count": 8,
   "metadata": {},
   "outputs": [
    {
     "name": "stdout",
     "output_type": "stream",
     "text": [
      "5255739075 comparisons to make\n",
      "    58s   1% -     52557390 comparisons and       3747 similarities\n",
      "    58s   1% -     52557390 comparisons and       3747 similarities\n"
     ]
    }
   ],
   "source": [
    "similarity = computeSim(limit=1)"
   ]
  },
  {
   "cell_type": "markdown",
   "metadata": {},
   "source": [
    "We check the sanity of the results."
   ]
  },
  {
   "cell_type": "code",
   "execution_count": 9,
   "metadata": {},
   "outputs": [
    {
     "name": "stdout",
     "output_type": "stream",
     "text": [
      "100\n",
      "100\n"
     ]
    }
   ],
   "source": [
    "print(min(similarity.values()))\n",
    "print(max(similarity.values()))"
   ]
  },
  {
   "cell_type": "code",
   "execution_count": 10,
   "metadata": {},
   "outputs": [],
   "source": [
    "eq = [x for x in similarity.items() if x[1] >= 100]\n",
    "neq = [x for x in similarity.items() if x[1] <= 90]"
   ]
  },
  {
   "cell_type": "code",
   "execution_count": 11,
   "metadata": {},
   "outputs": [
    {
     "name": "stdout",
     "output_type": "stream",
     "text": [
      "3747\n",
      "0\n"
     ]
    }
   ],
   "source": [
    "print(len(eq))\n",
    "print(len(neq))"
   ]
  },
  {
   "cell_type": "code",
   "execution_count": 13,
   "metadata": {},
   "outputs": [
    {
     "name": "stdout",
     "output_type": "stream",
     "text": [
      "((865347, 865350), 100)\n"
     ]
    }
   ],
   "source": [
    "print(eq[0])\n",
    "# print(neq[0])"
   ]
  },
  {
   "cell_type": "code",
   "execution_count": 14,
   "metadata": {},
   "outputs": [
    {
     "data": {
      "text/html": [
       "<div class=\"\"><span class=\"section \"><a target=\"_blank\" href=\"https://cdli.ucla.edu/search/search_results.php?SearchMode=Text&amp;ObjectID=P361245\" title=\"Show this document on CDLI\" sec=\"P361245 obverse:1\">P361245 obverse:1</a></span>  <span class=\"txto\">7(disz) </span><span class=\"txto\">7(disz) </span><span class=\"txto\">1(u) </span><span class=\"txto\">5(disz) </span><span class=\"txto\">7(disz) </span><span class=\"txto\">7(disz)# </span><span class=\"txto\">7(disz)# </span><span class=\"txto\">7(disz)#</span></div>"
      ],
      "text/plain": [
       "<IPython.core.display.HTML object>"
      ]
     },
     "metadata": {},
     "output_type": "display_data"
    },
    {
     "data": {
      "text/html": [
       "<div class=\"\"><span class=\"section \"><a target=\"_blank\" href=\"https://cdli.ucla.edu/search/search_results.php?SearchMode=Text&amp;ObjectID=P361245\" title=\"Show this document on CDLI\" sec=\"P361245 obverse:4\">P361245 obverse:4</a></span>  <span class=\"txto\">1/2(disz) </span><span class=\"txto\">1/6(disz) </span><span class=\"txto\">1(u) </span><span class=\"txto\">5(disz) </span><span class=\"txto\">7(disz) </span><span class=\"txto\">7(disz) </span><span class=\"txto\">7(disz)</span></div>"
      ],
      "text/plain": [
       "<IPython.core.display.HTML object>"
      ]
     },
     "metadata": {},
     "output_type": "display_data"
    }
   ],
   "source": [
    "A.plain(eq[0][0][0])\n",
    "A.plain(eq[0][0][1])"
   ]
  },
  {
   "cell_type": "code",
   "execution_count": 15,
   "metadata": {},
   "outputs": [],
   "source": [
    "# A.plain(neq[0][0][0])\n",
    "# A.plain(neq[0][0][1])"
   ]
  },
  {
   "cell_type": "markdown",
   "metadata": {},
   "source": [
    "Looks good.\n",
    "\n",
    "Now the whole computation.\n",
    "\n",
    "But if we have done this before, and nothing has changed, we load previous results from disk.\n",
    "\n",
    "If we do not find previous results, we compute them and save the results to disk."
   ]
  },
  {
   "cell_type": "code",
   "execution_count": 16,
   "metadata": {},
   "outputs": [],
   "source": [
    "PARA_DIR = f'{A.tempDir}/parallels'\n",
    "\n",
    "def writeResults(data, location, name):\n",
    "  if not os.path.exists(location):\n",
    "    os.makedirs(location, exist_ok=True)\n",
    "  path = f'{location}/{name}'\n",
    "  with gzip.open(path, 'wb') as f:\n",
    "    pickle.dump(data, f)\n",
    "  print(f'Data written to {path}')\n",
    "  \n",
    "def readResults(location, name):\n",
    "  path = f'{location}/{name}'\n",
    "  if not os.path.exists(path):\n",
    "    print(f'File not found: {path}')\n",
    "    return None\n",
    "  with gzip.open(path, 'rb') as f:\n",
    "    data = pickle.load(f)\n",
    "  print(f'Data read from {path}')\n",
    "  return data"
   ]
  },
  {
   "cell_type": "code",
   "execution_count": 17,
   "metadata": {},
   "outputs": [
    {
     "name": "stdout",
     "output_type": "stream",
     "text": [
      "File not found: /Users/dirk/github/Nino-cunei/oldassyrian/_temp/parallels/sim-0.1.zip\n",
      "5255739075 comparisons to make\n",
      "    57s   1% -     52557390 comparisons and       3747 similarities\n",
      " 1m 55s   2% -    105114780 comparisons and      11559 similarities\n",
      " 2m 53s   3% -    157672170 comparisons and      20609 similarities\n",
      " 3m 50s   4% -    210229560 comparisons and      32834 similarities\n",
      " 4m 47s   5% -    262786950 comparisons and      41372 similarities\n",
      " 5m 45s   6% -    315344340 comparisons and      43848 similarities\n",
      " 6m 43s   7% -    367901730 comparisons and      45841 similarities\n",
      " 7m 41s   8% -    420459120 comparisons and      53649 similarities\n",
      " 8m 39s   9% -    473016510 comparisons and      61260 similarities\n",
      " 9m 37s  10% -    525573900 comparisons and      63950 similarities\n",
      "10m 37s  11% -    578131290 comparisons and      66670 similarities\n",
      "11m 39s  12% -    630688680 comparisons and      68581 similarities\n",
      "12m 41s  13% -    683246070 comparisons and      70203 similarities\n",
      "13m 40s  14% -    735803460 comparisons and      73130 similarities\n",
      "14m 44s  15% -    788360850 comparisons and      76432 similarities\n",
      "15m 43s  16% -    840918240 comparisons and      81753 similarities\n",
      "16m 40s  17% -    893475630 comparisons and      87921 similarities\n",
      "17m 38s  18% -    946033020 comparisons and      90484 similarities\n",
      "18m 37s  19% -    998590410 comparisons and      96939 similarities\n",
      "19m 38s  20% -   1051147800 comparisons and     101290 similarities\n",
      "20m 38s  21% -   1103705190 comparisons and     106149 similarities\n",
      "21m 40s  22% -   1156262580 comparisons and     109479 similarities\n",
      "22m 42s  23% -   1208819970 comparisons and     111432 similarities\n",
      "23m 42s  24% -   1261377360 comparisons and     115529 similarities\n",
      "24m 41s  25% -   1313934750 comparisons and     123029 similarities\n",
      "25m 40s  26% -   1366492140 comparisons and     125032 similarities\n",
      "26m 38s  27% -   1419049530 comparisons and     127191 similarities\n",
      "27m 36s  28% -   1471606920 comparisons and     132138 similarities\n",
      "28m 33s  29% -   1524164310 comparisons and     137785 similarities\n",
      "29m 32s  30% -   1576721700 comparisons and     141948 similarities\n",
      "30m 32s  31% -   1629279090 comparisons and     143344 similarities\n",
      "31m 31s  32% -   1681836480 comparisons and     146754 similarities\n",
      "32m 31s  33% -   1734393870 comparisons and     149504 similarities\n",
      "33m 29s  34% -   1786951260 comparisons and     152804 similarities\n",
      "34m 25s  35% -   1839508650 comparisons and     164247 similarities\n",
      "35m 22s  36% -   1892066040 comparisons and     173436 similarities\n",
      "36m 18s  37% -   1944623430 comparisons and     184222 similarities\n",
      "37m 15s  38% -   1997180820 comparisons and     188140 similarities\n",
      "38m 13s  39% -   2049738210 comparisons and     191971 similarities\n",
      "39m 11s  40% -   2102295600 comparisons and     194737 similarities\n",
      "40m 09s  41% -   2154852990 comparisons and     197315 similarities\n",
      "41m 05s  42% -   2207410380 comparisons and     202415 similarities\n",
      "42m 01s  43% -   2259967770 comparisons and     210686 similarities\n",
      "43m 00s  44% -   2312525160 comparisons and     215165 similarities\n",
      "43m 56s  45% -   2365082550 comparisons and     222283 similarities\n",
      "44m 52s  46% -   2417639940 comparisons and     229590 similarities\n",
      "45m 49s  47% -   2470197330 comparisons and     236622 similarities\n",
      "46m 47s  48% -   2522754720 comparisons and     247012 similarities\n",
      "47m 44s  49% -   2575312110 comparisons and     250120 similarities\n",
      "48m 44s  50% -   2627869500 comparisons and     252251 similarities\n",
      "49m 42s  51% -   2680426890 comparisons and     254622 similarities\n",
      "50m 40s  52% -   2732984280 comparisons and     258021 similarities\n",
      "51m 39s  53% -   2785541670 comparisons and     261005 similarities\n",
      "52m 37s  54% -   2838099060 comparisons and     263263 similarities\n",
      "53m 36s  55% -   2890656450 comparisons and     265999 similarities\n",
      "54m 33s  56% -   2943213840 comparisons and     269881 similarities\n",
      "55m 33s  57% -   2995771230 comparisons and     272037 similarities\n",
      "56m 31s  58% -   3048328620 comparisons and     274055 similarities\n",
      "57m 30s  59% -   3100886010 comparisons and     277468 similarities\n",
      "58m 27s  60% -   3153443400 comparisons and     284054 similarities\n",
      "59m 24s  61% -   3206000790 comparisons and     292173 similarities\n",
      " 1h 00m 22s  62% -   3258558180 comparisons and     299571 similarities\n",
      " 1h 01m 18s  63% -   3311115570 comparisons and     307182 similarities\n",
      " 1h 02m 16s  64% -   3363672960 comparisons and     312208 similarities\n",
      " 1h 03m 10s  65% -   3416230350 comparisons and     318605 similarities\n",
      " 1h 04m 09s  66% -   3468787740 comparisons and     323152 similarities\n",
      " 1h 05m 06s  67% -   3521345130 comparisons and     328137 similarities\n",
      " 1h 06m 03s  68% -   3573902520 comparisons and     333063 similarities\n",
      " 1h 07m 02s  69% -   3626459910 comparisons and     336619 similarities\n",
      " 1h 08m 00s  70% -   3679017300 comparisons and     342546 similarities\n",
      " 1h 08m 57s  71% -   3731574690 comparisons and     349005 similarities\n",
      " 1h 09m 53s  72% -   3784132080 comparisons and     355752 similarities\n",
      " 1h 10m 49s  73% -   3836689470 comparisons and     368567 similarities\n",
      " 1h 11m 46s  74% -   3889246860 comparisons and     375138 similarities\n",
      " 1h 12m 41s  75% -   3941804250 comparisons and     387421 similarities\n",
      " 1h 13m 39s  76% -   3994361640 comparisons and     394754 similarities\n",
      " 1h 14m 35s  77% -   4046919030 comparisons and     400227 similarities\n",
      " 1h 15m 33s  78% -   4099476420 comparisons and     403669 similarities\n",
      " 1h 16m 29s  79% -   4152033810 comparisons and     410366 similarities\n",
      " 1h 17m 26s  80% -   4204591200 comparisons and     415391 similarities\n",
      " 1h 18m 23s  81% -   4257148590 comparisons and     419308 similarities\n",
      " 1h 19m 18s  82% -   4309705980 comparisons and     427052 similarities\n",
      " 1h 20m 15s  83% -   4362263370 comparisons and     432084 similarities\n",
      " 1h 21m 12s  84% -   4414820760 comparisons and     436612 similarities\n",
      " 1h 22m 09s  85% -   4467378150 comparisons and     444983 similarities\n",
      " 1h 23m 06s  86% -   4519935540 comparisons and     447973 similarities\n",
      " 1h 24m 04s  87% -   4572492930 comparisons and     454314 similarities\n",
      " 1h 25m 00s  88% -   4625050320 comparisons and     461097 similarities\n",
      " 1h 25m 59s  89% -   4677607710 comparisons and     463248 similarities\n",
      " 1h 26m 57s  90% -   4730165100 comparisons and     468044 similarities\n",
      " 1h 27m 54s  91% -   4782722490 comparisons and     471950 similarities\n",
      " 1h 28m 52s  92% -   4835279880 comparisons and     479867 similarities\n",
      " 1h 29m 49s  93% -   4887837270 comparisons and     484399 similarities\n",
      " 1h 30m 45s  94% -   4940394660 comparisons and     491752 similarities\n",
      " 1h 31m 41s  95% -   4992952050 comparisons and     497429 similarities\n",
      " 1h 32m 39s  96% -   5045509440 comparisons and     501637 similarities\n",
      " 1h 33m 37s  97% -   5098066830 comparisons and     505831 similarities\n",
      " 1h 34m 35s  98% -   5150624220 comparisons and     509406 similarities\n",
      " 1h 35m 32s  99% -   5203181610 comparisons and     515717 similarities\n",
      " 1h 36m 28s 100% -   5255739000 comparisons and     522468 similarities\n",
      " 1h 36m 28s 100% -   5255739075 comparisons and     522468 similarities\n",
      "Data written to /Users/dirk/github/Nino-cunei/oldassyrian/_temp/parallels/sim-0.1.zip\n"
     ]
    }
   ],
   "source": [
    "similarity = readResults(PARA_DIR, f'sim-{A.version}.zip')\n",
    "if not similarity:\n",
    "  similarity = computeSim()\n",
    "  writeResults(similarity, PARA_DIR, f'sim-{A.version}.zip')"
   ]
  },
  {
   "cell_type": "code",
   "execution_count": 18,
   "metadata": {},
   "outputs": [
    {
     "data": {
      "text/plain": [
       "522468"
      ]
     },
     "execution_count": 18,
     "metadata": {},
     "output_type": "execute_result"
    }
   ],
   "source": [
    "len(similarity)"
   ]
  },
  {
   "cell_type": "markdown",
   "metadata": {},
   "source": [
    "So, over half a million pairs of similar lines.\n",
    "\n",
    "Let's find out which lines have the most correspondences."
   ]
  },
  {
   "cell_type": "code",
   "execution_count": 19,
   "metadata": {},
   "outputs": [
    {
     "name": "stdout",
     "output_type": "stream",
     "text": [
      "37824 out of 102526 lines have at least one similar line\n"
     ]
    }
   ],
   "source": [
    "parallels = {}\n",
    "\n",
    "for (l, m) in similarity:\n",
    "  parallels.setdefault(l, set()).add(m)\n",
    "  parallels.setdefault(m, set()).add(l)\n",
    "  \n",
    "print(f'{len(parallels)} out of {nLines} lines have at least one similar line')"
   ]
  },
  {
   "cell_type": "code",
   "execution_count": 20,
   "metadata": {},
   "outputs": [],
   "source": [
    "rankedParallels = sorted(\n",
    "  parallels.items(),\n",
    "  key=lambda x: (-len(x[1]), x[0]),\n",
    ")"
   ]
  },
  {
   "cell_type": "code",
   "execution_count": 21,
   "metadata": {},
   "outputs": [
    {
     "name": "stdout",
     "output_type": "stream",
     "text": [
      " 454 siblings of 865417 = 2/2(disz) _ma-na ku3-babbar_\n",
      " 454 siblings of 865670 = 1/3(disz) _ma-na ku3-babbar_\n",
      " 454 siblings of 865986 = 2(disz) 1/2(disz) _ma-na ku3-babbar_\n",
      " 454 siblings of 865998 = 5(disz) _ma-na ku3-babbar_\n",
      " 454 siblings of 866145 = 1/2(disz) _ma-na ku3-babbar_\n",
      " 454 siblings of 866243 = 1(disz) _ma-na ku3-babbar_\n",
      " 454 siblings of 866325 = 2(disz) _ma-na ku3-babbar_\n",
      " 454 siblings of 866381 = 8(disz) _ma-na ku3-babbar_\n",
      " 454 siblings of 866431 = 1(disz) _ma-na ku3-babbar_\n",
      " 454 siblings of 866798 = 1/3(disz) _ma-na ku3-babbar_\n"
     ]
    }
   ],
   "source": [
    "for (l, paras) in rankedParallels[0:10]:\n",
    "  print(f'{len(paras):>4} siblings of {l} = {T.text(l)}')"
   ]
  },
  {
   "cell_type": "code",
   "execution_count": 22,
   "metadata": {},
   "outputs": [
    {
     "name": "stdout",
     "output_type": "stream",
     "text": [
      " 266 siblings of [...]-x 1/3(disz) _ma-na_ 5(disz) _gin2 ku3-babbar_\n",
      " 266 siblings of [x ma]-na 7(disz) _gin2 ku3-babbar_\n",
      " 266 siblings of 1(disz) _ma-na_ 5(disz) _gin2 ku3-babbar_\n",
      " 266 siblings of 2/3(disz) _ma-na_ 5(disz) _gin2 ku3-babbar_\n",
      " 266 siblings of 8(disz) _ma-na_ <<_gin2_>> _ku3-babbar_\n",
      " 266 siblings of 2(disz) 1/2(disz) _ma-na_ 5(disz) [_gin2 ku3-babbar_]\n",
      " 266 siblings of [x ma]-na 7(disz) 1/2(disz) _gin2 ku3-babbar_\n",
      " 266 siblings of 1/3(disz) _ma-na_ 6(disz) _gin2 ku3-babbar_\n",
      " 266 siblings of [... x ma]-na# 1(disz) _gin2 ku3-babbar_\n",
      " 266 siblings of 2(disz) _ma-na_ 5(disz) _gin2 ku3-babbar_\n"
     ]
    }
   ],
   "source": [
    "for (l, paras) in rankedParallels[1000:1010]:\n",
    "  print(f'{len(paras):>4} siblings of {T.text(l)}')"
   ]
  },
  {
   "cell_type": "code",
   "execution_count": 23,
   "metadata": {},
   "outputs": [
    {
     "name": "stdout",
     "output_type": "stream",
     "text": [
      " 198 siblings of 5(disz) _gin2 ku3-babbar_\n",
      " 198 siblings of 2(disz) _gin2 ku3-babbar_\n",
      " 198 siblings of 8(disz) _gin2 ku3-babbar_\n",
      " 198 siblings of 1(disz) _gin2 ku3-babbar_\n",
      " 198 siblings of 2/3(disz) _gin2 ku3-babbar_\n",
      " 198 siblings of 1(disz) 1/2(disz) _gin2 ku3-babbar_\n",
      " 198 siblings of 5(disz) _gin2 ku3-babbar_\n",
      " 198 siblings of 2(disz) 2/3(disz) _gin2 ku3-babbar_\n",
      " 198 siblings of 1/4(disz) _gin2 ku3-babbar_\n",
      " 198 siblings of 4(disz) 1/2(disz)? _gin2 ku3-babbar_\n"
     ]
    }
   ],
   "source": [
    "for (l, paras) in rankedParallels[1130:1140]:\n",
    "  print(f'{len(paras):>4} siblings of {T.text(l)}')"
   ]
  },
  {
   "cell_type": "markdown",
   "metadata": {},
   "source": [
    "And how many lines have just one correspondence?\n",
    "\n",
    "We look at the tail of rankedParallels."
   ]
  },
  {
   "cell_type": "code",
   "execution_count": 24,
   "metadata": {},
   "outputs": [
    {
     "name": "stdout",
     "output_type": "stream",
     "text": [
      "There are 9412 exclusively parallel pairs of lines\n"
     ]
    }
   ],
   "source": [
    "pairs = [(x, list(paras)[0]) for (x, paras) in rankedParallels if len(paras) == 1]\n",
    "print(f'There are {len(pairs)} exclusively parallel pairs of lines')"
   ]
  },
  {
   "cell_type": "markdown",
   "metadata": {},
   "source": [
    "Why not make an overview of exactly how wide-spread parallel lines are?\n",
    "\n",
    "We count how many lines have how many parallels."
   ]
  },
  {
   "cell_type": "code",
   "execution_count": 25,
   "metadata": {},
   "outputs": [
    {
     "name": "stdout",
     "output_type": "stream",
     "text": [
      "5374 lines have n sisters where        n >  100\n",
      "3935 lines have n sisters where  20 <  n <=  50\n",
      "4676 lines have n sisters where  10 <  n <=  20\n",
      "14427 lines have n sisters where   2 <  n <=  10\n",
      "9412 lines have n sisters where        n <=   2\n"
     ]
    }
   ],
   "source": [
    "parallelCount = collections.Counter()\n",
    "\n",
    "buckets = (2, 10, 20, 50, 100)\n",
    "\n",
    "bucketRep = {}\n",
    "prevBucket = None\n",
    "for bucket in buckets:\n",
    "  if prevBucket is None:\n",
    "    bucketRep[bucket] = f'       n <= {bucket:>3}'\n",
    "  elif bucket == buckets[-1]:\n",
    "    bucketRep[bucket] = f'       n >  {bucket:>3}'\n",
    "  else:\n",
    "    bucketRep[bucket] = f'{prevBucket:>3} <  n <= {bucket:>3}'\n",
    "  prevBucket = bucket\n",
    "\n",
    "for (l, paras) in rankedParallels:\n",
    "  clusterSize = len(paras) + 1\n",
    "  if clusterSize > buckets[-1]:\n",
    "    theBucket = buckets[-1]\n",
    "  else:\n",
    "    for bucket in buckets:\n",
    "      if clusterSize <= bucket:\n",
    "        theBucket = bucket\n",
    "        break\n",
    "  parallelCount[theBucket] += 1\n",
    "  \n",
    "for (bucket, amount) in sorted(\n",
    "  parallelCount.items(),\n",
    "  key=lambda x: (-x[0], x[1]),\n",
    "):\n",
    "  print(f'{amount:>4} lines have n sisters where {bucketRep[bucket]}')"
   ]
  },
  {
   "cell_type": "markdown",
   "metadata": {},
   "source": [
    "# Add parallels to the TF dataset\n",
    "\n",
    "We can add this information to the Oldbabylonian dataset as an *edge feature*.\n",
    "\n",
    "An edge feature links two nodes and may annotate that link with a value.\n",
    "\n",
    "For parallels, we link each line to each of its parallel lines and we annotate that link with the similarity between\n",
    "the two lines. The similarity is a percentage, and we round it to integer values.\n",
    "\n",
    "If *n1* is similar to *n2*, then *n2* is similar to *n1*.\n",
    "In order to save space, we only add such links once.\n",
    "\n",
    "We can then use\n",
    "[`E.sim.b(node)`](https://annotation.github.io/text-fabric/Api/Features/#edge-features)\n",
    "to find all nodes that are parallel to node.\n"
   ]
  },
  {
   "cell_type": "code",
   "execution_count": 26,
   "metadata": {},
   "outputs": [],
   "source": [
    "metaData = {\n",
    "  '': {\n",
    "    'name': 'Old Assyrian Cuneiform',\n",
    "    'editor': 'various',\n",
    "    'institute': 'CDL',\n",
    "    'converters': 'Alba de Ridder, Martijn Kokken, Cale Johnson, Dirk Roorda',    \n",
    "  },\n",
    "  'sim': {\n",
    "    'valueType': 'int',\n",
    "    'edgeValues': True,\n",
    "    'description': 'similarity between lines, as a percentage of the common material wrt the combined material',\n",
    "  },\n",
    "}"
   ]
  },
  {
   "cell_type": "code",
   "execution_count": 27,
   "metadata": {},
   "outputs": [],
   "source": [
    "simData = {}\n",
    "for ((f, t), d) in similarity.items():\n",
    "  simData.setdefault(f, {})[t] = d"
   ]
  },
  {
   "cell_type": "code",
   "execution_count": 28,
   "metadata": {},
   "outputs": [],
   "source": [
    "ghBase = os.path.expanduser('~/github')\n",
    "subdir = 'parallels'\n",
    "path = f'{A.context.org}/{A.context.repo}/{subdir}/tf'\n",
    "location = f'{ghBase}/{path}'\n",
    "module = A.version"
   ]
  },
  {
   "cell_type": "code",
   "execution_count": 29,
   "metadata": {},
   "outputs": [
    {
     "name": "stdout",
     "output_type": "stream",
     "text": [
      "  0.00s Exporting 0 node and 1 edge and 0 config features to ~/github/Nino-cunei/oldassyrian/parallels/tf/0.1:\n",
      "   |     0.53s T sim                  to ~/github/Nino-cunei/oldassyrian/parallels/tf/0.1\n",
      "  0.53s Exported 0 node features and 1 edge features and 0 config features to ~/github/Nino-cunei/oldassyrian/parallels/tf/0.1\n"
     ]
    },
    {
     "data": {
      "text/plain": [
       "True"
      ]
     },
     "execution_count": 29,
     "metadata": {},
     "output_type": "execute_result"
    }
   ],
   "source": [
    "TF.save(edgeFeatures=dict(sim=simData), metaData=metaData, location=location, module=module)"
   ]
  },
  {
   "cell_type": "markdown",
   "metadata": {},
   "source": [
    "# Turn the parallels feature into a module\n",
    "\n",
    "The new `sim` feature is a big data feature. You do not want to load it all the time.\n",
    "\n",
    "Here we show how to turn it into a module, so that users can easily load it in a Jupyter notebook or in the TF browser."
   ]
  },
  {
   "cell_type": "code",
   "execution_count": 31,
   "metadata": {},
   "outputs": [
    {
     "name": "stdout",
     "output_type": "stream",
     "text": [
      "True\n",
      "Create release data for Nino-cunei/oldassyrian/parallels/tf\n",
      "Found 1 versions\n",
      "zip files end up in ~/Downloads/Nino-cunei-release/oldassyrian\n",
      "zipping Nino-cunei/oldassyrian     0.1 with   1 features ==> parallels-tf-0.1.zip\n"
     ]
    }
   ],
   "source": [
    "%%bash\n",
    "text-fabric-zip 'Nino-cunei/oldassyrian/parallels/tf'"
   ]
  },
  {
   "cell_type": "markdown",
   "metadata": {},
   "source": [
    "I have added this file to a new release of the Oldbabylonian Github repo."
   ]
  },
  {
   "cell_type": "markdown",
   "metadata": {},
   "source": [
    "# Use the parallels module\n",
    "\n",
    "We load the Oldbabylonian corpus again, but now with the parallels module."
   ]
  },
  {
   "cell_type": "code",
   "execution_count": 32,
   "metadata": {},
   "outputs": [
    {
     "data": {
      "text/html": [
       "<b title=\"local github\">TF-app:</b> <span title=\"repo clone offline under ~/github\">~/github/annotation/app-oldassyrian/code</span>"
      ],
      "text/plain": [
       "<IPython.core.display.HTML object>"
      ]
     },
     "metadata": {},
     "output_type": "display_data"
    },
    {
     "data": {
      "text/html": [
       "<b title=\"local github\">data:</b> <span title=\"repo clone offline under ~/github\">~/github/Nino-cunei/oldassyrian/tf/0.1</span>"
      ],
      "text/plain": [
       "<IPython.core.display.HTML object>"
      ]
     },
     "metadata": {},
     "output_type": "display_data"
    },
    {
     "data": {
      "text/html": [
       "<b title=\"local github\">data:</b> <span title=\"repo clone offline under ~/github\">~/github/Nino-cunei/oldassyrian/parallels/tf/0.1</span>"
      ],
      "text/plain": [
       "<IPython.core.display.HTML object>"
      ]
     },
     "metadata": {},
     "output_type": "display_data"
    },
    {
     "name": "stdout",
     "output_type": "stream",
     "text": [
      "   |     0.51s T sim                  from ~/github/Nino-cunei/oldassyrian/parallels/tf/0.1\n"
     ]
    },
    {
     "data": {
      "text/html": [
       "<b>Text-Fabric:</b> <a target=\"_blank\" href=\"https://annotation.github.io/text-fabric/cheatsheet.html\" title=\"text-fabric-api\">Text-Fabric API 8.3.3</a>, <a target=\"_blank\" href=\"https://github.com/annotation/app-oldassyrian\" title=\"oldassyrian TF-app\">app-oldassyrian</a>, <a target=\"_blank\" href=\"https://annotation.github.io/text-fabric/about/searchusage.html\" title=\"Search Templates Introduction and Reference\">Search Reference</a><br><b>Data:</b> <a target=\"_blank\" href=\"https://github.com/Nino-cunei/oldassyrian/blob/master/docs/about.md\" title=\"provenance of Old Assyrian Documents 2000-1600: Cuneiform tablets\">OLDASSYRIAN</a>, <a target=\"_blank\" href=\"https://github.com/Nino-cunei/oldassyrian/blob/master/programs/mapReadings.ipynb\" title=\"mapping from readings to UNICODE\">Character table</a>, <a target=\"_blank\" href=\"https://github.com/Nino-cunei/tfFromAtf/blob/master/docs/transcription.md\" title=\"OLDASSYRIAN feature documentation\">Feature docs</a><br><b>Features:</b><br><details><summary><b>Nino-cunei/oldassyrian/parallels/tf</b></summary><b><i><a target=\"_blank\" href=\"https://github.com/Nino-cunei/oldassyrian/tree/master/parallels/tf\" title=\"~/github/Nino-cunei/oldassyrian/parallels/tf/0.1/sim.tf\">sim</a></i></b><br></details><details><summary><b>Old Assyrian Documents 2000-1600: Cuneiform tablets</b></summary><a target=\"_blank\" href=\"https://github.com/Nino-cunei/tfFromAtf/blob/master/docs/transcription.md\" title=\"~/github/Nino-cunei/oldassyrian/tf/0.1/ARK.tf\">ARK</a><br><a target=\"_blank\" href=\"https://github.com/Nino-cunei/tfFromAtf/blob/master/docs/transcription.md\" title=\"~/github/Nino-cunei/oldassyrian/tf/0.1/after.tf\">after</a><br><a target=\"_blank\" href=\"https://github.com/Nino-cunei/tfFromAtf/blob/master/docs/transcription.md\" title=\"~/github/Nino-cunei/oldassyrian/tf/0.1/afterr.tf\">afterr</a><br><a target=\"_blank\" href=\"https://github.com/Nino-cunei/tfFromAtf/blob/master/docs/transcription.md\" title=\"~/github/Nino-cunei/oldassyrian/tf/0.1/afteru.tf\">afteru</a><br><a target=\"_blank\" href=\"https://github.com/Nino-cunei/tfFromAtf/blob/master/docs/transcription.md\" title=\"~/github/Nino-cunei/oldassyrian/tf/0.1/atf.tf\">atf</a><br><a target=\"_blank\" href=\"https://github.com/Nino-cunei/tfFromAtf/blob/master/docs/transcription.md\" title=\"~/github/Nino-cunei/oldassyrian/tf/0.1/atfpost.tf\">atfpost</a><br><a target=\"_blank\" href=\"https://github.com/Nino-cunei/tfFromAtf/blob/master/docs/transcription.md\" title=\"~/github/Nino-cunei/oldassyrian/tf/0.1/atfpre.tf\">atfpre</a><br><a target=\"_blank\" href=\"https://github.com/Nino-cunei/tfFromAtf/blob/master/docs/transcription.md\" title=\"~/github/Nino-cunei/oldassyrian/tf/0.1/author.tf\">author</a><br><a target=\"_blank\" href=\"https://github.com/Nino-cunei/tfFromAtf/blob/master/docs/transcription.md\" title=\"~/github/Nino-cunei/oldassyrian/tf/0.1/col.tf\">col</a><br><a target=\"_blank\" href=\"https://github.com/Nino-cunei/tfFromAtf/blob/master/docs/transcription.md\" title=\"~/github/Nino-cunei/oldassyrian/tf/0.1/collection.tf\">collection</a><br><a target=\"_blank\" href=\"https://github.com/Nino-cunei/tfFromAtf/blob/master/docs/transcription.md\" title=\"~/github/Nino-cunei/oldassyrian/tf/0.1/comment.tf\">comment</a><br><a target=\"_blank\" href=\"https://github.com/Nino-cunei/tfFromAtf/blob/master/docs/transcription.md\" title=\"~/github/Nino-cunei/oldassyrian/tf/0.1/damage.tf\">damage</a><br><a target=\"_blank\" href=\"https://github.com/Nino-cunei/tfFromAtf/blob/master/docs/transcription.md\" title=\"~/github/Nino-cunei/oldassyrian/tf/0.1/det.tf\">det</a><br><a target=\"_blank\" href=\"https://github.com/Nino-cunei/tfFromAtf/blob/master/docs/transcription.md\" title=\"~/github/Nino-cunei/oldassyrian/tf/0.1/docnote.tf\">docnote</a><br><a target=\"_blank\" href=\"https://github.com/Nino-cunei/tfFromAtf/blob/master/docs/transcription.md\" title=\"~/github/Nino-cunei/oldassyrian/tf/0.1/docnumber.tf\">docnumber</a><br><a target=\"_blank\" href=\"https://github.com/Nino-cunei/tfFromAtf/blob/master/docs/transcription.md\" title=\"~/github/Nino-cunei/oldassyrian/tf/0.1/excavation.tf\">excavation</a><br><a target=\"_blank\" href=\"https://github.com/Nino-cunei/tfFromAtf/blob/master/docs/transcription.md\" title=\"~/github/Nino-cunei/oldassyrian/tf/0.1/excised.tf\">excised</a><br><a target=\"_blank\" href=\"https://github.com/Nino-cunei/tfFromAtf/blob/master/docs/transcription.md\" title=\"~/github/Nino-cunei/oldassyrian/tf/0.1/face.tf\">face</a><br><a target=\"_blank\" href=\"https://github.com/Nino-cunei/tfFromAtf/blob/master/docs/transcription.md\" title=\"~/github/Nino-cunei/oldassyrian/tf/0.1/flags.tf\">flags</a><br><a target=\"_blank\" href=\"https://github.com/Nino-cunei/tfFromAtf/blob/master/docs/transcription.md\" title=\"~/github/Nino-cunei/oldassyrian/tf/0.1/fraction.tf\">fraction</a><br><a target=\"_blank\" href=\"https://github.com/Nino-cunei/tfFromAtf/blob/master/docs/transcription.md\" title=\"~/github/Nino-cunei/oldassyrian/tf/0.1/genre.tf\">genre</a><br><a target=\"_blank\" href=\"https://github.com/Nino-cunei/tfFromAtf/blob/master/docs/transcription.md\" title=\"~/github/Nino-cunei/oldassyrian/tf/0.1/grapheme.tf\">grapheme</a><br><a target=\"_blank\" href=\"https://github.com/Nino-cunei/tfFromAtf/blob/master/docs/transcription.md\" title=\"~/github/Nino-cunei/oldassyrian/tf/0.1/graphemer.tf\">graphemer</a><br><a target=\"_blank\" href=\"https://github.com/Nino-cunei/tfFromAtf/blob/master/docs/transcription.md\" title=\"~/github/Nino-cunei/oldassyrian/tf/0.1/graphemeu.tf\">graphemeu</a><br><a target=\"_blank\" href=\"https://github.com/Nino-cunei/tfFromAtf/blob/master/docs/transcription.md\" title=\"~/github/Nino-cunei/oldassyrian/tf/0.1/lang.tf\">lang</a><br><a target=\"_blank\" href=\"https://github.com/Nino-cunei/tfFromAtf/blob/master/docs/transcription.md\" title=\"~/github/Nino-cunei/oldassyrian/tf/0.1/langalt.tf\">langalt</a><br><a target=\"_blank\" href=\"https://github.com/Nino-cunei/tfFromAtf/blob/master/docs/transcription.md\" title=\"~/github/Nino-cunei/oldassyrian/tf/0.1/ln.tf\">ln</a><br><a target=\"_blank\" href=\"https://github.com/Nino-cunei/tfFromAtf/blob/master/docs/transcription.md\" title=\"~/github/Nino-cunei/oldassyrian/tf/0.1/lnc.tf\">lnc</a><br><a target=\"_blank\" href=\"https://github.com/Nino-cunei/tfFromAtf/blob/master/docs/transcription.md\" title=\"~/github/Nino-cunei/oldassyrian/tf/0.1/lnno.tf\">lnno</a><br><a target=\"_blank\" href=\"https://github.com/Nino-cunei/tfFromAtf/blob/master/docs/transcription.md\" title=\"~/github/Nino-cunei/oldassyrian/tf/0.1/material.tf\">material</a><br><a target=\"_blank\" href=\"https://github.com/Nino-cunei/tfFromAtf/blob/master/docs/transcription.md\" title=\"~/github/Nino-cunei/oldassyrian/tf/0.1/missing.tf\">missing</a><br><a target=\"_blank\" href=\"https://github.com/Nino-cunei/tfFromAtf/blob/master/docs/transcription.md\" title=\"~/github/Nino-cunei/oldassyrian/tf/0.1/museumcode.tf\">museumcode</a><br><a target=\"_blank\" href=\"https://github.com/Nino-cunei/tfFromAtf/blob/master/docs/transcription.md\" title=\"~/github/Nino-cunei/oldassyrian/tf/0.1/museumname.tf\">museumname</a><br><a target=\"_blank\" href=\"https://github.com/Nino-cunei/tfFromAtf/blob/master/docs/transcription.md\" title=\"~/github/Nino-cunei/oldassyrian/tf/0.1/object.tf\">object</a><br><a target=\"_blank\" href=\"https://github.com/Nino-cunei/tfFromAtf/blob/master/docs/transcription.md\" title=\"~/github/Nino-cunei/oldassyrian/tf/0.1/operator.tf\">operator</a><br><a target=\"_blank\" href=\"https://github.com/Nino-cunei/tfFromAtf/blob/master/docs/transcription.md\" title=\"~/github/Nino-cunei/oldassyrian/tf/0.1/operatorr.tf\">operatorr</a><br><a target=\"_blank\" href=\"https://github.com/Nino-cunei/tfFromAtf/blob/master/docs/transcription.md\" title=\"~/github/Nino-cunei/oldassyrian/tf/0.1/operatoru.tf\">operatoru</a><br><a target=\"_blank\" href=\"https://github.com/Nino-cunei/tfFromAtf/blob/master/docs/transcription.md\" title=\"~/github/Nino-cunei/oldassyrian/tf/0.1/otype.tf\">otype</a><br><a target=\"_blank\" href=\"https://github.com/Nino-cunei/tfFromAtf/blob/master/docs/transcription.md\" title=\"~/github/Nino-cunei/oldassyrian/tf/0.1/period.tf\">period</a><br><a target=\"_blank\" href=\"https://github.com/Nino-cunei/tfFromAtf/blob/master/docs/transcription.md\" title=\"~/github/Nino-cunei/oldassyrian/tf/0.1/pnumber.tf\">pnumber</a><br><a target=\"_blank\" href=\"https://github.com/Nino-cunei/tfFromAtf/blob/master/docs/transcription.md\" title=\"~/github/Nino-cunei/oldassyrian/tf/0.1/primecol.tf\">primecol</a><br><a target=\"_blank\" href=\"https://github.com/Nino-cunei/tfFromAtf/blob/master/docs/transcription.md\" title=\"~/github/Nino-cunei/oldassyrian/tf/0.1/primeln.tf\">primeln</a><br><a target=\"_blank\" href=\"https://github.com/Nino-cunei/tfFromAtf/blob/master/docs/transcription.md\" title=\"~/github/Nino-cunei/oldassyrian/tf/0.1/pubdate.tf\">pubdate</a><br><a target=\"_blank\" href=\"https://github.com/Nino-cunei/tfFromAtf/blob/master/docs/transcription.md\" title=\"~/github/Nino-cunei/oldassyrian/tf/0.1/question.tf\">question</a><br><a target=\"_blank\" href=\"https://github.com/Nino-cunei/tfFromAtf/blob/master/docs/transcription.md\" title=\"~/github/Nino-cunei/oldassyrian/tf/0.1/reading.tf\">reading</a><br><a target=\"_blank\" href=\"https://github.com/Nino-cunei/tfFromAtf/blob/master/docs/transcription.md\" title=\"~/github/Nino-cunei/oldassyrian/tf/0.1/readingr.tf\">readingr</a><br><a target=\"_blank\" href=\"https://github.com/Nino-cunei/tfFromAtf/blob/master/docs/transcription.md\" title=\"~/github/Nino-cunei/oldassyrian/tf/0.1/readingu.tf\">readingu</a><br><a target=\"_blank\" href=\"https://github.com/Nino-cunei/tfFromAtf/blob/master/docs/transcription.md\" title=\"~/github/Nino-cunei/oldassyrian/tf/0.1/remarkable.tf\">remarkable</a><br><a target=\"_blank\" href=\"https://github.com/Nino-cunei/tfFromAtf/blob/master/docs/transcription.md\" title=\"~/github/Nino-cunei/oldassyrian/tf/0.1/remarks.tf\">remarks</a><br><a target=\"_blank\" href=\"https://github.com/Nino-cunei/tfFromAtf/blob/master/docs/transcription.md\" title=\"~/github/Nino-cunei/oldassyrian/tf/0.1/repeat.tf\">repeat</a><br><a target=\"_blank\" href=\"https://github.com/Nino-cunei/tfFromAtf/blob/master/docs/transcription.md\" title=\"~/github/Nino-cunei/oldassyrian/tf/0.1/srcLn.tf\">srcLn</a><br><a target=\"_blank\" href=\"https://github.com/Nino-cunei/tfFromAtf/blob/master/docs/transcription.md\" title=\"~/github/Nino-cunei/oldassyrian/tf/0.1/srcLnNum.tf\">srcLnNum</a><br><a target=\"_blank\" href=\"https://github.com/Nino-cunei/tfFromAtf/blob/master/docs/transcription.md\" title=\"~/github/Nino-cunei/oldassyrian/tf/0.1/srcfile.tf\">srcfile</a><br><a target=\"_blank\" href=\"https://github.com/Nino-cunei/tfFromAtf/blob/master/docs/transcription.md\" title=\"~/github/Nino-cunei/oldassyrian/tf/0.1/subgenre.tf\">subgenre</a><br><a target=\"_blank\" href=\"https://github.com/Nino-cunei/tfFromAtf/blob/master/docs/transcription.md\" title=\"~/github/Nino-cunei/oldassyrian/tf/0.1/supplied.tf\">supplied</a><br><a target=\"_blank\" href=\"https://github.com/Nino-cunei/tfFromAtf/blob/master/docs/transcription.md\" title=\"~/github/Nino-cunei/oldassyrian/tf/0.1/sym.tf\">sym</a><br><a target=\"_blank\" href=\"https://github.com/Nino-cunei/tfFromAtf/blob/master/docs/transcription.md\" title=\"~/github/Nino-cunei/oldassyrian/tf/0.1/symr.tf\">symr</a><br><a target=\"_blank\" href=\"https://github.com/Nino-cunei/tfFromAtf/blob/master/docs/transcription.md\" title=\"~/github/Nino-cunei/oldassyrian/tf/0.1/symu.tf\">symu</a><br><a target=\"_blank\" href=\"https://github.com/Nino-cunei/tfFromAtf/blob/master/docs/transcription.md\" title=\"~/github/Nino-cunei/oldassyrian/tf/0.1/trans.tf\">trans</a><br><a target=\"_blank\" href=\"https://github.com/Nino-cunei/tfFromAtf/blob/master/docs/transcription.md\" title=\"~/github/Nino-cunei/oldassyrian/tf/0.1/transcriber.tf\">transcriber</a><br><a target=\"_blank\" href=\"https://github.com/Nino-cunei/tfFromAtf/blob/master/docs/transcription.md\" title=\"~/github/Nino-cunei/oldassyrian/tf/0.1/translation@en.tf\">translation@ll</a><br><a target=\"_blank\" href=\"https://github.com/Nino-cunei/tfFromAtf/blob/master/docs/transcription.md\" title=\"~/github/Nino-cunei/oldassyrian/tf/0.1/type.tf\">type</a><br><a target=\"_blank\" href=\"https://github.com/Nino-cunei/tfFromAtf/blob/master/docs/transcription.md\" title=\"~/github/Nino-cunei/oldassyrian/tf/0.1/uncertain.tf\">uncertain</a><br><a target=\"_blank\" href=\"https://github.com/Nino-cunei/tfFromAtf/blob/master/docs/transcription.md\" title=\"~/github/Nino-cunei/oldassyrian/tf/0.1/version.tf\">version</a><br><a target=\"_blank\" href=\"https://github.com/Nino-cunei/tfFromAtf/blob/master/docs/transcription.md\" title=\"~/github/Nino-cunei/oldassyrian/tf/0.1/volume.tf\">volume</a><br><b><i><a target=\"_blank\" href=\"https://github.com/Nino-cunei/tfFromAtf/blob/master/docs/transcription.md\" title=\"~/github/Nino-cunei/oldassyrian/tf/0.1/oslots.tf\">oslots</a></i></b><br></details>"
      ],
      "text/plain": [
       "<IPython.core.display.HTML object>"
      ]
     },
     "metadata": {},
     "output_type": "display_data"
    },
    {
     "data": {
      "text/html": [
       "<style>tr.tf.ltr, td.tf.ltr, th.tf.ltr { text-align: left ! important;}\n",
       "tr.tf.rtl, td.tf.rtl, th.tf.rtl { text-align: right ! important;}\n",
       "@font-face {\n",
       "  font-family: \"Gentium Plus\";\n",
       "  src: local('Gentium Plus'), local('GentiumPlus'),\n",
       "    url('/server/static/fonts/GentiumPlus-R.woff') format('woff'),\n",
       "    url('https://github.com/annotation/text-fabric/blob/master/tf/server/static/fonts/GentiumPlus-R.woff?raw=true') format('woff');\n",
       "}\n",
       "\n",
       "@font-face {\n",
       "  font-family: \"Ezra SIL\";\n",
       "  src: local('Ezra SIL'), local('EzraSIL'),\n",
       "    url('/server/static/fonts/SILEOT.woff') format('woff'),\n",
       "    url('https://github.com/annotation/text-fabric/blob/master/tf/server/static/fonts/SILEOT.woff?raw=true') format('woff');\n",
       "}\n",
       "\n",
       "@font-face {\n",
       "  font-family: \"SBL Hebrew\";\n",
       "  src: local('SBL Hebrew'), local('SBLHebrew'),\n",
       "    url('/server/static/fonts/SBL_Hbrw.woff') format('woff'),\n",
       "    url('https://github.com/annotation/text-fabric/blob/master/tf/server/static/fonts/SBL_Hbrw.woff?raw=true') format('woff');\n",
       "}\n",
       "\n",
       "@font-face {\n",
       "  font-family: \"Estrangelo Edessa\";\n",
       "  src: local('Estrangelo Edessa'), local('EstrangeloEdessa');\n",
       "    url('/server/static/fonts/SyrCOMEdessa.woff') format('woff'),\n",
       "    url('https://github.com/annotation/text-fabric/blob/master/tf/server/static/fonts/SyrCOMEdessa.woff?raw=true') format('woff');\n",
       "}\n",
       "\n",
       "@font-face {\n",
       "  font-family: AmiriQuran;\n",
       "  font-style: normal;\n",
       "  font-weight: 400;\n",
       "  src: local('Amiri Quran'), local('AmiriQuran'),\n",
       "    url('/server/static/fonts/AmiriQuran.woff') format('woff'),\n",
       "    url('https://github.com/annotation/text-fabric/blob/master/tf/server/static/fonts/AmiriQuran.woff?raw=true') format('woff');\n",
       "}\n",
       "\n",
       "@font-face {\n",
       "  font-family: AmiriQuranColored;\n",
       "  font-style: normal;\n",
       "  font-weight: 400;\n",
       "  src: local('Amiri Quran Colored'), local('AmiriQuranColored'),\n",
       "    url('/server/static/fonts/AmiriQuranColored.woff') format('woff'),\n",
       "    url('https://github.com/annotation/text-fabric/blob/master/tf/server/static/fonts/AmiriQuranColored.woff?raw=true') format('woff');\n",
       "}\n",
       "\n",
       "@font-face {\n",
       "  font-family: \"Santakku\";\n",
       "  src: local('Santakku'),\n",
       "    url('/server/static/fonts/Santakku.woff') format('woff'),\n",
       "    url('https://github.com/annotation/text-fabric/blob/master/tf/server/static/fonts/Santakku.woff?raw=true') format('woff');\n",
       "}\n",
       "\n",
       "@font-face {\n",
       "  font-family: \"SantakkuM\";\n",
       "  src: local('SantakkuM'),\n",
       "    url('/server/static/fonts/SantakkuM.woff') format('woff'),\n",
       "    url('https://github.com/annotation/text-fabric/blob/master/tf/server/static/fonts/SantakkuM.woff?raw=true') format('woff');\n",
       "}\n",
       "/* bypassing some classical notebook settings */\n",
       "div#notebook {\n",
       "  line-height: unset;\n",
       "}\n",
       "/* neutral text */\n",
       ".txtn,.txtn a:visited,.txtn a:link {\n",
       "    font-family: sans-serif;\n",
       "    font-size: medium;\n",
       "    direction: ltr;\n",
       "    text-decoration: none;\n",
       "    color: var(--text-color);\n",
       "}\n",
       "/* transcription text */\n",
       ".txtt,.txtt a:visited,.txtt a:link {\n",
       "    font-family: monospace;\n",
       "    font-size: medium;\n",
       "    direction: ltr;\n",
       "    text-decoration: none;\n",
       "    color: var(--text-color);\n",
       "}\n",
       "/* source text */\n",
       ".txto,.txto a:visited,.txto a:link {\n",
       "    font-family: serif;\n",
       "    font-size: medium;\n",
       "    direction: ltr;\n",
       "    text-decoration: none;\n",
       "    color: var(--text-color);\n",
       "}\n",
       "/* phonetic text */\n",
       ".txtp,.txtp a:visited,.txtp a:link {\n",
       "    font-family: Gentium, sans-serif;\n",
       "    font-size: medium;\n",
       "    direction: ltr;\n",
       "    text-decoration: none;\n",
       "    color: var(--text-color);\n",
       "}\n",
       "/* original script text */\n",
       ".txtu,.txtu a:visited,.txtu a:link {\n",
       "    font-family: Gentium, sans-serif;\n",
       "    font-size: medium;\n",
       "    text-decoration: none;\n",
       "    color: var(--text-color);\n",
       "}\n",
       "/* hebrew */\n",
       ".txtu.hbo,.lex.hbo {\n",
       "    font-family: \"Ezra SIL\", \"SBL Hebrew\", sans-serif;\n",
       "    font-size: large;\n",
       "    direction: rtl ! important;\n",
       "    unicode-bidi: embed;\n",
       "}\n",
       "/* syriac */\n",
       ".txtu.syc,.lex.syc {\n",
       "    font-family: \"Estrangelo Edessa\", sans-serif;\n",
       "    font-size: medium;\n",
       "    direction: rtl ! important;\n",
       "    unicode-bidi: embed;\n",
       "}\n",
       "/* neo aramaic */\n",
       ".txtu.cld,.lex.cld {\n",
       "    font-family: \"CharisSIL-R\", sans-serif;\n",
       "    font-size: medium;\n",
       "    direction: ltr ! important;\n",
       "    unicode-bidi: embed;\n",
       "}\n",
       "/* standard arabic */\n",
       ".txtu.ara,.lex.ara {\n",
       "    font-family: \"AmiriQuran\", sans-serif;\n",
       "    font-size: large;\n",
       "    direction: rtl ! important;\n",
       "    unicode-bidi: embed;\n",
       "}\n",
       "/* cuneiform */\n",
       ".txtu.akk,.lex.akk {\n",
       "    font-family: Santakku, sans-serif;\n",
       "    font-size: large;\n",
       "    direction: ltr ! important;\n",
       "    unicode-bidi: embed;\n",
       "}\n",
       "/* greek */\n",
       ".txtu.grc,.lex.grc a:link {\n",
       "    font-family: Gentium, sans-serif;\n",
       "    font-size: medium;\n",
       "    direction: ltr ! important;\n",
       "    unicode-bidi: embed;\n",
       "}\n",
       "a:hover {\n",
       "    text-decoration: underline | important;\n",
       "    color: #0000ff | important;\n",
       "}\n",
       ".ltr {\n",
       "    direction: ltr ! important;\n",
       "}\n",
       ".rtl {\n",
       "    direction: rtl ! important;\n",
       "}\n",
       ".features {\n",
       "    font-family: monospace;\n",
       "    font-size: medium;\n",
       "    font-weight: bold;\n",
       "    color: var(--features);\n",
       "    display: flex;\n",
       "    flex-flow: column nowrap;\n",
       "    justify-content: flex-start;\n",
       "    align-items: flex-start;\n",
       "    align-content: flex-start;\n",
       "    padding: 0.1rem;\n",
       "    margin: 0.1rem;\n",
       "    direction: ltr;\n",
       "    border: var(--meta-width) solid var(--meta-color);\n",
       "    border-radius: var(--meta-width);\n",
       "}\n",
       ".features div,.features span {\n",
       "    padding: 0;\n",
       "    margin: -0.1rem 0;\n",
       "}\n",
       ".features .f {\n",
       "    font-family: sans-serif;\n",
       "    font-size: small;\n",
       "    font-weight: normal;\n",
       "    color: #5555bb;\n",
       "}\n",
       ".features .xft {\n",
       "  color: #000000;\n",
       "  background-color: #eeeeee;\n",
       "  font-size: medium;\n",
       "  margin: 0.1rem 0rem;\n",
       "}\n",
       ".features .xft .f {\n",
       "  color: #000000;\n",
       "  background-color: #eeeeee;\n",
       "  font-size: small;\n",
       "  font-weight: normal;\n",
       "}\n",
       ".section {\n",
       "    font-family: sans-serif;\n",
       "    font-size: small;\n",
       "    font-weight: bold;\n",
       "    color: var(--section);\n",
       "    unicode-bidi: embed;\n",
       "    text-align: start;\n",
       "}\n",
       ".structure {\n",
       "    font-family: sans-serif;\n",
       "    font-size: small;\n",
       "    font-weight: bold;\n",
       "    color: var(--structure);\n",
       "    unicode-bidi: embed;\n",
       "    text-align: start;\n",
       "}\n",
       ".comments {\n",
       "    display: flex;\n",
       "    justify-content: flex-start;\n",
       "    align-items: flex-start;\n",
       "    align-content: flex-start;\n",
       "    flex-flow: column nowrap;\n",
       "}\n",
       ".nd, a:link.nd {\n",
       "    font-family: sans-serif;\n",
       "    font-size: small;\n",
       "    color: var(--node);\n",
       "    vertical-align: super;\n",
       "    direction: ltr ! important;\n",
       "    unicode-bidi: embed;\n",
       "}\n",
       ".lex {\n",
       "  color: var(--lex-color);;\n",
       "}\n",
       ".children,.children.ltr {\n",
       "    display: flex;\n",
       "    border: 0;\n",
       "    background-color: #ffffff;\n",
       "    justify-content: flex-start;\n",
       "    align-items: flex-start;\n",
       "    align-content: flex-start;\n",
       "}\n",
       ".children.stretch {\n",
       "    align-items: stretch;\n",
       "}\n",
       ".children.hor {\n",
       "    flex-flow: row nowrap;\n",
       "}\n",
       ".children.hor.wrap {\n",
       "    flex-flow: row wrap;\n",
       "}\n",
       ".children.ver {\n",
       "    flex-flow: column nowrap;\n",
       "}\n",
       ".children.ver.wrap {\n",
       "    flex-flow: column wrap;\n",
       "}\n",
       ".contnr {\n",
       "    width: fit-content;\n",
       "    display: flex;\n",
       "    justify-content: flex-start;\n",
       "    align-items: flex-start;\n",
       "    align-content: flex-start;\n",
       "    flex-flow: column nowrap;\n",
       "    background: #ffffff none repeat scroll 0 0;\n",
       "    padding:  0.5rem 0.1rem 0.1rem 0.1rem;\n",
       "    margin: 0.8rem 0.1rem 0.1rem 0.1rem;\n",
       "    border-style: solid;\n",
       "    font-size: small;\n",
       "}\n",
       ".contnr.trm {\n",
       "    background-attachment: local;\n",
       "}\n",
       ".contnr.cnul {\n",
       "    padding:  0;\n",
       "    margin: 0;\n",
       "    border-style: solid;\n",
       "    font-size: xx-small;\n",
       "}\n",
       ".contnr.cnul,.lbl.cnul {\n",
       "    border-color: var(--border-color-nul);\n",
       "    border-width: var(--border-width-nul);\n",
       "    border-radius: var(--border-width-nul);\n",
       "}\n",
       ".contnr.c0,.lbl.c0 {\n",
       "    border-color: var(--border-color0);\n",
       "    border-width: var(--border-width0);\n",
       "    border-radius: var(--border-width0);\n",
       "}\n",
       ".contnr.c1,.lbl.c1 {\n",
       "    border-color: var(--border-color1);\n",
       "    border-width: var(--border-width1);\n",
       "    border-radius: var(--border-width1);\n",
       "}\n",
       ".contnr.c2,.lbl.c2 {\n",
       "    border-color: var(--border-color2);\n",
       "    border-width: var(--border-width2);\n",
       "    border-radius: var(--border-width2);\n",
       "}\n",
       ".contnr.c3,.lbl.c3 {\n",
       "    border-color: var(--border-color3);\n",
       "    border-width: var(--border-width3);\n",
       "    border-radius: var(--border-width3);\n",
       "}\n",
       ".contnr.c4,.lbl.c4 {\n",
       "    border-color: var(--border-color4);\n",
       "    border-width: var(--border-width4);\n",
       "    border-radius: var(--border-width4);\n",
       "}\n",
       "span.plain {\n",
       "    display: inline-block;\n",
       "    white-space: pre-wrap;\n",
       "}\n",
       ".plain {\n",
       "    background-color: #ffffff;\n",
       "}\n",
       ".plain.l,.contnr.l,.contnr.l>.lbl {\n",
       "    border-left-style: dotted\n",
       "}\n",
       ".plain.r,.contnr.r,.contnr.r>.lbl {\n",
       "    border-right-style: dotted\n",
       "}\n",
       ".plain.lno,.contnr.lno,.contnr.lno>.lbl {\n",
       "    border-left-style: none\n",
       "}\n",
       ".plain.rno,.contnr.rno,.contnr.rno>.lbl {\n",
       "    border-right-style: none\n",
       "}\n",
       ".plain.l {\n",
       "    padding-left: 0.2rem;\n",
       "    margin-left: 0.1rem;\n",
       "    border-width: var(--border-width-plain);\n",
       "}\n",
       ".plain.r {\n",
       "    padding-right: 0.2rem;\n",
       "    margin-right: 0.1rem;\n",
       "    border-width: var(--border-width-plain);\n",
       "}\n",
       ".lbl {\n",
       "    font-family: monospace;\n",
       "    margin-top: -1.2rem;\n",
       "    margin-left: 1rem;\n",
       "    background: #ffffff none repeat scroll 0 0;\n",
       "    padding: 0 0.3rem;\n",
       "    border-style: solid;\n",
       "    display: block;\n",
       "    color: var(--label)\n",
       "}\n",
       ".lbl.trm {\n",
       "    background-attachment: local;\n",
       "    margin-top: 0.1rem;\n",
       "    margin-left: 0.1rem;\n",
       "    padding: 0.1rem 0.1rem;\n",
       "    border-style: none;\n",
       "}\n",
       ".lbl.cnul {\n",
       "    font-size: xx-small;\n",
       "}\n",
       ".lbl.c0 {\n",
       "    font-size: small;\n",
       "}\n",
       ".lbl.c1 {\n",
       "    font-size: small;\n",
       "}\n",
       ".lbl.c2 {\n",
       "    font-size: medium;\n",
       "}\n",
       ".lbl.c3 {\n",
       "    font-size: medium;\n",
       "}\n",
       ".lbl.c4 {\n",
       "    font-size: large;\n",
       "}\n",
       ".occs, a:link.occs {\n",
       "    font-size: small;\n",
       "}\n",
       "\n",
       "/* PROVENANCE */\n",
       "\n",
       "div.prov {\n",
       "\tmargin: 2rem;\n",
       "\tpadding: 1rem;\n",
       "\tborder: 0.1rem solid var(--fog-rim);\n",
       "}\n",
       "div.pline {\n",
       "\tdisplay: flex;\n",
       "\tflex-flow: row nowrap;\n",
       "\tjustify-content: stretch;\n",
       "\talign-items: baseline;\n",
       "}\n",
       "div.p2line {\n",
       "\tmargin-left: 2em;\n",
       "\tdisplay: flex;\n",
       "\tflex-flow: row nowrap;\n",
       "\tjustify-content: stretch;\n",
       "\talign-items: baseline;\n",
       "}\n",
       "div.psline {\n",
       "\tdisplay: flex;\n",
       "\tflex-flow: row nowrap;\n",
       "\tjustify-content: stretch;\n",
       "\talign-items: baseline;\n",
       "\tbackground-color: var(--gold-mist-back);\n",
       "}\n",
       "div.pname {\n",
       "\tflex: 0 0 5rem;\n",
       "\tfont-weight: bold;\n",
       "}\n",
       "div.pval {\n",
       "    flex: 1 1 auto;\n",
       "}\n",
       "\n",
       ":root {\n",
       "\t--node:               hsla(120, 100%,  20%, 1.0  );\n",
       "\t--label:              hsla(  0, 100%,  20%, 1.0  );\n",
       "\t--section:            hsla(  0, 100%,  25%, 1.0  );\n",
       "\t--structure:          hsla(120, 100%,  25%, 1.0  );\n",
       "\t--features:           hsla(  0,   0%,  30%, 1.0  );\n",
       "  --text-color:         hsla( 60,  80%,  10%, 1.0  );\n",
       "  --lex-color:          hsla(220,  90%,  60%, 1.0  );\n",
       "  --meta-color:         hsla(  0,   0%,  90%, 0.7  );\n",
       "  --meta-width:         0.15rem;\n",
       "  --border-color-nul:   hsla(  0,   0%,  90%, 0.5  );\n",
       "  --border-color0:      hsla(  0,   0%,  90%, 0.9  );\n",
       "  --border-color1:      hsla(  0,   0%,  80%, 0.9  );\n",
       "  --border-color2:      hsla(  0,   0%,  70%, 0.9  );\n",
       "  --border-color3:      hsla(  0,   0%,  80%, 0.8  );\n",
       "  --border-color4:      hsla(  0,   0%,  60%, 0.9  );\n",
       "  --border-width-nul:   0.1rem;\n",
       "  --border-width0:      0.1rem;\n",
       "  --border-width1:      0.15rem;\n",
       "  --border-width2:      0.2rem;\n",
       "  --border-width3:      0.3rem;\n",
       "  --border-width4:      0.25rem;\n",
       "  --border-width-plain: 0.1rem;\n",
       "}\n",
       ".hl {\n",
       "  background-color: var(--hl-strong);\n",
       "}\n",
       "span.hl {\n",
       "\tbackground-color: var(--hl-strong);\n",
       "\tborder-width: 0;\n",
       "\tborder-radius: 0.1rem;\n",
       "\tborder-style: solid;\n",
       "}\n",
       "div.contnr.hl,div.lbl.hl {\n",
       "  background-color: var(--hl-strong);\n",
       "}\n",
       "div.contnr.hl {\n",
       "  border-color: var(--hl-rim) ! important;\n",
       "\tborder-width: 0.2rem ! important;\n",
       "}\n",
       "\n",
       "span.hlbx {\n",
       "\tborder-color: var(--hl-rim);\n",
       "\tborder-width: 0.2rem ! important;\n",
       "\tborder-style: solid;\n",
       "\tborder-radius: 0.3rem;\n",
       "  padding: 0.2rem;\n",
       "  margin: 0.2rem;\n",
       "}\n",
       "\n",
       "span.plain {\n",
       "  display: inline-block;\n",
       "  white-space: pre-wrap;\n",
       "}\n",
       "\n",
       ":root {\n",
       "\t--hl-strong:        hsla( 60, 100%,  70%, 0.9  );\n",
       "\t--hl-rim:           hsla( 55,  80%,  50%, 1.0  );\n",
       "}\n",
       ".pnum {\n",
       "    font-family: sans-serif;\n",
       "    font-size: small;\n",
       "    font-weight: bold;\n",
       "    color: #444444;\n",
       "}\n",
       ".op {\n",
       "    padding:  0.5em 0.1em 0.1em 0.1em;\n",
       "    margin: 0.8em 0.1em 0.1em 0.1em;\n",
       "    font-family: monospace;\n",
       "    font-size: x-large;\n",
       "    font-weight: bold;\n",
       "}\n",
       ".period {\n",
       "    font-family: monospace;\n",
       "    font-size: medium;\n",
       "    font-weight: bold;\n",
       "    color: #0000bb;\n",
       "}\n",
       ".comment {\n",
       "    color: #7777dd;\n",
       "    font-family: monospace;\n",
       "    font-size: small;\n",
       "}\n",
       ".operator {\n",
       "    color: #ff77ff;\n",
       "    font-size: large;\n",
       "}\n",
       "/* LANGUAGE: superscript and subscript */\n",
       "\n",
       "/* cluster */\n",
       ".det {\n",
       "    vertical-align: super;\n",
       "}\n",
       "/* cluster */\n",
       ".langalt {\n",
       "    vertical-align: sub;\n",
       "}\n",
       "/* REDACTIONAL: line over or under  */\n",
       "\n",
       "/* flag */\n",
       ".collated {\n",
       "    font-weight: bold;\n",
       "    text-decoration: underline;\n",
       "}\n",
       "/* cluster */\n",
       ".excised {\n",
       "    color: #dd0000;\n",
       "    text-decoration: line-through;\n",
       "}\n",
       "/* cluster */\n",
       ".supplied {\n",
       "    color: #0000ff;\n",
       "    text-decoration: overline;\n",
       "}\n",
       "/* flag */\n",
       ".remarkable {\n",
       "    font-weight: bold;\n",
       "    text-decoration: overline;\n",
       "}\n",
       "\n",
       "/* UNSURE: italic*/\n",
       "\n",
       "/* cluster */\n",
       ".uncertain {\n",
       "    font-style: italic\n",
       "}\n",
       "/* flag */\n",
       ".question {\n",
       "    font-weight: bold;\n",
       "    font-style: italic\n",
       "}\n",
       "\n",
       "/* BROKEN: text-shadow */\n",
       "\n",
       "/* cluster */\n",
       ".missing {\n",
       "    color: #999999;\n",
       "    text-shadow: #bbbbbb 1px 1px;\n",
       "}\n",
       "/* flag */\n",
       ".damage {\n",
       "    font-weight: bold;\n",
       "    color: #999999;\n",
       "    text-shadow: #bbbbbb 1px 1px;\n",
       "}\n",
       ".empty {\n",
       "  color: #ff0000;\n",
       "}\n",
       "\n",
       "</style>"
      ],
      "text/plain": [
       "<IPython.core.display.HTML object>"
      ]
     },
     "metadata": {},
     "output_type": "display_data"
    },
    {
     "data": {
      "text/html": [
       "<div><b>Text-Fabric API:</b> names <a target=\"_blank\" href=\"https://annotation.github.io/text-fabric/cheatsheet.html\" title=\"doc\">N F E L T S C TF</a> directly usable</div><hr>"
      ],
      "text/plain": [
       "<IPython.core.display.HTML object>"
      ]
     },
     "metadata": {},
     "output_type": "display_data"
    }
   ],
   "source": [
    "A = use('oldassyrian:clone', hoist=globals(), checkout=\"clone\",\n",
    "    mod='Nino-cunei/oldassyrian/parallels/tf:clone',\n",
    ")"
   ]
  },
  {
   "cell_type": "markdown",
   "metadata": {},
   "source": [
    "Lo and behold: you see the parallels module listed with one feature: `sim`. It is in *italics*, which indicates\n",
    "it is an edge feature.\n",
    "\n",
    "We just do a quick check here and in another notebook we study parallels a bit more, using the feature `sim`.\n",
    "\n",
    "We count how many similar pairs their are, and how many 100% similar pairs there are."
   ]
  },
  {
   "cell_type": "code",
   "execution_count": 33,
   "metadata": {},
   "outputs": [
    {
     "name": "stdout",
     "output_type": "stream",
     "text": [
      "  1.39s 522468 results\n"
     ]
    }
   ],
   "source": [
    "query = '''\n",
    "line\n",
    "-sim> line\n",
    "'''\n",
    "results = A.search(query)"
   ]
  },
  {
   "cell_type": "code",
   "execution_count": 34,
   "metadata": {},
   "outputs": [
    {
     "name": "stdout",
     "output_type": "stream",
     "text": [
      "  1.36s 518204 results\n"
     ]
    }
   ],
   "source": [
    "query = '''\n",
    "line\n",
    "-sim=100> line\n",
    "'''\n",
    "results = A.search(query)"
   ]
  },
  {
   "cell_type": "markdown",
   "metadata": {},
   "source": [
    "Remarkably, most of the pairs are 100 percent similar. Let's show just a few:"
   ]
  },
  {
   "cell_type": "code",
   "execution_count": 35,
   "metadata": {},
   "outputs": [
    {
     "data": {
      "text/html": [
       "<table><tr class=\"tf ltr\"><th class=\"tf ltr\">n</th><th class=\"tf ltr\">p</th><th class=\"tf ltr\">line</th><th class=\"tf\">line</th></tr>\n",
       "<tr class=\"tf ltr\"><td class=\"tf ltr\">1</td><td class=\"tf ltr\"><span class=\"section ltr\"><a target=\"_blank\" href=\"https://cdli.ucla.edu/search/search_results.php?SearchMode=Text&amp;ObjectID=P361245\" title=\"Show this document on CDLI\" sec=\"P361245 obverse:1\">P361245 obverse:1</a></span></td><td class=\"tf ltr\"><span class=\"\"><span class=\"plain   \" ><span class=\"nd\">865347</span><span class=\"txto\">7(disz) </span><span class=\"txto\">7(disz) </span><span class=\"txto\">1(u) </span><span class=\"txto\">5(disz) </span><span class=\"txto\">7(disz) </span><span class=\"txto\">7(disz)# </span><span class=\"txto\">7(disz)# </span><span class=\"txto\">7(disz)#</span></span></span></td><td class=\"tf ltr\"><span class=\"\"><span class=\"plain   \" ><span class=\"nd\">865350</span><span class=\"txto\">1/2(disz) </span><span class=\"txto\">1/6(disz) </span><span class=\"txto\">1(u) </span><span class=\"txto\">5(disz) </span><span class=\"txto\">7(disz) </span><span class=\"txto\">7(disz) </span><span class=\"txto\">7(disz)</span></span></span></td></tr>\n",
       "<tr class=\"tf ltr\"><td class=\"tf ltr\">2</td><td class=\"tf ltr\"><span class=\"section ltr\"><a target=\"_blank\" href=\"https://cdli.ucla.edu/search/search_results.php?SearchMode=Text&amp;ObjectID=P361245\" title=\"Show this document on CDLI\" sec=\"P361245 obverse:1\">P361245 obverse:1</a></span></td><td class=\"tf ltr\"><span class=\"\"><span class=\"plain   \" ><span class=\"nd\">865347</span><span class=\"txto\">7(disz) </span><span class=\"txto\">7(disz) </span><span class=\"txto\">1(u) </span><span class=\"txto\">5(disz) </span><span class=\"txto\">7(disz) </span><span class=\"txto\">7(disz)# </span><span class=\"txto\">7(disz)# </span><span class=\"txto\">7(disz)#</span></span></span></td><td class=\"tf ltr\"><span class=\"\"><span class=\"plain   \" ><span class=\"nd\">890013</span><span class=\"txto\">2(u) </span><span class=\"txto\">1(disz) </span><span class=\"txto\">x </span><span class=\"txto\">[...]</span></span></span></td></tr>\n",
       "<tr class=\"tf ltr\"><td class=\"tf ltr\">3</td><td class=\"tf ltr\"><span class=\"section ltr\"><a target=\"_blank\" href=\"https://cdli.ucla.edu/search/search_results.php?SearchMode=Text&amp;ObjectID=P361245\" title=\"Show this document on CDLI\" sec=\"P361245 obverse:1\">P361245 obverse:1</a></span></td><td class=\"tf ltr\"><span class=\"\"><span class=\"plain   \" ><span class=\"nd\">865347</span><span class=\"txto\">7(disz) </span><span class=\"txto\">7(disz) </span><span class=\"txto\">1(u) </span><span class=\"txto\">5(disz) </span><span class=\"txto\">7(disz) </span><span class=\"txto\">7(disz)# </span><span class=\"txto\">7(disz)# </span><span class=\"txto\">7(disz)#</span></span></span></td><td class=\"tf ltr\"><span class=\"\"><span class=\"plain   \" ><span class=\"nd\">892244</span><span class=\"txto\">[x] </span><span class=\"txto\">x </span><span class=\"txto\">1(u) </span><span class=\"txto\">2(disz) </span><span class=\"txto\">x </span><span class=\"txto\">[...]</span></span></span></td></tr>\n",
       "<tr class=\"tf ltr\"><td class=\"tf ltr\">4</td><td class=\"tf ltr\"><span class=\"section ltr\"><a target=\"_blank\" href=\"https://cdli.ucla.edu/search/search_results.php?SearchMode=Text&amp;ObjectID=P361245\" title=\"Show this document on CDLI\" sec=\"P361245 obverse:1\">P361245 obverse:1</a></span></td><td class=\"tf ltr\"><span class=\"\"><span class=\"plain   \" ><span class=\"nd\">865347</span><span class=\"txto\">7(disz) </span><span class=\"txto\">7(disz) </span><span class=\"txto\">1(u) </span><span class=\"txto\">5(disz) </span><span class=\"txto\">7(disz) </span><span class=\"txto\">7(disz)# </span><span class=\"txto\">7(disz)# </span><span class=\"txto\">7(disz)#</span></span></span></td><td class=\"tf ltr\"><span class=\"\"><span class=\"plain   \" ><span class=\"nd\">892445</span><span class=\"txto\">1(u) </span><span class=\"txto\">5(disz) </span><span class=\"txto\">x </span><span class=\"txto\">[...]</span></span></span></td></tr>\n",
       "<tr class=\"tf ltr\"><td class=\"tf ltr\">5</td><td class=\"tf ltr\"><span class=\"section ltr\"><a target=\"_blank\" href=\"https://cdli.ucla.edu/search/search_results.php?SearchMode=Text&amp;ObjectID=P361245\" title=\"Show this document on CDLI\" sec=\"P361245 obverse:1\">P361245 obverse:1</a></span></td><td class=\"tf ltr\"><span class=\"\"><span class=\"plain   \" ><span class=\"nd\">865347</span><span class=\"txto\">7(disz) </span><span class=\"txto\">7(disz) </span><span class=\"txto\">1(u) </span><span class=\"txto\">5(disz) </span><span class=\"txto\">7(disz) </span><span class=\"txto\">7(disz)# </span><span class=\"txto\">7(disz)# </span><span class=\"txto\">7(disz)#</span></span></span></td><td class=\"tf ltr\"><span class=\"\"><span class=\"plain   \" ><span class=\"nd\">905701</span><span class=\"txto\">1(u) </span><span class=\"txto\">5(disz) </span><span class=\"txto\">5(disz) </span><span class=\"txto\">2(disz)</span></span></span></td></tr>\n",
       "<tr class=\"tf ltr\"><td class=\"tf ltr\">6</td><td class=\"tf ltr\"><span class=\"section ltr\"><a target=\"_blank\" href=\"https://cdli.ucla.edu/search/search_results.php?SearchMode=Text&amp;ObjectID=P361245\" title=\"Show this document on CDLI\" sec=\"P361245 obverse:1\">P361245 obverse:1</a></span></td><td class=\"tf ltr\"><span class=\"\"><span class=\"plain   \" ><span class=\"nd\">865347</span><span class=\"txto\">7(disz) </span><span class=\"txto\">7(disz) </span><span class=\"txto\">1(u) </span><span class=\"txto\">5(disz) </span><span class=\"txto\">7(disz) </span><span class=\"txto\">7(disz)# </span><span class=\"txto\">7(disz)# </span><span class=\"txto\">7(disz)#</span></span></span></td><td class=\"tf ltr\"><span class=\"\"><span class=\"plain   \" ><span class=\"nd\">905704</span><span class=\"txto\">1(u) </span><span class=\"txto\">7(disz) </span><span class=\"txto\">1/2(disz) </span><span class=\"txto\">3(disz)</span></span></span></td></tr>\n",
       "<tr class=\"tf ltr\"><td class=\"tf ltr\">7</td><td class=\"tf ltr\"><span class=\"section ltr\"><a target=\"_blank\" href=\"https://cdli.ucla.edu/search/search_results.php?SearchMode=Text&amp;ObjectID=P361245\" title=\"Show this document on CDLI\" sec=\"P361245 obverse:1\">P361245 obverse:1</a></span></td><td class=\"tf ltr\"><span class=\"\"><span class=\"plain   \" ><span class=\"nd\">865347</span><span class=\"txto\">7(disz) </span><span class=\"txto\">7(disz) </span><span class=\"txto\">1(u) </span><span class=\"txto\">5(disz) </span><span class=\"txto\">7(disz) </span><span class=\"txto\">7(disz)# </span><span class=\"txto\">7(disz)# </span><span class=\"txto\">7(disz)#</span></span></span></td><td class=\"tf ltr\"><span class=\"\"><span class=\"plain   \" ><span class=\"nd\">913546</span><span class=\"txto\">1(u) </span><span class=\"txto\">5(disz) </span><span class=\"txto\">7(disz) </span><span class=\"txto\">7(disz) </span><span class=\"txto\">7(disz) </span><span class=\"txto\">7(disz) </span><span class=\"txto\">x </span><span class=\"txto\">x</span></span></span></td></tr>\n",
       "<tr class=\"tf ltr\"><td class=\"tf ltr\">8</td><td class=\"tf ltr\"><span class=\"section ltr\"><a target=\"_blank\" href=\"https://cdli.ucla.edu/search/search_results.php?SearchMode=Text&amp;ObjectID=P361245\" title=\"Show this document on CDLI\" sec=\"P361245 obverse:1\">P361245 obverse:1</a></span></td><td class=\"tf ltr\"><span class=\"\"><span class=\"plain   \" ><span class=\"nd\">865347</span><span class=\"txto\">7(disz) </span><span class=\"txto\">7(disz) </span><span class=\"txto\">1(u) </span><span class=\"txto\">5(disz) </span><span class=\"txto\">7(disz) </span><span class=\"txto\">7(disz)# </span><span class=\"txto\">7(disz)# </span><span class=\"txto\">7(disz)#</span></span></span></td><td class=\"tf ltr\"><span class=\"\"><span class=\"plain   \" ><span class=\"nd\">913552</span><span class=\"txto\">1(u) </span><span class=\"txto\">5(disz) </span><span class=\"txto\">7(disz) </span><span class=\"txto\">7(disz) </span><span class=\"txto\">7(disz)</span></span></span></td></tr>\n",
       "<tr class=\"tf ltr\"><td class=\"tf ltr\">9</td><td class=\"tf ltr\"><span class=\"section ltr\"><a target=\"_blank\" href=\"https://cdli.ucla.edu/search/search_results.php?SearchMode=Text&amp;ObjectID=P361245\" title=\"Show this document on CDLI\" sec=\"P361245 obverse:1\">P361245 obverse:1</a></span></td><td class=\"tf ltr\"><span class=\"\"><span class=\"plain   \" ><span class=\"nd\">865347</span><span class=\"txto\">7(disz) </span><span class=\"txto\">7(disz) </span><span class=\"txto\">1(u) </span><span class=\"txto\">5(disz) </span><span class=\"txto\">7(disz) </span><span class=\"txto\">7(disz)# </span><span class=\"txto\">7(disz)# </span><span class=\"txto\">7(disz)#</span></span></span></td><td class=\"tf ltr\"><span class=\"\"><span class=\"plain   \" ><span class=\"nd\">932374</span><span class=\"txto\">7(u) </span><span class=\"txto\">3(disz) </span><span class=\"txto\">4(u) </span><span class=\"txto\">5(disz)</span></span></span></td></tr>\n",
       "<tr class=\"tf ltr\"><td class=\"tf ltr\">10</td><td class=\"tf ltr\"><span class=\"section ltr\"><a target=\"_blank\" href=\"https://cdli.ucla.edu/search/search_results.php?SearchMode=Text&amp;ObjectID=P361245\" title=\"Show this document on CDLI\" sec=\"P361245 obverse:1\">P361245 obverse:1</a></span></td><td class=\"tf ltr\"><span class=\"\"><span class=\"plain   \" ><span class=\"nd\">865347</span><span class=\"txto\">7(disz) </span><span class=\"txto\">7(disz) </span><span class=\"txto\">1(u) </span><span class=\"txto\">5(disz) </span><span class=\"txto\">7(disz) </span><span class=\"txto\">7(disz)# </span><span class=\"txto\">7(disz)# </span><span class=\"txto\">7(disz)#</span></span></span></td><td class=\"tf ltr\"><span class=\"\"><span class=\"plain   \" ><span class=\"nd\">941379</span><span class=\"txto\">1(u) </span><span class=\"txto\">3(disz) </span><span class=\"txto\">[...]</span></span></span></td></tr></table>"
      ],
      "text/plain": [
       "<IPython.core.display.HTML object>"
      ]
     },
     "metadata": {},
     "output_type": "display_data"
    }
   ],
   "source": [
    "A.table(results, start=1, end=10, withNodes=True)"
   ]
  },
  {
   "cell_type": "markdown",
   "metadata": {},
   "source": [
    "There is also a lower level way to work with edge features.\n",
    "\n",
    "We can list all edges going out from a reference node.\n",
    "What we see is tuple of pairs: the target node and the similarity between the reference node and that target node."
   ]
  },
  {
   "cell_type": "code",
   "execution_count": 39,
   "metadata": {},
   "outputs": [
    {
     "data": {
      "text/plain": [
       "((890013, 100),\n",
       " (892244, 100),\n",
       " (892445, 100),\n",
       " (905701, 100),\n",
       " (905704, 100),\n",
       " (913546, 100),\n",
       " (913552, 100),\n",
       " (932374, 100),\n",
       " (941379, 100),\n",
       " (947448, 100),\n",
       " (954502, 100),\n",
       " (960802, 100))"
      ]
     },
     "execution_count": 39,
     "metadata": {},
     "output_type": "execute_result"
    }
   ],
   "source": [
    "refNode = 865350\n",
    "\n",
    "E.sim.f(refNode)"
   ]
  },
  {
   "cell_type": "markdown",
   "metadata": {},
   "source": [
    "Likewise, we can observe the nodes that target the reference node:"
   ]
  },
  {
   "cell_type": "code",
   "execution_count": 40,
   "metadata": {},
   "outputs": [
    {
     "data": {
      "text/plain": [
       "((865347, 100),)"
      ]
     },
     "execution_count": 40,
     "metadata": {},
     "output_type": "execute_result"
    }
   ],
   "source": [
    "E.sim.t(refNode)"
   ]
  },
  {
   "cell_type": "markdown",
   "metadata": {},
   "source": [
    "Both sets of nodes are similar to the reference node and it is inconvenient to use both `.f()` and `.t()` to get the similar lines.\n",
    "\n",
    "But there is another way:"
   ]
  },
  {
   "cell_type": "code",
   "execution_count": 41,
   "metadata": {},
   "outputs": [
    {
     "data": {
      "text/plain": [
       "((865347, 100),\n",
       " (890013, 100),\n",
       " (892244, 100),\n",
       " (892445, 100),\n",
       " (905701, 100),\n",
       " (905704, 100),\n",
       " (913546, 100),\n",
       " (913552, 100),\n",
       " (932374, 100),\n",
       " (941379, 100),\n",
       " (947448, 100),\n",
       " (954502, 100),\n",
       " (960802, 100))"
      ]
     },
     "execution_count": 41,
     "metadata": {},
     "output_type": "execute_result"
    }
   ],
   "source": [
    "E.sim.b(refNode)"
   ]
  },
  {
   "cell_type": "markdown",
   "metadata": {},
   "source": [
    "Let's make sure that `.b()` gives the combination of `.f()` and `.t()`."
   ]
  },
  {
   "cell_type": "code",
   "execution_count": 42,
   "metadata": {},
   "outputs": [
    {
     "name": "stdout",
     "output_type": "stream",
     "text": [
      "the intersection of f and t is set()\n",
      "t | f = b ? True\n"
     ]
    }
   ],
   "source": [
    "f = {x[0] for x in E.sim.f(refNode)}\n",
    "b = {x[0] for x in E.sim.b(refNode)}\n",
    "t = {x[0] for x in E.sim.t(refNode)}\n",
    "\n",
    "# are f and t disjoint ?\n",
    "\n",
    "print(f'the intersection of f and t is {f & t}')\n",
    "\n",
    "# is b the union of f and t ?\n",
    "\n",
    "print(f't | f = b ? {f | t == b}')"
   ]
  },
  {
   "cell_type": "code",
   "execution_count": null,
   "metadata": {},
   "outputs": [],
   "source": []
  }
 ],
 "metadata": {
  "kernelspec": {
   "display_name": "Python 3",
   "language": "python",
   "name": "python3"
  },
  "language_info": {
   "codemirror_mode": {
    "name": "ipython",
    "version": 3
   },
   "file_extension": ".py",
   "mimetype": "text/x-python",
   "name": "python",
   "nbconvert_exporter": "python",
   "pygments_lexer": "ipython3",
   "version": "3.8.3"
  }
 },
 "nbformat": 4,
 "nbformat_minor": 4
}
